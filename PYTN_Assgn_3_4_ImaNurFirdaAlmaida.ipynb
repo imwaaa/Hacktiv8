{
  "cells": [
    {
      "cell_type": "markdown",
      "metadata": {
        "id": "view-in-github",
        "colab_type": "text"
      },
      "source": [
        "<a href=\"https://colab.research.google.com/github/imwaaa/hacktiv8-assignment/blob/main/PYTN_Assgn_3_4_ImaNurFirdaAlmaida.ipynb\" target=\"_parent\"><img src=\"https://colab.research.google.com/assets/colab-badge.svg\" alt=\"Open In Colab\"/></a>"
      ]
    },
    {
      "cell_type": "markdown",
      "metadata": {
        "id": "vmLF2ZqfMam7"
      },
      "source": [
        "# *About Dataset*"
      ]
    },
    {
      "cell_type": "markdown",
      "metadata": {
        "id": "4nbkZbsMMg4-"
      },
      "source": [
        "Data ini, diproses dari file *\n",
        "\n",
        "Data tersebut terkait dengan kampanye pemasaran langsung dari lembaga perbankan Portugis. Kampanye pemasaran didasarkan pada panggilan telepon. Seringkali, lebih dari satu kontak ke klien yang sama diperlukan, untuk mengakses apakah produk (deposit berjangka bank) akan ('yes') atau tidak ('no') berlangganan.\n",
        "\n",
        "Ada empat dataset :\n",
        "1. **bank-additional-full.csv** dengan semua contoh (41188) dan 20 input, diurutkan berdasarkan tanggal (dari Mei 2008 hingga November hingga November 2010), sangat mirip dengan data yang dianalisis dalam [Moro et al., 2014]\n",
        "2. **bank-additional.csv** dengan 10% contoh (4119), dipilih secara acak dari 1), dan 20 masukan.\n",
        "3. **bank-full.csv** dengan semua contoh dan 17 input, diurutkan berdasarkan tanggal (versi lama dari kumpulan data ini dengan input yang lebih sedikit).\n",
        "4. **bank.csv** dengan 10% contoh dan 17 input, dipilih secara acak dari 3 (versi lama dari kumpulan data ini dengan input lebih sedikit).\n",
        "\n",
        "Kumpulan data terkecil disediakan untuk menguji algoritme pembelajaran mesin yang lebih menuntut komputasi (mis., SVM).\n",
        "\n",
        "Tujuan klasifikasi adalah untuk memprediksi apakah klien akan berlangganan (yes/no) deposito berjangka (variabel y).\n",
        "\n",
        "Kumpulan data ini berisi:\n",
        "\n",
        "Variabel masukan :\n",
        "\n",
        "**# bank client data** :\n",
        "* 1 - age (numeric)\n",
        "* 2 - job : type of job (categorical:'admin.','blue-collar','entrepreneur','housemaid','management','retired','self-employed','service','student','technician','unemployed','unknwon')\n",
        "* 3 - marital : marital status (categorical: 'divorced','married','single','unknown';note:'divorced' means divorced or windowed)\n",
        "* 4 - education (categorical: 'basic.4y','basic.6y','basic.9y','high.school','illeterate','professional.course','university.degree','unknown')\n",
        "* 5 - default: has credit in default? (categorical: 'no','yes','unknown')\n",
        "* 6 - housing: has housing loan? (categorical: 'no','yes','unknown')\n",
        "* 7 - loan: has personal loan? (categorical: 'no','yes','unknown')\n",
        "\n",
        "**# related with the last contact of the currwnt campaign** :\n",
        "* 8 - contact: contact communication type (categorical: 'cellular','telephone')\n",
        "* 9 - month: last contact month of year (categorical: 'jan','feb','mar',...,'nov','dec')\n",
        "* 10 - day_of_week: last contact day of the week (categorical: 'mon','tue','wed','thu','fri')\n",
        "* 11 - duration: last contact duration, in seconds (numeric). Important note: this attribute highly affects the output target (e.g., if duration=0 then y='no'). Yet, the duration is not known before a call is performed. Also, after the end of the call y is obviously known. \n",
        "Thus, this input should only be included for benchmark purposes and should be discarded if the intention is to have a realistic predictive model.\n",
        "\n",
        "**# other attributes** :\n",
        "* 12 - campaign: number of contacts performed during this campaign and for this client (numeric, includes last contact)\n",
        "* 13 - pdays: number of days that passed by after the client was last contacted from a previous campaign (numeric; 999 means client was not previously contacted)\n",
        "* 14 - previous: number of contacts performed before this campaign and for this client (numeric)\n",
        "* 15 - poutcome: outcome of the previous marketing campaign (categorical: 'failure','nonexistent','success')\n",
        "\n",
        "**# social and economic context attributes** :\n",
        "* 16 - emp.var.rate: employment variation rate - quarterly indicator (numeric)\n",
        "* 17 - cons.price.idx: consumer price index - monthly indicator (numeric)\n",
        "* 18 - cons.conf.idx: consumer confidence index - monthly indicator (numeric)\n",
        "* 19 - euribor3m: euribor 3 month rate - daily indicator (numeric)\n",
        "* 20 - nr.employed: number of employees - quarterly indicator (numeric)\n",
        "\n",
        "**# output variable (desired target)** :\n",
        "* 21 - y - has the client subscribed a term deposit? (binary: '**yes**','**no**')\n"
      ]
    },
    {
      "cell_type": "markdown",
      "metadata": {
        "id": "jWrYTb8MMCbk"
      },
      "source": [
        "# *Import Required Libraries*"
      ]
    },
    {
      "cell_type": "code",
      "execution_count": null,
      "metadata": {
        "id": "T9BDLzStLX-2"
      },
      "outputs": [],
      "source": [
        "# Data processing\n",
        "import pandas as pd\n",
        "import numpy as np\n",
        "\n",
        "# Visualization tools\n",
        "import matplotlib.pyplot as plt\n",
        "import seaborn as sns\n",
        "\n",
        "# Machine learning process\n",
        "from sklearn.model_selection import train_test_split, cross_val_score, GridSearchCV, KFold\n",
        "from sklearn.preprocessing import LabelEncoder, MinMaxScaler, StandardScaler\n",
        "from sklearn.impute import SimpleImputer\n",
        "from sklearn.pipeline import Pipeline\n",
        "from sklearn.naive_bayes import GaussianNB\n",
        "from sklearn.tree import DecisionTreeClassifier\n",
        "from sklearn.neighbors import KNeighborsClassifier\n",
        "from sklearn.ensemble import RandomForestClassifier\n",
        "from sklearn.svm import SVC\n",
        "from sklearn.linear_model import LogisticRegression\n",
        "from sklearn import metrics\n",
        "\n",
        "# Features analysis libraries\n",
        "from sklearn.feature_selection import SelectKBest\n",
        "from sklearn.feature_selection import f_classif\n",
        "from sklearn.feature_selection import chi2,mutual_info_classif\n",
        "from sklearn.decomposition import PCA\n",
        "\n",
        "%matplotlib inline"
      ]
    },
    {
      "cell_type": "markdown",
      "metadata": {
        "id": "1vN9JHRLvVt2"
      },
      "source": [
        "# *Data Loading*"
      ]
    },
    {
      "cell_type": "markdown",
      "metadata": {
        "id": "KyIfmNyKveAh"
      },
      "source": [
        "## Bank Additional"
      ]
    },
    {
      "cell_type": "code",
      "execution_count": null,
      "metadata": {
        "id": "GvuIhAy-vc6G"
      },
      "outputs": [],
      "source": [
        "df_bank = pd.read_csv('bank-additional-full.csv', sep = ';')"
      ]
    },
    {
      "cell_type": "code",
      "execution_count": null,
      "metadata": {
        "colab": {
          "base_uri": "https://localhost:8080/",
          "height": 299
        },
        "id": "ai89BKw3w0IY",
        "outputId": "e2d93173-d945-448d-a41c-06865fb5a1fe"
      },
      "outputs": [
        {
          "data": {
            "text/html": [
              "\n",
              "  <div id=\"df-0b31c29d-0086-4da4-a016-b89f51abc135\">\n",
              "    <div class=\"colab-df-container\">\n",
              "      <div>\n",
              "<style scoped>\n",
              "    .dataframe tbody tr th:only-of-type {\n",
              "        vertical-align: middle;\n",
              "    }\n",
              "\n",
              "    .dataframe tbody tr th {\n",
              "        vertical-align: top;\n",
              "    }\n",
              "\n",
              "    .dataframe thead th {\n",
              "        text-align: right;\n",
              "    }\n",
              "</style>\n",
              "<table border=\"1\" class=\"dataframe\">\n",
              "  <thead>\n",
              "    <tr style=\"text-align: right;\">\n",
              "      <th></th>\n",
              "      <th>age</th>\n",
              "      <th>job</th>\n",
              "      <th>marital</th>\n",
              "      <th>education</th>\n",
              "      <th>default</th>\n",
              "      <th>housing</th>\n",
              "      <th>loan</th>\n",
              "      <th>contact</th>\n",
              "      <th>month</th>\n",
              "      <th>day_of_week</th>\n",
              "      <th>...</th>\n",
              "      <th>campaign</th>\n",
              "      <th>pdays</th>\n",
              "      <th>previous</th>\n",
              "      <th>poutcome</th>\n",
              "      <th>emp.var.rate</th>\n",
              "      <th>cons.price.idx</th>\n",
              "      <th>cons.conf.idx</th>\n",
              "      <th>euribor3m</th>\n",
              "      <th>nr.employed</th>\n",
              "      <th>y</th>\n",
              "    </tr>\n",
              "  </thead>\n",
              "  <tbody>\n",
              "    <tr>\n",
              "      <th>0</th>\n",
              "      <td>56</td>\n",
              "      <td>housemaid</td>\n",
              "      <td>married</td>\n",
              "      <td>basic.4y</td>\n",
              "      <td>no</td>\n",
              "      <td>no</td>\n",
              "      <td>no</td>\n",
              "      <td>telephone</td>\n",
              "      <td>may</td>\n",
              "      <td>mon</td>\n",
              "      <td>...</td>\n",
              "      <td>1</td>\n",
              "      <td>999</td>\n",
              "      <td>0</td>\n",
              "      <td>nonexistent</td>\n",
              "      <td>1.1</td>\n",
              "      <td>93.994</td>\n",
              "      <td>-36.4</td>\n",
              "      <td>4.857</td>\n",
              "      <td>5191.0</td>\n",
              "      <td>no</td>\n",
              "    </tr>\n",
              "    <tr>\n",
              "      <th>1</th>\n",
              "      <td>57</td>\n",
              "      <td>services</td>\n",
              "      <td>married</td>\n",
              "      <td>high.school</td>\n",
              "      <td>unknown</td>\n",
              "      <td>no</td>\n",
              "      <td>no</td>\n",
              "      <td>telephone</td>\n",
              "      <td>may</td>\n",
              "      <td>mon</td>\n",
              "      <td>...</td>\n",
              "      <td>1</td>\n",
              "      <td>999</td>\n",
              "      <td>0</td>\n",
              "      <td>nonexistent</td>\n",
              "      <td>1.1</td>\n",
              "      <td>93.994</td>\n",
              "      <td>-36.4</td>\n",
              "      <td>4.857</td>\n",
              "      <td>5191.0</td>\n",
              "      <td>no</td>\n",
              "    </tr>\n",
              "    <tr>\n",
              "      <th>2</th>\n",
              "      <td>37</td>\n",
              "      <td>services</td>\n",
              "      <td>married</td>\n",
              "      <td>high.school</td>\n",
              "      <td>no</td>\n",
              "      <td>yes</td>\n",
              "      <td>no</td>\n",
              "      <td>telephone</td>\n",
              "      <td>may</td>\n",
              "      <td>mon</td>\n",
              "      <td>...</td>\n",
              "      <td>1</td>\n",
              "      <td>999</td>\n",
              "      <td>0</td>\n",
              "      <td>nonexistent</td>\n",
              "      <td>1.1</td>\n",
              "      <td>93.994</td>\n",
              "      <td>-36.4</td>\n",
              "      <td>4.857</td>\n",
              "      <td>5191.0</td>\n",
              "      <td>no</td>\n",
              "    </tr>\n",
              "    <tr>\n",
              "      <th>3</th>\n",
              "      <td>40</td>\n",
              "      <td>admin.</td>\n",
              "      <td>married</td>\n",
              "      <td>basic.6y</td>\n",
              "      <td>no</td>\n",
              "      <td>no</td>\n",
              "      <td>no</td>\n",
              "      <td>telephone</td>\n",
              "      <td>may</td>\n",
              "      <td>mon</td>\n",
              "      <td>...</td>\n",
              "      <td>1</td>\n",
              "      <td>999</td>\n",
              "      <td>0</td>\n",
              "      <td>nonexistent</td>\n",
              "      <td>1.1</td>\n",
              "      <td>93.994</td>\n",
              "      <td>-36.4</td>\n",
              "      <td>4.857</td>\n",
              "      <td>5191.0</td>\n",
              "      <td>no</td>\n",
              "    </tr>\n",
              "    <tr>\n",
              "      <th>4</th>\n",
              "      <td>56</td>\n",
              "      <td>services</td>\n",
              "      <td>married</td>\n",
              "      <td>high.school</td>\n",
              "      <td>no</td>\n",
              "      <td>no</td>\n",
              "      <td>yes</td>\n",
              "      <td>telephone</td>\n",
              "      <td>may</td>\n",
              "      <td>mon</td>\n",
              "      <td>...</td>\n",
              "      <td>1</td>\n",
              "      <td>999</td>\n",
              "      <td>0</td>\n",
              "      <td>nonexistent</td>\n",
              "      <td>1.1</td>\n",
              "      <td>93.994</td>\n",
              "      <td>-36.4</td>\n",
              "      <td>4.857</td>\n",
              "      <td>5191.0</td>\n",
              "      <td>no</td>\n",
              "    </tr>\n",
              "  </tbody>\n",
              "</table>\n",
              "<p>5 rows × 21 columns</p>\n",
              "</div>\n",
              "      <button class=\"colab-df-convert\" onclick=\"convertToInteractive('df-0b31c29d-0086-4da4-a016-b89f51abc135')\"\n",
              "              title=\"Convert this dataframe to an interactive table.\"\n",
              "              style=\"display:none;\">\n",
              "        \n",
              "  <svg xmlns=\"http://www.w3.org/2000/svg\" height=\"24px\"viewBox=\"0 0 24 24\"\n",
              "       width=\"24px\">\n",
              "    <path d=\"M0 0h24v24H0V0z\" fill=\"none\"/>\n",
              "    <path d=\"M18.56 5.44l.94 2.06.94-2.06 2.06-.94-2.06-.94-.94-2.06-.94 2.06-2.06.94zm-11 1L8.5 8.5l.94-2.06 2.06-.94-2.06-.94L8.5 2.5l-.94 2.06-2.06.94zm10 10l.94 2.06.94-2.06 2.06-.94-2.06-.94-.94-2.06-.94 2.06-2.06.94z\"/><path d=\"M17.41 7.96l-1.37-1.37c-.4-.4-.92-.59-1.43-.59-.52 0-1.04.2-1.43.59L10.3 9.45l-7.72 7.72c-.78.78-.78 2.05 0 2.83L4 21.41c.39.39.9.59 1.41.59.51 0 1.02-.2 1.41-.59l7.78-7.78 2.81-2.81c.8-.78.8-2.07 0-2.86zM5.41 20L4 18.59l7.72-7.72 1.47 1.35L5.41 20z\"/>\n",
              "  </svg>\n",
              "      </button>\n",
              "      \n",
              "  <style>\n",
              "    .colab-df-container {\n",
              "      display:flex;\n",
              "      flex-wrap:wrap;\n",
              "      gap: 12px;\n",
              "    }\n",
              "\n",
              "    .colab-df-convert {\n",
              "      background-color: #E8F0FE;\n",
              "      border: none;\n",
              "      border-radius: 50%;\n",
              "      cursor: pointer;\n",
              "      display: none;\n",
              "      fill: #1967D2;\n",
              "      height: 32px;\n",
              "      padding: 0 0 0 0;\n",
              "      width: 32px;\n",
              "    }\n",
              "\n",
              "    .colab-df-convert:hover {\n",
              "      background-color: #E2EBFA;\n",
              "      box-shadow: 0px 1px 2px rgba(60, 64, 67, 0.3), 0px 1px 3px 1px rgba(60, 64, 67, 0.15);\n",
              "      fill: #174EA6;\n",
              "    }\n",
              "\n",
              "    [theme=dark] .colab-df-convert {\n",
              "      background-color: #3B4455;\n",
              "      fill: #D2E3FC;\n",
              "    }\n",
              "\n",
              "    [theme=dark] .colab-df-convert:hover {\n",
              "      background-color: #434B5C;\n",
              "      box-shadow: 0px 1px 3px 1px rgba(0, 0, 0, 0.15);\n",
              "      filter: drop-shadow(0px 1px 2px rgba(0, 0, 0, 0.3));\n",
              "      fill: #FFFFFF;\n",
              "    }\n",
              "  </style>\n",
              "\n",
              "      <script>\n",
              "        const buttonEl =\n",
              "          document.querySelector('#df-0b31c29d-0086-4da4-a016-b89f51abc135 button.colab-df-convert');\n",
              "        buttonEl.style.display =\n",
              "          google.colab.kernel.accessAllowed ? 'block' : 'none';\n",
              "\n",
              "        async function convertToInteractive(key) {\n",
              "          const element = document.querySelector('#df-0b31c29d-0086-4da4-a016-b89f51abc135');\n",
              "          const dataTable =\n",
              "            await google.colab.kernel.invokeFunction('convertToInteractive',\n",
              "                                                     [key], {});\n",
              "          if (!dataTable) return;\n",
              "\n",
              "          const docLinkHtml = 'Like what you see? Visit the ' +\n",
              "            '<a target=\"_blank\" href=https://colab.research.google.com/notebooks/data_table.ipynb>data table notebook</a>'\n",
              "            + ' to learn more about interactive tables.';\n",
              "          element.innerHTML = '';\n",
              "          dataTable['output_type'] = 'display_data';\n",
              "          await google.colab.output.renderOutput(dataTable, element);\n",
              "          const docLink = document.createElement('div');\n",
              "          docLink.innerHTML = docLinkHtml;\n",
              "          element.appendChild(docLink);\n",
              "        }\n",
              "      </script>\n",
              "    </div>\n",
              "  </div>\n",
              "  "
            ],
            "text/plain": [
              "   age        job  marital    education  default housing loan    contact  \\\n",
              "0   56  housemaid  married     basic.4y       no      no   no  telephone   \n",
              "1   57   services  married  high.school  unknown      no   no  telephone   \n",
              "2   37   services  married  high.school       no     yes   no  telephone   \n",
              "3   40     admin.  married     basic.6y       no      no   no  telephone   \n",
              "4   56   services  married  high.school       no      no  yes  telephone   \n",
              "\n",
              "  month day_of_week  ...  campaign  pdays  previous     poutcome emp.var.rate  \\\n",
              "0   may         mon  ...         1    999         0  nonexistent          1.1   \n",
              "1   may         mon  ...         1    999         0  nonexistent          1.1   \n",
              "2   may         mon  ...         1    999         0  nonexistent          1.1   \n",
              "3   may         mon  ...         1    999         0  nonexistent          1.1   \n",
              "4   may         mon  ...         1    999         0  nonexistent          1.1   \n",
              "\n",
              "   cons.price.idx  cons.conf.idx  euribor3m  nr.employed   y  \n",
              "0          93.994          -36.4      4.857       5191.0  no  \n",
              "1          93.994          -36.4      4.857       5191.0  no  \n",
              "2          93.994          -36.4      4.857       5191.0  no  \n",
              "3          93.994          -36.4      4.857       5191.0  no  \n",
              "4          93.994          -36.4      4.857       5191.0  no  \n",
              "\n",
              "[5 rows x 21 columns]"
            ]
          },
          "execution_count": 12,
          "metadata": {},
          "output_type": "execute_result"
        }
      ],
      "source": [
        "# Menampilkan 5 data teratas\n",
        "df_bank.head()"
      ]
    },
    {
      "cell_type": "markdown",
      "metadata": {
        "id": "IG5ud21mzGEm"
      },
      "source": [
        "# *Bank Additional Description*"
      ]
    },
    {
      "cell_type": "markdown",
      "metadata": {
        "id": "DfyDg0lBzM0k"
      },
      "source": [
        "### Mengetahui dimensi dataset"
      ]
    },
    {
      "cell_type": "code",
      "execution_count": null,
      "metadata": {
        "colab": {
          "base_uri": "https://localhost:8080/"
        },
        "id": "lAYJPDUNzCFD",
        "outputId": "901b8b05-5fba-45b3-b8cd-8d50b8fa2b54"
      },
      "outputs": [
        {
          "name": "stdout",
          "output_type": "stream",
          "text": [
            "Dimensi data =  (41188, 21)\n"
          ]
        }
      ],
      "source": [
        "print(\"Dimensi data = \", df_bank.shape)"
      ]
    },
    {
      "cell_type": "markdown",
      "metadata": {
        "id": "4_C9cTfuzVTk"
      },
      "source": [
        "### Mengetahui daftar atriibut/fitur dari dataset"
      ]
    },
    {
      "cell_type": "code",
      "execution_count": null,
      "metadata": {
        "colab": {
          "base_uri": "https://localhost:8080/"
        },
        "id": "_mcjYVGKzhir",
        "outputId": "37da3efa-a79a-4d56-d657-5a87d650f674"
      },
      "outputs": [
        {
          "name": "stdout",
          "output_type": "stream",
          "text": [
            "<class 'pandas.core.frame.DataFrame'>\n",
            "RangeIndex: 41188 entries, 0 to 41187\n",
            "Data columns (total 21 columns):\n",
            " #   Column          Non-Null Count  Dtype  \n",
            "---  ------          --------------  -----  \n",
            " 0   age             41188 non-null  int64  \n",
            " 1   job             41188 non-null  object \n",
            " 2   marital         41188 non-null  object \n",
            " 3   education       41188 non-null  object \n",
            " 4   default         41188 non-null  object \n",
            " 5   housing         41188 non-null  object \n",
            " 6   loan            41188 non-null  object \n",
            " 7   contact         41188 non-null  object \n",
            " 8   month           41188 non-null  object \n",
            " 9   day_of_week     41188 non-null  object \n",
            " 10  duration        41188 non-null  int64  \n",
            " 11  campaign        41188 non-null  int64  \n",
            " 12  pdays           41188 non-null  int64  \n",
            " 13  previous        41188 non-null  int64  \n",
            " 14  poutcome        41188 non-null  object \n",
            " 15  emp.var.rate    41188 non-null  float64\n",
            " 16  cons.price.idx  41188 non-null  float64\n",
            " 17  cons.conf.idx   41188 non-null  float64\n",
            " 18  euribor3m       41188 non-null  float64\n",
            " 19  nr.employed     41188 non-null  float64\n",
            " 20  y               41188 non-null  object \n",
            "dtypes: float64(5), int64(5), object(11)\n",
            "memory usage: 6.6+ MB\n"
          ]
        }
      ],
      "source": [
        "df_bank.info()"
      ]
    },
    {
      "cell_type": "markdown",
      "metadata": {
        "id": "08ihLcvEznFf"
      },
      "source": [
        "**ANALISIS**\n",
        "\n",
        "Terlihat bahwa tidak ada missing values pada data. Hal ini cukup aneh. Missing values akan diperiksa lebih lanjut.\n",
        "\n",
        "Daftar Atribut Kategorikal:\n",
        "1. job\n",
        "2. marital\n",
        "3. education\n",
        "4. default\n",
        "5. housing\n",
        "6. loan\n",
        "7. contact\n",
        "8. month\n",
        "9. day_of_week\n",
        "10. poutcome\n",
        "11. y (target)\n",
        "\n",
        "Daftar Atribut Numerikal:\n",
        "1. Age\n",
        "2. duration (in seconds)\n",
        "3. campaign\n",
        "4. pdays\n",
        "5. previous\n",
        "6. emp.var.rate\n",
        "7. cons.price.idx\n",
        "8. cons.conf.idx\n",
        "9. euribor3m\n",
        "10. nr.employed"
      ]
    },
    {
      "cell_type": "markdown",
      "metadata": {
        "id": "2-qVlbrL0buS"
      },
      "source": [
        "### Mengelompokkan atribut berdasarkan tipe datanya"
      ]
    },
    {
      "cell_type": "code",
      "execution_count": null,
      "metadata": {
        "id": "Bi8SZOXEzt_4"
      },
      "outputs": [],
      "source": [
        "categorical_columns = list(df_bank.select_dtypes(include = ['object']))\n",
        "numerical_columns = list(df_bank.select_dtypes(include = ['int64']).columns.values) + list(df_bank.select_dtypes(include = ['float64']).columns.values)"
      ]
    },
    {
      "cell_type": "code",
      "execution_count": null,
      "metadata": {
        "colab": {
          "base_uri": "https://localhost:8080/"
        },
        "id": "KJKxr-8n03ju",
        "outputId": "60a92da5-dafd-4b2d-9880-277386b4d25a"
      },
      "outputs": [
        {
          "data": {
            "text/plain": [
              "['job',\n",
              " 'marital',\n",
              " 'education',\n",
              " 'default',\n",
              " 'housing',\n",
              " 'loan',\n",
              " 'contact',\n",
              " 'month',\n",
              " 'day_of_week',\n",
              " 'poutcome',\n",
              " 'y']"
            ]
          },
          "execution_count": 16,
          "metadata": {},
          "output_type": "execute_result"
        }
      ],
      "source": [
        "# Menampilkan variabel yang kategorikal\n",
        "categorical_columns"
      ]
    },
    {
      "cell_type": "code",
      "execution_count": null,
      "metadata": {
        "colab": {
          "base_uri": "https://localhost:8080/"
        },
        "id": "Op17boy80tTp",
        "outputId": "c9534422-0a4d-4bf8-9d20-769d627a4933"
      },
      "outputs": [
        {
          "data": {
            "text/plain": [
              "['age',\n",
              " 'duration',\n",
              " 'campaign',\n",
              " 'pdays',\n",
              " 'previous',\n",
              " 'emp.var.rate',\n",
              " 'cons.price.idx',\n",
              " 'cons.conf.idx',\n",
              " 'euribor3m',\n",
              " 'nr.employed']"
            ]
          },
          "execution_count": 17,
          "metadata": {},
          "output_type": "execute_result"
        }
      ],
      "source": [
        "# Menampilkan variabel yang numerik\n",
        "numerical_columns"
      ]
    },
    {
      "cell_type": "markdown",
      "metadata": {
        "id": "V1wxVtvE2zqs"
      },
      "source": [
        "Terlihat bahwa tipe data pada dataset sudah sesuai dengan apa yang seharusnya"
      ]
    },
    {
      "cell_type": "markdown",
      "metadata": {
        "id": "2fsSePr723Bz"
      },
      "source": [
        "### Deskriptif statistik untuk atribut numerikal"
      ]
    },
    {
      "cell_type": "code",
      "execution_count": null,
      "metadata": {
        "colab": {
          "base_uri": "https://localhost:8080/",
          "height": 344
        },
        "id": "mRAXZzZX27Uw",
        "outputId": "3f6858a4-a98e-4405-cbb6-34a40aa3eba1"
      },
      "outputs": [
        {
          "data": {
            "text/html": [
              "\n",
              "  <div id=\"df-23ef329a-f719-4043-b173-dbafaacfc981\">\n",
              "    <div class=\"colab-df-container\">\n",
              "      <div>\n",
              "<style scoped>\n",
              "    .dataframe tbody tr th:only-of-type {\n",
              "        vertical-align: middle;\n",
              "    }\n",
              "\n",
              "    .dataframe tbody tr th {\n",
              "        vertical-align: top;\n",
              "    }\n",
              "\n",
              "    .dataframe thead th {\n",
              "        text-align: right;\n",
              "    }\n",
              "</style>\n",
              "<table border=\"1\" class=\"dataframe\">\n",
              "  <thead>\n",
              "    <tr style=\"text-align: right;\">\n",
              "      <th></th>\n",
              "      <th>age</th>\n",
              "      <th>duration</th>\n",
              "      <th>campaign</th>\n",
              "      <th>pdays</th>\n",
              "      <th>previous</th>\n",
              "      <th>emp.var.rate</th>\n",
              "      <th>cons.price.idx</th>\n",
              "      <th>cons.conf.idx</th>\n",
              "      <th>euribor3m</th>\n",
              "      <th>nr.employed</th>\n",
              "    </tr>\n",
              "  </thead>\n",
              "  <tbody>\n",
              "    <tr>\n",
              "      <th>count</th>\n",
              "      <td>41188.00000</td>\n",
              "      <td>41188.000000</td>\n",
              "      <td>41188.000000</td>\n",
              "      <td>41188.000000</td>\n",
              "      <td>41188.000000</td>\n",
              "      <td>41188.000000</td>\n",
              "      <td>41188.000000</td>\n",
              "      <td>41188.000000</td>\n",
              "      <td>41188.000000</td>\n",
              "      <td>41188.000000</td>\n",
              "    </tr>\n",
              "    <tr>\n",
              "      <th>mean</th>\n",
              "      <td>40.02406</td>\n",
              "      <td>258.285010</td>\n",
              "      <td>2.567593</td>\n",
              "      <td>962.475454</td>\n",
              "      <td>0.172963</td>\n",
              "      <td>0.081886</td>\n",
              "      <td>93.575664</td>\n",
              "      <td>-40.502600</td>\n",
              "      <td>3.621291</td>\n",
              "      <td>5167.035911</td>\n",
              "    </tr>\n",
              "    <tr>\n",
              "      <th>std</th>\n",
              "      <td>10.42125</td>\n",
              "      <td>259.279249</td>\n",
              "      <td>2.770014</td>\n",
              "      <td>186.910907</td>\n",
              "      <td>0.494901</td>\n",
              "      <td>1.570960</td>\n",
              "      <td>0.578840</td>\n",
              "      <td>4.628198</td>\n",
              "      <td>1.734447</td>\n",
              "      <td>72.251528</td>\n",
              "    </tr>\n",
              "    <tr>\n",
              "      <th>min</th>\n",
              "      <td>17.00000</td>\n",
              "      <td>0.000000</td>\n",
              "      <td>1.000000</td>\n",
              "      <td>0.000000</td>\n",
              "      <td>0.000000</td>\n",
              "      <td>-3.400000</td>\n",
              "      <td>92.201000</td>\n",
              "      <td>-50.800000</td>\n",
              "      <td>0.634000</td>\n",
              "      <td>4963.600000</td>\n",
              "    </tr>\n",
              "    <tr>\n",
              "      <th>25%</th>\n",
              "      <td>32.00000</td>\n",
              "      <td>102.000000</td>\n",
              "      <td>1.000000</td>\n",
              "      <td>999.000000</td>\n",
              "      <td>0.000000</td>\n",
              "      <td>-1.800000</td>\n",
              "      <td>93.075000</td>\n",
              "      <td>-42.700000</td>\n",
              "      <td>1.344000</td>\n",
              "      <td>5099.100000</td>\n",
              "    </tr>\n",
              "    <tr>\n",
              "      <th>50%</th>\n",
              "      <td>38.00000</td>\n",
              "      <td>180.000000</td>\n",
              "      <td>2.000000</td>\n",
              "      <td>999.000000</td>\n",
              "      <td>0.000000</td>\n",
              "      <td>1.100000</td>\n",
              "      <td>93.749000</td>\n",
              "      <td>-41.800000</td>\n",
              "      <td>4.857000</td>\n",
              "      <td>5191.000000</td>\n",
              "    </tr>\n",
              "    <tr>\n",
              "      <th>75%</th>\n",
              "      <td>47.00000</td>\n",
              "      <td>319.000000</td>\n",
              "      <td>3.000000</td>\n",
              "      <td>999.000000</td>\n",
              "      <td>0.000000</td>\n",
              "      <td>1.400000</td>\n",
              "      <td>93.994000</td>\n",
              "      <td>-36.400000</td>\n",
              "      <td>4.961000</td>\n",
              "      <td>5228.100000</td>\n",
              "    </tr>\n",
              "    <tr>\n",
              "      <th>max</th>\n",
              "      <td>98.00000</td>\n",
              "      <td>4918.000000</td>\n",
              "      <td>56.000000</td>\n",
              "      <td>999.000000</td>\n",
              "      <td>7.000000</td>\n",
              "      <td>1.400000</td>\n",
              "      <td>94.767000</td>\n",
              "      <td>-26.900000</td>\n",
              "      <td>5.045000</td>\n",
              "      <td>5228.100000</td>\n",
              "    </tr>\n",
              "  </tbody>\n",
              "</table>\n",
              "</div>\n",
              "      <button class=\"colab-df-convert\" onclick=\"convertToInteractive('df-23ef329a-f719-4043-b173-dbafaacfc981')\"\n",
              "              title=\"Convert this dataframe to an interactive table.\"\n",
              "              style=\"display:none;\">\n",
              "        \n",
              "  <svg xmlns=\"http://www.w3.org/2000/svg\" height=\"24px\"viewBox=\"0 0 24 24\"\n",
              "       width=\"24px\">\n",
              "    <path d=\"M0 0h24v24H0V0z\" fill=\"none\"/>\n",
              "    <path d=\"M18.56 5.44l.94 2.06.94-2.06 2.06-.94-2.06-.94-.94-2.06-.94 2.06-2.06.94zm-11 1L8.5 8.5l.94-2.06 2.06-.94-2.06-.94L8.5 2.5l-.94 2.06-2.06.94zm10 10l.94 2.06.94-2.06 2.06-.94-2.06-.94-.94-2.06-.94 2.06-2.06.94z\"/><path d=\"M17.41 7.96l-1.37-1.37c-.4-.4-.92-.59-1.43-.59-.52 0-1.04.2-1.43.59L10.3 9.45l-7.72 7.72c-.78.78-.78 2.05 0 2.83L4 21.41c.39.39.9.59 1.41.59.51 0 1.02-.2 1.41-.59l7.78-7.78 2.81-2.81c.8-.78.8-2.07 0-2.86zM5.41 20L4 18.59l7.72-7.72 1.47 1.35L5.41 20z\"/>\n",
              "  </svg>\n",
              "      </button>\n",
              "      \n",
              "  <style>\n",
              "    .colab-df-container {\n",
              "      display:flex;\n",
              "      flex-wrap:wrap;\n",
              "      gap: 12px;\n",
              "    }\n",
              "\n",
              "    .colab-df-convert {\n",
              "      background-color: #E8F0FE;\n",
              "      border: none;\n",
              "      border-radius: 50%;\n",
              "      cursor: pointer;\n",
              "      display: none;\n",
              "      fill: #1967D2;\n",
              "      height: 32px;\n",
              "      padding: 0 0 0 0;\n",
              "      width: 32px;\n",
              "    }\n",
              "\n",
              "    .colab-df-convert:hover {\n",
              "      background-color: #E2EBFA;\n",
              "      box-shadow: 0px 1px 2px rgba(60, 64, 67, 0.3), 0px 1px 3px 1px rgba(60, 64, 67, 0.15);\n",
              "      fill: #174EA6;\n",
              "    }\n",
              "\n",
              "    [theme=dark] .colab-df-convert {\n",
              "      background-color: #3B4455;\n",
              "      fill: #D2E3FC;\n",
              "    }\n",
              "\n",
              "    [theme=dark] .colab-df-convert:hover {\n",
              "      background-color: #434B5C;\n",
              "      box-shadow: 0px 1px 3px 1px rgba(0, 0, 0, 0.15);\n",
              "      filter: drop-shadow(0px 1px 2px rgba(0, 0, 0, 0.3));\n",
              "      fill: #FFFFFF;\n",
              "    }\n",
              "  </style>\n",
              "\n",
              "      <script>\n",
              "        const buttonEl =\n",
              "          document.querySelector('#df-23ef329a-f719-4043-b173-dbafaacfc981 button.colab-df-convert');\n",
              "        buttonEl.style.display =\n",
              "          google.colab.kernel.accessAllowed ? 'block' : 'none';\n",
              "\n",
              "        async function convertToInteractive(key) {\n",
              "          const element = document.querySelector('#df-23ef329a-f719-4043-b173-dbafaacfc981');\n",
              "          const dataTable =\n",
              "            await google.colab.kernel.invokeFunction('convertToInteractive',\n",
              "                                                     [key], {});\n",
              "          if (!dataTable) return;\n",
              "\n",
              "          const docLinkHtml = 'Like what you see? Visit the ' +\n",
              "            '<a target=\"_blank\" href=https://colab.research.google.com/notebooks/data_table.ipynb>data table notebook</a>'\n",
              "            + ' to learn more about interactive tables.';\n",
              "          element.innerHTML = '';\n",
              "          dataTable['output_type'] = 'display_data';\n",
              "          await google.colab.output.renderOutput(dataTable, element);\n",
              "          const docLink = document.createElement('div');\n",
              "          docLink.innerHTML = docLinkHtml;\n",
              "          element.appendChild(docLink);\n",
              "        }\n",
              "      </script>\n",
              "    </div>\n",
              "  </div>\n",
              "  "
            ],
            "text/plain": [
              "               age      duration      campaign         pdays      previous  \\\n",
              "count  41188.00000  41188.000000  41188.000000  41188.000000  41188.000000   \n",
              "mean      40.02406    258.285010      2.567593    962.475454      0.172963   \n",
              "std       10.42125    259.279249      2.770014    186.910907      0.494901   \n",
              "min       17.00000      0.000000      1.000000      0.000000      0.000000   \n",
              "25%       32.00000    102.000000      1.000000    999.000000      0.000000   \n",
              "50%       38.00000    180.000000      2.000000    999.000000      0.000000   \n",
              "75%       47.00000    319.000000      3.000000    999.000000      0.000000   \n",
              "max       98.00000   4918.000000     56.000000    999.000000      7.000000   \n",
              "\n",
              "       emp.var.rate  cons.price.idx  cons.conf.idx     euribor3m   nr.employed  \n",
              "count  41188.000000    41188.000000   41188.000000  41188.000000  41188.000000  \n",
              "mean       0.081886       93.575664     -40.502600      3.621291   5167.035911  \n",
              "std        1.570960        0.578840       4.628198      1.734447     72.251528  \n",
              "min       -3.400000       92.201000     -50.800000      0.634000   4963.600000  \n",
              "25%       -1.800000       93.075000     -42.700000      1.344000   5099.100000  \n",
              "50%        1.100000       93.749000     -41.800000      4.857000   5191.000000  \n",
              "75%        1.400000       93.994000     -36.400000      4.961000   5228.100000  \n",
              "max        1.400000       94.767000     -26.900000      5.045000   5228.100000  "
            ]
          },
          "execution_count": 18,
          "metadata": {},
          "output_type": "execute_result"
        }
      ],
      "source": [
        "# Deskriptif statistik untuk data latih\n",
        "df_bank[numerical_columns].describe()"
      ]
    },
    {
      "cell_type": "markdown",
      "metadata": {
        "id": "pAP1IphU3OY5"
      },
      "source": [
        "### Mengetahui jumlah data untuk masing-masing kelas"
      ]
    },
    {
      "cell_type": "code",
      "execution_count": null,
      "metadata": {
        "colab": {
          "base_uri": "https://localhost:8080/",
          "height": 207
        },
        "id": "kDu39bkJ3RXO",
        "outputId": "72cf9180-56b9-41b1-e063-f54177e694d6"
      },
      "outputs": [
        {
          "data": {
            "text/html": [
              "\n",
              "  <div id=\"df-2856d696-edd1-4759-82fe-9012c2897cb9\">\n",
              "    <div class=\"colab-df-container\">\n",
              "      <div>\n",
              "<style scoped>\n",
              "    .dataframe tbody tr th:only-of-type {\n",
              "        vertical-align: middle;\n",
              "    }\n",
              "\n",
              "    .dataframe tbody tr th {\n",
              "        vertical-align: top;\n",
              "    }\n",
              "\n",
              "    .dataframe thead th {\n",
              "        text-align: right;\n",
              "    }\n",
              "</style>\n",
              "<table border=\"1\" class=\"dataframe\">\n",
              "  <thead>\n",
              "    <tr style=\"text-align: right;\">\n",
              "      <th></th>\n",
              "      <th>age</th>\n",
              "      <th>job</th>\n",
              "      <th>marital</th>\n",
              "      <th>education</th>\n",
              "      <th>default</th>\n",
              "      <th>housing</th>\n",
              "      <th>loan</th>\n",
              "      <th>contact</th>\n",
              "      <th>month</th>\n",
              "      <th>day_of_week</th>\n",
              "      <th>duration</th>\n",
              "      <th>campaign</th>\n",
              "      <th>pdays</th>\n",
              "      <th>previous</th>\n",
              "      <th>poutcome</th>\n",
              "      <th>emp.var.rate</th>\n",
              "      <th>cons.price.idx</th>\n",
              "      <th>cons.conf.idx</th>\n",
              "      <th>euribor3m</th>\n",
              "      <th>nr.employed</th>\n",
              "    </tr>\n",
              "    <tr>\n",
              "      <th>y</th>\n",
              "      <th></th>\n",
              "      <th></th>\n",
              "      <th></th>\n",
              "      <th></th>\n",
              "      <th></th>\n",
              "      <th></th>\n",
              "      <th></th>\n",
              "      <th></th>\n",
              "      <th></th>\n",
              "      <th></th>\n",
              "      <th></th>\n",
              "      <th></th>\n",
              "      <th></th>\n",
              "      <th></th>\n",
              "      <th></th>\n",
              "      <th></th>\n",
              "      <th></th>\n",
              "      <th></th>\n",
              "      <th></th>\n",
              "      <th></th>\n",
              "    </tr>\n",
              "  </thead>\n",
              "  <tbody>\n",
              "    <tr>\n",
              "      <th>no</th>\n",
              "      <td>36548</td>\n",
              "      <td>36548</td>\n",
              "      <td>36548</td>\n",
              "      <td>36548</td>\n",
              "      <td>36548</td>\n",
              "      <td>36548</td>\n",
              "      <td>36548</td>\n",
              "      <td>36548</td>\n",
              "      <td>36548</td>\n",
              "      <td>36548</td>\n",
              "      <td>36548</td>\n",
              "      <td>36548</td>\n",
              "      <td>36548</td>\n",
              "      <td>36548</td>\n",
              "      <td>36548</td>\n",
              "      <td>36548</td>\n",
              "      <td>36548</td>\n",
              "      <td>36548</td>\n",
              "      <td>36548</td>\n",
              "      <td>36548</td>\n",
              "    </tr>\n",
              "    <tr>\n",
              "      <th>yes</th>\n",
              "      <td>4640</td>\n",
              "      <td>4640</td>\n",
              "      <td>4640</td>\n",
              "      <td>4640</td>\n",
              "      <td>4640</td>\n",
              "      <td>4640</td>\n",
              "      <td>4640</td>\n",
              "      <td>4640</td>\n",
              "      <td>4640</td>\n",
              "      <td>4640</td>\n",
              "      <td>4640</td>\n",
              "      <td>4640</td>\n",
              "      <td>4640</td>\n",
              "      <td>4640</td>\n",
              "      <td>4640</td>\n",
              "      <td>4640</td>\n",
              "      <td>4640</td>\n",
              "      <td>4640</td>\n",
              "      <td>4640</td>\n",
              "      <td>4640</td>\n",
              "    </tr>\n",
              "  </tbody>\n",
              "</table>\n",
              "</div>\n",
              "      <button class=\"colab-df-convert\" onclick=\"convertToInteractive('df-2856d696-edd1-4759-82fe-9012c2897cb9')\"\n",
              "              title=\"Convert this dataframe to an interactive table.\"\n",
              "              style=\"display:none;\">\n",
              "        \n",
              "  <svg xmlns=\"http://www.w3.org/2000/svg\" height=\"24px\"viewBox=\"0 0 24 24\"\n",
              "       width=\"24px\">\n",
              "    <path d=\"M0 0h24v24H0V0z\" fill=\"none\"/>\n",
              "    <path d=\"M18.56 5.44l.94 2.06.94-2.06 2.06-.94-2.06-.94-.94-2.06-.94 2.06-2.06.94zm-11 1L8.5 8.5l.94-2.06 2.06-.94-2.06-.94L8.5 2.5l-.94 2.06-2.06.94zm10 10l.94 2.06.94-2.06 2.06-.94-2.06-.94-.94-2.06-.94 2.06-2.06.94z\"/><path d=\"M17.41 7.96l-1.37-1.37c-.4-.4-.92-.59-1.43-.59-.52 0-1.04.2-1.43.59L10.3 9.45l-7.72 7.72c-.78.78-.78 2.05 0 2.83L4 21.41c.39.39.9.59 1.41.59.51 0 1.02-.2 1.41-.59l7.78-7.78 2.81-2.81c.8-.78.8-2.07 0-2.86zM5.41 20L4 18.59l7.72-7.72 1.47 1.35L5.41 20z\"/>\n",
              "  </svg>\n",
              "      </button>\n",
              "      \n",
              "  <style>\n",
              "    .colab-df-container {\n",
              "      display:flex;\n",
              "      flex-wrap:wrap;\n",
              "      gap: 12px;\n",
              "    }\n",
              "\n",
              "    .colab-df-convert {\n",
              "      background-color: #E8F0FE;\n",
              "      border: none;\n",
              "      border-radius: 50%;\n",
              "      cursor: pointer;\n",
              "      display: none;\n",
              "      fill: #1967D2;\n",
              "      height: 32px;\n",
              "      padding: 0 0 0 0;\n",
              "      width: 32px;\n",
              "    }\n",
              "\n",
              "    .colab-df-convert:hover {\n",
              "      background-color: #E2EBFA;\n",
              "      box-shadow: 0px 1px 2px rgba(60, 64, 67, 0.3), 0px 1px 3px 1px rgba(60, 64, 67, 0.15);\n",
              "      fill: #174EA6;\n",
              "    }\n",
              "\n",
              "    [theme=dark] .colab-df-convert {\n",
              "      background-color: #3B4455;\n",
              "      fill: #D2E3FC;\n",
              "    }\n",
              "\n",
              "    [theme=dark] .colab-df-convert:hover {\n",
              "      background-color: #434B5C;\n",
              "      box-shadow: 0px 1px 3px 1px rgba(0, 0, 0, 0.15);\n",
              "      filter: drop-shadow(0px 1px 2px rgba(0, 0, 0, 0.3));\n",
              "      fill: #FFFFFF;\n",
              "    }\n",
              "  </style>\n",
              "\n",
              "      <script>\n",
              "        const buttonEl =\n",
              "          document.querySelector('#df-2856d696-edd1-4759-82fe-9012c2897cb9 button.colab-df-convert');\n",
              "        buttonEl.style.display =\n",
              "          google.colab.kernel.accessAllowed ? 'block' : 'none';\n",
              "\n",
              "        async function convertToInteractive(key) {\n",
              "          const element = document.querySelector('#df-2856d696-edd1-4759-82fe-9012c2897cb9');\n",
              "          const dataTable =\n",
              "            await google.colab.kernel.invokeFunction('convertToInteractive',\n",
              "                                                     [key], {});\n",
              "          if (!dataTable) return;\n",
              "\n",
              "          const docLinkHtml = 'Like what you see? Visit the ' +\n",
              "            '<a target=\"_blank\" href=https://colab.research.google.com/notebooks/data_table.ipynb>data table notebook</a>'\n",
              "            + ' to learn more about interactive tables.';\n",
              "          element.innerHTML = '';\n",
              "          dataTable['output_type'] = 'display_data';\n",
              "          await google.colab.output.renderOutput(dataTable, element);\n",
              "          const docLink = document.createElement('div');\n",
              "          docLink.innerHTML = docLinkHtml;\n",
              "          element.appendChild(docLink);\n",
              "        }\n",
              "      </script>\n",
              "    </div>\n",
              "  </div>\n",
              "  "
            ],
            "text/plain": [
              "       age    job  marital  education  default  housing   loan  contact  \\\n",
              "y                                                                         \n",
              "no   36548  36548    36548      36548    36548    36548  36548    36548   \n",
              "yes   4640   4640     4640       4640     4640     4640   4640     4640   \n",
              "\n",
              "     month  day_of_week  duration  campaign  pdays  previous  poutcome  \\\n",
              "y                                                                        \n",
              "no   36548        36548     36548     36548  36548     36548     36548   \n",
              "yes   4640         4640      4640      4640   4640      4640      4640   \n",
              "\n",
              "     emp.var.rate  cons.price.idx  cons.conf.idx  euribor3m  nr.employed  \n",
              "y                                                                         \n",
              "no          36548           36548          36548      36548        36548  \n",
              "yes          4640            4640           4640       4640         4640  "
            ]
          },
          "execution_count": 19,
          "metadata": {},
          "output_type": "execute_result"
        }
      ],
      "source": [
        "df_bank.groupby('y').count()"
      ]
    },
    {
      "cell_type": "markdown",
      "metadata": {
        "id": "4gxkNRLn3Zzy"
      },
      "source": [
        "Data latih memiliki:\n",
        "1. 36548 label 'no'\n",
        "2. 4640 label 'yes'"
      ]
    },
    {
      "cell_type": "markdown",
      "metadata": {
        "id": "d-zjmZ6Q3lW-"
      },
      "source": [
        "# *Data Cleaning*"
      ]
    },
    {
      "cell_type": "markdown",
      "metadata": {
        "id": "tm9TCeH63re3"
      },
      "source": [
        "### Memastikan tidak ada *missing values* pada Kolom Kategorikal\n",
        "***\n",
        "Pada keterangan dataset yang dilampirkan, missing values pada data ditandai dengan label \"unknown\" pada beberapa kolom dengan tipe kategorikal. Oleh karena, kolom kategorikal yang memuat label \"unknown\" akan diganti menjadi **nan** untuk menandai adanya missing values (unstandard missing values)"
      ]
    },
    {
      "cell_type": "code",
      "execution_count": null,
      "metadata": {
        "colab": {
          "base_uri": "https://localhost:8080/"
        },
        "id": "-uzdBP0u3Y5d",
        "outputId": "1e02041c-a476-4117-a6e1-2511169193a5"
      },
      "outputs": [
        {
          "data": {
            "text/plain": [
              "default           8597\n",
              "education         1731\n",
              "housing            990\n",
              "loan               990\n",
              "job                330\n",
              "marital             80\n",
              "age                  0\n",
              "poutcome             0\n",
              "nr.employed          0\n",
              "euribor3m            0\n",
              "cons.conf.idx        0\n",
              "cons.price.idx       0\n",
              "emp.var.rate         0\n",
              "duration             0\n",
              "previous             0\n",
              "pdays                0\n",
              "campaign             0\n",
              "day_of_week          0\n",
              "month                0\n",
              "contact              0\n",
              "y                    0\n",
              "dtype: int64"
            ]
          },
          "execution_count": 20,
          "metadata": {},
          "output_type": "execute_result"
        }
      ],
      "source": [
        "# Mengetahui jumlah \"unknown\" di setiap atribut\n",
        "df_bank[df_bank[categorical_columns] == 'unknown'].count().sort_values(ascending = False)"
      ]
    },
    {
      "cell_type": "markdown",
      "metadata": {
        "id": "Ag4opecIAc84"
      },
      "source": [
        "**default, education, housing, loan, job, marital** menjadi kolom kategorikal yang banyak mengandung missing values"
      ]
    },
    {
      "cell_type": "markdown",
      "metadata": {
        "id": "h7eHmFZIAhYb"
      },
      "source": [
        "### Mengganti \"unknwon\" dengan *Numpy nan*"
      ]
    },
    {
      "cell_type": "code",
      "execution_count": null,
      "metadata": {
        "id": "dOkadhQzAokh"
      },
      "outputs": [],
      "source": [
        "# Mengganti \"unknown\" pada data latih\n",
        "df_bank[df_bank[categorical_columns] == \"unknown\"] = np.nan"
      ]
    },
    {
      "cell_type": "markdown",
      "metadata": {
        "id": "x7KUowjSAxMS"
      },
      "source": [
        "#### Cek apakah \"unknown\" sudah terganti dengan *Numpy nan* dengan benar"
      ]
    },
    {
      "cell_type": "code",
      "execution_count": null,
      "metadata": {
        "colab": {
          "base_uri": "https://localhost:8080/"
        },
        "id": "jn_3MSVuBBaZ",
        "outputId": "d83cfa31-1aca-488c-c20b-50ac23755d20"
      },
      "outputs": [
        {
          "data": {
            "text/plain": [
              "age               0\n",
              "campaign          0\n",
              "nr.employed       0\n",
              "euribor3m         0\n",
              "cons.conf.idx     0\n",
              "cons.price.idx    0\n",
              "emp.var.rate      0\n",
              "poutcome          0\n",
              "previous          0\n",
              "pdays             0\n",
              "duration          0\n",
              "job               0\n",
              "day_of_week       0\n",
              "month             0\n",
              "contact           0\n",
              "loan              0\n",
              "housing           0\n",
              "default           0\n",
              "education         0\n",
              "marital           0\n",
              "y                 0\n",
              "dtype: int64"
            ]
          },
          "execution_count": 22,
          "metadata": {},
          "output_type": "execute_result"
        }
      ],
      "source": [
        "# Mengetahui jumlah \"unknown\" di setiap atribut\n",
        "df_bank[df_bank[categorical_columns] == 'unknown'].count().sort_values(ascending = False)"
      ]
    },
    {
      "cell_type": "markdown",
      "metadata": {
        "id": "op2XKQNTBLlu"
      },
      "source": [
        "Label \"unknown\" sudah tergantikan dengan *Numpy nan* semuanya"
      ]
    },
    {
      "cell_type": "markdown",
      "metadata": {
        "id": "YISc4dN6BRIP"
      },
      "source": [
        "### Melihat *unstandard missing values* pada kolom kategorikal"
      ]
    },
    {
      "cell_type": "code",
      "execution_count": null,
      "metadata": {
        "colab": {
          "base_uri": "https://localhost:8080/",
          "height": 206
        },
        "id": "m9Er-gUbBVmK",
        "outputId": "1c4a0e19-0f40-44de-bdbe-d38132384c8a"
      },
      "outputs": [
        {
          "data": {
            "text/html": [
              "\n",
              "  <div id=\"df-13e18231-39b4-4fb4-a254-ed577e3b8938\">\n",
              "    <div class=\"colab-df-container\">\n",
              "      <div>\n",
              "<style scoped>\n",
              "    .dataframe tbody tr th:only-of-type {\n",
              "        vertical-align: middle;\n",
              "    }\n",
              "\n",
              "    .dataframe tbody tr th {\n",
              "        vertical-align: top;\n",
              "    }\n",
              "\n",
              "    .dataframe thead th {\n",
              "        text-align: right;\n",
              "    }\n",
              "</style>\n",
              "<table border=\"1\" class=\"dataframe\">\n",
              "  <thead>\n",
              "    <tr style=\"text-align: right;\">\n",
              "      <th></th>\n",
              "      <th>job</th>\n",
              "      <th>marital</th>\n",
              "      <th>education</th>\n",
              "      <th>default</th>\n",
              "      <th>housing</th>\n",
              "      <th>loan</th>\n",
              "      <th>contact</th>\n",
              "      <th>month</th>\n",
              "      <th>day_of_week</th>\n",
              "      <th>poutcome</th>\n",
              "      <th>y</th>\n",
              "    </tr>\n",
              "  </thead>\n",
              "  <tbody>\n",
              "    <tr>\n",
              "      <th>0</th>\n",
              "      <td>housemaid</td>\n",
              "      <td>married</td>\n",
              "      <td>basic.4y</td>\n",
              "      <td>no</td>\n",
              "      <td>no</td>\n",
              "      <td>no</td>\n",
              "      <td>telephone</td>\n",
              "      <td>may</td>\n",
              "      <td>mon</td>\n",
              "      <td>nonexistent</td>\n",
              "      <td>no</td>\n",
              "    </tr>\n",
              "    <tr>\n",
              "      <th>1</th>\n",
              "      <td>services</td>\n",
              "      <td>married</td>\n",
              "      <td>high.school</td>\n",
              "      <td>NaN</td>\n",
              "      <td>no</td>\n",
              "      <td>no</td>\n",
              "      <td>telephone</td>\n",
              "      <td>may</td>\n",
              "      <td>mon</td>\n",
              "      <td>nonexistent</td>\n",
              "      <td>no</td>\n",
              "    </tr>\n",
              "    <tr>\n",
              "      <th>2</th>\n",
              "      <td>services</td>\n",
              "      <td>married</td>\n",
              "      <td>high.school</td>\n",
              "      <td>no</td>\n",
              "      <td>yes</td>\n",
              "      <td>no</td>\n",
              "      <td>telephone</td>\n",
              "      <td>may</td>\n",
              "      <td>mon</td>\n",
              "      <td>nonexistent</td>\n",
              "      <td>no</td>\n",
              "    </tr>\n",
              "    <tr>\n",
              "      <th>3</th>\n",
              "      <td>admin.</td>\n",
              "      <td>married</td>\n",
              "      <td>basic.6y</td>\n",
              "      <td>no</td>\n",
              "      <td>no</td>\n",
              "      <td>no</td>\n",
              "      <td>telephone</td>\n",
              "      <td>may</td>\n",
              "      <td>mon</td>\n",
              "      <td>nonexistent</td>\n",
              "      <td>no</td>\n",
              "    </tr>\n",
              "    <tr>\n",
              "      <th>4</th>\n",
              "      <td>services</td>\n",
              "      <td>married</td>\n",
              "      <td>high.school</td>\n",
              "      <td>no</td>\n",
              "      <td>no</td>\n",
              "      <td>yes</td>\n",
              "      <td>telephone</td>\n",
              "      <td>may</td>\n",
              "      <td>mon</td>\n",
              "      <td>nonexistent</td>\n",
              "      <td>no</td>\n",
              "    </tr>\n",
              "  </tbody>\n",
              "</table>\n",
              "</div>\n",
              "      <button class=\"colab-df-convert\" onclick=\"convertToInteractive('df-13e18231-39b4-4fb4-a254-ed577e3b8938')\"\n",
              "              title=\"Convert this dataframe to an interactive table.\"\n",
              "              style=\"display:none;\">\n",
              "        \n",
              "  <svg xmlns=\"http://www.w3.org/2000/svg\" height=\"24px\"viewBox=\"0 0 24 24\"\n",
              "       width=\"24px\">\n",
              "    <path d=\"M0 0h24v24H0V0z\" fill=\"none\"/>\n",
              "    <path d=\"M18.56 5.44l.94 2.06.94-2.06 2.06-.94-2.06-.94-.94-2.06-.94 2.06-2.06.94zm-11 1L8.5 8.5l.94-2.06 2.06-.94-2.06-.94L8.5 2.5l-.94 2.06-2.06.94zm10 10l.94 2.06.94-2.06 2.06-.94-2.06-.94-.94-2.06-.94 2.06-2.06.94z\"/><path d=\"M17.41 7.96l-1.37-1.37c-.4-.4-.92-.59-1.43-.59-.52 0-1.04.2-1.43.59L10.3 9.45l-7.72 7.72c-.78.78-.78 2.05 0 2.83L4 21.41c.39.39.9.59 1.41.59.51 0 1.02-.2 1.41-.59l7.78-7.78 2.81-2.81c.8-.78.8-2.07 0-2.86zM5.41 20L4 18.59l7.72-7.72 1.47 1.35L5.41 20z\"/>\n",
              "  </svg>\n",
              "      </button>\n",
              "      \n",
              "  <style>\n",
              "    .colab-df-container {\n",
              "      display:flex;\n",
              "      flex-wrap:wrap;\n",
              "      gap: 12px;\n",
              "    }\n",
              "\n",
              "    .colab-df-convert {\n",
              "      background-color: #E8F0FE;\n",
              "      border: none;\n",
              "      border-radius: 50%;\n",
              "      cursor: pointer;\n",
              "      display: none;\n",
              "      fill: #1967D2;\n",
              "      height: 32px;\n",
              "      padding: 0 0 0 0;\n",
              "      width: 32px;\n",
              "    }\n",
              "\n",
              "    .colab-df-convert:hover {\n",
              "      background-color: #E2EBFA;\n",
              "      box-shadow: 0px 1px 2px rgba(60, 64, 67, 0.3), 0px 1px 3px 1px rgba(60, 64, 67, 0.15);\n",
              "      fill: #174EA6;\n",
              "    }\n",
              "\n",
              "    [theme=dark] .colab-df-convert {\n",
              "      background-color: #3B4455;\n",
              "      fill: #D2E3FC;\n",
              "    }\n",
              "\n",
              "    [theme=dark] .colab-df-convert:hover {\n",
              "      background-color: #434B5C;\n",
              "      box-shadow: 0px 1px 3px 1px rgba(0, 0, 0, 0.15);\n",
              "      filter: drop-shadow(0px 1px 2px rgba(0, 0, 0, 0.3));\n",
              "      fill: #FFFFFF;\n",
              "    }\n",
              "  </style>\n",
              "\n",
              "      <script>\n",
              "        const buttonEl =\n",
              "          document.querySelector('#df-13e18231-39b4-4fb4-a254-ed577e3b8938 button.colab-df-convert');\n",
              "        buttonEl.style.display =\n",
              "          google.colab.kernel.accessAllowed ? 'block' : 'none';\n",
              "\n",
              "        async function convertToInteractive(key) {\n",
              "          const element = document.querySelector('#df-13e18231-39b4-4fb4-a254-ed577e3b8938');\n",
              "          const dataTable =\n",
              "            await google.colab.kernel.invokeFunction('convertToInteractive',\n",
              "                                                     [key], {});\n",
              "          if (!dataTable) return;\n",
              "\n",
              "          const docLinkHtml = 'Like what you see? Visit the ' +\n",
              "            '<a target=\"_blank\" href=https://colab.research.google.com/notebooks/data_table.ipynb>data table notebook</a>'\n",
              "            + ' to learn more about interactive tables.';\n",
              "          element.innerHTML = '';\n",
              "          dataTable['output_type'] = 'display_data';\n",
              "          await google.colab.output.renderOutput(dataTable, element);\n",
              "          const docLink = document.createElement('div');\n",
              "          docLink.innerHTML = docLinkHtml;\n",
              "          element.appendChild(docLink);\n",
              "        }\n",
              "      </script>\n",
              "    </div>\n",
              "  </div>\n",
              "  "
            ],
            "text/plain": [
              "         job  marital    education default housing loan    contact month  \\\n",
              "0  housemaid  married     basic.4y      no      no   no  telephone   may   \n",
              "1   services  married  high.school     NaN      no   no  telephone   may   \n",
              "2   services  married  high.school      no     yes   no  telephone   may   \n",
              "3     admin.  married     basic.6y      no      no   no  telephone   may   \n",
              "4   services  married  high.school      no      no  yes  telephone   may   \n",
              "\n",
              "  day_of_week     poutcome   y  \n",
              "0         mon  nonexistent  no  \n",
              "1         mon  nonexistent  no  \n",
              "2         mon  nonexistent  no  \n",
              "3         mon  nonexistent  no  \n",
              "4         mon  nonexistent  no  "
            ]
          },
          "execution_count": 23,
          "metadata": {},
          "output_type": "execute_result"
        }
      ],
      "source": [
        "df_bank[categorical_columns].head()"
      ]
    },
    {
      "cell_type": "code",
      "execution_count": null,
      "metadata": {
        "colab": {
          "base_uri": "https://localhost:8080/"
        },
        "id": "Vdp7yYN8Bcvq",
        "outputId": "a111c295-b8dd-4b5a-9467-310248b665e9"
      },
      "outputs": [
        {
          "name": "stdout",
          "output_type": "stream",
          "text": [
            "Nilai unik untuk kolom JOB\n",
            "['housemaid' 'services' 'admin.' 'blue-collar' 'technician' 'retired'\n",
            " 'management' 'unemployed' 'self-employed' nan 'entrepreneur' 'student']\n",
            "======================================================================\n",
            "Nilai unik untuk kolom MARITAL\n",
            "['married' 'single' 'divorced' nan]\n",
            "======================================================================\n",
            "Nilai unik untuk kolom EDUCATION\n",
            "['basic.4y' 'high.school' 'basic.6y' 'basic.9y' 'professional.course' nan\n",
            " 'university.degree' 'illiterate']\n",
            "======================================================================\n",
            "Nilai unik untuk kolom DEFAULT\n",
            "['no' nan 'yes']\n",
            "======================================================================\n",
            "Nilai unik untuk kolom HOUSING\n",
            "['no' 'yes' nan]\n",
            "======================================================================\n",
            "Nilai unik untuk kolom LOAN\n",
            "['no' 'yes' nan]\n",
            "======================================================================\n",
            "Nilai unik untuk kolom CONTACT\n",
            "['telephone' 'cellular']\n",
            "======================================================================\n",
            "Nilai unik untuk kolom MONTH\n",
            "['may' 'jun' 'jul' 'aug' 'oct' 'nov' 'dec' 'mar' 'apr' 'sep']\n",
            "======================================================================\n",
            "Nilai unik untuk kolom DAY_OF_WEEK\n",
            "['mon' 'tue' 'wed' 'thu' 'fri']\n",
            "======================================================================\n",
            "Nilai unik untuk kolom POUTCOME\n",
            "['nonexistent' 'failure' 'success']\n",
            "======================================================================\n",
            "Nilai unik untuk kolom Y\n",
            "['no' 'yes']\n",
            "======================================================================\n"
          ]
        }
      ],
      "source": [
        "# Mencetak semua nilai unik pada masing-masing kolom kategori\n",
        "for cat_col in categorical_columns:\n",
        "    print(\"Nilai unik untuk kolom\", cat_col.upper())\n",
        "    print(df_bank[cat_col].unique())\n",
        "    print('='*70)"
      ]
    },
    {
      "cell_type": "markdown",
      "metadata": {
        "id": "In6pmRqYBu-o"
      },
      "source": [
        "Semua nilai di masing-masing atribut sudah sesuai dengan apa yang tertera dari deskripsi dataset yang diterima. Sehingga tidak ada **invalid values** pada kolom kategorikal.\n",
        "\n",
        "Pada kelas target **y** juga hanya terdapat dua nilai unik yaitu **no** dan **yes** dan tidak terdapat **missing values**, sehingga **tidak diperlukan 'dropping data'** karena ada kelas target yang *missing values*"
      ]
    },
    {
      "cell_type": "markdown",
      "metadata": {
        "id": "a7as4ZSCCA3_"
      },
      "source": [
        "### Melihat *unstandard missing values* pada kolom numerikal"
      ]
    },
    {
      "cell_type": "code",
      "execution_count": null,
      "metadata": {
        "colab": {
          "base_uri": "https://localhost:8080/",
          "height": 206
        },
        "id": "X_a3V-srClx2",
        "outputId": "fc012fd3-ddad-47bf-b98d-0129ea80531d"
      },
      "outputs": [
        {
          "data": {
            "text/html": [
              "\n",
              "  <div id=\"df-49ab774f-3c0a-4023-bfa3-3bc40a6e5888\">\n",
              "    <div class=\"colab-df-container\">\n",
              "      <div>\n",
              "<style scoped>\n",
              "    .dataframe tbody tr th:only-of-type {\n",
              "        vertical-align: middle;\n",
              "    }\n",
              "\n",
              "    .dataframe tbody tr th {\n",
              "        vertical-align: top;\n",
              "    }\n",
              "\n",
              "    .dataframe thead th {\n",
              "        text-align: right;\n",
              "    }\n",
              "</style>\n",
              "<table border=\"1\" class=\"dataframe\">\n",
              "  <thead>\n",
              "    <tr style=\"text-align: right;\">\n",
              "      <th></th>\n",
              "      <th>age</th>\n",
              "      <th>duration</th>\n",
              "      <th>campaign</th>\n",
              "      <th>pdays</th>\n",
              "      <th>previous</th>\n",
              "      <th>emp.var.rate</th>\n",
              "      <th>cons.price.idx</th>\n",
              "      <th>cons.conf.idx</th>\n",
              "      <th>euribor3m</th>\n",
              "      <th>nr.employed</th>\n",
              "    </tr>\n",
              "  </thead>\n",
              "  <tbody>\n",
              "    <tr>\n",
              "      <th>0</th>\n",
              "      <td>56</td>\n",
              "      <td>261</td>\n",
              "      <td>1</td>\n",
              "      <td>999</td>\n",
              "      <td>0</td>\n",
              "      <td>1.1</td>\n",
              "      <td>93.994</td>\n",
              "      <td>-36.4</td>\n",
              "      <td>4.857</td>\n",
              "      <td>5191.0</td>\n",
              "    </tr>\n",
              "    <tr>\n",
              "      <th>1</th>\n",
              "      <td>57</td>\n",
              "      <td>149</td>\n",
              "      <td>1</td>\n",
              "      <td>999</td>\n",
              "      <td>0</td>\n",
              "      <td>1.1</td>\n",
              "      <td>93.994</td>\n",
              "      <td>-36.4</td>\n",
              "      <td>4.857</td>\n",
              "      <td>5191.0</td>\n",
              "    </tr>\n",
              "    <tr>\n",
              "      <th>2</th>\n",
              "      <td>37</td>\n",
              "      <td>226</td>\n",
              "      <td>1</td>\n",
              "      <td>999</td>\n",
              "      <td>0</td>\n",
              "      <td>1.1</td>\n",
              "      <td>93.994</td>\n",
              "      <td>-36.4</td>\n",
              "      <td>4.857</td>\n",
              "      <td>5191.0</td>\n",
              "    </tr>\n",
              "    <tr>\n",
              "      <th>3</th>\n",
              "      <td>40</td>\n",
              "      <td>151</td>\n",
              "      <td>1</td>\n",
              "      <td>999</td>\n",
              "      <td>0</td>\n",
              "      <td>1.1</td>\n",
              "      <td>93.994</td>\n",
              "      <td>-36.4</td>\n",
              "      <td>4.857</td>\n",
              "      <td>5191.0</td>\n",
              "    </tr>\n",
              "    <tr>\n",
              "      <th>4</th>\n",
              "      <td>56</td>\n",
              "      <td>307</td>\n",
              "      <td>1</td>\n",
              "      <td>999</td>\n",
              "      <td>0</td>\n",
              "      <td>1.1</td>\n",
              "      <td>93.994</td>\n",
              "      <td>-36.4</td>\n",
              "      <td>4.857</td>\n",
              "      <td>5191.0</td>\n",
              "    </tr>\n",
              "  </tbody>\n",
              "</table>\n",
              "</div>\n",
              "      <button class=\"colab-df-convert\" onclick=\"convertToInteractive('df-49ab774f-3c0a-4023-bfa3-3bc40a6e5888')\"\n",
              "              title=\"Convert this dataframe to an interactive table.\"\n",
              "              style=\"display:none;\">\n",
              "        \n",
              "  <svg xmlns=\"http://www.w3.org/2000/svg\" height=\"24px\"viewBox=\"0 0 24 24\"\n",
              "       width=\"24px\">\n",
              "    <path d=\"M0 0h24v24H0V0z\" fill=\"none\"/>\n",
              "    <path d=\"M18.56 5.44l.94 2.06.94-2.06 2.06-.94-2.06-.94-.94-2.06-.94 2.06-2.06.94zm-11 1L8.5 8.5l.94-2.06 2.06-.94-2.06-.94L8.5 2.5l-.94 2.06-2.06.94zm10 10l.94 2.06.94-2.06 2.06-.94-2.06-.94-.94-2.06-.94 2.06-2.06.94z\"/><path d=\"M17.41 7.96l-1.37-1.37c-.4-.4-.92-.59-1.43-.59-.52 0-1.04.2-1.43.59L10.3 9.45l-7.72 7.72c-.78.78-.78 2.05 0 2.83L4 21.41c.39.39.9.59 1.41.59.51 0 1.02-.2 1.41-.59l7.78-7.78 2.81-2.81c.8-.78.8-2.07 0-2.86zM5.41 20L4 18.59l7.72-7.72 1.47 1.35L5.41 20z\"/>\n",
              "  </svg>\n",
              "      </button>\n",
              "      \n",
              "  <style>\n",
              "    .colab-df-container {\n",
              "      display:flex;\n",
              "      flex-wrap:wrap;\n",
              "      gap: 12px;\n",
              "    }\n",
              "\n",
              "    .colab-df-convert {\n",
              "      background-color: #E8F0FE;\n",
              "      border: none;\n",
              "      border-radius: 50%;\n",
              "      cursor: pointer;\n",
              "      display: none;\n",
              "      fill: #1967D2;\n",
              "      height: 32px;\n",
              "      padding: 0 0 0 0;\n",
              "      width: 32px;\n",
              "    }\n",
              "\n",
              "    .colab-df-convert:hover {\n",
              "      background-color: #E2EBFA;\n",
              "      box-shadow: 0px 1px 2px rgba(60, 64, 67, 0.3), 0px 1px 3px 1px rgba(60, 64, 67, 0.15);\n",
              "      fill: #174EA6;\n",
              "    }\n",
              "\n",
              "    [theme=dark] .colab-df-convert {\n",
              "      background-color: #3B4455;\n",
              "      fill: #D2E3FC;\n",
              "    }\n",
              "\n",
              "    [theme=dark] .colab-df-convert:hover {\n",
              "      background-color: #434B5C;\n",
              "      box-shadow: 0px 1px 3px 1px rgba(0, 0, 0, 0.15);\n",
              "      filter: drop-shadow(0px 1px 2px rgba(0, 0, 0, 0.3));\n",
              "      fill: #FFFFFF;\n",
              "    }\n",
              "  </style>\n",
              "\n",
              "      <script>\n",
              "        const buttonEl =\n",
              "          document.querySelector('#df-49ab774f-3c0a-4023-bfa3-3bc40a6e5888 button.colab-df-convert');\n",
              "        buttonEl.style.display =\n",
              "          google.colab.kernel.accessAllowed ? 'block' : 'none';\n",
              "\n",
              "        async function convertToInteractive(key) {\n",
              "          const element = document.querySelector('#df-49ab774f-3c0a-4023-bfa3-3bc40a6e5888');\n",
              "          const dataTable =\n",
              "            await google.colab.kernel.invokeFunction('convertToInteractive',\n",
              "                                                     [key], {});\n",
              "          if (!dataTable) return;\n",
              "\n",
              "          const docLinkHtml = 'Like what you see? Visit the ' +\n",
              "            '<a target=\"_blank\" href=https://colab.research.google.com/notebooks/data_table.ipynb>data table notebook</a>'\n",
              "            + ' to learn more about interactive tables.';\n",
              "          element.innerHTML = '';\n",
              "          dataTable['output_type'] = 'display_data';\n",
              "          await google.colab.output.renderOutput(dataTable, element);\n",
              "          const docLink = document.createElement('div');\n",
              "          docLink.innerHTML = docLinkHtml;\n",
              "          element.appendChild(docLink);\n",
              "        }\n",
              "      </script>\n",
              "    </div>\n",
              "  </div>\n",
              "  "
            ],
            "text/plain": [
              "   age  duration  campaign  pdays  previous  emp.var.rate  cons.price.idx  \\\n",
              "0   56       261         1    999         0           1.1          93.994   \n",
              "1   57       149         1    999         0           1.1          93.994   \n",
              "2   37       226         1    999         0           1.1          93.994   \n",
              "3   40       151         1    999         0           1.1          93.994   \n",
              "4   56       307         1    999         0           1.1          93.994   \n",
              "\n",
              "   cons.conf.idx  euribor3m  nr.employed  \n",
              "0          -36.4      4.857       5191.0  \n",
              "1          -36.4      4.857       5191.0  \n",
              "2          -36.4      4.857       5191.0  \n",
              "3          -36.4      4.857       5191.0  \n",
              "4          -36.4      4.857       5191.0  "
            ]
          },
          "execution_count": 25,
          "metadata": {},
          "output_type": "execute_result"
        }
      ],
      "source": [
        "df_bank[numerical_columns].head()"
      ]
    },
    {
      "cell_type": "markdown",
      "metadata": {
        "id": "6lRJ2x0hCvpm"
      },
      "source": [
        "Terlihat bahwa atribut **pdays** ada nilai **999** yang menandakan klien sebelumnya tidak dihubungi. Ini bisa diganti dengan nilai **0**. Akan diperiksa juga nilai-nilai yang \"aneh\" untuk atribut numerikal lainnya"
      ]
    },
    {
      "cell_type": "code",
      "execution_count": null,
      "metadata": {
        "colab": {
          "base_uri": "https://localhost:8080/"
        },
        "id": "PGbdSwKiCvEI",
        "outputId": "8a5ef808-0d8b-4124-f596-2db928b62ca0"
      },
      "outputs": [
        {
          "name": "stdout",
          "output_type": "stream",
          "text": [
            "Nilai unik untuk kolom AGE\n",
            "[56 57 37 40 45 59 41 24 25 29 35 54 46 50 39 30 55 49 34 52 58 32 38 44\n",
            " 42 60 53 47 51 48 33 31 43 36 28 27 26 22 23 20 21 61 19 18 70 66 76 67\n",
            " 73 88 95 77 68 75 63 80 62 65 72 82 64 71 69 78 85 79 83 81 74 17 87 91\n",
            " 86 98 94 84 92 89]\n",
            "======================================================================\n",
            "Nilai unik untuk kolom DURATION\n",
            "[ 261  149  226 ... 1246 1556 1868]\n",
            "======================================================================\n",
            "Nilai unik untuk kolom CAMPAIGN\n",
            "[ 1  2  3  4  5  6  7  8  9 10 11 12 13 19 18 23 14 22 25 16 17 15 20 56\n",
            " 39 35 42 28 26 27 32 21 24 29 31 30 41 37 40 33 34 43]\n",
            "======================================================================\n",
            "Nilai unik untuk kolom PDAYS\n",
            "[999   6   4   3   5   1   0  10   7   8   9  11   2  12  13  14  15  16\n",
            "  21  17  18  22  25  26  19  27  20]\n",
            "======================================================================\n",
            "Nilai unik untuk kolom PREVIOUS\n",
            "[0 1 2 3 4 5 6 7]\n",
            "======================================================================\n",
            "Nilai unik untuk kolom EMP.VAR.RATE\n",
            "[ 1.1  1.4 -0.1 -0.2 -1.8 -2.9 -3.4 -3.  -1.7 -1.1]\n",
            "======================================================================\n",
            "Nilai unik untuk kolom CONS.PRICE.IDX\n",
            "[93.994 94.465 93.918 93.444 93.798 93.2   92.756 92.843 93.075 92.893\n",
            " 92.963 92.469 92.201 92.379 92.431 92.649 92.713 93.369 93.749 93.876\n",
            " 94.055 94.215 94.027 94.199 94.601 94.767]\n",
            "======================================================================\n",
            "Nilai unik untuk kolom CONS.CONF.IDX\n",
            "[-36.4 -41.8 -42.7 -36.1 -40.4 -42.  -45.9 -50.  -47.1 -46.2 -40.8 -33.6\n",
            " -31.4 -29.8 -26.9 -30.1 -33.  -34.8 -34.6 -40.  -39.8 -40.3 -38.3 -37.5\n",
            " -49.5 -50.8]\n",
            "======================================================================\n",
            "Nilai unik untuk kolom EURIBOR3M\n",
            "[4.857 4.856 4.855 4.859 4.86  4.858 4.864 4.865 4.866 4.967 4.961 4.959\n",
            " 4.958 4.96  4.962 4.955 4.947 4.956 4.966 4.963 4.957 4.968 4.97  4.965\n",
            " 4.964 5.045 5.    4.936 4.921 4.918 4.912 4.827 4.794 4.76  4.733 4.7\n",
            " 4.663 4.592 4.474 4.406 4.343 4.286 4.245 4.223 4.191 4.153 4.12  4.076\n",
            " 4.021 3.901 3.879 3.853 3.816 3.743 3.669 3.563 3.488 3.428 3.329 3.282\n",
            " 3.053 1.811 1.799 1.778 1.757 1.726 1.703 1.687 1.663 1.65  1.64  1.629\n",
            " 1.614 1.602 1.584 1.574 1.56  1.556 1.548 1.538 1.531 1.52  1.51  1.498\n",
            " 1.483 1.479 1.466 1.453 1.445 1.435 1.423 1.415 1.41  1.405 1.406 1.4\n",
            " 1.392 1.384 1.372 1.365 1.354 1.344 1.334 1.327 1.313 1.299 1.291 1.281\n",
            " 1.266 1.25  1.244 1.259 1.264 1.27  1.262 1.26  1.268 1.286 1.252 1.235\n",
            " 1.224 1.215 1.206 1.099 1.085 1.072 1.059 1.048 1.044 1.029 1.018 1.007\n",
            " 0.996 0.979 0.969 0.944 0.937 0.933 0.927 0.921 0.914 0.908 0.903 0.899\n",
            " 0.884 0.883 0.881 0.879 0.873 0.869 0.861 0.859 0.854 0.851 0.849 0.843\n",
            " 0.838 0.834 0.829 0.825 0.821 0.819 0.813 0.809 0.803 0.797 0.788 0.781\n",
            " 0.778 0.773 0.771 0.77  0.768 0.766 0.762 0.755 0.749 0.743 0.741 0.739\n",
            " 0.75  0.753 0.754 0.752 0.744 0.74  0.742 0.737 0.735 0.733 0.73  0.731\n",
            " 0.728 0.724 0.722 0.72  0.719 0.716 0.715 0.714 0.718 0.721 0.717 0.712\n",
            " 0.71  0.709 0.708 0.706 0.707 0.7   0.655 0.654 0.653 0.652 0.651 0.65\n",
            " 0.649 0.646 0.644 0.643 0.639 0.637 0.635 0.636 0.634 0.638 0.64  0.642\n",
            " 0.645 0.659 0.663 0.668 0.672 0.677 0.682 0.683 0.684 0.685 0.688 0.69\n",
            " 0.692 0.695 0.697 0.699 0.701 0.702 0.704 0.711 0.713 0.723 0.727 0.729\n",
            " 0.732 0.748 0.761 0.767 0.782 0.79  0.793 0.802 0.81  0.822 0.827 0.835\n",
            " 0.84  0.846 0.87  0.876 0.885 0.889 0.893 0.896 0.898 0.9   0.904 0.905\n",
            " 0.895 0.894 0.891 0.89  0.888 0.886 0.882 0.88  0.878 0.877 0.942 0.953\n",
            " 0.956 0.959 0.965 0.972 0.977 0.982 0.985 0.987 0.993 1.    1.008 1.016\n",
            " 1.025 1.032 1.037 1.043 1.045 1.047 1.05  1.049 1.046 1.041 1.04  1.039\n",
            " 1.035 1.03  1.031 1.028]\n",
            "======================================================================\n",
            "Nilai unik untuk kolom NR.EMPLOYED\n",
            "[5191.  5228.1 5195.8 5176.3 5099.1 5076.2 5017.5 5023.5 5008.7 4991.6\n",
            " 4963.6]\n",
            "======================================================================\n"
          ]
        }
      ],
      "source": [
        "# Mencetak semua nilai unik pada setiap atribut numerikal\n",
        "for num_col in numerical_columns:\n",
        "    print(\"Nilai unik untuk kolom\", num_col.upper())\n",
        "    print(df_bank[num_col].unique())\n",
        "    print('='*70)"
      ]
    },
    {
      "cell_type": "markdown",
      "metadata": {
        "id": "HbTaJH8pC836"
      },
      "source": [
        "Semua nilai yang ada untuk setiap kolom numerik tidak ada keanehan dengan nilai-nilai yang lainnya. Hanya **pdays** yang memiliki nilai yang aneh yaitu **999**, sehingga nilai ini akan diganti menjadi **0** (sesuai deskripsi dataset yang diterima)"
      ]
    },
    {
      "cell_type": "code",
      "execution_count": null,
      "metadata": {
        "id": "vIljmSIfDDly"
      },
      "outputs": [],
      "source": [
        "# Mengganti nilai 999 pada pdays \n",
        "df_bank['pdays'].replace(999, 0, inplace = True)"
      ]
    },
    {
      "cell_type": "markdown",
      "metadata": {
        "id": "rWNYHQQlDMOl"
      },
      "source": [
        "### Merangkum total *missing values (nan) values*"
      ]
    },
    {
      "cell_type": "code",
      "execution_count": null,
      "metadata": {
        "colab": {
          "base_uri": "https://localhost:8080/"
        },
        "id": "M0EPcNwBDP0g",
        "outputId": "7c431223-fde6-4f24-93d8-764829def6ea"
      },
      "outputs": [
        {
          "name": "stdout",
          "output_type": "stream",
          "text": [
            "Jumlah nan missing values atribut kategori = 12718\n",
            "Jumlah nan missing values atribut numerikal = 0\n"
          ]
        }
      ],
      "source": [
        "# Missing values pada data train\n",
        "print(\"Jumlah nan missing values atribut kategori =\", df_bank[categorical_columns].isnull().sum().sum())\n",
        "print(\"Jumlah nan missing values atribut numerikal =\", df_bank[numerical_columns].isnull().sum().sum())"
      ]
    },
    {
      "cell_type": "markdown",
      "metadata": {
        "id": "oxXAPXt8DZvC"
      },
      "source": [
        "Hanya data kategorikal yang mengandung missing values dan data numerikal tidak mengandung missing values. Akan dilakukan strageti penanganan missing values untuk data kategorikal"
      ]
    },
    {
      "cell_type": "markdown",
      "metadata": {
        "id": "VzSFOqylDcYj"
      },
      "source": [
        "### Penanganan *Missing Values*\n",
        "***\n",
        "Untuk data kategorikal, *missing values* akan diisi dengan modus dari atribut X, sedangkan untuk data numerikal *missing values* akan diisi dengan median dari atribut Z."
      ]
    },
    {
      "cell_type": "markdown",
      "metadata": {
        "id": "N2MNDKmnD-qY"
      },
      "source": [
        "#### Pisahkan data yang bertipe kategorik dan numerik"
      ]
    },
    {
      "cell_type": "code",
      "execution_count": null,
      "metadata": {
        "id": "Yp5HNmDfEGlM"
      },
      "outputs": [],
      "source": [
        "# Categorical data\n",
        "df_bank_categorical = df_bank[categorical_columns]\n",
        "\n",
        "# Numerical data\n",
        "df_bank_numerical = df_bank[numerical_columns]"
      ]
    },
    {
      "cell_type": "markdown",
      "metadata": {
        "id": "_dXQEr_JEbcs"
      },
      "source": [
        "#### Instansiasi kelas *Imputer* untuk *filling nan* pada atribut kategorikal"
      ]
    },
    {
      "cell_type": "code",
      "execution_count": null,
      "metadata": {
        "id": "cjSj-CQJEkfS"
      },
      "outputs": [],
      "source": [
        "# Instansiasi kelas SimpleImputer untuk imputer atribut kategorikal\n",
        "imputer_categorical = SimpleImputer(missing_values = np.nan, strategy = 'most_frequent')"
      ]
    },
    {
      "cell_type": "markdown",
      "metadata": {
        "id": "fdHiWpOHEtff"
      },
      "source": [
        "#### *Fit data training categorical into imputer, transform into training and testing categorical*"
      ]
    },
    {
      "cell_type": "code",
      "execution_count": null,
      "metadata": {
        "colab": {
          "base_uri": "https://localhost:8080/",
          "height": 74
        },
        "id": "gIo_WBE8E9Ac",
        "outputId": "8d87623e-dfa8-458f-aba6-2d171815df02"
      },
      "outputs": [
        {
          "data": {
            "text/html": [
              "<style>#sk-container-id-1 {color: black;background-color: white;}#sk-container-id-1 pre{padding: 0;}#sk-container-id-1 div.sk-toggleable {background-color: white;}#sk-container-id-1 label.sk-toggleable__label {cursor: pointer;display: block;width: 100%;margin-bottom: 0;padding: 0.3em;box-sizing: border-box;text-align: center;}#sk-container-id-1 label.sk-toggleable__label-arrow:before {content: \"▸\";float: left;margin-right: 0.25em;color: #696969;}#sk-container-id-1 label.sk-toggleable__label-arrow:hover:before {color: black;}#sk-container-id-1 div.sk-estimator:hover label.sk-toggleable__label-arrow:before {color: black;}#sk-container-id-1 div.sk-toggleable__content {max-height: 0;max-width: 0;overflow: hidden;text-align: left;background-color: #f0f8ff;}#sk-container-id-1 div.sk-toggleable__content pre {margin: 0.2em;color: black;border-radius: 0.25em;background-color: #f0f8ff;}#sk-container-id-1 input.sk-toggleable__control:checked~div.sk-toggleable__content {max-height: 200px;max-width: 100%;overflow: auto;}#sk-container-id-1 input.sk-toggleable__control:checked~label.sk-toggleable__label-arrow:before {content: \"▾\";}#sk-container-id-1 div.sk-estimator input.sk-toggleable__control:checked~label.sk-toggleable__label {background-color: #d4ebff;}#sk-container-id-1 div.sk-label input.sk-toggleable__control:checked~label.sk-toggleable__label {background-color: #d4ebff;}#sk-container-id-1 input.sk-hidden--visually {border: 0;clip: rect(1px 1px 1px 1px);clip: rect(1px, 1px, 1px, 1px);height: 1px;margin: -1px;overflow: hidden;padding: 0;position: absolute;width: 1px;}#sk-container-id-1 div.sk-estimator {font-family: monospace;background-color: #f0f8ff;border: 1px dotted black;border-radius: 0.25em;box-sizing: border-box;margin-bottom: 0.5em;}#sk-container-id-1 div.sk-estimator:hover {background-color: #d4ebff;}#sk-container-id-1 div.sk-parallel-item::after {content: \"\";width: 100%;border-bottom: 1px solid gray;flex-grow: 1;}#sk-container-id-1 div.sk-label:hover label.sk-toggleable__label {background-color: #d4ebff;}#sk-container-id-1 div.sk-serial::before {content: \"\";position: absolute;border-left: 1px solid gray;box-sizing: border-box;top: 0;bottom: 0;left: 50%;z-index: 0;}#sk-container-id-1 div.sk-serial {display: flex;flex-direction: column;align-items: center;background-color: white;padding-right: 0.2em;padding-left: 0.2em;position: relative;}#sk-container-id-1 div.sk-item {position: relative;z-index: 1;}#sk-container-id-1 div.sk-parallel {display: flex;align-items: stretch;justify-content: center;background-color: white;position: relative;}#sk-container-id-1 div.sk-item::before, #sk-container-id-1 div.sk-parallel-item::before {content: \"\";position: absolute;border-left: 1px solid gray;box-sizing: border-box;top: 0;bottom: 0;left: 50%;z-index: -1;}#sk-container-id-1 div.sk-parallel-item {display: flex;flex-direction: column;z-index: 1;position: relative;background-color: white;}#sk-container-id-1 div.sk-parallel-item:first-child::after {align-self: flex-end;width: 50%;}#sk-container-id-1 div.sk-parallel-item:last-child::after {align-self: flex-start;width: 50%;}#sk-container-id-1 div.sk-parallel-item:only-child::after {width: 0;}#sk-container-id-1 div.sk-dashed-wrapped {border: 1px dashed gray;margin: 0 0.4em 0.5em 0.4em;box-sizing: border-box;padding-bottom: 0.4em;background-color: white;}#sk-container-id-1 div.sk-label label {font-family: monospace;font-weight: bold;display: inline-block;line-height: 1.2em;}#sk-container-id-1 div.sk-label-container {text-align: center;}#sk-container-id-1 div.sk-container {/* jupyter's `normalize.less` sets `[hidden] { display: none; }` but bootstrap.min.css set `[hidden] { display: none !important; }` so we also need the `!important` here to be able to override the default hidden behavior on the sphinx rendered scikit-learn.org. See: https://github.com/scikit-learn/scikit-learn/issues/21755 */display: inline-block !important;position: relative;}#sk-container-id-1 div.sk-text-repr-fallback {display: none;}</style><div id=\"sk-container-id-1\" class=\"sk-top-container\"><div class=\"sk-text-repr-fallback\"><pre>SimpleImputer(strategy=&#x27;most_frequent&#x27;)</pre><b>In a Jupyter environment, please rerun this cell to show the HTML representation or trust the notebook. <br />On GitHub, the HTML representation is unable to render, please try loading this page with nbviewer.org.</b></div><div class=\"sk-container\" hidden><div class=\"sk-item\"><div class=\"sk-estimator sk-toggleable\"><input class=\"sk-toggleable__control sk-hidden--visually\" id=\"sk-estimator-id-1\" type=\"checkbox\" checked><label for=\"sk-estimator-id-1\" class=\"sk-toggleable__label sk-toggleable__label-arrow\">SimpleImputer</label><div class=\"sk-toggleable__content\"><pre>SimpleImputer(strategy=&#x27;most_frequent&#x27;)</pre></div></div></div></div></div>"
            ],
            "text/plain": [
              "SimpleImputer(strategy='most_frequent')"
            ]
          },
          "execution_count": 31,
          "metadata": {},
          "output_type": "execute_result"
        }
      ],
      "source": [
        "# Fit dengan data training\n",
        "imputer_categorical.fit(df_bank_categorical)"
      ]
    },
    {
      "cell_type": "code",
      "execution_count": null,
      "metadata": {
        "id": "MbrNGSoiFC3g"
      },
      "outputs": [],
      "source": [
        "# Transform ke data latih\n",
        "df_bank_categorical = imputer_categorical.transform(df_bank_categorical)"
      ]
    },
    {
      "cell_type": "markdown",
      "metadata": {
        "id": "jIvyQDJUFLOG"
      },
      "source": [
        "#### Buat *numpy array* hasil imputer transform ke dalam dataframe"
      ]
    },
    {
      "cell_type": "code",
      "execution_count": null,
      "metadata": {
        "id": "GUfWIjNSFbe1"
      },
      "outputs": [],
      "source": [
        "# Buat hasil array ke dalam dataframe\n",
        "df_bank_categorical = pd.DataFrame(df_bank_categorical, columns = categorical_columns)"
      ]
    },
    {
      "cell_type": "markdown",
      "metadata": {
        "id": "KiCgwm4IFlwz"
      },
      "source": [
        "#### *Concate categorical columns with numerical columns*"
      ]
    },
    {
      "cell_type": "code",
      "execution_count": null,
      "metadata": {
        "id": "FV2R156jFrxa"
      },
      "outputs": [],
      "source": [
        "df_bank = pd.concat([df_bank_numerical, df_bank_categorical], axis = 1)"
      ]
    },
    {
      "cell_type": "markdown",
      "metadata": {
        "id": "M0ZiZmkLF3ju"
      },
      "source": [
        "#### Cek kalau masih ada *missing values* terlewat"
      ]
    },
    {
      "cell_type": "code",
      "execution_count": null,
      "metadata": {
        "colab": {
          "base_uri": "https://localhost:8080/"
        },
        "id": "RNB4BN55F9RN",
        "outputId": "bdd31ce7-0c16-4d06-c378-cf9a97fb2557"
      },
      "outputs": [
        {
          "name": "stdout",
          "output_type": "stream",
          "text": [
            "Jumlah nan missing values atribut kategori = 0\n",
            "Jumlah nan missing values atribut numerikal = 0\n"
          ]
        }
      ],
      "source": [
        "# Missing values pada data train\n",
        "print(\"Jumlah nan missing values atribut kategori =\", df_bank[categorical_columns].isnull().sum().sum())\n",
        "print(\"Jumlah nan missing values atribut numerikal =\", df_bank[numerical_columns].isnull().sum().sum())"
      ]
    },
    {
      "cell_type": "markdown",
      "metadata": {
        "id": "1v74ff7qGKEM"
      },
      "source": [
        "Setelah dilakukan imputasi, tidak ada **missing values** yang tersisa"
      ]
    },
    {
      "cell_type": "markdown",
      "metadata": {
        "id": "HFk9dFBoGOIl"
      },
      "source": [
        "#### *Rename* nama atribut pada data"
      ]
    },
    {
      "cell_type": "code",
      "execution_count": null,
      "metadata": {
        "id": "OcsATwR8GSxI"
      },
      "outputs": [],
      "source": [
        "df_bank.rename(columns = {\n",
        "    'job':'pekerjaan',\n",
        "    'marital':'pernikahan',\n",
        "    'education':'pendidikan',\n",
        "    'default':'kredit_default',\n",
        "    'housing':'pinjaman_rumah',\n",
        "    'loan':'pinjaman_pribadi',\n",
        "    'contact':'alat_komunikasi',\n",
        "    'month':'kontak_terakhir_bulan',\n",
        "    'day_of_week':'kontak_terakhir_hari',\n",
        "    'poutcome':'luaran_marketing_sebelumnya',\n",
        "    'y':'berlangganan_deposito',\n",
        "    'age':'umur',\n",
        "    'duration':'kontak_terakhir_berdurasi',\n",
        "    'campaign':'jumlah_kontak_selama_pemasaran',\n",
        "    'pdays':'jumlah_hari_berlalu',\n",
        "    'previous':'jumlah_kontak_sebelum_pemasaran',\n",
        "    'emp.var.rate':'tingkat_variasi_pekerjaan',\n",
        "    'cons.price.idx':'indeks_harga_konsumen',\n",
        "    'cons.conf.idx':'indeks_kepercayaan_konsumen',\n",
        "    'euribor3m':'tarif_euribor_3bulan',\n",
        "    'nr.employed':'jumlah_karyawan',\n",
        "}, inplace = True)"
      ]
    },
    {
      "cell_type": "markdown",
      "metadata": {
        "id": "rpOrq_cUGcdW"
      },
      "source": [
        "#### Menampilkan 5 data teratas setelah imputasi *missing values* pada *categorical columns*"
      ]
    },
    {
      "cell_type": "code",
      "execution_count": null,
      "metadata": {
        "colab": {
          "base_uri": "https://localhost:8080/",
          "height": 299
        },
        "id": "sDygKmNLGh3J",
        "outputId": "89d72395-7c8d-4138-ad1a-50015a2967e1"
      },
      "outputs": [
        {
          "data": {
            "text/html": [
              "\n",
              "  <div id=\"df-d6a847e7-396c-4ef8-a013-a0befe88b584\">\n",
              "    <div class=\"colab-df-container\">\n",
              "      <div>\n",
              "<style scoped>\n",
              "    .dataframe tbody tr th:only-of-type {\n",
              "        vertical-align: middle;\n",
              "    }\n",
              "\n",
              "    .dataframe tbody tr th {\n",
              "        vertical-align: top;\n",
              "    }\n",
              "\n",
              "    .dataframe thead th {\n",
              "        text-align: right;\n",
              "    }\n",
              "</style>\n",
              "<table border=\"1\" class=\"dataframe\">\n",
              "  <thead>\n",
              "    <tr style=\"text-align: right;\">\n",
              "      <th></th>\n",
              "      <th>umur</th>\n",
              "      <th>kontak_terakhir_berdurasi</th>\n",
              "      <th>jumlah_kontak_selama_pemasaran</th>\n",
              "      <th>jumlah_hari_berlalu</th>\n",
              "      <th>jumlah_kontak_sebelum_pemasaran</th>\n",
              "      <th>tingkat_variasi_pekerjaan</th>\n",
              "      <th>indeks_harga_konsumen</th>\n",
              "      <th>indeks_kepercayaan_konsumen</th>\n",
              "      <th>tarif_euribor_3bulan</th>\n",
              "      <th>jumlah_karyawan</th>\n",
              "      <th>...</th>\n",
              "      <th>pernikahan</th>\n",
              "      <th>pendidikan</th>\n",
              "      <th>kredit_default</th>\n",
              "      <th>pinjaman_rumah</th>\n",
              "      <th>pinjaman_pribadi</th>\n",
              "      <th>alat_komunikasi</th>\n",
              "      <th>kontak_terakhir_bulan</th>\n",
              "      <th>kontak_terakhir_hari</th>\n",
              "      <th>luaran_marketing_sebelumnya</th>\n",
              "      <th>berlangganan_deposito</th>\n",
              "    </tr>\n",
              "  </thead>\n",
              "  <tbody>\n",
              "    <tr>\n",
              "      <th>0</th>\n",
              "      <td>56</td>\n",
              "      <td>261</td>\n",
              "      <td>1</td>\n",
              "      <td>0</td>\n",
              "      <td>0</td>\n",
              "      <td>1.1</td>\n",
              "      <td>93.994</td>\n",
              "      <td>-36.4</td>\n",
              "      <td>4.857</td>\n",
              "      <td>5191.0</td>\n",
              "      <td>...</td>\n",
              "      <td>married</td>\n",
              "      <td>basic.4y</td>\n",
              "      <td>no</td>\n",
              "      <td>no</td>\n",
              "      <td>no</td>\n",
              "      <td>telephone</td>\n",
              "      <td>may</td>\n",
              "      <td>mon</td>\n",
              "      <td>nonexistent</td>\n",
              "      <td>no</td>\n",
              "    </tr>\n",
              "    <tr>\n",
              "      <th>1</th>\n",
              "      <td>57</td>\n",
              "      <td>149</td>\n",
              "      <td>1</td>\n",
              "      <td>0</td>\n",
              "      <td>0</td>\n",
              "      <td>1.1</td>\n",
              "      <td>93.994</td>\n",
              "      <td>-36.4</td>\n",
              "      <td>4.857</td>\n",
              "      <td>5191.0</td>\n",
              "      <td>...</td>\n",
              "      <td>married</td>\n",
              "      <td>high.school</td>\n",
              "      <td>no</td>\n",
              "      <td>no</td>\n",
              "      <td>no</td>\n",
              "      <td>telephone</td>\n",
              "      <td>may</td>\n",
              "      <td>mon</td>\n",
              "      <td>nonexistent</td>\n",
              "      <td>no</td>\n",
              "    </tr>\n",
              "    <tr>\n",
              "      <th>2</th>\n",
              "      <td>37</td>\n",
              "      <td>226</td>\n",
              "      <td>1</td>\n",
              "      <td>0</td>\n",
              "      <td>0</td>\n",
              "      <td>1.1</td>\n",
              "      <td>93.994</td>\n",
              "      <td>-36.4</td>\n",
              "      <td>4.857</td>\n",
              "      <td>5191.0</td>\n",
              "      <td>...</td>\n",
              "      <td>married</td>\n",
              "      <td>high.school</td>\n",
              "      <td>no</td>\n",
              "      <td>yes</td>\n",
              "      <td>no</td>\n",
              "      <td>telephone</td>\n",
              "      <td>may</td>\n",
              "      <td>mon</td>\n",
              "      <td>nonexistent</td>\n",
              "      <td>no</td>\n",
              "    </tr>\n",
              "    <tr>\n",
              "      <th>3</th>\n",
              "      <td>40</td>\n",
              "      <td>151</td>\n",
              "      <td>1</td>\n",
              "      <td>0</td>\n",
              "      <td>0</td>\n",
              "      <td>1.1</td>\n",
              "      <td>93.994</td>\n",
              "      <td>-36.4</td>\n",
              "      <td>4.857</td>\n",
              "      <td>5191.0</td>\n",
              "      <td>...</td>\n",
              "      <td>married</td>\n",
              "      <td>basic.6y</td>\n",
              "      <td>no</td>\n",
              "      <td>no</td>\n",
              "      <td>no</td>\n",
              "      <td>telephone</td>\n",
              "      <td>may</td>\n",
              "      <td>mon</td>\n",
              "      <td>nonexistent</td>\n",
              "      <td>no</td>\n",
              "    </tr>\n",
              "    <tr>\n",
              "      <th>4</th>\n",
              "      <td>56</td>\n",
              "      <td>307</td>\n",
              "      <td>1</td>\n",
              "      <td>0</td>\n",
              "      <td>0</td>\n",
              "      <td>1.1</td>\n",
              "      <td>93.994</td>\n",
              "      <td>-36.4</td>\n",
              "      <td>4.857</td>\n",
              "      <td>5191.0</td>\n",
              "      <td>...</td>\n",
              "      <td>married</td>\n",
              "      <td>high.school</td>\n",
              "      <td>no</td>\n",
              "      <td>no</td>\n",
              "      <td>yes</td>\n",
              "      <td>telephone</td>\n",
              "      <td>may</td>\n",
              "      <td>mon</td>\n",
              "      <td>nonexistent</td>\n",
              "      <td>no</td>\n",
              "    </tr>\n",
              "  </tbody>\n",
              "</table>\n",
              "<p>5 rows × 21 columns</p>\n",
              "</div>\n",
              "      <button class=\"colab-df-convert\" onclick=\"convertToInteractive('df-d6a847e7-396c-4ef8-a013-a0befe88b584')\"\n",
              "              title=\"Convert this dataframe to an interactive table.\"\n",
              "              style=\"display:none;\">\n",
              "        \n",
              "  <svg xmlns=\"http://www.w3.org/2000/svg\" height=\"24px\"viewBox=\"0 0 24 24\"\n",
              "       width=\"24px\">\n",
              "    <path d=\"M0 0h24v24H0V0z\" fill=\"none\"/>\n",
              "    <path d=\"M18.56 5.44l.94 2.06.94-2.06 2.06-.94-2.06-.94-.94-2.06-.94 2.06-2.06.94zm-11 1L8.5 8.5l.94-2.06 2.06-.94-2.06-.94L8.5 2.5l-.94 2.06-2.06.94zm10 10l.94 2.06.94-2.06 2.06-.94-2.06-.94-.94-2.06-.94 2.06-2.06.94z\"/><path d=\"M17.41 7.96l-1.37-1.37c-.4-.4-.92-.59-1.43-.59-.52 0-1.04.2-1.43.59L10.3 9.45l-7.72 7.72c-.78.78-.78 2.05 0 2.83L4 21.41c.39.39.9.59 1.41.59.51 0 1.02-.2 1.41-.59l7.78-7.78 2.81-2.81c.8-.78.8-2.07 0-2.86zM5.41 20L4 18.59l7.72-7.72 1.47 1.35L5.41 20z\"/>\n",
              "  </svg>\n",
              "      </button>\n",
              "      \n",
              "  <style>\n",
              "    .colab-df-container {\n",
              "      display:flex;\n",
              "      flex-wrap:wrap;\n",
              "      gap: 12px;\n",
              "    }\n",
              "\n",
              "    .colab-df-convert {\n",
              "      background-color: #E8F0FE;\n",
              "      border: none;\n",
              "      border-radius: 50%;\n",
              "      cursor: pointer;\n",
              "      display: none;\n",
              "      fill: #1967D2;\n",
              "      height: 32px;\n",
              "      padding: 0 0 0 0;\n",
              "      width: 32px;\n",
              "    }\n",
              "\n",
              "    .colab-df-convert:hover {\n",
              "      background-color: #E2EBFA;\n",
              "      box-shadow: 0px 1px 2px rgba(60, 64, 67, 0.3), 0px 1px 3px 1px rgba(60, 64, 67, 0.15);\n",
              "      fill: #174EA6;\n",
              "    }\n",
              "\n",
              "    [theme=dark] .colab-df-convert {\n",
              "      background-color: #3B4455;\n",
              "      fill: #D2E3FC;\n",
              "    }\n",
              "\n",
              "    [theme=dark] .colab-df-convert:hover {\n",
              "      background-color: #434B5C;\n",
              "      box-shadow: 0px 1px 3px 1px rgba(0, 0, 0, 0.15);\n",
              "      filter: drop-shadow(0px 1px 2px rgba(0, 0, 0, 0.3));\n",
              "      fill: #FFFFFF;\n",
              "    }\n",
              "  </style>\n",
              "\n",
              "      <script>\n",
              "        const buttonEl =\n",
              "          document.querySelector('#df-d6a847e7-396c-4ef8-a013-a0befe88b584 button.colab-df-convert');\n",
              "        buttonEl.style.display =\n",
              "          google.colab.kernel.accessAllowed ? 'block' : 'none';\n",
              "\n",
              "        async function convertToInteractive(key) {\n",
              "          const element = document.querySelector('#df-d6a847e7-396c-4ef8-a013-a0befe88b584');\n",
              "          const dataTable =\n",
              "            await google.colab.kernel.invokeFunction('convertToInteractive',\n",
              "                                                     [key], {});\n",
              "          if (!dataTable) return;\n",
              "\n",
              "          const docLinkHtml = 'Like what you see? Visit the ' +\n",
              "            '<a target=\"_blank\" href=https://colab.research.google.com/notebooks/data_table.ipynb>data table notebook</a>'\n",
              "            + ' to learn more about interactive tables.';\n",
              "          element.innerHTML = '';\n",
              "          dataTable['output_type'] = 'display_data';\n",
              "          await google.colab.output.renderOutput(dataTable, element);\n",
              "          const docLink = document.createElement('div');\n",
              "          docLink.innerHTML = docLinkHtml;\n",
              "          element.appendChild(docLink);\n",
              "        }\n",
              "      </script>\n",
              "    </div>\n",
              "  </div>\n",
              "  "
            ],
            "text/plain": [
              "   umur  kontak_terakhir_berdurasi  jumlah_kontak_selama_pemasaran  \\\n",
              "0    56                        261                               1   \n",
              "1    57                        149                               1   \n",
              "2    37                        226                               1   \n",
              "3    40                        151                               1   \n",
              "4    56                        307                               1   \n",
              "\n",
              "   jumlah_hari_berlalu  jumlah_kontak_sebelum_pemasaran  \\\n",
              "0                    0                                0   \n",
              "1                    0                                0   \n",
              "2                    0                                0   \n",
              "3                    0                                0   \n",
              "4                    0                                0   \n",
              "\n",
              "   tingkat_variasi_pekerjaan  indeks_harga_konsumen  \\\n",
              "0                        1.1                 93.994   \n",
              "1                        1.1                 93.994   \n",
              "2                        1.1                 93.994   \n",
              "3                        1.1                 93.994   \n",
              "4                        1.1                 93.994   \n",
              "\n",
              "   indeks_kepercayaan_konsumen  tarif_euribor_3bulan  jumlah_karyawan  ...  \\\n",
              "0                        -36.4                 4.857           5191.0  ...   \n",
              "1                        -36.4                 4.857           5191.0  ...   \n",
              "2                        -36.4                 4.857           5191.0  ...   \n",
              "3                        -36.4                 4.857           5191.0  ...   \n",
              "4                        -36.4                 4.857           5191.0  ...   \n",
              "\n",
              "  pernikahan   pendidikan kredit_default pinjaman_rumah pinjaman_pribadi  \\\n",
              "0    married     basic.4y             no             no               no   \n",
              "1    married  high.school             no             no               no   \n",
              "2    married  high.school             no            yes               no   \n",
              "3    married     basic.6y             no             no               no   \n",
              "4    married  high.school             no             no              yes   \n",
              "\n",
              "  alat_komunikasi kontak_terakhir_bulan kontak_terakhir_hari  \\\n",
              "0       telephone                   may                  mon   \n",
              "1       telephone                   may                  mon   \n",
              "2       telephone                   may                  mon   \n",
              "3       telephone                   may                  mon   \n",
              "4       telephone                   may                  mon   \n",
              "\n",
              "  luaran_marketing_sebelumnya berlangganan_deposito  \n",
              "0                 nonexistent                    no  \n",
              "1                 nonexistent                    no  \n",
              "2                 nonexistent                    no  \n",
              "3                 nonexistent                    no  \n",
              "4                 nonexistent                    no  \n",
              "\n",
              "[5 rows x 21 columns]"
            ]
          },
          "execution_count": 37,
          "metadata": {},
          "output_type": "execute_result"
        }
      ],
      "source": [
        "df_bank.head()"
      ]
    },
    {
      "cell_type": "markdown",
      "metadata": {
        "id": "e91aFByNGm6i"
      },
      "source": [
        "# Visualisasi Data"
      ]
    },
    {
      "cell_type": "code",
      "execution_count": null,
      "metadata": {
        "id": "LKw1yYpcH_OW"
      },
      "outputs": [],
      "source": [
        "# Menyiapkan List Warna untuk kebutuhan visualisasi grafik\n",
        "colors_list = ['hotpink', 'lightslategray', 'cornflowerblue', 'darkseagreen', 'salmon', 'burlywood', 'lightskyblue', 'khaki']"
      ]
    },
    {
      "cell_type": "markdown",
      "metadata": {
        "id": "P8YawSVVGru0"
      },
      "source": [
        "### Berapa persentase setiap nilai pada kelas target?"
      ]
    },
    {
      "cell_type": "code",
      "execution_count": null,
      "metadata": {
        "colab": {
          "base_uri": "https://localhost:8080/"
        },
        "id": "mhdEP_1_G38v",
        "outputId": "1312cf5c-840f-4681-a71b-02f0051aabfe"
      },
      "outputs": [
        {
          "data": {
            "text/plain": [
              "no     36548\n",
              "yes     4640\n",
              "Name: berlangganan_deposito, dtype: int64"
            ]
          },
          "execution_count": 39,
          "metadata": {},
          "output_type": "execute_result"
        }
      ],
      "source": [
        "df_bank['berlangganan_deposito'].value_counts()"
      ]
    },
    {
      "cell_type": "code",
      "execution_count": null,
      "metadata": {
        "colab": {
          "base_uri": "https://localhost:8080/",
          "height": 547
        },
        "id": "A9sqBm2zG9XV",
        "outputId": "26199a99-9067-4b0d-9a05-316d612f6702"
      },
      "outputs": [
        {
          "data": {
            "text/plain": [
              "<matplotlib.legend.Legend at 0x7f39bd856f10>"
            ]
          },
          "execution_count": 40,
          "metadata": {},
          "output_type": "execute_result"
        },
        {
          "data": {
            "image/png": "[encoded data removed]",
            "text/plain": [
              "<Figure size 1600x600 with 2 Axes>"
            ]
          },
          "metadata": {},
          "output_type": "display_data"
        }
      ],
      "source": [
        "fig, ax = plt.subplots(1, 2, figsize = (16,6))\n",
        "\n",
        "# Persentase \"berlangganan deposito\"\n",
        "df_bank['berlangganan_deposito'].value_counts().plot(\n",
        "    kind = 'pie',\n",
        "    autopct = '%.1f%%',\n",
        "    explode = [0, 0.05], \n",
        "    shadow = True,\n",
        "    ax = ax[0],\n",
        "    colors = colors_list\n",
        ")\n",
        "ax[0].set_title('Persentase Berlangganan Deposito')\n",
        "ax[0].set_ylabel('')\n",
        "\n",
        "# Barchart besaran setiap nilai pada kelas target\n",
        "df_bank.groupby('berlangganan_deposito').agg({'berlangganan_deposito' : 'count'}).plot(\n",
        "    kind = 'bar',\n",
        "    ax = ax[1],\n",
        "    color = 'lightslategray'\n",
        ")\n",
        "ax[1].set_title('Jumlah masing-masing kelas pada label')\n",
        "ax[1].set_ylabel('Jumlah')\n",
        "ax[1].set_xlabel('Berlangganan Deposito')\n",
        "ax[1].legend(title = 'Deposit')"
      ]
    },
    {
      "cell_type": "markdown",
      "metadata": {
        "id": "ZQHFwtKNIqqd"
      },
      "source": [
        "Terlihat bahwa dari data yang diperoleh, ada ketidakseimbangan proporsi dari setiap nilai pada label kelas. Hal ini mungkin akan berpengaruh kepada hasil recall klasifikasi yang rendah. Undersampling bisa jadi opsi ketika performa model klasifikasi tidak cukup bagus untuk mengenali kelas **'yes'**\n",
        "Nilai yes bahkan **7x lebih sedikit** dibandingkan nilai **no**."
      ]
    },
    {
      "cell_type": "markdown",
      "metadata": {
        "id": "80I5k9SnIxMV"
      },
      "source": [
        "### Bagaimana kecenderungan berlangganan deposit dilihat dari status pernikahan?"
      ]
    },
    {
      "cell_type": "code",
      "execution_count": null,
      "metadata": {
        "colab": {
          "base_uri": "https://localhost:8080/",
          "height": 538
        },
        "id": "D37_AaY3I6Uf",
        "outputId": "b8bc6294-3f3b-4d67-ed88-9292fcd53f1f"
      },
      "outputs": [
        {
          "data": {
            "text/plain": [
              "<matplotlib.legend.Legend at 0x7f39baee92b0>"
            ]
          },
          "execution_count": 41,
          "metadata": {},
          "output_type": "execute_result"
        },
        {
          "data": {
            "image/png": "[encoded data removed]",
            "text/plain": [
              "<Figure size 1600x600 with 2 Axes>"
            ]
          },
          "metadata": {},
          "output_type": "display_data"
        }
      ],
      "source": [
        "fig, ax = plt.subplots(1, 2, figsize = (16,6))\n",
        "\n",
        "# Persentase \"marital\"\n",
        "df_bank['pernikahan'].value_counts().plot(\n",
        "    kind = 'pie',\n",
        "    autopct = '%.1f%%',\n",
        "    explode = [0, 0.05, 0.05], \n",
        "    shadow = True,\n",
        "    ax = ax[0],\n",
        "    colors = colors_list\n",
        ")\n",
        "ax[0].set_title('Persentase Customer berdasarkan status pernikahan')\n",
        "ax[0].set_ylabel('')\n",
        "\n",
        "# Barchart besaran setiap status pernikahan terhadap setiap kelas target\n",
        "sns.countplot(\n",
        "    x = 'pernikahan',\n",
        "    hue = 'berlangganan_deposito',\n",
        "    data = df_bank,\n",
        "    color = 'cornflowerblue'\n",
        ")\n",
        "ax[1].set_title('Jumlah status pernikahan terhadap berlangganan deposito')\n",
        "ax[1].set_ylabel('Jumlah')\n",
        "ax[1].set_xlabel('Status Pernikahan')\n",
        "ax[1].legend(title = 'Deposit')"
      ]
    },
    {
      "cell_type": "markdown",
      "metadata": {
        "id": "mQjAmMGrOCfL"
      },
      "source": [
        "Data didominasi oleh status pernikahan \"married\". Status pernikahan ini memberikan jumlah berlangganan deposit untuk kelas 'No' dan 'Yes' tertinggi dibanding 2 status pernikahan lainnya."
      ]
    },
    {
      "cell_type": "markdown",
      "metadata": {
        "id": "BAvu4hVmOF3C"
      },
      "source": [
        "# *Preprocessing Datasets before Modelling*"
      ]
    },
    {
      "cell_type": "markdown",
      "metadata": {
        "id": "RHsWbQf3OUit"
      },
      "source": [
        "### *Encoding* Variabel Kategorik\n",
        "***\n",
        "Atribut yang bertipe kategorikan akan dipisahkan menjadi tipe ordinal dan nominal. Tipe ordinal adalah ada tingkatan diantara nilainya, sedangkan pada tipe nominal tidak terdapat tingkatan diantara nilainya dan semua nilai dianggap setara.\n",
        "Berikut ini adalah 12 atribut dengan tipe kategorikal:\n",
        "\n",
        "1. job\n",
        "(\"admin.\",\"blue-collar\",\"entrepreneur\",\"housemaid\",\"management\",\"retired\",\"self-employed\",\"services\",\"student\",\"technician\",\"unemployed\",\"unknown\") \n",
        "2. marital\n",
        "(\"divorced\",\"married\",\"single\",\"unknown\")\n",
        "note: \"divorced\" means divorced or widowed \n",
        "3. education\n",
        "(\"basic.4y\",\"basic.6y\",\"basic.9y\",\"high.school\",\"illiterate\",\"professional.course\",\"university.degree\",\"unknown\") \n",
        "4. default\n",
        "(\"no\",\"yes\",\"unknown\") \n",
        "5. housing\n",
        "(\"no\",\"yes\",\"unknown\") \n",
        "6. loan\n",
        "(\"no\",\"yes\",\"unknown\") \n",
        "7. contact\n",
        "(\"cellular\",\"telephone\") \n",
        "8. month\n",
        "(\"jan\", \"feb\", \"mar\", ..., \"nov\", \"dec\") \n",
        "9. day_of_week\n",
        "(\"mon\",\"tue\",\"wed\",\"thu\",\"fri\") \n",
        "10. poutcome\n",
        "(\"failure\",\"nonexistent\",\"success\") \n",
        "11. y (target)\n",
        "(\"yes\",\"no\")\n",
        "\n",
        "Dari sini akan dibagi menjadi:\n",
        "* **Nominal Atribut** : (job, education, contact, month, day_of_week, poutcome)\n",
        "* **Ordinal Atribut** : (marital, default, housing, loan, y)\n",
        "\n",
        "Atribut bertipe **nominal** akan dilakukan *one-hot encoding*, sedangkan atribut bertipe **ordinal** akan dilakukan label encoding"
      ]
    },
    {
      "cell_type": "markdown",
      "metadata": {
        "id": "KdXsiIZsPXw-"
      },
      "source": [
        "#### Mengelompokkan atribut berdasarkan tipe datanya"
      ]
    },
    {
      "cell_type": "code",
      "execution_count": null,
      "metadata": {
        "id": "KcMzYlTAPf8m"
      },
      "outputs": [],
      "source": [
        "numerical_columns = list(df_bank.select_dtypes(include = ['int64']).columns.values) + list(df_bank.select_dtypes(include = ['float64']).columns.values)\n",
        "categorical_columns = list(df_bank.select_dtypes(include = ['object']))"
      ]
    },
    {
      "cell_type": "code",
      "execution_count": null,
      "metadata": {
        "id": "QeGzmOThQOjR"
      },
      "outputs": [],
      "source": [
        "# Memilih atribut nominal dari atribut kategori\n",
        "nominal_columns = ['pekerjaan', 'pendidikan', 'alat_komunikasi', 'kontak_terakhir_bulan', 'kontak_terakhir_hari', 'luaran_marketing_sebelumnya']\n",
        "ordinal_columns = [col for col in categorical_columns if col not in nominal_columns]"
      ]
    },
    {
      "cell_type": "markdown",
      "metadata": {
        "id": "LWy2tlO1QUFY"
      },
      "source": [
        "#### *One Hot Encoding* untuk Nominal Atribut"
      ]
    },
    {
      "cell_type": "code",
      "execution_count": null,
      "metadata": {
        "id": "nL3PfBO1QYqU"
      },
      "outputs": [],
      "source": [
        "# One hot encoding pada data untuk nominal columns\n",
        "ohe_df_bank = pd.get_dummies(df_bank[nominal_columns], columns = nominal_columns, prefix = nominal_columns)"
      ]
    },
    {
      "cell_type": "markdown",
      "metadata": {
        "id": "1pPNumb3Qsy6"
      },
      "source": [
        "#### Label Encoding untuk ordinal atribut"
      ]
    },
    {
      "cell_type": "code",
      "execution_count": null,
      "metadata": {
        "id": "j8w8vsBbQr0s"
      },
      "outputs": [],
      "source": [
        "le_df_bank = df_bank.loc[:, ordinal_columns]\n",
        "\n",
        "# Instansiasi kelas LabelEncoder\n",
        "encoder = LabelEncoder()"
      ]
    },
    {
      "cell_type": "code",
      "execution_count": null,
      "metadata": {
        "id": "WV_DMWcLQ4fj"
      },
      "outputs": [],
      "source": [
        "# label encoding\n",
        "for ord_col in ordinal_columns:\n",
        "    le_df_bank[ord_col] = encoder.fit_transform(le_df_bank[ord_col])"
      ]
    },
    {
      "cell_type": "markdown",
      "metadata": {
        "id": "TQ01QlHZQ_Dx"
      },
      "source": [
        "#### *Concatination* data hasil *one hot encoding* dan label encoding menjadi 1 dataframe"
      ]
    },
    {
      "cell_type": "code",
      "execution_count": null,
      "metadata": {
        "id": "U0E9Ob1ZRSNY"
      },
      "outputs": [],
      "source": [
        "df_bank_categorical_encoded = pd.concat([ohe_df_bank, le_df_bank], axis = 1)"
      ]
    },
    {
      "cell_type": "markdown",
      "metadata": {
        "id": "7sMO_DPjRc8M"
      },
      "source": [
        "#### Menampilkan 5 data teratas hasil encoding"
      ]
    },
    {
      "cell_type": "code",
      "execution_count": null,
      "metadata": {
        "colab": {
          "base_uri": "https://localhost:8080/",
          "height": 317
        },
        "id": "1NZ24lp0Rg30",
        "outputId": "b18cafe5-cecd-4c3c-d918-7209a0a9dfad"
      },
      "outputs": [
        {
          "data": {
            "text/html": [
              "\n",
              "  <div id=\"df-31a09ab1-4135-4ddf-9196-9ee32baada72\">\n",
              "    <div class=\"colab-df-container\">\n",
              "      <div>\n",
              "<style scoped>\n",
              "    .dataframe tbody tr th:only-of-type {\n",
              "        vertical-align: middle;\n",
              "    }\n",
              "\n",
              "    .dataframe tbody tr th {\n",
              "        vertical-align: top;\n",
              "    }\n",
              "\n",
              "    .dataframe thead th {\n",
              "        text-align: right;\n",
              "    }\n",
              "</style>\n",
              "<table border=\"1\" class=\"dataframe\">\n",
              "  <thead>\n",
              "    <tr style=\"text-align: right;\">\n",
              "      <th></th>\n",
              "      <th>pekerjaan_admin.</th>\n",
              "      <th>pekerjaan_blue-collar</th>\n",
              "      <th>pekerjaan_entrepreneur</th>\n",
              "      <th>pekerjaan_housemaid</th>\n",
              "      <th>pekerjaan_management</th>\n",
              "      <th>pekerjaan_retired</th>\n",
              "      <th>pekerjaan_self-employed</th>\n",
              "      <th>pekerjaan_services</th>\n",
              "      <th>pekerjaan_student</th>\n",
              "      <th>pekerjaan_technician</th>\n",
              "      <th>...</th>\n",
              "      <th>kontak_terakhir_hari_tue</th>\n",
              "      <th>kontak_terakhir_hari_wed</th>\n",
              "      <th>luaran_marketing_sebelumnya_failure</th>\n",
              "      <th>luaran_marketing_sebelumnya_nonexistent</th>\n",
              "      <th>luaran_marketing_sebelumnya_success</th>\n",
              "      <th>pernikahan</th>\n",
              "      <th>kredit_default</th>\n",
              "      <th>pinjaman_rumah</th>\n",
              "      <th>pinjaman_pribadi</th>\n",
              "      <th>berlangganan_deposito</th>\n",
              "    </tr>\n",
              "  </thead>\n",
              "  <tbody>\n",
              "    <tr>\n",
              "      <th>0</th>\n",
              "      <td>0</td>\n",
              "      <td>0</td>\n",
              "      <td>0</td>\n",
              "      <td>1</td>\n",
              "      <td>0</td>\n",
              "      <td>0</td>\n",
              "      <td>0</td>\n",
              "      <td>0</td>\n",
              "      <td>0</td>\n",
              "      <td>0</td>\n",
              "      <td>...</td>\n",
              "      <td>0</td>\n",
              "      <td>0</td>\n",
              "      <td>0</td>\n",
              "      <td>1</td>\n",
              "      <td>0</td>\n",
              "      <td>1</td>\n",
              "      <td>0</td>\n",
              "      <td>0</td>\n",
              "      <td>0</td>\n",
              "      <td>0</td>\n",
              "    </tr>\n",
              "    <tr>\n",
              "      <th>1</th>\n",
              "      <td>0</td>\n",
              "      <td>0</td>\n",
              "      <td>0</td>\n",
              "      <td>0</td>\n",
              "      <td>0</td>\n",
              "      <td>0</td>\n",
              "      <td>0</td>\n",
              "      <td>1</td>\n",
              "      <td>0</td>\n",
              "      <td>0</td>\n",
              "      <td>...</td>\n",
              "      <td>0</td>\n",
              "      <td>0</td>\n",
              "      <td>0</td>\n",
              "      <td>1</td>\n",
              "      <td>0</td>\n",
              "      <td>1</td>\n",
              "      <td>0</td>\n",
              "      <td>0</td>\n",
              "      <td>0</td>\n",
              "      <td>0</td>\n",
              "    </tr>\n",
              "    <tr>\n",
              "      <th>2</th>\n",
              "      <td>0</td>\n",
              "      <td>0</td>\n",
              "      <td>0</td>\n",
              "      <td>0</td>\n",
              "      <td>0</td>\n",
              "      <td>0</td>\n",
              "      <td>0</td>\n",
              "      <td>1</td>\n",
              "      <td>0</td>\n",
              "      <td>0</td>\n",
              "      <td>...</td>\n",
              "      <td>0</td>\n",
              "      <td>0</td>\n",
              "      <td>0</td>\n",
              "      <td>1</td>\n",
              "      <td>0</td>\n",
              "      <td>1</td>\n",
              "      <td>0</td>\n",
              "      <td>1</td>\n",
              "      <td>0</td>\n",
              "      <td>0</td>\n",
              "    </tr>\n",
              "    <tr>\n",
              "      <th>3</th>\n",
              "      <td>1</td>\n",
              "      <td>0</td>\n",
              "      <td>0</td>\n",
              "      <td>0</td>\n",
              "      <td>0</td>\n",
              "      <td>0</td>\n",
              "      <td>0</td>\n",
              "      <td>0</td>\n",
              "      <td>0</td>\n",
              "      <td>0</td>\n",
              "      <td>...</td>\n",
              "      <td>0</td>\n",
              "      <td>0</td>\n",
              "      <td>0</td>\n",
              "      <td>1</td>\n",
              "      <td>0</td>\n",
              "      <td>1</td>\n",
              "      <td>0</td>\n",
              "      <td>0</td>\n",
              "      <td>0</td>\n",
              "      <td>0</td>\n",
              "    </tr>\n",
              "    <tr>\n",
              "      <th>4</th>\n",
              "      <td>0</td>\n",
              "      <td>0</td>\n",
              "      <td>0</td>\n",
              "      <td>0</td>\n",
              "      <td>0</td>\n",
              "      <td>0</td>\n",
              "      <td>0</td>\n",
              "      <td>1</td>\n",
              "      <td>0</td>\n",
              "      <td>0</td>\n",
              "      <td>...</td>\n",
              "      <td>0</td>\n",
              "      <td>0</td>\n",
              "      <td>0</td>\n",
              "      <td>1</td>\n",
              "      <td>0</td>\n",
              "      <td>1</td>\n",
              "      <td>0</td>\n",
              "      <td>0</td>\n",
              "      <td>1</td>\n",
              "      <td>0</td>\n",
              "    </tr>\n",
              "  </tbody>\n",
              "</table>\n",
              "<p>5 rows × 43 columns</p>\n",
              "</div>\n",
              "      <button class=\"colab-df-convert\" onclick=\"convertToInteractive('df-31a09ab1-4135-4ddf-9196-9ee32baada72')\"\n",
              "              title=\"Convert this dataframe to an interactive table.\"\n",
              "              style=\"display:none;\">\n",
              "        \n",
              "  <svg xmlns=\"http://www.w3.org/2000/svg\" height=\"24px\"viewBox=\"0 0 24 24\"\n",
              "       width=\"24px\">\n",
              "    <path d=\"M0 0h24v24H0V0z\" fill=\"none\"/>\n",
              "    <path d=\"M18.56 5.44l.94 2.06.94-2.06 2.06-.94-2.06-.94-.94-2.06-.94 2.06-2.06.94zm-11 1L8.5 8.5l.94-2.06 2.06-.94-2.06-.94L8.5 2.5l-.94 2.06-2.06.94zm10 10l.94 2.06.94-2.06 2.06-.94-2.06-.94-.94-2.06-.94 2.06-2.06.94z\"/><path d=\"M17.41 7.96l-1.37-1.37c-.4-.4-.92-.59-1.43-.59-.52 0-1.04.2-1.43.59L10.3 9.45l-7.72 7.72c-.78.78-.78 2.05 0 2.83L4 21.41c.39.39.9.59 1.41.59.51 0 1.02-.2 1.41-.59l7.78-7.78 2.81-2.81c.8-.78.8-2.07 0-2.86zM5.41 20L4 18.59l7.72-7.72 1.47 1.35L5.41 20z\"/>\n",
              "  </svg>\n",
              "      </button>\n",
              "      \n",
              "  <style>\n",
              "    .colab-df-container {\n",
              "      display:flex;\n",
              "      flex-wrap:wrap;\n",
              "      gap: 12px;\n",
              "    }\n",
              "\n",
              "    .colab-df-convert {\n",
              "      background-color: #E8F0FE;\n",
              "      border: none;\n",
              "      border-radius: 50%;\n",
              "      cursor: pointer;\n",
              "      display: none;\n",
              "      fill: #1967D2;\n",
              "      height: 32px;\n",
              "      padding: 0 0 0 0;\n",
              "      width: 32px;\n",
              "    }\n",
              "\n",
              "    .colab-df-convert:hover {\n",
              "      background-color: #E2EBFA;\n",
              "      box-shadow: 0px 1px 2px rgba(60, 64, 67, 0.3), 0px 1px 3px 1px rgba(60, 64, 67, 0.15);\n",
              "      fill: #174EA6;\n",
              "    }\n",
              "\n",
              "    [theme=dark] .colab-df-convert {\n",
              "      background-color: #3B4455;\n",
              "      fill: #D2E3FC;\n",
              "    }\n",
              "\n",
              "    [theme=dark] .colab-df-convert:hover {\n",
              "      background-color: #434B5C;\n",
              "      box-shadow: 0px 1px 3px 1px rgba(0, 0, 0, 0.15);\n",
              "      filter: drop-shadow(0px 1px 2px rgba(0, 0, 0, 0.3));\n",
              "      fill: #FFFFFF;\n",
              "    }\n",
              "  </style>\n",
              "\n",
              "      <script>\n",
              "        const buttonEl =\n",
              "          document.querySelector('#df-31a09ab1-4135-4ddf-9196-9ee32baada72 button.colab-df-convert');\n",
              "        buttonEl.style.display =\n",
              "          google.colab.kernel.accessAllowed ? 'block' : 'none';\n",
              "\n",
              "        async function convertToInteractive(key) {\n",
              "          const element = document.querySelector('#df-31a09ab1-4135-4ddf-9196-9ee32baada72');\n",
              "          const dataTable =\n",
              "            await google.colab.kernel.invokeFunction('convertToInteractive',\n",
              "                                                     [key], {});\n",
              "          if (!dataTable) return;\n",
              "\n",
              "          const docLinkHtml = 'Like what you see? Visit the ' +\n",
              "            '<a target=\"_blank\" href=https://colab.research.google.com/notebooks/data_table.ipynb>data table notebook</a>'\n",
              "            + ' to learn more about interactive tables.';\n",
              "          element.innerHTML = '';\n",
              "          dataTable['output_type'] = 'display_data';\n",
              "          await google.colab.output.renderOutput(dataTable, element);\n",
              "          const docLink = document.createElement('div');\n",
              "          docLink.innerHTML = docLinkHtml;\n",
              "          element.appendChild(docLink);\n",
              "        }\n",
              "      </script>\n",
              "    </div>\n",
              "  </div>\n",
              "  "
            ],
            "text/plain": [
              "   pekerjaan_admin.  pekerjaan_blue-collar  pekerjaan_entrepreneur  \\\n",
              "0                 0                      0                       0   \n",
              "1                 0                      0                       0   \n",
              "2                 0                      0                       0   \n",
              "3                 1                      0                       0   \n",
              "4                 0                      0                       0   \n",
              "\n",
              "   pekerjaan_housemaid  pekerjaan_management  pekerjaan_retired  \\\n",
              "0                    1                     0                  0   \n",
              "1                    0                     0                  0   \n",
              "2                    0                     0                  0   \n",
              "3                    0                     0                  0   \n",
              "4                    0                     0                  0   \n",
              "\n",
              "   pekerjaan_self-employed  pekerjaan_services  pekerjaan_student  \\\n",
              "0                        0                   0                  0   \n",
              "1                        0                   1                  0   \n",
              "2                        0                   1                  0   \n",
              "3                        0                   0                  0   \n",
              "4                        0                   1                  0   \n",
              "\n",
              "   pekerjaan_technician  ...  kontak_terakhir_hari_tue  \\\n",
              "0                     0  ...                         0   \n",
              "1                     0  ...                         0   \n",
              "2                     0  ...                         0   \n",
              "3                     0  ...                         0   \n",
              "4                     0  ...                         0   \n",
              "\n",
              "   kontak_terakhir_hari_wed  luaran_marketing_sebelumnya_failure  \\\n",
              "0                         0                                    0   \n",
              "1                         0                                    0   \n",
              "2                         0                                    0   \n",
              "3                         0                                    0   \n",
              "4                         0                                    0   \n",
              "\n",
              "   luaran_marketing_sebelumnya_nonexistent  \\\n",
              "0                                        1   \n",
              "1                                        1   \n",
              "2                                        1   \n",
              "3                                        1   \n",
              "4                                        1   \n",
              "\n",
              "   luaran_marketing_sebelumnya_success  pernikahan  kredit_default  \\\n",
              "0                                    0           1               0   \n",
              "1                                    0           1               0   \n",
              "2                                    0           1               0   \n",
              "3                                    0           1               0   \n",
              "4                                    0           1               0   \n",
              "\n",
              "   pinjaman_rumah  pinjaman_pribadi  berlangganan_deposito  \n",
              "0               0                 0                      0  \n",
              "1               0                 0                      0  \n",
              "2               1                 0                      0  \n",
              "3               0                 0                      0  \n",
              "4               0                 1                      0  \n",
              "\n",
              "[5 rows x 43 columns]"
            ]
          },
          "execution_count": 48,
          "metadata": {},
          "output_type": "execute_result"
        }
      ],
      "source": [
        "# 5 data teratas \n",
        "df_bank_categorical_encoded.head()"
      ]
    },
    {
      "cell_type": "markdown",
      "metadata": {
        "id": "sDS8zmZYRwW7"
      },
      "source": [
        "### Mengukur pengaruh atribut pada kelas target"
      ]
    },
    {
      "cell_type": "markdown",
      "metadata": {
        "id": "yYbeccN9SV9q"
      },
      "source": [
        "#### Pengaruh atribut kategorikal pada kelas target\n",
        "***\n",
        "Pengaruh atribut/fitur bertipe **kategorikal** dapat diukur dengan **Chi-Squared**"
      ]
    },
    {
      "cell_type": "code",
      "execution_count": null,
      "metadata": {
        "id": "chyBEfn3Sgoz"
      },
      "outputs": [],
      "source": [
        "# Mendapatkan daftar kolom baru hasil encoding\n",
        "ec_categorical_columns = list(df_bank_categorical_encoded.columns)\n",
        "ec_categorical_columns.remove('berlangganan_deposito')\n",
        "\n",
        "# Menyiapkan atribute dan target\n",
        "X_categorical = df_bank_categorical_encoded.drop('berlangganan_deposito', axis = 1)\n",
        "y_categorical = df_bank_categorical_encoded['berlangganan_deposito']"
      ]
    },
    {
      "cell_type": "code",
      "execution_count": null,
      "metadata": {
        "id": "VZe26h82SuCr"
      },
      "outputs": [],
      "source": [
        "# Instansiasi kelas untuk Chi-Squared\n",
        "chi_square_fs = SelectKBest(score_func = chi2, k = 'all')\n",
        "\n",
        "# Fit chi-square into data\n",
        "X_categorical_selected = chi_square_fs.fit_transform(X_categorical, y_categorical)"
      ]
    },
    {
      "cell_type": "code",
      "execution_count": null,
      "metadata": {
        "colab": {
          "base_uri": "https://localhost:8080/",
          "height": 762
        },
        "id": "MkpKQBsmS18T",
        "outputId": "60c97722-5124-45b8-d139-a2594813cf91"
      },
      "outputs": [
        {
          "data": {
            "image/png": "[encoded data removed]",
            "text/plain": [
              "<Figure size 1200x1000 with 1 Axes>"
            ]
          },
          "metadata": {},
          "output_type": "display_data"
        }
      ],
      "source": [
        "# Plotting score setiap atribut kategorikal\n",
        "plt.figure(figsize = (12,10))\n",
        "plt.barh([cat_col for cat_col in ec_categorical_columns], chi_square_fs.scores_, color = 'hotpink')\n",
        "plt.ylabel('Daftar Atribut Kategorikal', size = 12)\n",
        "plt.xlabel('Nilai Chi-Squared Feature Importance', size = 12)\n",
        "plt.title('Grafik batang atribut (x) vs The Chi-Squared Feature Importance (y)', size = 15)\n",
        "plt.show()"
      ]
    },
    {
      "cell_type": "markdown",
      "metadata": {
        "id": "GVxmU8ZvTQp8"
      },
      "source": [
        "Atribut **luaran_marketing_sebelumnya_success** menjadi atribut kategorikal yang memberikan kepentingan atribut tertinggi dibandingkan dengan yang lainnya. Bahkan rentang nilainya cukup jauh dibandingkan dengan atribut yang lainnya."
      ]
    },
    {
      "cell_type": "markdown",
      "metadata": {
        "id": "FnqVyMHRTVAL"
      },
      "source": [
        "#### Pengaruh atribut numerikal pada kelas target\n",
        "***\n",
        "Kepentingan atribut numerik terhadap label kelas kategorikal bisa diukur dengan ANOVA F-score"
      ]
    },
    {
      "cell_type": "code",
      "execution_count": null,
      "metadata": {
        "id": "otwBnRKyTcrT"
      },
      "outputs": [],
      "source": [
        "# Menyiapkan atribut dan target\n",
        "X_numerical = df_bank[numerical_columns].copy(deep = True)\n",
        "y_numerical = y_categorical.copy(deep = True)"
      ]
    },
    {
      "cell_type": "code",
      "execution_count": null,
      "metadata": {
        "id": "nBy2KRUYTyTE"
      },
      "outputs": [],
      "source": [
        "# Instansiasi kelas anova\n",
        "anova_fs = SelectKBest(score_func = f_classif, k = 'all')\n",
        "\n",
        "# Fit into data\n",
        "X_numerical_selected = anova_fs.fit_transform(X_numerical, y_numerical)"
      ]
    },
    {
      "cell_type": "code",
      "execution_count": null,
      "metadata": {
        "colab": {
          "base_uri": "https://localhost:8080/",
          "height": 793
        },
        "id": "liS2ML2wT4d_",
        "outputId": "5cce7fa7-97d0-4875-eba8-8fd54b66d92f"
      },
      "outputs": [
        {
          "data": {
            "image/png": "[encoded data removed]",
            "text/plain": [
              "<Figure size 1200x1000 with 1 Axes>"
            ]
          },
          "metadata": {},
          "output_type": "display_data"
        }
      ],
      "source": [
        "# Plotting score setiap atribut kategorikal\n",
        "plt.figure(figsize = (12,10))\n",
        "plt.barh([num_col for num_col in list(X_numerical.columns)], anova_fs.scores_, color = 'hotpink')\n",
        "plt.ylabel('Daftar Atribut Numerikal', size = 12)\n",
        "plt.xlabel('Nilai ANOVA F-measure Feature Importance', size = 12)\n",
        "plt.title('Grafik batang atribut (x) vs The ANOVA F-measure Feature Importance (y)', size = 15)\n",
        "plt.show()\n"
      ]
    },
    {
      "cell_type": "markdown",
      "metadata": {
        "id": "sF36oC6tUEn0"
      },
      "source": [
        "Atribut **kontak_terakhir_berdurasi** memiliki kepentingan atribut yang paling tinggi dibandingkan atribut numerikal lainnya. Hal ini masuk akal karena keberhasilan *customer* berlangganan deposito ditentukan berapa lama durasi pemasaran/kampanye yang dilakukan pihak bank melalui telepon"
      ]
    },
    {
      "cell_type": "markdown",
      "metadata": {
        "id": "ySw36_lFUMtH"
      },
      "source": [
        "### Menyatukan data bertipe numerikal dan data bertipe kategorikal hasil encoding"
      ]
    },
    {
      "cell_type": "code",
      "execution_count": null,
      "metadata": {
        "id": "3MboLCS-USTw"
      },
      "outputs": [],
      "source": [
        "df_bank = pd.concat([df_bank[numerical_columns], df_bank_categorical_encoded], axis = 1)"
      ]
    },
    {
      "cell_type": "markdown",
      "metadata": {
        "id": "PpW6tx1SUb6B"
      },
      "source": [
        "### Pembagian dataset ke dalam data latih dan data uji\n",
        "***\n",
        "Dataset akan dibagi ke dalam **80% data latih** dan **20% data uji**.\n",
        "\n",
        "1. Data latih akan digunakan untuk proses tuning parameter dan hyperparameter serta melakukan feature selection\n",
        "2. Data latih akan digunakan untuk melatih model setelah mendapatkan hyperparameter terbaik dengan fitur terbaik hasil seleksi\n",
        "3. Data uji digunakan untuk menguji performa model klasifikasi yang sudah dilatih"
      ]
    },
    {
      "cell_type": "markdown",
      "metadata": {
        "id": "NgRoQMQ_Uqoz"
      },
      "source": [
        "#### Pisahkan *attributes* sebagai X dan target sebagai y"
      ]
    },
    {
      "cell_type": "code",
      "execution_count": null,
      "metadata": {
        "id": "wMIa4UAGUvdZ"
      },
      "outputs": [],
      "source": [
        "X = df_bank.drop('berlangganan_deposito', axis = 1)\n",
        "y = df_bank['berlangganan_deposito']"
      ]
    },
    {
      "cell_type": "markdown",
      "metadata": {
        "id": "UGTYUcxYi-jm"
      },
      "source": [
        "#### *Train test split (80 train : 20 test)*"
      ]
    },
    {
      "cell_type": "code",
      "execution_count": null,
      "metadata": {
        "id": "KgEb99rJjJbM"
      },
      "outputs": [],
      "source": [
        "X_train, X_test, y_train, y_test = train_test_split(X, y, test_size = 0.2, random_state = 42)"
      ]
    },
    {
      "cell_type": "markdown",
      "metadata": {
        "id": "bHj-XTcNjUT0"
      },
      "source": [
        "#### Mengetahui dimensi data train dan data test"
      ]
    },
    {
      "cell_type": "code",
      "execution_count": null,
      "metadata": {
        "colab": {
          "base_uri": "https://localhost:8080/"
        },
        "id": "_RW0Xy4cjX78",
        "outputId": "09f31246-2ae8-4192-96f5-286c8b1039b7"
      },
      "outputs": [
        {
          "name": "stdout",
          "output_type": "stream",
          "text": [
            "Dimensi atribut data latih = (32950, 52)\n",
            "Dimensi target data latih = (32950,)\n",
            "Dimensi atribut data uji = (8238, 52)\n",
            "Dimensi target data uji = (8238,)\n"
          ]
        }
      ],
      "source": [
        "print(\"Dimensi atribut data latih =\", X_train.shape)\n",
        "print(\"Dimensi target data latih =\", y_train.shape)\n",
        "print(\"Dimensi atribut data uji =\", X_test.shape)\n",
        "print(\"Dimensi target data uji =\", y_test.shape)"
      ]
    },
    {
      "cell_type": "markdown",
      "metadata": {
        "id": "CjXXsDVnjkpp"
      },
      "source": [
        "### Normalisasi Data\n",
        "***\n",
        "Metode Normalisasi *z-score* digunakan untuk menyamakan skala dari setiap atribut pada data ke standard normal distribution (mean=0, std=1)"
      ]
    },
    {
      "cell_type": "code",
      "execution_count": null,
      "metadata": {
        "id": "8fSGHiqRkSjj"
      },
      "outputs": [],
      "source": [
        "# Instansiasi kelas StandardScaler\n",
        "standard_scaler = StandardScaler()\n",
        "\n",
        "# Fit scaler into train data\n",
        "standard_scaler.fit(X_train)\n",
        "\n",
        "# Transform data with scaler\n",
        "X_train = standard_scaler.transform(X_train)\n",
        "X_test = standard_scaler.transform(X_test)"
      ]
    },
    {
      "cell_type": "markdown",
      "metadata": {
        "id": "GzmMYuQkka8D"
      },
      "source": [
        "### *Dimensionality Reduction*\n",
        "***\n",
        "Jumlah dimensi akan dikurangi dengan PCA"
      ]
    },
    {
      "cell_type": "markdown",
      "metadata": {
        "id": "mehU3l9NpVt0"
      },
      "source": [
        "#### Menerapkan PCA pada data latih"
      ]
    },
    {
      "cell_type": "code",
      "execution_count": null,
      "metadata": {
        "colab": {
          "base_uri": "https://localhost:8080/"
        },
        "id": "3MaqvtbYpaOI",
        "outputId": "7f50a02e-1a28-4386-f7a8-85043a414a01"
      },
      "outputs": [
        {
          "name": "stdout",
          "output_type": "stream",
          "text": [
            "Nilai Eigen setiap Principal Component\n",
            "[5.74701231e+00 2.71512564e+00 2.32583653e+00 2.09433778e+00\n",
            " 1.89675996e+00 1.78991149e+00 1.66079940e+00 1.58935610e+00\n",
            " 1.54481157e+00 1.28677371e+00 1.27050970e+00 1.25381281e+00\n",
            " 1.22917215e+00 1.20799959e+00 1.19301275e+00 1.14804398e+00\n",
            " 1.10930860e+00 1.09731135e+00 1.06246717e+00 1.05710484e+00\n",
            " 1.04154046e+00 1.03330854e+00 1.02690037e+00 1.02328728e+00\n",
            " 1.00738458e+00 1.00161921e+00 9.89602848e-01 9.86621099e-01\n",
            " 9.71839713e-01 9.53014337e-01 9.36041674e-01 8.82722654e-01\n",
            " 8.54224232e-01 7.91167234e-01 7.33439954e-01 7.13300933e-01\n",
            " 6.11026662e-01 4.47316288e-01 4.29101035e-01 4.13263959e-01\n",
            " 2.84698159e-01 2.39626000e-01 2.22765162e-01 1.22280361e-01\n",
            " 3.93430633e-03 2.08367670e-03 1.13339833e-30 1.72437947e-31\n",
            " 7.30737469e-32 5.80580196e-32 5.04293974e-32 1.32296216e-32]\n",
            "======================================================================\n",
            "Rasio Nilai Eigen setiap Principal Component\n",
            "[1.10516113e-01 5.22123700e-02 4.47262681e-02 4.02745043e-02\n",
            " 3.64750461e-02 3.44203302e-02 3.19374807e-02 3.05636128e-02\n",
            " 2.97070133e-02 2.47448973e-02 2.44321374e-02 2.41110531e-02\n",
            " 2.36372086e-02 2.32300564e-02 2.29418566e-02 2.20770988e-02\n",
            " 2.13322103e-02 2.11015010e-02 2.04314409e-02 2.03283224e-02\n",
            " 2.00290163e-02 1.98707149e-02 1.97474848e-02 1.96780044e-02\n",
            " 1.93721925e-02 1.92613233e-02 1.90302464e-02 1.89729069e-02\n",
            " 1.86886580e-02 1.83266426e-02 1.80002551e-02 1.69749205e-02\n",
            " 1.64268905e-02 1.52142928e-02 1.41041864e-02 1.37169093e-02\n",
            " 1.17501561e-02 8.60197525e-03 8.25169253e-03 7.94714263e-03\n",
            " 5.47479844e-03 4.60805245e-03 4.28381542e-03 2.35147403e-03\n",
            " 7.56574408e-05 4.00694896e-05 2.17954603e-32 3.31601373e-33\n",
            " 1.40522172e-33 1.11646649e-33 9.69766672e-34 2.54408078e-34]\n",
            "======================================================================\n"
          ]
        }
      ],
      "source": [
        "# Instansiasi objek PCA\n",
        "pca_ = PCA()\n",
        "\n",
        "# Fit into training data\n",
        "pca_.fit(X_train)\n",
        "\n",
        "# Mencetak nilai eigen setiap principal component\n",
        "print('Nilai Eigen setiap Principal Component')\n",
        "print(pca_.explained_variance_)\n",
        "print(\"=\"*70)\n",
        "\n",
        "# Mencetak ratio masing-masing nilai eigen terhadap keseluruhan\n",
        "print('Rasio Nilai Eigen setiap Principal Component')\n",
        "print(pca_.explained_variance_ratio_)\n",
        "print(\"=\"*70)"
      ]
    },
    {
      "cell_type": "markdown",
      "metadata": {
        "id": "ss-rKk7Kpi3X"
      },
      "source": [
        "#### *Plotting Ratio* Nilai Eigen yang dihasilkan PCA terhadap data latih"
      ]
    },
    {
      "cell_type": "code",
      "execution_count": null,
      "metadata": {
        "id": "KZIc12EDpndJ"
      },
      "outputs": [],
      "source": [
        "# Membuat dataframe untuk memplotting variance ratio yang dihasilkan PCA\n",
        "pca_variance = pd.DataFrame(data = pca_.explained_variance_ratio_, columns = ['PC Variance'])\n",
        "pca_variance['pc_name'] = pd.Series(data = ['PC-' +str(i + 1) for i in range(0, X_train.shape[1])])\n",
        "pca_variance = pca_variance.sort_values(by = 'PC Variance')"
      ]
    },
    {
      "cell_type": "code",
      "execution_count": null,
      "metadata": {
        "colab": {
          "base_uri": "https://localhost:8080/",
          "height": 1000
        },
        "id": "C4Uxs4mEp2k_",
        "outputId": "cdcb4926-97f1-421c-89ff-5d6d3331c357"
      },
      "outputs": [
        {
          "data": {
            "image/png": "[encoded data removed]",
            "text/plain": [
              "<Figure size 1200x1400 with 1 Axes>"
            ]
          },
          "metadata": {},
          "output_type": "display_data"
        }
      ],
      "source": [
        "# Plotting variance ratio yang dijelaskan setiap component\n",
        "plt.figure(figsize = (12,14))\n",
        "pca_variance['PC Variance'].plot(kind = 'barh', color = 'hotpink')\n",
        "plt.yticks(ticks = range(0, X_train.shape[1]), labels = pca_variance['pc_name'])\n",
        "plt.title('Rasio Variance yang dihasilkan setiap Principal Component', size = 15)\n",
        "plt.xlabel('Rasio Variance')\n",
        "plt.ylabel('Principal Component')\n",
        "plt.show()"
      ]
    },
    {
      "cell_type": "markdown",
      "metadata": {
        "id": "djLCwSTWqWvE"
      },
      "source": [
        "### Mencari jumlah *principal component* terbaik\n",
        "***\n",
        "Ada beberapa metode untuk menentukan jumlah *principal component* terbaik yang harus digunakan. Salah satu sumber menyebutkan:\n",
        "\n",
        "1. Jumlah PC terbaik yang terpilih adalah PC yang menghasilkan nilai eigen lebih besar atau sama dengan 1"
      ]
    },
    {
      "cell_type": "code",
      "execution_count": null,
      "metadata": {
        "id": "NoEaN5GKqgpU"
      },
      "outputs": [],
      "source": [
        "# Mencari jumlah n_component yang menghasilkan nilai eigen value >= 1\n",
        "def find_best_n_components(pca):\n",
        "    \"\"\"\n",
        "        Deskripsi Fungsi:\n",
        "        - Fungsi untuk mencari jumlah principal component terbaik dari hasil PCA pada data latih \n",
        "        dengan syarat nilai eigen PC >= 1\n",
        "        \n",
        "        Parameter Fungsi:\n",
        "        - pca : model pca yang sudah difitting pada data latih\n",
        "        \n",
        "        Return Fungsi:\n",
        "        - n_best_component: jumlah principal component terbaik yang memenuhi syarat\n",
        "    \"\"\"\n",
        "\n",
        "    n_best_component = 0\n",
        "    for i in range(0,len(pca.explained_variance_)):\n",
        "        if pca.explained_variance_[i] >= 1:\n",
        "            n_best_component += 1\n",
        "    \n",
        "    return n_best_component"
      ]
    },
    {
      "cell_type": "code",
      "execution_count": null,
      "metadata": {
        "colab": {
          "base_uri": "https://localhost:8080/"
        },
        "id": "XosmRDs9qrs5",
        "outputId": "b9be20fa-3b33-4125-9d6e-4ff163e3336b"
      },
      "outputs": [
        {
          "name": "stdout",
          "output_type": "stream",
          "text": [
            "Jumlah n Principal Component terbaik = 26 komponen\n",
            "Informasi yang dijelaskan oleh 26 komponen = 77.715925765146 %\n",
            "Kehilangan Informasi = 22.284074234854003 %\n"
          ]
        }
      ],
      "source": [
        "# Mencari jumlah principal component terbaik\n",
        "n_components = find_best_n_components(pca_)\n",
        "print('Jumlah n Principal Component terbaik = {} komponen'.format(n_components))\n",
        "print('Informasi yang dijelaskan oleh {} komponen = {} %'.format(n_components, (np.sum(pca_.explained_variance_ratio_[:n_components])) * 100))\n",
        "print('Kehilangan Informasi = {} %'.format(100-(np.sum(pca_.explained_variance_ratio_[:n_components])) * 100))"
      ]
    },
    {
      "cell_type": "markdown",
      "metadata": {
        "id": "FB_Yw_AnrA3_"
      },
      "source": [
        "###Instansiasi PCA dengan *n component* terbaik\n",
        "***\n",
        "1. Buat PCA dengan *n component* terbaik\n",
        "2. *Fitting* ke data latih\n",
        "3. *Transform* ke atribut data latih dan data uji"
      ]
    },
    {
      "cell_type": "code",
      "execution_count": null,
      "metadata": {
        "id": "0RnDbfj3rGs2"
      },
      "outputs": [],
      "source": [
        "# Instansiasi objek PCA\n",
        "pca_ = PCA(n_components = n_components)\n",
        "\n",
        "# Fit into training data\n",
        "pca_.fit(X_train)\n",
        "\n",
        "# Transform into train and test data\n",
        "X_train_pca = pca_.transform(X_train)\n",
        "X_test_pca = pca_.transform(X_test)"
      ]
    },
    {
      "cell_type": "markdown",
      "metadata": {
        "id": "fJpXynOFrTye"
      },
      "source": [
        "#### Buat DataFrame hasil perhitungan PCA"
      ]
    },
    {
      "cell_type": "code",
      "execution_count": null,
      "metadata": {
        "id": "tR9xH8Jbrd_A"
      },
      "outputs": [],
      "source": [
        "# buat dataframe untuk mempermudah melihat data hasil PCA\n",
        "df_train_pca = pd.DataFrame(data = X_train_pca, columns = ['PC-'+str(i) for i in range(0, n_components)])\n",
        "df_train_pca['target'] = y_train.to_numpy()\n",
        "\n",
        "df_test_pca = pd.DataFrame(data = X_test_pca, columns = ['PC-'+str(i) for i in range(0, n_components)])\n",
        "df_test_pca['target'] = y_test.to_numpy()"
      ]
    },
    {
      "cell_type": "markdown",
      "metadata": {
        "id": "XayECMBFr3J0"
      },
      "source": [
        "# Data yang siap dimodelkan"
      ]
    },
    {
      "cell_type": "markdown",
      "metadata": {
        "id": "Oc0mltk0r6Ap"
      },
      "source": [
        "### Data Latih"
      ]
    },
    {
      "cell_type": "markdown",
      "metadata": {
        "id": "j7THw8GMr8UJ"
      },
      "source": [
        "#### Atribut"
      ]
    },
    {
      "cell_type": "code",
      "execution_count": null,
      "metadata": {
        "colab": {
          "base_uri": "https://localhost:8080/",
          "height": 299
        },
        "id": "MQ13BSLFr-3c",
        "outputId": "f9624865-d474-491f-8768-a81fd50b388c"
      },
      "outputs": [
        {
          "data": {
            "text/html": [
              "\n",
              "  <div id=\"df-73dce08f-2df7-44d7-a976-b23f9e940051\">\n",
              "    <div class=\"colab-df-container\">\n",
              "      <div>\n",
              "<style scoped>\n",
              "    .dataframe tbody tr th:only-of-type {\n",
              "        vertical-align: middle;\n",
              "    }\n",
              "\n",
              "    .dataframe tbody tr th {\n",
              "        vertical-align: top;\n",
              "    }\n",
              "\n",
              "    .dataframe thead th {\n",
              "        text-align: right;\n",
              "    }\n",
              "</style>\n",
              "<table border=\"1\" class=\"dataframe\">\n",
              "  <thead>\n",
              "    <tr style=\"text-align: right;\">\n",
              "      <th></th>\n",
              "      <th>PC-0</th>\n",
              "      <th>PC-1</th>\n",
              "      <th>PC-2</th>\n",
              "      <th>PC-3</th>\n",
              "      <th>PC-4</th>\n",
              "      <th>PC-5</th>\n",
              "      <th>PC-6</th>\n",
              "      <th>PC-7</th>\n",
              "      <th>PC-8</th>\n",
              "      <th>PC-9</th>\n",
              "      <th>...</th>\n",
              "      <th>PC-17</th>\n",
              "      <th>PC-18</th>\n",
              "      <th>PC-19</th>\n",
              "      <th>PC-20</th>\n",
              "      <th>PC-21</th>\n",
              "      <th>PC-22</th>\n",
              "      <th>PC-23</th>\n",
              "      <th>PC-24</th>\n",
              "      <th>PC-25</th>\n",
              "      <th>target</th>\n",
              "    </tr>\n",
              "  </thead>\n",
              "  <tbody>\n",
              "    <tr>\n",
              "      <th>0</th>\n",
              "      <td>-2.429895</td>\n",
              "      <td>1.089438</td>\n",
              "      <td>-1.417976</td>\n",
              "      <td>0.860576</td>\n",
              "      <td>1.651461</td>\n",
              "      <td>-0.312033</td>\n",
              "      <td>-1.360048</td>\n",
              "      <td>0.757099</td>\n",
              "      <td>-0.276569</td>\n",
              "      <td>0.854497</td>\n",
              "      <td>...</td>\n",
              "      <td>-0.034920</td>\n",
              "      <td>-0.632177</td>\n",
              "      <td>-0.190027</td>\n",
              "      <td>0.065928</td>\n",
              "      <td>-0.103888</td>\n",
              "      <td>-0.033431</td>\n",
              "      <td>-0.233373</td>\n",
              "      <td>-0.346893</td>\n",
              "      <td>0.388381</td>\n",
              "      <td>0</td>\n",
              "    </tr>\n",
              "    <tr>\n",
              "      <th>1</th>\n",
              "      <td>1.789151</td>\n",
              "      <td>-0.720409</td>\n",
              "      <td>-0.934513</td>\n",
              "      <td>-1.523827</td>\n",
              "      <td>-1.755737</td>\n",
              "      <td>-1.109120</td>\n",
              "      <td>-0.516773</td>\n",
              "      <td>0.074087</td>\n",
              "      <td>-0.665426</td>\n",
              "      <td>0.758880</td>\n",
              "      <td>...</td>\n",
              "      <td>-0.535050</td>\n",
              "      <td>-0.105443</td>\n",
              "      <td>0.213367</td>\n",
              "      <td>0.013130</td>\n",
              "      <td>-1.043652</td>\n",
              "      <td>0.666686</td>\n",
              "      <td>0.347969</td>\n",
              "      <td>0.328487</td>\n",
              "      <td>-0.184229</td>\n",
              "      <td>0</td>\n",
              "    </tr>\n",
              "    <tr>\n",
              "      <th>2</th>\n",
              "      <td>4.002434</td>\n",
              "      <td>1.846834</td>\n",
              "      <td>-0.370607</td>\n",
              "      <td>3.647927</td>\n",
              "      <td>-0.155170</td>\n",
              "      <td>-1.133679</td>\n",
              "      <td>1.558293</td>\n",
              "      <td>-2.380026</td>\n",
              "      <td>0.206400</td>\n",
              "      <td>1.579186</td>\n",
              "      <td>...</td>\n",
              "      <td>0.701255</td>\n",
              "      <td>-0.225943</td>\n",
              "      <td>0.729392</td>\n",
              "      <td>-0.056612</td>\n",
              "      <td>-1.133215</td>\n",
              "      <td>-0.225942</td>\n",
              "      <td>0.806750</td>\n",
              "      <td>0.180309</td>\n",
              "      <td>-1.702414</td>\n",
              "      <td>0</td>\n",
              "    </tr>\n",
              "    <tr>\n",
              "      <th>3</th>\n",
              "      <td>-1.589413</td>\n",
              "      <td>-0.943593</td>\n",
              "      <td>-0.947242</td>\n",
              "      <td>2.347229</td>\n",
              "      <td>2.019264</td>\n",
              "      <td>-0.918180</td>\n",
              "      <td>0.377509</td>\n",
              "      <td>0.488348</td>\n",
              "      <td>0.313834</td>\n",
              "      <td>-0.624217</td>\n",
              "      <td>...</td>\n",
              "      <td>-2.119076</td>\n",
              "      <td>0.581154</td>\n",
              "      <td>-0.070752</td>\n",
              "      <td>0.064614</td>\n",
              "      <td>0.200793</td>\n",
              "      <td>1.140027</td>\n",
              "      <td>0.042798</td>\n",
              "      <td>-0.462106</td>\n",
              "      <td>2.891244</td>\n",
              "      <td>0</td>\n",
              "    </tr>\n",
              "    <tr>\n",
              "      <th>4</th>\n",
              "      <td>-1.776370</td>\n",
              "      <td>1.185482</td>\n",
              "      <td>0.620850</td>\n",
              "      <td>-2.094572</td>\n",
              "      <td>-0.713504</td>\n",
              "      <td>-0.186088</td>\n",
              "      <td>1.109867</td>\n",
              "      <td>0.725562</td>\n",
              "      <td>0.597127</td>\n",
              "      <td>-0.219869</td>\n",
              "      <td>...</td>\n",
              "      <td>-0.683115</td>\n",
              "      <td>-0.239834</td>\n",
              "      <td>-0.477051</td>\n",
              "      <td>0.265261</td>\n",
              "      <td>-0.983889</td>\n",
              "      <td>0.036681</td>\n",
              "      <td>0.015268</td>\n",
              "      <td>0.460140</td>\n",
              "      <td>-0.993137</td>\n",
              "      <td>0</td>\n",
              "    </tr>\n",
              "  </tbody>\n",
              "</table>\n",
              "<p>5 rows × 27 columns</p>\n",
              "</div>\n",
              "      <button class=\"colab-df-convert\" onclick=\"convertToInteractive('df-73dce08f-2df7-44d7-a976-b23f9e940051')\"\n",
              "              title=\"Convert this dataframe to an interactive table.\"\n",
              "              style=\"display:none;\">\n",
              "        \n",
              "  <svg xmlns=\"http://www.w3.org/2000/svg\" height=\"24px\"viewBox=\"0 0 24 24\"\n",
              "       width=\"24px\">\n",
              "    <path d=\"M0 0h24v24H0V0z\" fill=\"none\"/>\n",
              "    <path d=\"M18.56 5.44l.94 2.06.94-2.06 2.06-.94-2.06-.94-.94-2.06-.94 2.06-2.06.94zm-11 1L8.5 8.5l.94-2.06 2.06-.94-2.06-.94L8.5 2.5l-.94 2.06-2.06.94zm10 10l.94 2.06.94-2.06 2.06-.94-2.06-.94-.94-2.06-.94 2.06-2.06.94z\"/><path d=\"M17.41 7.96l-1.37-1.37c-.4-.4-.92-.59-1.43-.59-.52 0-1.04.2-1.43.59L10.3 9.45l-7.72 7.72c-.78.78-.78 2.05 0 2.83L4 21.41c.39.39.9.59 1.41.59.51 0 1.02-.2 1.41-.59l7.78-7.78 2.81-2.81c.8-.78.8-2.07 0-2.86zM5.41 20L4 18.59l7.72-7.72 1.47 1.35L5.41 20z\"/>\n",
              "  </svg>\n",
              "      </button>\n",
              "      \n",
              "  <style>\n",
              "    .colab-df-container {\n",
              "      display:flex;\n",
              "      flex-wrap:wrap;\n",
              "      gap: 12px;\n",
              "    }\n",
              "\n",
              "    .colab-df-convert {\n",
              "      background-color: #E8F0FE;\n",
              "      border: none;\n",
              "      border-radius: 50%;\n",
              "      cursor: pointer;\n",
              "      display: none;\n",
              "      fill: #1967D2;\n",
              "      height: 32px;\n",
              "      padding: 0 0 0 0;\n",
              "      width: 32px;\n",
              "    }\n",
              "\n",
              "    .colab-df-convert:hover {\n",
              "      background-color: #E2EBFA;\n",
              "      box-shadow: 0px 1px 2px rgba(60, 64, 67, 0.3), 0px 1px 3px 1px rgba(60, 64, 67, 0.15);\n",
              "      fill: #174EA6;\n",
              "    }\n",
              "\n",
              "    [theme=dark] .colab-df-convert {\n",
              "      background-color: #3B4455;\n",
              "      fill: #D2E3FC;\n",
              "    }\n",
              "\n",
              "    [theme=dark] .colab-df-convert:hover {\n",
              "      background-color: #434B5C;\n",
              "      box-shadow: 0px 1px 3px 1px rgba(0, 0, 0, 0.15);\n",
              "      filter: drop-shadow(0px 1px 2px rgba(0, 0, 0, 0.3));\n",
              "      fill: #FFFFFF;\n",
              "    }\n",
              "  </style>\n",
              "\n",
              "      <script>\n",
              "        const buttonEl =\n",
              "          document.querySelector('#df-73dce08f-2df7-44d7-a976-b23f9e940051 button.colab-df-convert');\n",
              "        buttonEl.style.display =\n",
              "          google.colab.kernel.accessAllowed ? 'block' : 'none';\n",
              "\n",
              "        async function convertToInteractive(key) {\n",
              "          const element = document.querySelector('#df-73dce08f-2df7-44d7-a976-b23f9e940051');\n",
              "          const dataTable =\n",
              "            await google.colab.kernel.invokeFunction('convertToInteractive',\n",
              "                                                     [key], {});\n",
              "          if (!dataTable) return;\n",
              "\n",
              "          const docLinkHtml = 'Like what you see? Visit the ' +\n",
              "            '<a target=\"_blank\" href=https://colab.research.google.com/notebooks/data_table.ipynb>data table notebook</a>'\n",
              "            + ' to learn more about interactive tables.';\n",
              "          element.innerHTML = '';\n",
              "          dataTable['output_type'] = 'display_data';\n",
              "          await google.colab.output.renderOutput(dataTable, element);\n",
              "          const docLink = document.createElement('div');\n",
              "          docLink.innerHTML = docLinkHtml;\n",
              "          element.appendChild(docLink);\n",
              "        }\n",
              "      </script>\n",
              "    </div>\n",
              "  </div>\n",
              "  "
            ],
            "text/plain": [
              "       PC-0      PC-1      PC-2      PC-3      PC-4      PC-5      PC-6  \\\n",
              "0 -2.429895  1.089438 -1.417976  0.860576  1.651461 -0.312033 -1.360048   \n",
              "1  1.789151 -0.720409 -0.934513 -1.523827 -1.755737 -1.109120 -0.516773   \n",
              "2  4.002434  1.846834 -0.370607  3.647927 -0.155170 -1.133679  1.558293   \n",
              "3 -1.589413 -0.943593 -0.947242  2.347229  2.019264 -0.918180  0.377509   \n",
              "4 -1.776370  1.185482  0.620850 -2.094572 -0.713504 -0.186088  1.109867   \n",
              "\n",
              "       PC-7      PC-8      PC-9  ...     PC-17     PC-18     PC-19     PC-20  \\\n",
              "0  0.757099 -0.276569  0.854497  ... -0.034920 -0.632177 -0.190027  0.065928   \n",
              "1  0.074087 -0.665426  0.758880  ... -0.535050 -0.105443  0.213367  0.013130   \n",
              "2 -2.380026  0.206400  1.579186  ...  0.701255 -0.225943  0.729392 -0.056612   \n",
              "3  0.488348  0.313834 -0.624217  ... -2.119076  0.581154 -0.070752  0.064614   \n",
              "4  0.725562  0.597127 -0.219869  ... -0.683115 -0.239834 -0.477051  0.265261   \n",
              "\n",
              "      PC-21     PC-22     PC-23     PC-24     PC-25  target  \n",
              "0 -0.103888 -0.033431 -0.233373 -0.346893  0.388381       0  \n",
              "1 -1.043652  0.666686  0.347969  0.328487 -0.184229       0  \n",
              "2 -1.133215 -0.225942  0.806750  0.180309 -1.702414       0  \n",
              "3  0.200793  1.140027  0.042798 -0.462106  2.891244       0  \n",
              "4 -0.983889  0.036681  0.015268  0.460140 -0.993137       0  \n",
              "\n",
              "[5 rows x 27 columns]"
            ]
          },
          "execution_count": 67,
          "metadata": {},
          "output_type": "execute_result"
        }
      ],
      "source": [
        "df_train_pca.head()"
      ]
    },
    {
      "cell_type": "markdown",
      "metadata": {
        "id": "TzH7YAHrsIAd"
      },
      "source": [
        "#### Target"
      ]
    },
    {
      "cell_type": "code",
      "execution_count": null,
      "metadata": {
        "colab": {
          "base_uri": "https://localhost:8080/"
        },
        "id": "3GdpGQgBsGyL",
        "outputId": "a6b0a0fd-ab2d-4a94-eae6-55fd422abf24"
      },
      "outputs": [
        {
          "data": {
            "text/plain": [
              "12556    0\n",
              "35451    0\n",
              "30592    0\n",
              "17914    0\n",
              "3315     0\n",
              "Name: berlangganan_deposito, dtype: int64"
            ]
          },
          "execution_count": 68,
          "metadata": {},
          "output_type": "execute_result"
        }
      ],
      "source": [
        "y_train.head()"
      ]
    },
    {
      "cell_type": "markdown",
      "metadata": {
        "id": "8GDwmqXusMU0"
      },
      "source": [
        "### Data Uji"
      ]
    },
    {
      "cell_type": "markdown",
      "metadata": {
        "id": "ROQbHBd3sORc"
      },
      "source": [
        "#### Atribut"
      ]
    },
    {
      "cell_type": "code",
      "execution_count": null,
      "metadata": {
        "colab": {
          "base_uri": "https://localhost:8080/",
          "height": 299
        },
        "id": "auaPvLrjsP7-",
        "outputId": "45274b81-ed13-4ab1-fe6b-edf28673392a"
      },
      "outputs": [
        {
          "data": {
            "text/html": [
              "\n",
              "  <div id=\"df-8e81ae00-1496-4dc4-94b6-62b1dcd5b272\">\n",
              "    <div class=\"colab-df-container\">\n",
              "      <div>\n",
              "<style scoped>\n",
              "    .dataframe tbody tr th:only-of-type {\n",
              "        vertical-align: middle;\n",
              "    }\n",
              "\n",
              "    .dataframe tbody tr th {\n",
              "        vertical-align: top;\n",
              "    }\n",
              "\n",
              "    .dataframe thead th {\n",
              "        text-align: right;\n",
              "    }\n",
              "</style>\n",
              "<table border=\"1\" class=\"dataframe\">\n",
              "  <thead>\n",
              "    <tr style=\"text-align: right;\">\n",
              "      <th></th>\n",
              "      <th>PC-0</th>\n",
              "      <th>PC-1</th>\n",
              "      <th>PC-2</th>\n",
              "      <th>PC-3</th>\n",
              "      <th>PC-4</th>\n",
              "      <th>PC-5</th>\n",
              "      <th>PC-6</th>\n",
              "      <th>PC-7</th>\n",
              "      <th>PC-8</th>\n",
              "      <th>PC-9</th>\n",
              "      <th>...</th>\n",
              "      <th>PC-17</th>\n",
              "      <th>PC-18</th>\n",
              "      <th>PC-19</th>\n",
              "      <th>PC-20</th>\n",
              "      <th>PC-21</th>\n",
              "      <th>PC-22</th>\n",
              "      <th>PC-23</th>\n",
              "      <th>PC-24</th>\n",
              "      <th>PC-25</th>\n",
              "      <th>target</th>\n",
              "    </tr>\n",
              "  </thead>\n",
              "  <tbody>\n",
              "    <tr>\n",
              "      <th>0</th>\n",
              "      <td>4.000378</td>\n",
              "      <td>1.015049</td>\n",
              "      <td>-0.734084</td>\n",
              "      <td>0.101129</td>\n",
              "      <td>0.577508</td>\n",
              "      <td>1.313398</td>\n",
              "      <td>1.484597</td>\n",
              "      <td>-2.607153</td>\n",
              "      <td>0.885588</td>\n",
              "      <td>0.793505</td>\n",
              "      <td>...</td>\n",
              "      <td>0.002627</td>\n",
              "      <td>-0.415894</td>\n",
              "      <td>-0.611662</td>\n",
              "      <td>0.858383</td>\n",
              "      <td>0.609284</td>\n",
              "      <td>-0.803238</td>\n",
              "      <td>0.064521</td>\n",
              "      <td>-0.253559</td>\n",
              "      <td>-1.098993</td>\n",
              "      <td>0</td>\n",
              "    </tr>\n",
              "    <tr>\n",
              "      <th>1</th>\n",
              "      <td>-1.712446</td>\n",
              "      <td>0.626327</td>\n",
              "      <td>1.461630</td>\n",
              "      <td>-0.626611</td>\n",
              "      <td>-1.623128</td>\n",
              "      <td>-1.189926</td>\n",
              "      <td>-0.418558</td>\n",
              "      <td>-0.315117</td>\n",
              "      <td>0.164533</td>\n",
              "      <td>-0.469513</td>\n",
              "      <td>...</td>\n",
              "      <td>-0.814081</td>\n",
              "      <td>-0.220115</td>\n",
              "      <td>0.081673</td>\n",
              "      <td>0.121410</td>\n",
              "      <td>-0.018842</td>\n",
              "      <td>-0.078746</td>\n",
              "      <td>-0.354094</td>\n",
              "      <td>0.095292</td>\n",
              "      <td>-0.025389</td>\n",
              "      <td>0</td>\n",
              "    </tr>\n",
              "    <tr>\n",
              "      <th>2</th>\n",
              "      <td>3.775667</td>\n",
              "      <td>2.293644</td>\n",
              "      <td>-2.392453</td>\n",
              "      <td>0.383833</td>\n",
              "      <td>0.733076</td>\n",
              "      <td>0.497030</td>\n",
              "      <td>-1.631407</td>\n",
              "      <td>-1.157197</td>\n",
              "      <td>2.439389</td>\n",
              "      <td>1.997138</td>\n",
              "      <td>...</td>\n",
              "      <td>0.202797</td>\n",
              "      <td>0.205060</td>\n",
              "      <td>-0.479686</td>\n",
              "      <td>0.147921</td>\n",
              "      <td>-0.802624</td>\n",
              "      <td>0.280788</td>\n",
              "      <td>0.571814</td>\n",
              "      <td>0.209617</td>\n",
              "      <td>-0.284329</td>\n",
              "      <td>0</td>\n",
              "    </tr>\n",
              "    <tr>\n",
              "      <th>3</th>\n",
              "      <td>-2.708689</td>\n",
              "      <td>1.492369</td>\n",
              "      <td>0.997958</td>\n",
              "      <td>-1.955595</td>\n",
              "      <td>0.543653</td>\n",
              "      <td>-0.916444</td>\n",
              "      <td>1.160050</td>\n",
              "      <td>-0.847820</td>\n",
              "      <td>-0.946395</td>\n",
              "      <td>1.897483</td>\n",
              "      <td>...</td>\n",
              "      <td>-0.171324</td>\n",
              "      <td>0.004697</td>\n",
              "      <td>-0.679867</td>\n",
              "      <td>0.117179</td>\n",
              "      <td>-0.525295</td>\n",
              "      <td>0.014917</td>\n",
              "      <td>-0.086077</td>\n",
              "      <td>0.718507</td>\n",
              "      <td>-0.445137</td>\n",
              "      <td>0</td>\n",
              "    </tr>\n",
              "    <tr>\n",
              "      <th>4</th>\n",
              "      <td>-1.330201</td>\n",
              "      <td>-1.204686</td>\n",
              "      <td>-0.823737</td>\n",
              "      <td>0.039556</td>\n",
              "      <td>2.071711</td>\n",
              "      <td>-0.601175</td>\n",
              "      <td>1.829189</td>\n",
              "      <td>0.522313</td>\n",
              "      <td>-0.047827</td>\n",
              "      <td>1.136345</td>\n",
              "      <td>...</td>\n",
              "      <td>-2.284927</td>\n",
              "      <td>-0.250885</td>\n",
              "      <td>-0.356929</td>\n",
              "      <td>0.441811</td>\n",
              "      <td>-0.431858</td>\n",
              "      <td>0.836089</td>\n",
              "      <td>-0.844789</td>\n",
              "      <td>-0.267224</td>\n",
              "      <td>1.924808</td>\n",
              "      <td>0</td>\n",
              "    </tr>\n",
              "  </tbody>\n",
              "</table>\n",
              "<p>5 rows × 27 columns</p>\n",
              "</div>\n",
              "      <button class=\"colab-df-convert\" onclick=\"convertToInteractive('df-8e81ae00-1496-4dc4-94b6-62b1dcd5b272')\"\n",
              "              title=\"Convert this dataframe to an interactive table.\"\n",
              "              style=\"display:none;\">\n",
              "        \n",
              "  <svg xmlns=\"http://www.w3.org/2000/svg\" height=\"24px\"viewBox=\"0 0 24 24\"\n",
              "       width=\"24px\">\n",
              "    <path d=\"M0 0h24v24H0V0z\" fill=\"none\"/>\n",
              "    <path d=\"M18.56 5.44l.94 2.06.94-2.06 2.06-.94-2.06-.94-.94-2.06-.94 2.06-2.06.94zm-11 1L8.5 8.5l.94-2.06 2.06-.94-2.06-.94L8.5 2.5l-.94 2.06-2.06.94zm10 10l.94 2.06.94-2.06 2.06-.94-2.06-.94-.94-2.06-.94 2.06-2.06.94z\"/><path d=\"M17.41 7.96l-1.37-1.37c-.4-.4-.92-.59-1.43-.59-.52 0-1.04.2-1.43.59L10.3 9.45l-7.72 7.72c-.78.78-.78 2.05 0 2.83L4 21.41c.39.39.9.59 1.41.59.51 0 1.02-.2 1.41-.59l7.78-7.78 2.81-2.81c.8-.78.8-2.07 0-2.86zM5.41 20L4 18.59l7.72-7.72 1.47 1.35L5.41 20z\"/>\n",
              "  </svg>\n",
              "      </button>\n",
              "      \n",
              "  <style>\n",
              "    .colab-df-container {\n",
              "      display:flex;\n",
              "      flex-wrap:wrap;\n",
              "      gap: 12px;\n",
              "    }\n",
              "\n",
              "    .colab-df-convert {\n",
              "      background-color: #E8F0FE;\n",
              "      border: none;\n",
              "      border-radius: 50%;\n",
              "      cursor: pointer;\n",
              "      display: none;\n",
              "      fill: #1967D2;\n",
              "      height: 32px;\n",
              "      padding: 0 0 0 0;\n",
              "      width: 32px;\n",
              "    }\n",
              "\n",
              "    .colab-df-convert:hover {\n",
              "      background-color: #E2EBFA;\n",
              "      box-shadow: 0px 1px 2px rgba(60, 64, 67, 0.3), 0px 1px 3px 1px rgba(60, 64, 67, 0.15);\n",
              "      fill: #174EA6;\n",
              "    }\n",
              "\n",
              "    [theme=dark] .colab-df-convert {\n",
              "      background-color: #3B4455;\n",
              "      fill: #D2E3FC;\n",
              "    }\n",
              "\n",
              "    [theme=dark] .colab-df-convert:hover {\n",
              "      background-color: #434B5C;\n",
              "      box-shadow: 0px 1px 3px 1px rgba(0, 0, 0, 0.15);\n",
              "      filter: drop-shadow(0px 1px 2px rgba(0, 0, 0, 0.3));\n",
              "      fill: #FFFFFF;\n",
              "    }\n",
              "  </style>\n",
              "\n",
              "      <script>\n",
              "        const buttonEl =\n",
              "          document.querySelector('#df-8e81ae00-1496-4dc4-94b6-62b1dcd5b272 button.colab-df-convert');\n",
              "        buttonEl.style.display =\n",
              "          google.colab.kernel.accessAllowed ? 'block' : 'none';\n",
              "\n",
              "        async function convertToInteractive(key) {\n",
              "          const element = document.querySelector('#df-8e81ae00-1496-4dc4-94b6-62b1dcd5b272');\n",
              "          const dataTable =\n",
              "            await google.colab.kernel.invokeFunction('convertToInteractive',\n",
              "                                                     [key], {});\n",
              "          if (!dataTable) return;\n",
              "\n",
              "          const docLinkHtml = 'Like what you see? Visit the ' +\n",
              "            '<a target=\"_blank\" href=https://colab.research.google.com/notebooks/data_table.ipynb>data table notebook</a>'\n",
              "            + ' to learn more about interactive tables.';\n",
              "          element.innerHTML = '';\n",
              "          dataTable['output_type'] = 'display_data';\n",
              "          await google.colab.output.renderOutput(dataTable, element);\n",
              "          const docLink = document.createElement('div');\n",
              "          docLink.innerHTML = docLinkHtml;\n",
              "          element.appendChild(docLink);\n",
              "        }\n",
              "      </script>\n",
              "    </div>\n",
              "  </div>\n",
              "  "
            ],
            "text/plain": [
              "       PC-0      PC-1      PC-2      PC-3      PC-4      PC-5      PC-6  \\\n",
              "0  4.000378  1.015049 -0.734084  0.101129  0.577508  1.313398  1.484597   \n",
              "1 -1.712446  0.626327  1.461630 -0.626611 -1.623128 -1.189926 -0.418558   \n",
              "2  3.775667  2.293644 -2.392453  0.383833  0.733076  0.497030 -1.631407   \n",
              "3 -2.708689  1.492369  0.997958 -1.955595  0.543653 -0.916444  1.160050   \n",
              "4 -1.330201 -1.204686 -0.823737  0.039556  2.071711 -0.601175  1.829189   \n",
              "\n",
              "       PC-7      PC-8      PC-9  ...     PC-17     PC-18     PC-19     PC-20  \\\n",
              "0 -2.607153  0.885588  0.793505  ...  0.002627 -0.415894 -0.611662  0.858383   \n",
              "1 -0.315117  0.164533 -0.469513  ... -0.814081 -0.220115  0.081673  0.121410   \n",
              "2 -1.157197  2.439389  1.997138  ...  0.202797  0.205060 -0.479686  0.147921   \n",
              "3 -0.847820 -0.946395  1.897483  ... -0.171324  0.004697 -0.679867  0.117179   \n",
              "4  0.522313 -0.047827  1.136345  ... -2.284927 -0.250885 -0.356929  0.441811   \n",
              "\n",
              "      PC-21     PC-22     PC-23     PC-24     PC-25  target  \n",
              "0  0.609284 -0.803238  0.064521 -0.253559 -1.098993       0  \n",
              "1 -0.018842 -0.078746 -0.354094  0.095292 -0.025389       0  \n",
              "2 -0.802624  0.280788  0.571814  0.209617 -0.284329       0  \n",
              "3 -0.525295  0.014917 -0.086077  0.718507 -0.445137       0  \n",
              "4 -0.431858  0.836089 -0.844789 -0.267224  1.924808       0  \n",
              "\n",
              "[5 rows x 27 columns]"
            ]
          },
          "execution_count": 69,
          "metadata": {},
          "output_type": "execute_result"
        }
      ],
      "source": [
        "df_test_pca.head()"
      ]
    },
    {
      "cell_type": "markdown",
      "metadata": {
        "id": "sCka6xIbscv8"
      },
      "source": [
        "#### Target"
      ]
    },
    {
      "cell_type": "code",
      "execution_count": null,
      "metadata": {
        "colab": {
          "base_uri": "https://localhost:8080/"
        },
        "id": "TeQ13V0OseYs",
        "outputId": "e4a2f544-98a3-4b4a-f157-413e7bcea628"
      },
      "outputs": [
        {
          "data": {
            "text/plain": [
              "32884    0\n",
              "3169     0\n",
              "32206    0\n",
              "9403     0\n",
              "14020    0\n",
              "Name: berlangganan_deposito, dtype: int64"
            ]
          },
          "execution_count": 70,
          "metadata": {},
          "output_type": "execute_result"
        }
      ],
      "source": [
        "y_test.head()"
      ]
    },
    {
      "cell_type": "markdown",
      "metadata": {
        "id": "o3JAxrWtsnZ0"
      },
      "source": [
        "### Modeling\n",
        "***\n",
        "Model klasifikasi *machine learning* yang digunakan pada tugas ini yaitu:\n",
        "\n",
        "1. Logistic Regression\n",
        "2. KNN\n",
        "3. SVM\n",
        "4. Decision Tree\n",
        "5. Random Forest\n",
        "6. Naive Bayes\n",
        "***\n",
        "**Recall** akan digunakan sebagai penilaian model karena pada permasalahan ini bertujuan untuk **meminimumkan *False Negative***\n",
        "\n",
        "Confusion matrix:\n",
        ">Predicted\n",
        ">>0(No)1(yes)\n",
        "\n",
        "0(No)\n",
        "\n",
        "1(yes)\n",
        "\n",
        "**Alur**\n",
        "\n",
        "1. Setiap model akan dilihat performanya dengan akurasi untuk pertama kali. Semua model yang digunakan akan menggunakan default parameter pada masing-masing model.\n",
        "2. Hasil akurasi setiap model akan dibandingkan dengan boxplot\n",
        "3. Setiap model akan dituning dengan memilih metric recall\n",
        "4. Model dengan rata-rata recall terbaik akan dipilih sebagai model terbaik.\n",
        "5. Model terbaik tersebut akan dituning kembali dengan menerapkan undersampling pada dataset karena dataset memiliki kelas yang *unbalanced*"
      ]
    },
    {
      "cell_type": "code",
      "execution_count": null,
      "metadata": {
        "id": "-cM2xmuYtkVO"
      },
      "outputs": [],
      "source": [
        "# Inisialisasi fold dan scoring yang digunakan\n",
        "num_fold = 10\n",
        "scoring_accuracy = 'accuracy'\n",
        "scoring_recall = 'recall'"
      ]
    },
    {
      "cell_type": "code",
      "execution_count": null,
      "metadata": {
        "id": "JCVVBixfuNgr"
      },
      "outputs": [],
      "source": [
        "# Membuat list dari seluruh model yang digunakan\n",
        "models = []\n",
        "\n",
        "# Append model\n",
        "models.append(('Logistic Regression', LogisticRegression()))\n",
        "models.append(('K-Nearest Neighbor', KNeighborsClassifier()))\n",
        "models.append(('Support Vector Machine', SVC()))\n",
        "models.append(('Decision Tree', DecisionTreeClassifier()))\n",
        "models.append(('Random Forest', RandomForestClassifier()))\n",
        "models.append(('Naive Bayes', GaussianNB()))\n",
        "\n",
        "# K-fold cross validation initialization object\n",
        "kfold = KFold(n_splits = num_fold, random_state = 42, shuffle = True)"
      ]
    },
    {
      "cell_type": "code",
      "execution_count": null,
      "metadata": {
        "id": "VywkCPMz2kYP"
      },
      "outputs": [],
      "source": [
        "# Membuat list dari seluruh model yang digunakan\n",
        "models = []\n",
        "\n",
        "# Append model\n",
        "models.append(('Logistic Regression', LogisticRegression()))\n",
        "models.append(('K-Nearest Neighbor', KNeighborsClassifier()))\n",
        "models.append(('Support Vector Machine', SVC()))\n",
        "models.append(('Decision Tree', DecisionTreeClassifier()))\n",
        "models.append(('Random Forest', RandomForestClassifier()))\n",
        "models.append(('Naive Bayes', GaussianNB()))\n",
        "\n",
        "# K-fold cross validation initialization object\n",
        "kfold = KFold(n_splits = num_fold, random_state = 42, shuffle = True)"
      ]
    },
    {
      "cell_type": "code",
      "execution_count": null,
      "metadata": {
        "id": "vxth-KHvuX7S"
      },
      "outputs": [],
      "source": [
        "def perform_model(models,X_train,y_train,kfold, scoring = 'accuracy'):\n",
        "\n",
        "    \"\"\"\n",
        "        Deskripsi Function:\n",
        "        - Fungsi ini digunakan untuk melakukan model cross-validation dengan data latih yang ada. Setiap model\n",
        "        akan divalidasi dengan ukuran skor (scoring) yang telah ditetapkan, semisal (akurasi, recall, etc).\n",
        "        \n",
        "        Function parameters:\n",
        "        - models: list of tuples dari model yang ingin dituning (LogisticRegression, SVM, etc)\n",
        "        - X_train: dataframe atau np.array dari atribut data latih yang sudah dipreprocessing\n",
        "        - y_train: dataframe atau np.array dari target data latih yang sudah dipreprocessing\n",
        "        - kfold: objek hasil instansiasi kelas KFold \n",
        "        - scoring: metode untuk memngukur performa model (accuracy, recall, precision, etc)\n",
        "        \n",
        "        Function returns:\n",
        "        - cv_results: List dari hasil cross validation setiap model yang sudah dituning\n",
        "        - model_names: List dari nama setiap model (string)\n",
        "        - print_msg: List berupa pesan untuk menampilkan model dengan hasil performanya pada data validasi\n",
        "    \"\"\"\n",
        "\n",
        "    cv_results = [] # Menampung hasil crossvalidation setiap model\n",
        "    model_names = [] # Menampung nama model\n",
        "    print_msg = [] # Menampung pesan yang akan ditampilkan\n",
        "    \n",
        "    \n",
        "    for model_name, model in models:\n",
        "        # Cross validation result\n",
        "        cv_result = cross_val_score(model, X_train, y_train, cv = kfold, scoring = scoring)\n",
        "\n",
        "        # Append into list\n",
        "        cv_results.append(cv_result)\n",
        "        model_names.append(model_name)\n",
        "\n",
        "        #print result\n",
        "        msg_result = \"{}: mean {} = {}  std {} = {}\".format(model_name, scoring, cv_result.mean(), scoring, cv_result.std())\n",
        "        print_msg.append(msg_result)\n",
        "    \n",
        "    return cv_results, model_names, print_msg"
      ]
    },
    {
      "cell_type": "markdown",
      "metadata": {
        "id": "Ak6Lsp8Yu4-2"
      },
      "source": [
        "### Hitung *mean* dan *std* dari akurasi dari setiap model yang digunakan\n",
        "***\n",
        "Validasi yang digunakan adalah *10-fold cross-validation*"
      ]
    },
    {
      "cell_type": "code",
      "execution_count": null,
      "metadata": {
        "id": "ZHSdXiw5yAEk"
      },
      "outputs": [],
      "source": [
        "cv_results_accuracy, model_names, print_msg_accuracy = perform_model(models = models, \n",
        "                                                                     X_train = X_train_pca, \n",
        "                                                                     y_train = y_train, \n",
        "                                                                     kfold = kfold, \n",
        "                                                                     scoring = scoring_accuracy\n",
        ")"
      ]
    },
    {
      "cell_type": "code",
      "execution_count": null,
      "metadata": {
        "colab": {
          "base_uri": "https://localhost:8080/"
        },
        "id": "febxBx6EvJhB",
        "outputId": "d0122001-d3d8-4014-ea1b-1c34d98b537a"
      },
      "outputs": [
        {
          "name": "stdout",
          "output_type": "stream",
          "text": [
            "Logistic Regression: mean accuracy = 0.9020637329286798  std accuracy = 0.004844542999490593\n",
            "K-Nearest Neighbor: mean accuracy = 0.8966312594840667  std accuracy = 0.005481673762610329\n",
            "Support Vector Machine: mean accuracy = 0.905887708649469  std accuracy = 0.003847148996434346\n",
            "Decision Tree: mean accuracy = 0.8739301972685887  std accuracy = 0.006777010180022958\n",
            "Random Forest: mean accuracy = 0.903793626707132  std accuracy = 0.004897394295343076\n",
            "Naive Bayes: mean accuracy = 0.8854324734446131  std accuracy = 0.0051149568916957\n"
          ]
        }
      ],
      "source": [
        "# Cetak hasil rata-rata akurasi setiap model\n",
        "for msg in print_msg_accuracy:\n",
        "    print(msg)"
      ]
    },
    {
      "cell_type": "markdown",
      "metadata": {
        "id": "b5DkSuGxvqTq"
      },
      "source": [
        "#### Bandingkan hasil akurasi setiap model"
      ]
    },
    {
      "cell_type": "code",
      "execution_count": null,
      "metadata": {
        "colab": {
          "base_uri": "https://localhost:8080/"
        },
        "id": "SLR-aT5IvxCj",
        "outputId": "03271d37-f74b-4c88-a28e-dc1f4ee39344"
      },
      "outputs": [
        {
          "data": {
            "image/png": "[encoded data removed]",
            "text/plain": [
              "<Figure size 800x400 with 1 Axes>"
            ]
          },
          "metadata": {},
          "output_type": "display_data"
        }
      ],
      "source": [
        "fig = plt.figure(figsize = (10,8))\n",
        "fig.suptitle('Hasil perbandingan akurasi setiap model klasifikasi', size = 15)\n",
        "ax = fig.add_subplot(111)\n",
        "\n",
        "plt.boxplot(cv_results_accuracy)\n",
        "ax.set_xticklabels(model_names, rotation = 90)\n",
        "fig.set_size_inches(8,4)\n",
        "plt.show()"
      ]
    },
    {
      "cell_type": "markdown",
      "metadata": {
        "id": "Rhrj9I60wH4T"
      },
      "source": [
        "**ANALISIS**\n",
        "\n",
        "1. Dari segi akurasi Logistic Regression, SVM, dan Random Forest tampil menjadi model terbaik dengan rata-rata akurasi ketiga model ini yang hampir sama.\n",
        "2. Decision Tree dan Naive Bayes memberikan performa akurasi paling rendah"
      ]
    },
    {
      "cell_type": "markdown",
      "metadata": {
        "id": "G3wNpTD4wP2z"
      },
      "source": [
        "### Melihat *confusion matrix* dari SVM\n",
        "***\n",
        "Ukuran performa yang digunakan pada permasalahan ini adalah **memaksimalkan recall**"
      ]
    },
    {
      "cell_type": "code",
      "execution_count": null,
      "metadata": {
        "id": "wlKNKNsQwZqM"
      },
      "outputs": [],
      "source": [
        "# Inisialisasi model SVM dengan default parameter\n",
        "svm = SVC()\n",
        "\n",
        "# Fit model into training data\n",
        "svm.fit(X_train_pca, y_train)\n",
        "\n",
        "# Get y prediction\n",
        "y_pred = svm.predict(X_test_pca)"
      ]
    },
    {
      "cell_type": "code",
      "execution_count": null,
      "metadata": {
        "colab": {
          "base_uri": "https://localhost:8080/"
        },
        "id": "zEM8Cf_E3ZUK",
        "outputId": "e5c58813-1169-4989-9b4e-cce51cd0c846"
      },
      "outputs": [
        {
          "name": "stdout",
          "output_type": "stream",
          "text": [
            "SVM Recall score = 0.33689839572192515\n",
            "              precision    recall  f1-score   support\n",
            "\n",
            "           0       0.92      0.98      0.95      7303\n",
            "           1       0.64      0.34      0.44       935\n",
            "\n",
            "    accuracy                           0.90      8238\n",
            "   macro avg       0.78      0.66      0.69      8238\n",
            "weighted avg       0.89      0.90      0.89      8238\n",
            "\n",
            "[[7126  177]\n",
            " [ 620  315]]\n"
          ]
        }
      ],
      "source": [
        "# Print results\n",
        "print(\"SVM Recall score =\", metrics.recall_score(y_test, y_pred))\n",
        "print(metrics.classification_report(y_test, y_pred))\n",
        "\n",
        "# Confusion matrix\n",
        "print(metrics.confusion_matrix(y_test, y_pred))"
      ]
    },
    {
      "cell_type": "markdown",
      "metadata": {
        "id": "gfUd2_kR9-cP"
      },
      "source": [
        "**ANALISIS HASIL *CONFUSION MATRIX SVM***\n",
        "\n",
        "Model SVM walaupun memberikan nilai rata-rata akurasi tertinggi, namun nyatanya masih belum maksimal dalam memberikan **recall** terbaik. Hal ini dibuktikan dengan nilai FN yang besar yaitu **621** dibandingkan TP yaitu **314**.\n",
        "\n",
        "\n",
        "**Penting!**\n",
        "\n",
        "Nilai FN dan TP mungkin bervariasi seiring kode program dijalankan dan komputer yang digunakan. Namun, saat dijalankan SVM muncul memberikan hasil seperti di atas"
      ]
    },
    {
      "cell_type": "markdown",
      "metadata": {
        "id": "cCZ_ifbt-cI9"
      },
      "source": [
        "### Model *Tuning* dengan memilih metriks evaluasi yang benar\n",
        "***\n",
        "**Recall** akan digunakan untuk men-*tuning* model yang digunakan"
      ]
    },
    {
      "cell_type": "code",
      "execution_count": null,
      "metadata": {
        "colab": {
          "background_save": true
        },
        "id": "gON6cJ_j_UIB"
      },
      "outputs": [],
      "source": [
        "cv_results_recall, model_names, print_msg_recall = perform_model(models = models,\n",
        "                                                                 X_train = X_train_pca,\n",
        "                                                                 y_train = y_train,\n",
        "                                                                 kfold = kfold,\n",
        "                                                                 scoring = scoring_recall\n",
        ")"
      ]
    },
    {
      "cell_type": "code",
      "execution_count": null,
      "metadata": {
        "colab": {
          "background_save": true
        },
        "id": "hUC31I1W_nxs",
        "outputId": "195afa69-c3eb-4268-f0cc-7fd83e463f88"
      },
      "outputs": [
        {
          "name": "stdout",
          "output_type": "stream",
          "text": [
            "Logistic Regression: mean recall = 0.30876691654225374  std recall = 0.02697490958976639\n",
            "K-Nearest Neighbor: mean recall = 0.31240280247083374  std recall = 0.02696377179583787\n",
            "Support Vector Machine: mean recall = 0.3343120654807685  std recall = 0.02208317427480304\n",
            "Decision Tree: mean recall = 0.4515843629354278  std recall = 0.02037204384910225\n",
            "Random Forest: mean recall = 0.3810001589601074  std recall = 0.03335006910942262\n",
            "Naive Bayes: mean recall = 0.4031105290964737  std recall = 0.030451994399289608\n"
          ]
        }
      ],
      "source": [
        "# Cetak hasil rata-rata recall setiap model\n",
        "for msg in print_msg_recall:\n",
        "    print(msg)"
      ]
    },
    {
      "cell_type": "markdown",
      "metadata": {
        "id": "G7fWM4pNBwmm"
      },
      "source": [
        "#### Bandingkan hasil recall setiap model"
      ]
    },
    {
      "cell_type": "code",
      "execution_count": null,
      "metadata": {
        "colab": {
          "background_save": true
        },
        "id": "F6H3umiEB044",
        "outputId": "2fcf8a75-9b0c-4fef-c7a9-8da508d32a6a"
      },
      "outputs": [
        {
          "data": {
            "image/png": "[encoded data removed]",
            "text/plain": [
              "<Figure size 800x400 with 1 Axes>"
            ]
          },
          "metadata": {},
          "output_type": "display_data"
        }
      ],
      "source": [
        "fig = plt.figure(figsize = (10,8))\n",
        "fig.suptitle('Hasil perbandingan recall setiap model klasifikasi', size = 15)\n",
        "ax = fig.add_subplot(111)\n",
        "\n",
        "plt.boxplot(cv_results_recall)\n",
        "ax.set_xticklabels(model_names, rotation = 90)\n",
        "fig.set_size_inches(8,4)\n",
        "plt.show()"
      ]
    },
    {
      "cell_type": "markdown",
      "metadata": {
        "id": "pFs2dtNaCC8D"
      },
      "source": [
        "**ANALISIS**\n",
        "\n",
        "1. *Decision Tree* dan *Naive Bayes* tampil dengan rata-rata **recall terbaik** dibandingkan model-model lainnya.\n",
        "2. Akurasi pada dataset yang imbalanced tidak bisa menjadi penentu untuk memilih model. Bisa dilihat bahwa SVM tidak mampu memberikan performa **recall yang terbaik**, padahal sebelumnya model ini memberikan akurasi tertinggi."
      ]
    },
    {
      "cell_type": "markdown",
      "metadata": {
        "id": "dGZe5prgCV6z"
      },
      "source": [
        "#### Evaluasi model dengan recall terbaik menggunakan data testing"
      ]
    },
    {
      "cell_type": "code",
      "execution_count": null,
      "metadata": {
        "colab": {
          "background_save": true
        },
        "id": "hf_h06OkCa56"
      },
      "outputs": [],
      "source": [
        "# Inisialisasi model Decision Tree\n",
        "dt = DecisionTreeClassifier()\n",
        "\n",
        "# Fit model into training data\n",
        "dt.fit(X_train_pca,y_train)\n",
        "\n",
        "# Get y prediction\n",
        "y_pred_dt = dt.predict(X_test_pca)"
      ]
    },
    {
      "cell_type": "code",
      "execution_count": null,
      "metadata": {
        "colab": {
          "background_save": true
        },
        "id": "j2QUUALtCmJ_",
        "outputId": "eade23ce-570e-488d-a3da-25fdc44a65c3"
      },
      "outputs": [
        {
          "name": "stdout",
          "output_type": "stream",
          "text": [
            "Accuracy score Decision Tree = 0.8709638261714008\n",
            "              precision    recall  f1-score   support\n",
            "\n",
            "           0       0.93      0.92      0.93      7303\n",
            "           1       0.43      0.45      0.44       935\n",
            "\n",
            "    accuracy                           0.87      8238\n",
            "   macro avg       0.68      0.69      0.69      8238\n",
            "weighted avg       0.87      0.87      0.87      8238\n",
            "\n",
            "[[6750  553]\n",
            " [ 510  425]]\n"
          ]
        }
      ],
      "source": [
        "# Print score\n",
        "print(\"Accuracy score Decision Tree =\", metrics.accuracy_score(y_test, y_pred_dt))\n",
        "print(metrics.classification_report(y_test, y_pred_dt))\n",
        "\n",
        "# Confusion matrix\n",
        "print(metrics.confusion_matrix(y_test, y_pred_dt))"
      ]
    },
    {
      "cell_type": "markdown",
      "metadata": {
        "id": "6Q-2E-oyCzV3"
      },
      "source": [
        "*Decision Tree* masih memberikan **FN (511)** dan **FP (521)** yang terbilang masih tinggi.\n",
        "\n",
        "**Penting!**\n",
        "\n",
        "Nilai FN dan FP mungkin bervariasi seiring kode program dijalankan dan komputer yang digunakan. Namun, saat dijalankan Decision Tree (DT) muncul memberikan hasil seperti di atas"
      ]
    },
    {
      "cell_type": "markdown",
      "metadata": {
        "id": "Wqp1MXG-DERd"
      },
      "source": [
        "### Model *Tuning* dengan *balancing data sampel - undersampling*\n",
        "***\n",
        "Sampel dataset memiliki ketidakseimbangan pada label kelas yang cukup besar. Hal ini bisa menyebabkan bias pada kelas mayoritas; menyebabkan performa model klasifikasi menjadi menurun; dan **meningkatkan terjadinya FN**\n",
        "\n",
        "Model yang ingin dikembangkan adalah sebisa mungkin meminimumkan adanya FN, sehingga perlu dilakukan penyeimbangan pada label kelas. Salah satu caranya dengan *undersampling*"
      ]
    },
    {
      "cell_type": "markdown",
      "metadata": {
        "id": "DczScy07DanN"
      },
      "source": [
        "#### *Undersampling* dataset pada kelas yang dominan menjadi sama dengan kelas minoritas"
      ]
    },
    {
      "cell_type": "code",
      "execution_count": null,
      "metadata": {
        "colab": {
          "background_save": true
        },
        "id": "sDVAtNbCDfsK",
        "outputId": "f0be25c1-d6f7-4f99-cb34-ef248284e9a0"
      },
      "outputs": [
        {
          "data": {
            "text/html": [
              "\n",
              "  <div id=\"df-c82bb48a-d735-46ff-9646-fa1208e5bfe3\">\n",
              "    <div class=\"colab-df-container\">\n",
              "      <div>\n",
              "<style scoped>\n",
              "    .dataframe tbody tr th:only-of-type {\n",
              "        vertical-align: middle;\n",
              "    }\n",
              "\n",
              "    .dataframe tbody tr th {\n",
              "        vertical-align: top;\n",
              "    }\n",
              "\n",
              "    .dataframe thead th {\n",
              "        text-align: right;\n",
              "    }\n",
              "</style>\n",
              "<table border=\"1\" class=\"dataframe\">\n",
              "  <thead>\n",
              "    <tr style=\"text-align: right;\">\n",
              "      <th></th>\n",
              "      <th>0</th>\n",
              "      <th>1</th>\n",
              "      <th>2</th>\n",
              "      <th>3</th>\n",
              "      <th>4</th>\n",
              "      <th>5</th>\n",
              "      <th>6</th>\n",
              "      <th>7</th>\n",
              "      <th>8</th>\n",
              "      <th>9</th>\n",
              "      <th>...</th>\n",
              "      <th>17</th>\n",
              "      <th>18</th>\n",
              "      <th>19</th>\n",
              "      <th>20</th>\n",
              "      <th>21</th>\n",
              "      <th>22</th>\n",
              "      <th>23</th>\n",
              "      <th>24</th>\n",
              "      <th>25</th>\n",
              "      <th>berlangganan_deposito</th>\n",
              "    </tr>\n",
              "  </thead>\n",
              "  <tbody>\n",
              "    <tr>\n",
              "      <th>0</th>\n",
              "      <td>-2.429895</td>\n",
              "      <td>1.089438</td>\n",
              "      <td>-1.417976</td>\n",
              "      <td>0.860576</td>\n",
              "      <td>1.651461</td>\n",
              "      <td>-0.312033</td>\n",
              "      <td>-1.360048</td>\n",
              "      <td>0.757099</td>\n",
              "      <td>-0.276569</td>\n",
              "      <td>0.854497</td>\n",
              "      <td>...</td>\n",
              "      <td>-0.034920</td>\n",
              "      <td>-0.632177</td>\n",
              "      <td>-0.190027</td>\n",
              "      <td>0.065928</td>\n",
              "      <td>-0.103888</td>\n",
              "      <td>-0.033431</td>\n",
              "      <td>-0.233373</td>\n",
              "      <td>-0.346893</td>\n",
              "      <td>0.388381</td>\n",
              "      <td>0</td>\n",
              "    </tr>\n",
              "    <tr>\n",
              "      <th>1</th>\n",
              "      <td>1.789151</td>\n",
              "      <td>-0.720409</td>\n",
              "      <td>-0.934513</td>\n",
              "      <td>-1.523827</td>\n",
              "      <td>-1.755737</td>\n",
              "      <td>-1.109120</td>\n",
              "      <td>-0.516773</td>\n",
              "      <td>0.074087</td>\n",
              "      <td>-0.665426</td>\n",
              "      <td>0.758880</td>\n",
              "      <td>...</td>\n",
              "      <td>-0.535050</td>\n",
              "      <td>-0.105443</td>\n",
              "      <td>0.213367</td>\n",
              "      <td>0.013130</td>\n",
              "      <td>-1.043652</td>\n",
              "      <td>0.666686</td>\n",
              "      <td>0.347969</td>\n",
              "      <td>0.328487</td>\n",
              "      <td>-0.184229</td>\n",
              "      <td>0</td>\n",
              "    </tr>\n",
              "    <tr>\n",
              "      <th>2</th>\n",
              "      <td>4.002434</td>\n",
              "      <td>1.846834</td>\n",
              "      <td>-0.370607</td>\n",
              "      <td>3.647927</td>\n",
              "      <td>-0.155170</td>\n",
              "      <td>-1.133679</td>\n",
              "      <td>1.558293</td>\n",
              "      <td>-2.380026</td>\n",
              "      <td>0.206400</td>\n",
              "      <td>1.579186</td>\n",
              "      <td>...</td>\n",
              "      <td>0.701255</td>\n",
              "      <td>-0.225943</td>\n",
              "      <td>0.729392</td>\n",
              "      <td>-0.056612</td>\n",
              "      <td>-1.133215</td>\n",
              "      <td>-0.225942</td>\n",
              "      <td>0.806750</td>\n",
              "      <td>0.180309</td>\n",
              "      <td>-1.702414</td>\n",
              "      <td>0</td>\n",
              "    </tr>\n",
              "    <tr>\n",
              "      <th>3</th>\n",
              "      <td>-1.589413</td>\n",
              "      <td>-0.943593</td>\n",
              "      <td>-0.947242</td>\n",
              "      <td>2.347229</td>\n",
              "      <td>2.019264</td>\n",
              "      <td>-0.918180</td>\n",
              "      <td>0.377509</td>\n",
              "      <td>0.488348</td>\n",
              "      <td>0.313834</td>\n",
              "      <td>-0.624217</td>\n",
              "      <td>...</td>\n",
              "      <td>-2.119076</td>\n",
              "      <td>0.581154</td>\n",
              "      <td>-0.070752</td>\n",
              "      <td>0.064614</td>\n",
              "      <td>0.200793</td>\n",
              "      <td>1.140027</td>\n",
              "      <td>0.042798</td>\n",
              "      <td>-0.462106</td>\n",
              "      <td>2.891244</td>\n",
              "      <td>0</td>\n",
              "    </tr>\n",
              "    <tr>\n",
              "      <th>4</th>\n",
              "      <td>-1.776370</td>\n",
              "      <td>1.185482</td>\n",
              "      <td>0.620850</td>\n",
              "      <td>-2.094572</td>\n",
              "      <td>-0.713504</td>\n",
              "      <td>-0.186088</td>\n",
              "      <td>1.109867</td>\n",
              "      <td>0.725562</td>\n",
              "      <td>0.597127</td>\n",
              "      <td>-0.219869</td>\n",
              "      <td>...</td>\n",
              "      <td>-0.683115</td>\n",
              "      <td>-0.239834</td>\n",
              "      <td>-0.477051</td>\n",
              "      <td>0.265261</td>\n",
              "      <td>-0.983889</td>\n",
              "      <td>0.036681</td>\n",
              "      <td>0.015268</td>\n",
              "      <td>0.460140</td>\n",
              "      <td>-0.993137</td>\n",
              "      <td>0</td>\n",
              "    </tr>\n",
              "    <tr>\n",
              "      <th>...</th>\n",
              "      <td>...</td>\n",
              "      <td>...</td>\n",
              "      <td>...</td>\n",
              "      <td>...</td>\n",
              "      <td>...</td>\n",
              "      <td>...</td>\n",
              "      <td>...</td>\n",
              "      <td>...</td>\n",
              "      <td>...</td>\n",
              "      <td>...</td>\n",
              "      <td>...</td>\n",
              "      <td>...</td>\n",
              "      <td>...</td>\n",
              "      <td>...</td>\n",
              "      <td>...</td>\n",
              "      <td>...</td>\n",
              "      <td>...</td>\n",
              "      <td>...</td>\n",
              "      <td>...</td>\n",
              "      <td>...</td>\n",
              "      <td>...</td>\n",
              "    </tr>\n",
              "    <tr>\n",
              "      <th>32945</th>\n",
              "      <td>-1.711662</td>\n",
              "      <td>1.539902</td>\n",
              "      <td>1.622685</td>\n",
              "      <td>2.613691</td>\n",
              "      <td>-1.688829</td>\n",
              "      <td>1.215109</td>\n",
              "      <td>1.696564</td>\n",
              "      <td>-0.639224</td>\n",
              "      <td>-0.498350</td>\n",
              "      <td>-1.612767</td>\n",
              "      <td>...</td>\n",
              "      <td>0.689161</td>\n",
              "      <td>-0.280892</td>\n",
              "      <td>-0.610234</td>\n",
              "      <td>-0.039227</td>\n",
              "      <td>-0.387071</td>\n",
              "      <td>-0.462291</td>\n",
              "      <td>0.158336</td>\n",
              "      <td>0.665772</td>\n",
              "      <td>-1.323914</td>\n",
              "      <td>0</td>\n",
              "    </tr>\n",
              "    <tr>\n",
              "      <th>32946</th>\n",
              "      <td>-2.557406</td>\n",
              "      <td>0.826056</td>\n",
              "      <td>1.508247</td>\n",
              "      <td>-0.994438</td>\n",
              "      <td>-0.133726</td>\n",
              "      <td>-1.461184</td>\n",
              "      <td>-1.656821</td>\n",
              "      <td>-1.780223</td>\n",
              "      <td>-1.659197</td>\n",
              "      <td>-1.650731</td>\n",
              "      <td>...</td>\n",
              "      <td>1.798487</td>\n",
              "      <td>0.724126</td>\n",
              "      <td>-0.889203</td>\n",
              "      <td>1.074616</td>\n",
              "      <td>-0.411208</td>\n",
              "      <td>-0.197728</td>\n",
              "      <td>0.914956</td>\n",
              "      <td>-0.158280</td>\n",
              "      <td>-0.508765</td>\n",
              "      <td>0</td>\n",
              "    </tr>\n",
              "    <tr>\n",
              "      <th>32947</th>\n",
              "      <td>6.351784</td>\n",
              "      <td>1.235944</td>\n",
              "      <td>4.565763</td>\n",
              "      <td>-0.248811</td>\n",
              "      <td>0.627326</td>\n",
              "      <td>-0.199110</td>\n",
              "      <td>1.569680</td>\n",
              "      <td>3.834030</td>\n",
              "      <td>-0.232175</td>\n",
              "      <td>-0.321352</td>\n",
              "      <td>...</td>\n",
              "      <td>-0.343553</td>\n",
              "      <td>-1.986288</td>\n",
              "      <td>0.228662</td>\n",
              "      <td>0.303785</td>\n",
              "      <td>-3.323099</td>\n",
              "      <td>-2.273944</td>\n",
              "      <td>-0.133619</td>\n",
              "      <td>-1.871947</td>\n",
              "      <td>3.934795</td>\n",
              "      <td>1</td>\n",
              "    </tr>\n",
              "    <tr>\n",
              "      <th>32948</th>\n",
              "      <td>-1.784935</td>\n",
              "      <td>0.853314</td>\n",
              "      <td>1.310347</td>\n",
              "      <td>-0.680943</td>\n",
              "      <td>-1.738500</td>\n",
              "      <td>-0.927832</td>\n",
              "      <td>-1.196204</td>\n",
              "      <td>-0.754618</td>\n",
              "      <td>0.838794</td>\n",
              "      <td>-2.106279</td>\n",
              "      <td>...</td>\n",
              "      <td>1.188134</td>\n",
              "      <td>0.738988</td>\n",
              "      <td>-0.265581</td>\n",
              "      <td>0.982390</td>\n",
              "      <td>0.271438</td>\n",
              "      <td>-0.287305</td>\n",
              "      <td>0.834715</td>\n",
              "      <td>-0.539274</td>\n",
              "      <td>0.291766</td>\n",
              "      <td>0</td>\n",
              "    </tr>\n",
              "    <tr>\n",
              "      <th>32949</th>\n",
              "      <td>-1.006562</td>\n",
              "      <td>-2.367528</td>\n",
              "      <td>-0.028916</td>\n",
              "      <td>-1.613038</td>\n",
              "      <td>1.445808</td>\n",
              "      <td>-1.418725</td>\n",
              "      <td>-0.892191</td>\n",
              "      <td>0.510895</td>\n",
              "      <td>-0.705629</td>\n",
              "      <td>0.669926</td>\n",
              "      <td>...</td>\n",
              "      <td>-0.395603</td>\n",
              "      <td>-1.098633</td>\n",
              "      <td>-0.415601</td>\n",
              "      <td>0.249615</td>\n",
              "      <td>-0.331843</td>\n",
              "      <td>0.073120</td>\n",
              "      <td>-0.869638</td>\n",
              "      <td>0.053294</td>\n",
              "      <td>0.152376</td>\n",
              "      <td>0</td>\n",
              "    </tr>\n",
              "  </tbody>\n",
              "</table>\n",
              "<p>32950 rows × 27 columns</p>\n",
              "</div>\n",
              "      <button class=\"colab-df-convert\" onclick=\"convertToInteractive('df-c82bb48a-d735-46ff-9646-fa1208e5bfe3')\"\n",
              "              title=\"Convert this dataframe to an interactive table.\"\n",
              "              style=\"display:none;\">\n",
              "        \n",
              "  <svg xmlns=\"http://www.w3.org/2000/svg\" height=\"24px\"viewBox=\"0 0 24 24\"\n",
              "       width=\"24px\">\n",
              "    <path d=\"M0 0h24v24H0V0z\" fill=\"none\"/>\n",
              "    <path d=\"M18.56 5.44l.94 2.06.94-2.06 2.06-.94-2.06-.94-.94-2.06-.94 2.06-2.06.94zm-11 1L8.5 8.5l.94-2.06 2.06-.94-2.06-.94L8.5 2.5l-.94 2.06-2.06.94zm10 10l.94 2.06.94-2.06 2.06-.94-2.06-.94-.94-2.06-.94 2.06-2.06.94z\"/><path d=\"M17.41 7.96l-1.37-1.37c-.4-.4-.92-.59-1.43-.59-.52 0-1.04.2-1.43.59L10.3 9.45l-7.72 7.72c-.78.78-.78 2.05 0 2.83L4 21.41c.39.39.9.59 1.41.59.51 0 1.02-.2 1.41-.59l7.78-7.78 2.81-2.81c.8-.78.8-2.07 0-2.86zM5.41 20L4 18.59l7.72-7.72 1.47 1.35L5.41 20z\"/>\n",
              "  </svg>\n",
              "      </button>\n",
              "      \n",
              "  <style>\n",
              "    .colab-df-container {\n",
              "      display:flex;\n",
              "      flex-wrap:wrap;\n",
              "      gap: 12px;\n",
              "    }\n",
              "\n",
              "    .colab-df-convert {\n",
              "      background-color: #E8F0FE;\n",
              "      border: none;\n",
              "      border-radius: 50%;\n",
              "      cursor: pointer;\n",
              "      display: none;\n",
              "      fill: #1967D2;\n",
              "      height: 32px;\n",
              "      padding: 0 0 0 0;\n",
              "      width: 32px;\n",
              "    }\n",
              "\n",
              "    .colab-df-convert:hover {\n",
              "      background-color: #E2EBFA;\n",
              "      box-shadow: 0px 1px 2px rgba(60, 64, 67, 0.3), 0px 1px 3px 1px rgba(60, 64, 67, 0.15);\n",
              "      fill: #174EA6;\n",
              "    }\n",
              "\n",
              "    [theme=dark] .colab-df-convert {\n",
              "      background-color: #3B4455;\n",
              "      fill: #D2E3FC;\n",
              "    }\n",
              "\n",
              "    [theme=dark] .colab-df-convert:hover {\n",
              "      background-color: #434B5C;\n",
              "      box-shadow: 0px 1px 3px 1px rgba(0, 0, 0, 0.15);\n",
              "      filter: drop-shadow(0px 1px 2px rgba(0, 0, 0, 0.3));\n",
              "      fill: #FFFFFF;\n",
              "    }\n",
              "  </style>\n",
              "\n",
              "      <script>\n",
              "        const buttonEl =\n",
              "          document.querySelector('#df-c82bb48a-d735-46ff-9646-fa1208e5bfe3 button.colab-df-convert');\n",
              "        buttonEl.style.display =\n",
              "          google.colab.kernel.accessAllowed ? 'block' : 'none';\n",
              "\n",
              "        async function convertToInteractive(key) {\n",
              "          const element = document.querySelector('#df-c82bb48a-d735-46ff-9646-fa1208e5bfe3');\n",
              "          const dataTable =\n",
              "            await google.colab.kernel.invokeFunction('convertToInteractive',\n",
              "                                                     [key], {});\n",
              "          if (!dataTable) return;\n",
              "\n",
              "          const docLinkHtml = 'Like what you see? Visit the ' +\n",
              "            '<a target=\"_blank\" href=https://colab.research.google.com/notebooks/data_table.ipynb>data table notebook</a>'\n",
              "            + ' to learn more about interactive tables.';\n",
              "          element.innerHTML = '';\n",
              "          dataTable['output_type'] = 'display_data';\n",
              "          await google.colab.output.renderOutput(dataTable, element);\n",
              "          const docLink = document.createElement('div');\n",
              "          docLink.innerHTML = docLinkHtml;\n",
              "          element.appendChild(docLink);\n",
              "        }\n",
              "      </script>\n",
              "    </div>\n",
              "  </div>\n",
              "  "
            ],
            "text/plain": [
              "              0         1         2         3         4         5         6  \\\n",
              "0     -2.429895  1.089438 -1.417976  0.860576  1.651461 -0.312033 -1.360048   \n",
              "1      1.789151 -0.720409 -0.934513 -1.523827 -1.755737 -1.109120 -0.516773   \n",
              "2      4.002434  1.846834 -0.370607  3.647927 -0.155170 -1.133679  1.558293   \n",
              "3     -1.589413 -0.943593 -0.947242  2.347229  2.019264 -0.918180  0.377509   \n",
              "4     -1.776370  1.185482  0.620850 -2.094572 -0.713504 -0.186088  1.109867   \n",
              "...         ...       ...       ...       ...       ...       ...       ...   \n",
              "32945 -1.711662  1.539902  1.622685  2.613691 -1.688829  1.215109  1.696564   \n",
              "32946 -2.557406  0.826056  1.508247 -0.994438 -0.133726 -1.461184 -1.656821   \n",
              "32947  6.351784  1.235944  4.565763 -0.248811  0.627326 -0.199110  1.569680   \n",
              "32948 -1.784935  0.853314  1.310347 -0.680943 -1.738500 -0.927832 -1.196204   \n",
              "32949 -1.006562 -2.367528 -0.028916 -1.613038  1.445808 -1.418725 -0.892191   \n",
              "\n",
              "              7         8         9  ...        17        18        19  \\\n",
              "0      0.757099 -0.276569  0.854497  ... -0.034920 -0.632177 -0.190027   \n",
              "1      0.074087 -0.665426  0.758880  ... -0.535050 -0.105443  0.213367   \n",
              "2     -2.380026  0.206400  1.579186  ...  0.701255 -0.225943  0.729392   \n",
              "3      0.488348  0.313834 -0.624217  ... -2.119076  0.581154 -0.070752   \n",
              "4      0.725562  0.597127 -0.219869  ... -0.683115 -0.239834 -0.477051   \n",
              "...         ...       ...       ...  ...       ...       ...       ...   \n",
              "32945 -0.639224 -0.498350 -1.612767  ...  0.689161 -0.280892 -0.610234   \n",
              "32946 -1.780223 -1.659197 -1.650731  ...  1.798487  0.724126 -0.889203   \n",
              "32947  3.834030 -0.232175 -0.321352  ... -0.343553 -1.986288  0.228662   \n",
              "32948 -0.754618  0.838794 -2.106279  ...  1.188134  0.738988 -0.265581   \n",
              "32949  0.510895 -0.705629  0.669926  ... -0.395603 -1.098633 -0.415601   \n",
              "\n",
              "             20        21        22        23        24        25  \\\n",
              "0      0.065928 -0.103888 -0.033431 -0.233373 -0.346893  0.388381   \n",
              "1      0.013130 -1.043652  0.666686  0.347969  0.328487 -0.184229   \n",
              "2     -0.056612 -1.133215 -0.225942  0.806750  0.180309 -1.702414   \n",
              "3      0.064614  0.200793  1.140027  0.042798 -0.462106  2.891244   \n",
              "4      0.265261 -0.983889  0.036681  0.015268  0.460140 -0.993137   \n",
              "...         ...       ...       ...       ...       ...       ...   \n",
              "32945 -0.039227 -0.387071 -0.462291  0.158336  0.665772 -1.323914   \n",
              "32946  1.074616 -0.411208 -0.197728  0.914956 -0.158280 -0.508765   \n",
              "32947  0.303785 -3.323099 -2.273944 -0.133619 -1.871947  3.934795   \n",
              "32948  0.982390  0.271438 -0.287305  0.834715 -0.539274  0.291766   \n",
              "32949  0.249615 -0.331843  0.073120 -0.869638  0.053294  0.152376   \n",
              "\n",
              "       berlangganan_deposito  \n",
              "0                          0  \n",
              "1                          0  \n",
              "2                          0  \n",
              "3                          0  \n",
              "4                          0  \n",
              "...                      ...  \n",
              "32945                      0  \n",
              "32946                      0  \n",
              "32947                      1  \n",
              "32948                      0  \n",
              "32949                      0  \n",
              "\n",
              "[32950 rows x 27 columns]"
            ]
          },
          "execution_count": 85,
          "metadata": {},
          "output_type": "execute_result"
        }
      ],
      "source": [
        "# Menyatukan atribut dan target pada data latih\n",
        "df = pd.concat([pd.DataFrame(data = X_train_pca), y_train.reset_index()['berlangganan_deposito']], axis = 1)\n",
        "df"
      ]
    },
    {
      "cell_type": "code",
      "execution_count": null,
      "metadata": {
        "colab": {
          "background_save": true
        },
        "id": "-ZBTQazcD9Z4",
        "outputId": "16b2f206-a1b1-46c2-a739-a357e12cd46b"
      },
      "outputs": [
        {
          "data": {
            "text/plain": [
              "0    29245\n",
              "1     3705\n",
              "Name: berlangganan_deposito, dtype: int64"
            ]
          },
          "execution_count": 86,
          "metadata": {},
          "output_type": "execute_result"
        }
      ],
      "source": [
        "# Melihat banyak setiap nilai pada label kelas\n",
        "df['berlangganan_deposito'].value_counts()"
      ]
    },
    {
      "cell_type": "code",
      "execution_count": null,
      "metadata": {
        "colab": {
          "background_save": true
        },
        "id": "OjdUtHhgEBGV"
      },
      "outputs": [],
      "source": [
        "# Undersampling kelas 'No' menjadi 3705\n",
        "no_df = df[df['berlangganan_deposito'] == 0][:df['berlangganan_deposito'].value_counts()[1]]\n",
        "yes_df = df[df['berlangganan_deposito'] == 1]"
      ]
    },
    {
      "cell_type": "markdown",
      "metadata": {
        "id": "gH2D9VEhEJZT"
      },
      "source": [
        "#### Menggabungkan dataset yang setiap kelasnya sudah *balanced* menjadi 1"
      ]
    },
    {
      "cell_type": "code",
      "execution_count": null,
      "metadata": {
        "colab": {
          "background_save": true
        },
        "id": "8rvBbUZiEONK"
      },
      "outputs": [],
      "source": [
        "normal_distributed_df = pd.concat([yes_df, no_df])\n",
        "\n",
        "# Shuffle row pada data yang sudah digabung agar acak\n",
        "df_bank_normal_distributed = normal_distributed_df.sample(frac = 1, random_state = 42)"
      ]
    },
    {
      "cell_type": "code",
      "execution_count": null,
      "metadata": {
        "colab": {
          "background_save": true
        },
        "id": "fXrVzwfzEZ1u",
        "outputId": "db08dbcb-6818-4f61-e359-1c2d05cc69a0"
      },
      "outputs": [
        {
          "data": {
            "text/html": [
              "\n",
              "  <div id=\"df-4fd81028-afd8-49cc-8ece-b0e64d7cc4cb\">\n",
              "    <div class=\"colab-df-container\">\n",
              "      <div>\n",
              "<style scoped>\n",
              "    .dataframe tbody tr th:only-of-type {\n",
              "        vertical-align: middle;\n",
              "    }\n",
              "\n",
              "    .dataframe tbody tr th {\n",
              "        vertical-align: top;\n",
              "    }\n",
              "\n",
              "    .dataframe thead th {\n",
              "        text-align: right;\n",
              "    }\n",
              "</style>\n",
              "<table border=\"1\" class=\"dataframe\">\n",
              "  <thead>\n",
              "    <tr style=\"text-align: right;\">\n",
              "      <th></th>\n",
              "      <th>0</th>\n",
              "      <th>1</th>\n",
              "      <th>2</th>\n",
              "      <th>3</th>\n",
              "      <th>4</th>\n",
              "      <th>5</th>\n",
              "      <th>6</th>\n",
              "      <th>7</th>\n",
              "      <th>8</th>\n",
              "      <th>9</th>\n",
              "      <th>...</th>\n",
              "      <th>17</th>\n",
              "      <th>18</th>\n",
              "      <th>19</th>\n",
              "      <th>20</th>\n",
              "      <th>21</th>\n",
              "      <th>22</th>\n",
              "      <th>23</th>\n",
              "      <th>24</th>\n",
              "      <th>25</th>\n",
              "      <th>berlangganan_deposito</th>\n",
              "    </tr>\n",
              "  </thead>\n",
              "  <tbody>\n",
              "    <tr>\n",
              "      <th>1481</th>\n",
              "      <td>-0.737416</td>\n",
              "      <td>-3.154516</td>\n",
              "      <td>1.293440</td>\n",
              "      <td>-0.212346</td>\n",
              "      <td>-0.427862</td>\n",
              "      <td>1.570126</td>\n",
              "      <td>-1.034215</td>\n",
              "      <td>0.384324</td>\n",
              "      <td>0.428458</td>\n",
              "      <td>0.335488</td>\n",
              "      <td>...</td>\n",
              "      <td>0.398329</td>\n",
              "      <td>0.399855</td>\n",
              "      <td>0.067904</td>\n",
              "      <td>-0.243858</td>\n",
              "      <td>0.087190</td>\n",
              "      <td>-0.079897</td>\n",
              "      <td>0.267209</td>\n",
              "      <td>-0.424473</td>\n",
              "      <td>-0.013983</td>\n",
              "      <td>0</td>\n",
              "    </tr>\n",
              "    <tr>\n",
              "      <th>13735</th>\n",
              "      <td>-1.228058</td>\n",
              "      <td>-1.349990</td>\n",
              "      <td>-0.472061</td>\n",
              "      <td>-0.437175</td>\n",
              "      <td>2.131557</td>\n",
              "      <td>-1.298382</td>\n",
              "      <td>1.729844</td>\n",
              "      <td>1.126775</td>\n",
              "      <td>0.148709</td>\n",
              "      <td>-1.504516</td>\n",
              "      <td>...</td>\n",
              "      <td>-0.332260</td>\n",
              "      <td>-0.143147</td>\n",
              "      <td>-3.780104</td>\n",
              "      <td>0.994853</td>\n",
              "      <td>-0.099941</td>\n",
              "      <td>0.428157</td>\n",
              "      <td>-1.488992</td>\n",
              "      <td>2.173608</td>\n",
              "      <td>-0.554864</td>\n",
              "      <td>1</td>\n",
              "    </tr>\n",
              "    <tr>\n",
              "      <th>21627</th>\n",
              "      <td>1.941217</td>\n",
              "      <td>-0.779920</td>\n",
              "      <td>-1.079555</td>\n",
              "      <td>-1.070041</td>\n",
              "      <td>-1.671371</td>\n",
              "      <td>-1.083947</td>\n",
              "      <td>-0.515567</td>\n",
              "      <td>0.477640</td>\n",
              "      <td>-0.651547</td>\n",
              "      <td>-1.304151</td>\n",
              "      <td>...</td>\n",
              "      <td>-1.200434</td>\n",
              "      <td>0.020448</td>\n",
              "      <td>-1.530065</td>\n",
              "      <td>0.561398</td>\n",
              "      <td>0.274514</td>\n",
              "      <td>0.215323</td>\n",
              "      <td>-1.056868</td>\n",
              "      <td>0.808886</td>\n",
              "      <td>0.028652</td>\n",
              "      <td>1</td>\n",
              "    </tr>\n",
              "    <tr>\n",
              "      <th>2286</th>\n",
              "      <td>1.567366</td>\n",
              "      <td>0.701208</td>\n",
              "      <td>-2.587476</td>\n",
              "      <td>0.340476</td>\n",
              "      <td>-0.812217</td>\n",
              "      <td>-0.033683</td>\n",
              "      <td>1.008988</td>\n",
              "      <td>0.823067</td>\n",
              "      <td>-0.011315</td>\n",
              "      <td>-0.709157</td>\n",
              "      <td>...</td>\n",
              "      <td>-0.176583</td>\n",
              "      <td>0.375612</td>\n",
              "      <td>-0.111367</td>\n",
              "      <td>0.198140</td>\n",
              "      <td>-0.824417</td>\n",
              "      <td>0.439029</td>\n",
              "      <td>0.398879</td>\n",
              "      <td>0.386775</td>\n",
              "      <td>-0.643070</td>\n",
              "      <td>0</td>\n",
              "    </tr>\n",
              "    <tr>\n",
              "      <th>22685</th>\n",
              "      <td>5.712408</td>\n",
              "      <td>0.027639</td>\n",
              "      <td>3.906997</td>\n",
              "      <td>-0.384054</td>\n",
              "      <td>0.758027</td>\n",
              "      <td>-1.023691</td>\n",
              "      <td>-0.805096</td>\n",
              "      <td>1.363156</td>\n",
              "      <td>0.835177</td>\n",
              "      <td>-1.637742</td>\n",
              "      <td>...</td>\n",
              "      <td>-1.984652</td>\n",
              "      <td>0.292338</td>\n",
              "      <td>0.161212</td>\n",
              "      <td>-0.435822</td>\n",
              "      <td>0.012248</td>\n",
              "      <td>-0.417976</td>\n",
              "      <td>-0.373250</td>\n",
              "      <td>0.073817</td>\n",
              "      <td>0.354763</td>\n",
              "      <td>1</td>\n",
              "    </tr>\n",
              "  </tbody>\n",
              "</table>\n",
              "<p>5 rows × 27 columns</p>\n",
              "</div>\n",
              "      <button class=\"colab-df-convert\" onclick=\"convertToInteractive('df-4fd81028-afd8-49cc-8ece-b0e64d7cc4cb')\"\n",
              "              title=\"Convert this dataframe to an interactive table.\"\n",
              "              style=\"display:none;\">\n",
              "        \n",
              "  <svg xmlns=\"http://www.w3.org/2000/svg\" height=\"24px\"viewBox=\"0 0 24 24\"\n",
              "       width=\"24px\">\n",
              "    <path d=\"M0 0h24v24H0V0z\" fill=\"none\"/>\n",
              "    <path d=\"M18.56 5.44l.94 2.06.94-2.06 2.06-.94-2.06-.94-.94-2.06-.94 2.06-2.06.94zm-11 1L8.5 8.5l.94-2.06 2.06-.94-2.06-.94L8.5 2.5l-.94 2.06-2.06.94zm10 10l.94 2.06.94-2.06 2.06-.94-2.06-.94-.94-2.06-.94 2.06-2.06.94z\"/><path d=\"M17.41 7.96l-1.37-1.37c-.4-.4-.92-.59-1.43-.59-.52 0-1.04.2-1.43.59L10.3 9.45l-7.72 7.72c-.78.78-.78 2.05 0 2.83L4 21.41c.39.39.9.59 1.41.59.51 0 1.02-.2 1.41-.59l7.78-7.78 2.81-2.81c.8-.78.8-2.07 0-2.86zM5.41 20L4 18.59l7.72-7.72 1.47 1.35L5.41 20z\"/>\n",
              "  </svg>\n",
              "      </button>\n",
              "      \n",
              "  <style>\n",
              "    .colab-df-container {\n",
              "      display:flex;\n",
              "      flex-wrap:wrap;\n",
              "      gap: 12px;\n",
              "    }\n",
              "\n",
              "    .colab-df-convert {\n",
              "      background-color: #E8F0FE;\n",
              "      border: none;\n",
              "      border-radius: 50%;\n",
              "      cursor: pointer;\n",
              "      display: none;\n",
              "      fill: #1967D2;\n",
              "      height: 32px;\n",
              "      padding: 0 0 0 0;\n",
              "      width: 32px;\n",
              "    }\n",
              "\n",
              "    .colab-df-convert:hover {\n",
              "      background-color: #E2EBFA;\n",
              "      box-shadow: 0px 1px 2px rgba(60, 64, 67, 0.3), 0px 1px 3px 1px rgba(60, 64, 67, 0.15);\n",
              "      fill: #174EA6;\n",
              "    }\n",
              "\n",
              "    [theme=dark] .colab-df-convert {\n",
              "      background-color: #3B4455;\n",
              "      fill: #D2E3FC;\n",
              "    }\n",
              "\n",
              "    [theme=dark] .colab-df-convert:hover {\n",
              "      background-color: #434B5C;\n",
              "      box-shadow: 0px 1px 3px 1px rgba(0, 0, 0, 0.15);\n",
              "      filter: drop-shadow(0px 1px 2px rgba(0, 0, 0, 0.3));\n",
              "      fill: #FFFFFF;\n",
              "    }\n",
              "  </style>\n",
              "\n",
              "      <script>\n",
              "        const buttonEl =\n",
              "          document.querySelector('#df-4fd81028-afd8-49cc-8ece-b0e64d7cc4cb button.colab-df-convert');\n",
              "        buttonEl.style.display =\n",
              "          google.colab.kernel.accessAllowed ? 'block' : 'none';\n",
              "\n",
              "        async function convertToInteractive(key) {\n",
              "          const element = document.querySelector('#df-4fd81028-afd8-49cc-8ece-b0e64d7cc4cb');\n",
              "          const dataTable =\n",
              "            await google.colab.kernel.invokeFunction('convertToInteractive',\n",
              "                                                     [key], {});\n",
              "          if (!dataTable) return;\n",
              "\n",
              "          const docLinkHtml = 'Like what you see? Visit the ' +\n",
              "            '<a target=\"_blank\" href=https://colab.research.google.com/notebooks/data_table.ipynb>data table notebook</a>'\n",
              "            + ' to learn more about interactive tables.';\n",
              "          element.innerHTML = '';\n",
              "          dataTable['output_type'] = 'display_data';\n",
              "          await google.colab.output.renderOutput(dataTable, element);\n",
              "          const docLink = document.createElement('div');\n",
              "          docLink.innerHTML = docLinkHtml;\n",
              "          element.appendChild(docLink);\n",
              "        }\n",
              "      </script>\n",
              "    </div>\n",
              "  </div>\n",
              "  "
            ],
            "text/plain": [
              "              0         1         2         3         4         5         6  \\\n",
              "1481  -0.737416 -3.154516  1.293440 -0.212346 -0.427862  1.570126 -1.034215   \n",
              "13735 -1.228058 -1.349990 -0.472061 -0.437175  2.131557 -1.298382  1.729844   \n",
              "21627  1.941217 -0.779920 -1.079555 -1.070041 -1.671371 -1.083947 -0.515567   \n",
              "2286   1.567366  0.701208 -2.587476  0.340476 -0.812217 -0.033683  1.008988   \n",
              "22685  5.712408  0.027639  3.906997 -0.384054  0.758027 -1.023691 -0.805096   \n",
              "\n",
              "              7         8         9  ...        17        18        19  \\\n",
              "1481   0.384324  0.428458  0.335488  ...  0.398329  0.399855  0.067904   \n",
              "13735  1.126775  0.148709 -1.504516  ... -0.332260 -0.143147 -3.780104   \n",
              "21627  0.477640 -0.651547 -1.304151  ... -1.200434  0.020448 -1.530065   \n",
              "2286   0.823067 -0.011315 -0.709157  ... -0.176583  0.375612 -0.111367   \n",
              "22685  1.363156  0.835177 -1.637742  ... -1.984652  0.292338  0.161212   \n",
              "\n",
              "             20        21        22        23        24        25  \\\n",
              "1481  -0.243858  0.087190 -0.079897  0.267209 -0.424473 -0.013983   \n",
              "13735  0.994853 -0.099941  0.428157 -1.488992  2.173608 -0.554864   \n",
              "21627  0.561398  0.274514  0.215323 -1.056868  0.808886  0.028652   \n",
              "2286   0.198140 -0.824417  0.439029  0.398879  0.386775 -0.643070   \n",
              "22685 -0.435822  0.012248 -0.417976 -0.373250  0.073817  0.354763   \n",
              "\n",
              "       berlangganan_deposito  \n",
              "1481                       0  \n",
              "13735                      1  \n",
              "21627                      1  \n",
              "2286                       0  \n",
              "22685                      1  \n",
              "\n",
              "[5 rows x 27 columns]"
            ]
          },
          "execution_count": 89,
          "metadata": {},
          "output_type": "execute_result"
        }
      ],
      "source": [
        "df_bank_normal_distributed.head()"
      ]
    },
    {
      "cell_type": "markdown",
      "metadata": {
        "id": "KYXnXCxuEqVh"
      },
      "source": [
        "#### *Split attributes* dan target"
      ]
    },
    {
      "cell_type": "code",
      "execution_count": null,
      "metadata": {
        "colab": {
          "background_save": true
        },
        "id": "b-Oz6t9LEwDi"
      },
      "outputs": [],
      "source": [
        "X_train_balanced = df_bank_normal_distributed.drop('berlangganan_deposito', axis = 1)\n",
        "y_train_balanced = df_bank_normal_distributed['berlangganan_deposito']"
      ]
    },
    {
      "cell_type": "markdown",
      "metadata": {
        "id": "zsaG5Y6PE46I"
      },
      "source": [
        "#### Lihat distribusi dari data train yang sudah disampling"
      ]
    },
    {
      "cell_type": "code",
      "execution_count": null,
      "metadata": {
        "colab": {
          "background_save": true
        },
        "id": "qAPiwAJ2E-SB",
        "outputId": "009b19fd-d2ca-4a12-b1d1-5f7e0901b23d"
      },
      "outputs": [
        {
          "name": "stdout",
          "output_type": "stream",
          "text": [
            "Distribusi setiap kelas dari subsampel dataset\n",
            "0    0.5\n",
            "1    0.5\n",
            "Name: berlangganan_deposito, dtype: float64\n"
          ]
        }
      ],
      "source": [
        "print('Distribusi setiap kelas dari subsampel dataset')\n",
        "print(df_bank_normal_distributed['berlangganan_deposito'].value_counts() / len(df_bank_normal_distributed))"
      ]
    },
    {
      "cell_type": "code",
      "execution_count": null,
      "metadata": {
        "colab": {
          "background_save": true
        },
        "id": "2TNtRaX_FdJO",
        "outputId": "2492e82d-520b-464c-90a2-95fa5c069ac5"
      },
      "outputs": [
        {
          "data": {
            "image/png": "[encoded data removed]",
            "text/plain": [
              "<Figure size 1400x700 with 1 Axes>"
            ]
          },
          "metadata": {},
          "output_type": "display_data"
        }
      ],
      "source": [
        "plt.figure(figsize = (14,7))\n",
        "sns.countplot(x = 'berlangganan_deposito', data = df_bank_normal_distributed)\n",
        "plt.title('Distribusi kelas yang seimbang', size = 15)\n",
        "plt.xlabel('Berlangganan Deposito (Kelas)', size = 12)\n",
        "plt.ylabel('Jumlah', size = 12)\n",
        "plt.show()"
      ]
    },
    {
      "cell_type": "markdown",
      "metadata": {
        "id": "C7xfR66FGKm7"
      },
      "source": [
        "Data latih kita sudah memiliki proporsi kelas yang seimbang. Kini akan dilakukan training ulang pada model dan melihat evaluasinya dengan scoring **accuracy** karena subsample sudah disampling dengan seimbang"
      ]
    },
    {
      "cell_type": "markdown",
      "metadata": {
        "id": "EhDEVxW9GP52"
      },
      "source": [
        "### Training model dengan kelas data latih yang sudah seimbang"
      ]
    },
    {
      "cell_type": "markdown",
      "metadata": {
        "id": "-gJDkNVwGaG5"
      },
      "source": [
        "#### *Model Training*"
      ]
    },
    {
      "cell_type": "code",
      "execution_count": null,
      "metadata": {
        "colab": {
          "background_save": true
        },
        "id": "KaFi4LaoGZWj"
      },
      "outputs": [],
      "source": [
        "cv_results_accuracy, model_names, print_msg_accuracy = perform_model(models = models,\n",
        "                                                                     X_train = X_train_balanced,\n",
        "                                                                     y_train = y_train_balanced,\n",
        "                                                                     kfold = kfold,\n",
        "                                                                     scoring = scoring_accuracy\n",
        ")"
      ]
    },
    {
      "cell_type": "markdown",
      "metadata": {
        "id": "kPPAjCZsG0xW"
      },
      "source": [
        "### Lihat performa (akurasi) dari model yang sudah dilatih\n",
        "***\n",
        "Performa ini dilihat dari hasil *k-fold cross-validation* yang sudah dilakukan"
      ]
    },
    {
      "cell_type": "code",
      "execution_count": null,
      "metadata": {
        "colab": {
          "background_save": true
        },
        "id": "PuUVA_BjHARk",
        "outputId": "114405a3-bf5b-4c2a-c22f-8c97d8142c8f"
      },
      "outputs": [
        {
          "name": "stdout",
          "output_type": "stream",
          "text": [
            "Logistic Regression: mean accuracy = 0.8333333333333334  std accuracy = 0.011327192749119211\n",
            "K-Nearest Neighbor: mean accuracy = 0.7780026990553306  std accuracy = 0.013143180117857037\n",
            "Support Vector Machine: mean accuracy = 0.8705802968960862  std accuracy = 0.013447283080712575\n",
            "Decision Tree: mean accuracy = 0.7804318488529014  std accuracy = 0.014384344375029171\n",
            "Random Forest: mean accuracy = 0.8585695006747638  std accuracy = 0.012685560053981089\n",
            "Naive Bayes: mean accuracy = 0.7068825910931174  std accuracy = 0.014253976708783677\n"
          ]
        }
      ],
      "source": [
        "# Cetak hasil rata-rata akurasi setiap model\n",
        "for msg in print_msg_accuracy:\n",
        "    print(msg)"
      ]
    },
    {
      "cell_type": "code",
      "execution_count": null,
      "metadata": {
        "colab": {
          "background_save": true
        },
        "id": "PqCby-EhHE7O",
        "outputId": "3fd2cfe9-bacc-48f9-c166-576ba94de311"
      },
      "outputs": [
        {
          "data": {
            "image/png": "[encoded data removed]",
            "text/plain": [
              "<Figure size 800x400 with 1 Axes>"
            ]
          },
          "metadata": {},
          "output_type": "display_data"
        }
      ],
      "source": [
        "fig = plt.figure(figsize = (10,8))\n",
        "fig.suptitle('Hasil perbandingan akurasi setiap model klasifikasi dengan subsampel seimbang', size = 15)\n",
        "ax = fig.add_subplot(111)\n",
        "\n",
        "plt.boxplot(cv_results_accuracy)\n",
        "ax.set_xticklabels(model_names, rotation = 90)\n",
        "fig.set_size_inches(8,4)\n",
        "plt.show()"
      ]
    },
    {
      "cell_type": "markdown",
      "metadata": {
        "id": "hRFdtGhxHPOK"
      },
      "source": [
        "**ANALISIS**\n",
        "\n",
        "Model SVM tampil memberikan rata-rata akurasi tertinggi ketika model dilatih dengan data latih yang seimbang."
      ]
    },
    {
      "cell_type": "markdown",
      "metadata": {
        "id": "xol7u6kmHTx-"
      },
      "source": [
        "#### Melihat hasil klasifikasi SVM yang sudah dilatih dengan data uji"
      ]
    },
    {
      "cell_type": "code",
      "execution_count": null,
      "metadata": {
        "colab": {
          "background_save": true
        },
        "id": "XAK4ch3oHbiV"
      },
      "outputs": [],
      "source": [
        "# Inisialisasi model\n",
        "svm_balanced = SVC()\n",
        "\n",
        "# Fit model into training data\n",
        "svm_balanced.fit(X_train_balanced, y_train_balanced)\n",
        "\n",
        "# Get y prediction\n",
        "y_pred_balanced = svm_balanced.predict(X_test_pca)"
      ]
    },
    {
      "cell_type": "code",
      "execution_count": null,
      "metadata": {
        "colab": {
          "background_save": true
        },
        "id": "_UFpE2RHHiin",
        "outputId": "d8e6835b-ffd9-468d-a685-e09b137a2841"
      },
      "outputs": [
        {
          "name": "stdout",
          "output_type": "stream",
          "text": [
            "Accuracy score SVM with balanced subsample = 0.8425588735129886 %\n",
            "[[6082 1221]\n",
            " [  76  859]]\n",
            "              precision    recall  f1-score   support\n",
            "\n",
            "           0       0.99      0.83      0.90      7303\n",
            "           1       0.41      0.92      0.57       935\n",
            "\n",
            "    accuracy                           0.84      8238\n",
            "   macro avg       0.70      0.88      0.74      8238\n",
            "weighted avg       0.92      0.84      0.87      8238\n",
            "\n"
          ]
        }
      ],
      "source": [
        "# Print score\n",
        "print(\"Accuracy score SVM with balanced subsample =\", metrics.accuracy_score(y_test, y_pred_balanced),\"%\")\n",
        "\n",
        "# Confusion matrix\n",
        "print(metrics.confusion_matrix(y_test, y_pred_balanced))\n",
        "\n",
        "# Hasil klasifikasi\n",
        "print(metrics.classification_report(y_test, y_pred_balanced))"
      ]
    },
    {
      "cell_type": "markdown",
      "metadata": {
        "id": "-fDV9zlFHvtA"
      },
      "source": [
        "**ANALISIS**\n",
        "\n",
        "Hasil *confusion matrix* pada model SVM yang dilatih dengan sample yang balanced menunjukkan adanya peningkatan nilai **recall** kelas '1'.\n",
        "\n",
        "1. Sebelum dilakukan under-sampling nilai recall untuk kelas '1' yaitu 0.44, sedangkan setelah di-undersampling menjadi 0.92 (**peningkatannya drastis**)\n",
        "2. Terjadi penurunan **recall** untuk kelas '0' setelah undersampling dari 0.93 menjadi 0.83. Penurunannya tidak sebesar pada kenaikan recall untuk kelas '1'\n",
        "3. Model SVM ini juga memberikan nilai akurasi yang terbilang cukup baik sebesar 84,17%\n",
        "\n",
        "**Penting!**\n",
        "\n",
        "Nilai-nilai yang dihasilkan mungkin bervariasi seiring kode program dijalankan dan komputer yang digunakan. Namun, saat dijalankan SVM muncul memberikan hasil seperti di atas"
      ]
    },
    {
      "cell_type": "markdown",
      "metadata": {
        "id": "GsK9H093IEYW"
      },
      "source": [
        "### *Tuning hyperparameter* dari model terbaik\n",
        "***\n",
        "SVM tampil dengan nilai rata-rata akurasi tertinggi serta memberikan hasil recall yang bagus. Selanjutnya *hyperparameter* dari SVM akan dilakukan *tuning* untuk bisa mendapatkan performa yang lebih optimal"
      ]
    },
    {
      "cell_type": "code",
      "execution_count": null,
      "metadata": {
        "colab": {
          "background_save": true
        },
        "id": "JgpsRyU0IQhW"
      },
      "outputs": [],
      "source": [
        "# Inisialisasi SVM model\n",
        "svm_params_tuned = SVC()\n",
        "\n",
        "# Inisialisasi objek KFold dengan k=10\n",
        "kfold = kfold\n",
        "\n",
        "# Inisialisasi daftar hyperparameter yang akan dituning\n",
        "params_grid = {\n",
        "    'kernel' : ['linear', 'poly', 'rbf'],\n",
        "    'gamma': ['scale','auto'],\n",
        "}\n",
        "\n",
        "# Instansiasi grid seach objek\n",
        "grid_svm = GridSearchCV(\n",
        "    estimator = svm_params_tuned,\n",
        "    param_grid = params_grid,\n",
        "    scoring = scoring_accuracy,\n",
        "    cv = kfold\n",
        ")\n",
        "\n",
        "# Fit grid objek ke data train\n",
        "grid_results_ = grid_svm.fit(X_train_balanced, y_train_balanced)"
      ]
    },
    {
      "cell_type": "code",
      "execution_count": null,
      "metadata": {
        "colab": {
          "background_save": true
        },
        "id": "TKikmccsIl_i",
        "outputId": "545fae64-7f71-43f6-8536-a5eb6ef2496a"
      },
      "outputs": [
        {
          "name": "stdout",
          "output_type": "stream",
          "text": [
            "Best SVM Hyperparameter: {'gamma': 'scale', 'kernel': 'rbf'}\n",
            "Best SVM Accuracy Score: 0.8705802968960862\n"
          ]
        }
      ],
      "source": [
        "# Cetak hyperparameter yang memberikan hasil terbaik\n",
        "print('Best SVM Hyperparameter: {}'.format(grid_results_.best_params_))\n",
        "print('Best SVM Accuracy Score: {}'.format(grid_results_.best_score_))"
      ]
    },
    {
      "cell_type": "markdown",
      "metadata": {
        "id": "0CPmqKt_IySh"
      },
      "source": [
        "# Finalisasi Model"
      ]
    },
    {
      "cell_type": "markdown",
      "metadata": {
        "id": "CZ_0CTuNJfI-"
      },
      "source": [
        "#### *Training model* dengan *hyperparameter* optimal"
      ]
    },
    {
      "cell_type": "code",
      "execution_count": null,
      "metadata": {
        "colab": {
          "background_save": true
        },
        "id": "oQDM_qBNJYuh"
      },
      "outputs": [],
      "source": [
        "# Instansiasi objek SVM dengan hyperparameter optimal\n",
        "svm_final = SVC(gamma = grid_results_.best_params_['gamma'], kernel = grid_results_.best_params_['kernel'])\n",
        "\n",
        "# Training\n",
        "svm_final.fit(X_train_balanced, y_train_balanced)\n",
        "\n",
        "# Model evaluation using data testing\n",
        "y_pred_final = svm_final.predict(X_test_pca)"
      ]
    },
    {
      "cell_type": "markdown",
      "metadata": {
        "id": "7U4Y7f5GJ3Sb"
      },
      "source": [
        "#### Cetak hasil model yang sudah dievaluasi"
      ]
    },
    {
      "cell_type": "code",
      "execution_count": null,
      "metadata": {
        "colab": {
          "background_save": true
        },
        "id": "5Xaria9wJ94N",
        "outputId": "c97d5c1f-df1d-40bc-adbe-c5a543f887ac"
      },
      "outputs": [
        {
          "name": "stdout",
          "output_type": "stream",
          "text": [
            "Accuracy score Final Model SVM = 0.8425588735129886 %\n",
            "[[6082 1221]\n",
            " [  76  859]]\n",
            "              precision    recall  f1-score   support\n",
            "\n",
            "           0       0.99      0.83      0.90      7303\n",
            "           1       0.41      0.92      0.57       935\n",
            "\n",
            "    accuracy                           0.84      8238\n",
            "   macro avg       0.70      0.88      0.74      8238\n",
            "weighted avg       0.92      0.84      0.87      8238\n",
            "\n"
          ]
        }
      ],
      "source": [
        "# Print score\n",
        "print(\"Accuracy score Final Model SVM =\", metrics.accuracy_score(y_test, y_pred_final),\"%\")\n",
        "\n",
        "# Confusion matrix\n",
        "print(metrics.confusion_matrix(y_test, y_pred_final))\n",
        "\n",
        "# Hasil klasifikasi\n",
        "print(metrics.classification_report(y_test, y_pred_final))"
      ]
    },
    {
      "cell_type": "markdown",
      "metadata": {
        "id": "hOmRXL_eKUNE"
      },
      "source": [
        "Model SVM Final memberikan **recall** untuk kedua kelas yang sangat baik. Pengaturan hyperparameter untuk SVM final adalah kernel **rbf** dan **gamma scale**. Selanjutnya model ini siap untuk masuk ke tahap *deployment*"
      ]
    }
  ],
  "metadata": {
    "colab": {
      "provenance": [],
      "authorship_tag": "ABX9TyP3IPpFmvssv605Bfmik0Kb",
      "include_colab_link": true
    },
    "gpuClass": "standard",
    "kernelspec": {
      "display_name": "Python 3",
      "name": "python3"
    },
    "language_info": {
      "name": "python"
    }
  },
  "nbformat": 4,
  "nbformat_minor": 0
}