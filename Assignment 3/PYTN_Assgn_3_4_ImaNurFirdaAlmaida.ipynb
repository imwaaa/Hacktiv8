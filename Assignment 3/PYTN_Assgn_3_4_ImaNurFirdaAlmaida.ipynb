{
 "cells": [
  {
   "cell_type": "markdown",
   "metadata": {
    "id": "vmLF2ZqfMam7"
   },
   "source": [
    "# *About Dataset*"
   ]
  },
  {
   "cell_type": "markdown",
   "metadata": {
    "id": "4nbkZbsMMg4-"
   },
   "source": [
    "Data ini, diproses dari file *\n",
    "\n",
    "Data tersebut terkait dengan kampanye pemasaran langsung dari lembaga perbankan Portugis. Kampanye pemasaran didasarkan pada panggilan telepon. Seringkali, lebih dari satu kontak ke klien yang sama diperlukan, untuk mengakses apakah produk (deposit berjangka bank) akan ('yes') atau tidak ('no') berlangganan.\n",
    "\n",
    "Ada empat dataset :\n",
    "1. **bank-additional-full.csv** dengan semua contoh (41188) dan 20 input, diurutkan berdasarkan tanggal (dari Mei 2008 hingga November hingga November 2010), sangat mirip dengan data yang dianalisis dalam [Moro et al., 2014]\n",
    "2. **bank-additional.csv** dengan 10% contoh (4119), dipilih secara acak dari 1), dan 20 masukan.\n",
    "3. **bank-full.csv** dengan semua contoh dan 17 input, diurutkan berdasarkan tanggal (versi lama dari kumpulan data ini dengan input yang lebih sedikit).\n",
    "4. **bank.csv** dengan 10% contoh dan 17 input, dipilih secara acak dari 3 (versi lama dari kumpulan data ini dengan input lebih sedikit).\n",
    "\n",
    "Kumpulan data terkecil disediakan untuk menguji algoritme pembelajaran mesin yang lebih menuntut komputasi (mis., SVM).\n",
    "\n",
    "Tujuan klasifikasi adalah untuk memprediksi apakah klien akan berlangganan (yes/no) deposito berjangka (variabel y).\n",
    "\n",
    "Kumpulan data ini berisi:\n",
    "\n",
    "Variabel masukan :\n",
    "\n",
    "**# bank client data** :\n",
    "* 1 - age (numeric)\n",
    "* 2 - job : type of job (categorical:'admin.','blue-collar','entrepreneur','housemaid','management','retired','self-employed','service','student','technician','unemployed','unknwon')\n",
    "* 3 - marital : marital status (categorical: 'divorced','married','single','unknown';note:'divorced' means divorced or windowed)\n",
    "* 4 - education (categorical: 'basic.4y','basic.6y','basic.9y','high.school','illeterate','professional.course','university.degree','unknown')\n",
    "* 5 - default: has credit in default? (categorical: 'no','yes','unknown')\n",
    "* 6 - housing: has housing loan? (categorical: 'no','yes','unknown')\n",
    "* 7 - loan: has personal loan? (categorical: 'no','yes','unknown')\n",
    "\n",
    "**# related with the last contact of the currwnt campaign** :\n",
    "* 8 - contact: contact communication type (categorical: 'cellular','telephone')\n",
    "* 9 - month: last contact month of year (categorical: 'jan','feb','mar',...,'nov','dec')\n",
    "* 10 - day_of_week: last contact day of the week (categorical: 'mon','tue','wed','thu','fri')\n",
    "* 11 - duration: last contact duration, in seconds (numeric). Important note: this attribute highly affects the output target (e.g., if duration=0 then y='no'). Yet, the duration is not known before a call is performed. Also, after the end of the call y is obviously known. \n",
    "Thus, this input should only be included for benchmark purposes and should be discarded if the intention is to have a realistic predictive model.\n",
    "\n",
    "**# other attributes** :\n",
    "* 12 - campaign: number of contacts performed during this campaign and for this client (numeric, includes last contact)\n",
    "* 13 - pdays: number of days that passed by after the client was last contacted from a previous campaign (numeric; 999 means client was not previously contacted)\n",
    "* 14 - previous: number of contacts performed before this campaign and for this client (numeric)\n",
    "* 15 - poutcome: outcome of the previous marketing campaign (categorical: 'failure','nonexistent','success')\n",
    "\n",
    "**# social and economic context attributes** :\n",
    "* 16 - emp.var.rate: employment variation rate - quarterly indicator (numeric)\n",
    "* 17 - cons.price.idx: consumer price index - monthly indicator (numeric)\n",
    "* 18 - cons.conf.idx: consumer confidence index - monthly indicator (numeric)\n",
    "* 19 - euribor3m: euribor 3 month rate - daily indicator (numeric)\n",
    "* 20 - nr.employed: number of employees - quarterly indicator (numeric)\n",
    "\n",
    "**# output variable (desired target)** :\n",
    "* 21 - y - has the client subscribed a term deposit? (binary: '**yes**','**no**')\n"
   ]
  },
  {
   "cell_type": "markdown",
   "metadata": {
    "id": "jWrYTb8MMCbk"
   },
   "source": [
    "# *Import Required Libraries*"
   ]
  },
  {
   "cell_type": "code",
   "execution_count": 153,
   "metadata": {
    "id": "T9BDLzStLX-2"
   },
   "outputs": [],
   "source": [
    "# Data processing\n",
    "import pandas as pd\n",
    "import numpy as np\n",
    "\n",
    "# Visualization tools\n",
    "import matplotlib.pyplot as plt\n",
    "import seaborn as sns\n",
    "\n",
    "# Machine learning process\n",
    "from sklearn.model_selection import train_test_split, cross_val_score, GridSearchCV, KFold\n",
    "from sklearn.preprocessing import LabelEncoder, MinMaxScaler, StandardScaler\n",
    "from sklearn.impute import SimpleImputer\n",
    "from sklearn.pipeline import Pipeline\n",
    "from sklearn.naive_bayes import GaussianNB\n",
    "from sklearn.tree import DecisionTreeClassifier\n",
    "from sklearn.neighbors import KNeighborsClassifier\n",
    "from sklearn.ensemble import RandomForestClassifier\n",
    "from sklearn.svm import SVC\n",
    "from sklearn.linear_model import LogisticRegression\n",
    "from sklearn import metrics\n",
    "\n",
    "# Features analysis libraries\n",
    "from sklearn.feature_selection import SelectKBest\n",
    "from sklearn.feature_selection import f_classif\n",
    "from sklearn.feature_selection import chi2,mutual_info_classif\n",
    "from sklearn.decomposition import PCA\n",
    "\n",
    "%matplotlib inline"
   ]
  },
  {
   "cell_type": "markdown",
   "metadata": {
    "id": "1vN9JHRLvVt2"
   },
   "source": [
    "# *Data Loading*"
   ]
  },
  {
   "cell_type": "markdown",
   "metadata": {
    "id": "KyIfmNyKveAh"
   },
   "source": [
    "## Bank Additional"
   ]
  },
  {
   "cell_type": "code",
   "execution_count": 154,
   "metadata": {
    "id": "GvuIhAy-vc6G"
   },
   "outputs": [],
   "source": [
    "df_bank = pd.read_csv('bank-additional-full.csv', sep = ';')"
   ]
  },
  {
   "cell_type": "code",
   "execution_count": 155,
   "metadata": {
    "colab": {
     "base_uri": "https://localhost:8080/",
     "height": 299
    },
    "id": "ai89BKw3w0IY",
    "outputId": "d009e909-8fe3-430a-c038-4883d505c0a2"
   },
   "outputs": [
    {
     "data": {
      "text/html": [
       "\n",
       "  <div id=\"df-34e982e5-8448-4cf7-a0d2-6874afd33b41\">\n",
       "    <div class=\"colab-df-container\">\n",
       "      <div>\n",
       "<style scoped>\n",
       "    .dataframe tbody tr th:only-of-type {\n",
       "        vertical-align: middle;\n",
       "    }\n",
       "\n",
       "    .dataframe tbody tr th {\n",
       "        vertical-align: top;\n",
       "    }\n",
       "\n",
       "    .dataframe thead th {\n",
       "        text-align: right;\n",
       "    }\n",
       "</style>\n",
       "<table border=\"1\" class=\"dataframe\">\n",
       "  <thead>\n",
       "    <tr style=\"text-align: right;\">\n",
       "      <th></th>\n",
       "      <th>age</th>\n",
       "      <th>job</th>\n",
       "      <th>marital</th>\n",
       "      <th>education</th>\n",
       "      <th>default</th>\n",
       "      <th>housing</th>\n",
       "      <th>loan</th>\n",
       "      <th>contact</th>\n",
       "      <th>month</th>\n",
       "      <th>day_of_week</th>\n",
       "      <th>...</th>\n",
       "      <th>campaign</th>\n",
       "      <th>pdays</th>\n",
       "      <th>previous</th>\n",
       "      <th>poutcome</th>\n",
       "      <th>emp.var.rate</th>\n",
       "      <th>cons.price.idx</th>\n",
       "      <th>cons.conf.idx</th>\n",
       "      <th>euribor3m</th>\n",
       "      <th>nr.employed</th>\n",
       "      <th>y</th>\n",
       "    </tr>\n",
       "  </thead>\n",
       "  <tbody>\n",
       "    <tr>\n",
       "      <th>0</th>\n",
       "      <td>56</td>\n",
       "      <td>housemaid</td>\n",
       "      <td>married</td>\n",
       "      <td>basic.4y</td>\n",
       "      <td>no</td>\n",
       "      <td>no</td>\n",
       "      <td>no</td>\n",
       "      <td>telephone</td>\n",
       "      <td>may</td>\n",
       "      <td>mon</td>\n",
       "      <td>...</td>\n",
       "      <td>1</td>\n",
       "      <td>999</td>\n",
       "      <td>0</td>\n",
       "      <td>nonexistent</td>\n",
       "      <td>1.1</td>\n",
       "      <td>93.994</td>\n",
       "      <td>-36.4</td>\n",
       "      <td>4.857</td>\n",
       "      <td>5191.0</td>\n",
       "      <td>no</td>\n",
       "    </tr>\n",
       "    <tr>\n",
       "      <th>1</th>\n",
       "      <td>57</td>\n",
       "      <td>services</td>\n",
       "      <td>married</td>\n",
       "      <td>high.school</td>\n",
       "      <td>unknown</td>\n",
       "      <td>no</td>\n",
       "      <td>no</td>\n",
       "      <td>telephone</td>\n",
       "      <td>may</td>\n",
       "      <td>mon</td>\n",
       "      <td>...</td>\n",
       "      <td>1</td>\n",
       "      <td>999</td>\n",
       "      <td>0</td>\n",
       "      <td>nonexistent</td>\n",
       "      <td>1.1</td>\n",
       "      <td>93.994</td>\n",
       "      <td>-36.4</td>\n",
       "      <td>4.857</td>\n",
       "      <td>5191.0</td>\n",
       "      <td>no</td>\n",
       "    </tr>\n",
       "    <tr>\n",
       "      <th>2</th>\n",
       "      <td>37</td>\n",
       "      <td>services</td>\n",
       "      <td>married</td>\n",
       "      <td>high.school</td>\n",
       "      <td>no</td>\n",
       "      <td>yes</td>\n",
       "      <td>no</td>\n",
       "      <td>telephone</td>\n",
       "      <td>may</td>\n",
       "      <td>mon</td>\n",
       "      <td>...</td>\n",
       "      <td>1</td>\n",
       "      <td>999</td>\n",
       "      <td>0</td>\n",
       "      <td>nonexistent</td>\n",
       "      <td>1.1</td>\n",
       "      <td>93.994</td>\n",
       "      <td>-36.4</td>\n",
       "      <td>4.857</td>\n",
       "      <td>5191.0</td>\n",
       "      <td>no</td>\n",
       "    </tr>\n",
       "    <tr>\n",
       "      <th>3</th>\n",
       "      <td>40</td>\n",
       "      <td>admin.</td>\n",
       "      <td>married</td>\n",
       "      <td>basic.6y</td>\n",
       "      <td>no</td>\n",
       "      <td>no</td>\n",
       "      <td>no</td>\n",
       "      <td>telephone</td>\n",
       "      <td>may</td>\n",
       "      <td>mon</td>\n",
       "      <td>...</td>\n",
       "      <td>1</td>\n",
       "      <td>999</td>\n",
       "      <td>0</td>\n",
       "      <td>nonexistent</td>\n",
       "      <td>1.1</td>\n",
       "      <td>93.994</td>\n",
       "      <td>-36.4</td>\n",
       "      <td>4.857</td>\n",
       "      <td>5191.0</td>\n",
       "      <td>no</td>\n",
       "    </tr>\n",
       "    <tr>\n",
       "      <th>4</th>\n",
       "      <td>56</td>\n",
       "      <td>services</td>\n",
       "      <td>married</td>\n",
       "      <td>high.school</td>\n",
       "      <td>no</td>\n",
       "      <td>no</td>\n",
       "      <td>yes</td>\n",
       "      <td>telephone</td>\n",
       "      <td>may</td>\n",
       "      <td>mon</td>\n",
       "      <td>...</td>\n",
       "      <td>1</td>\n",
       "      <td>999</td>\n",
       "      <td>0</td>\n",
       "      <td>nonexistent</td>\n",
       "      <td>1.1</td>\n",
       "      <td>93.994</td>\n",
       "      <td>-36.4</td>\n",
       "      <td>4.857</td>\n",
       "      <td>5191.0</td>\n",
       "      <td>no</td>\n",
       "    </tr>\n",
       "  </tbody>\n",
       "</table>\n",
       "<p>5 rows × 21 columns</p>\n",
       "</div>\n",
       "      <button class=\"colab-df-convert\" onclick=\"convertToInteractive('df-34e982e5-8448-4cf7-a0d2-6874afd33b41')\"\n",
       "              title=\"Convert this dataframe to an interactive table.\"\n",
       "              style=\"display:none;\">\n",
       "        \n",
       "  <svg xmlns=\"http://www.w3.org/2000/svg\" height=\"24px\"viewBox=\"0 0 24 24\"\n",
       "       width=\"24px\">\n",
       "    <path d=\"M0 0h24v24H0V0z\" fill=\"none\"/>\n",
       "    <path d=\"M18.56 5.44l.94 2.06.94-2.06 2.06-.94-2.06-.94-.94-2.06-.94 2.06-2.06.94zm-11 1L8.5 8.5l.94-2.06 2.06-.94-2.06-.94L8.5 2.5l-.94 2.06-2.06.94zm10 10l.94 2.06.94-2.06 2.06-.94-2.06-.94-.94-2.06-.94 2.06-2.06.94z\"/><path d=\"M17.41 7.96l-1.37-1.37c-.4-.4-.92-.59-1.43-.59-.52 0-1.04.2-1.43.59L10.3 9.45l-7.72 7.72c-.78.78-.78 2.05 0 2.83L4 21.41c.39.39.9.59 1.41.59.51 0 1.02-.2 1.41-.59l7.78-7.78 2.81-2.81c.8-.78.8-2.07 0-2.86zM5.41 20L4 18.59l7.72-7.72 1.47 1.35L5.41 20z\"/>\n",
       "  </svg>\n",
       "      </button>\n",
       "      \n",
       "  <style>\n",
       "    .colab-df-container {\n",
       "      display:flex;\n",
       "      flex-wrap:wrap;\n",
       "      gap: 12px;\n",
       "    }\n",
       "\n",
       "    .colab-df-convert {\n",
       "      background-color: #E8F0FE;\n",
       "      border: none;\n",
       "      border-radius: 50%;\n",
       "      cursor: pointer;\n",
       "      display: none;\n",
       "      fill: #1967D2;\n",
       "      height: 32px;\n",
       "      padding: 0 0 0 0;\n",
       "      width: 32px;\n",
       "    }\n",
       "\n",
       "    .colab-df-convert:hover {\n",
       "      background-color: #E2EBFA;\n",
       "      box-shadow: 0px 1px 2px rgba(60, 64, 67, 0.3), 0px 1px 3px 1px rgba(60, 64, 67, 0.15);\n",
       "      fill: #174EA6;\n",
       "    }\n",
       "\n",
       "    [theme=dark] .colab-df-convert {\n",
       "      background-color: #3B4455;\n",
       "      fill: #D2E3FC;\n",
       "    }\n",
       "\n",
       "    [theme=dark] .colab-df-convert:hover {\n",
       "      background-color: #434B5C;\n",
       "      box-shadow: 0px 1px 3px 1px rgba(0, 0, 0, 0.15);\n",
       "      filter: drop-shadow(0px 1px 2px rgba(0, 0, 0, 0.3));\n",
       "      fill: #FFFFFF;\n",
       "    }\n",
       "  </style>\n",
       "\n",
       "      <script>\n",
       "        const buttonEl =\n",
       "          document.querySelector('#df-34e982e5-8448-4cf7-a0d2-6874afd33b41 button.colab-df-convert');\n",
       "        buttonEl.style.display =\n",
       "          google.colab.kernel.accessAllowed ? 'block' : 'none';\n",
       "\n",
       "        async function convertToInteractive(key) {\n",
       "          const element = document.querySelector('#df-34e982e5-8448-4cf7-a0d2-6874afd33b41');\n",
       "          const dataTable =\n",
       "            await google.colab.kernel.invokeFunction('convertToInteractive',\n",
       "                                                     [key], {});\n",
       "          if (!dataTable) return;\n",
       "\n",
       "          const docLinkHtml = 'Like what you see? Visit the ' +\n",
       "            '<a target=\"_blank\" href=https://colab.research.google.com/notebooks/data_table.ipynb>data table notebook</a>'\n",
       "            + ' to learn more about interactive tables.';\n",
       "          element.innerHTML = '';\n",
       "          dataTable['output_type'] = 'display_data';\n",
       "          await google.colab.output.renderOutput(dataTable, element);\n",
       "          const docLink = document.createElement('div');\n",
       "          docLink.innerHTML = docLinkHtml;\n",
       "          element.appendChild(docLink);\n",
       "        }\n",
       "      </script>\n",
       "    </div>\n",
       "  </div>\n",
       "  "
      ],
      "text/plain": [
       "   age        job  marital    education  default housing loan    contact  \\\n",
       "0   56  housemaid  married     basic.4y       no      no   no  telephone   \n",
       "1   57   services  married  high.school  unknown      no   no  telephone   \n",
       "2   37   services  married  high.school       no     yes   no  telephone   \n",
       "3   40     admin.  married     basic.6y       no      no   no  telephone   \n",
       "4   56   services  married  high.school       no      no  yes  telephone   \n",
       "\n",
       "  month day_of_week  ...  campaign  pdays  previous     poutcome emp.var.rate  \\\n",
       "0   may         mon  ...         1    999         0  nonexistent          1.1   \n",
       "1   may         mon  ...         1    999         0  nonexistent          1.1   \n",
       "2   may         mon  ...         1    999         0  nonexistent          1.1   \n",
       "3   may         mon  ...         1    999         0  nonexistent          1.1   \n",
       "4   may         mon  ...         1    999         0  nonexistent          1.1   \n",
       "\n",
       "   cons.price.idx  cons.conf.idx  euribor3m  nr.employed   y  \n",
       "0          93.994          -36.4      4.857       5191.0  no  \n",
       "1          93.994          -36.4      4.857       5191.0  no  \n",
       "2          93.994          -36.4      4.857       5191.0  no  \n",
       "3          93.994          -36.4      4.857       5191.0  no  \n",
       "4          93.994          -36.4      4.857       5191.0  no  \n",
       "\n",
       "[5 rows x 21 columns]"
      ]
     },
     "execution_count": 155,
     "metadata": {},
     "output_type": "execute_result"
    }
   ],
   "source": [
    "# Menampilkan 5 data teratas\n",
    "df_bank.head()"
   ]
  },
  {
   "cell_type": "markdown",
   "metadata": {
    "id": "IG5ud21mzGEm"
   },
   "source": [
    "# *Bank Additional Description*"
   ]
  },
  {
   "cell_type": "markdown",
   "metadata": {
    "id": "DfyDg0lBzM0k"
   },
   "source": [
    "### Mengetahui dimensi dataset"
   ]
  },
  {
   "cell_type": "code",
   "execution_count": 156,
   "metadata": {
    "colab": {
     "base_uri": "https://localhost:8080/"
    },
    "id": "lAYJPDUNzCFD",
    "outputId": "9641810b-55a9-4fe2-84b2-5b4f6c2b2aeb"
   },
   "outputs": [
    {
     "name": "stdout",
     "output_type": "stream",
     "text": [
      "Dimensi data =  (41188, 21)\n"
     ]
    }
   ],
   "source": [
    "print(\"Dimensi data = \", df_bank.shape)"
   ]
  },
  {
   "cell_type": "markdown",
   "metadata": {
    "id": "4_C9cTfuzVTk"
   },
   "source": [
    "### Mengetahui daftar atriibut/fitur dari dataset"
   ]
  },
  {
   "cell_type": "code",
   "execution_count": 157,
   "metadata": {
    "colab": {
     "base_uri": "https://localhost:8080/"
    },
    "id": "_mcjYVGKzhir",
    "outputId": "3036dd7c-4646-401b-961d-15b83dabfb4f"
   },
   "outputs": [
    {
     "name": "stdout",
     "output_type": "stream",
     "text": [
      "<class 'pandas.core.frame.DataFrame'>\n",
      "RangeIndex: 41188 entries, 0 to 41187\n",
      "Data columns (total 21 columns):\n",
      " #   Column          Non-Null Count  Dtype  \n",
      "---  ------          --------------  -----  \n",
      " 0   age             41188 non-null  int64  \n",
      " 1   job             41188 non-null  object \n",
      " 2   marital         41188 non-null  object \n",
      " 3   education       41188 non-null  object \n",
      " 4   default         41188 non-null  object \n",
      " 5   housing         41188 non-null  object \n",
      " 6   loan            41188 non-null  object \n",
      " 7   contact         41188 non-null  object \n",
      " 8   month           41188 non-null  object \n",
      " 9   day_of_week     41188 non-null  object \n",
      " 10  duration        41188 non-null  int64  \n",
      " 11  campaign        41188 non-null  int64  \n",
      " 12  pdays           41188 non-null  int64  \n",
      " 13  previous        41188 non-null  int64  \n",
      " 14  poutcome        41188 non-null  object \n",
      " 15  emp.var.rate    41188 non-null  float64\n",
      " 16  cons.price.idx  41188 non-null  float64\n",
      " 17  cons.conf.idx   41188 non-null  float64\n",
      " 18  euribor3m       41188 non-null  float64\n",
      " 19  nr.employed     41188 non-null  float64\n",
      " 20  y               41188 non-null  object \n",
      "dtypes: float64(5), int64(5), object(11)\n",
      "memory usage: 6.6+ MB\n"
     ]
    }
   ],
   "source": [
    "df_bank.info()"
   ]
  },
  {
   "cell_type": "markdown",
   "metadata": {
    "id": "08ihLcvEznFf"
   },
   "source": [
    "**ANALISIS**\n",
    "\n",
    "Terlihat bahwa tidak ada missing values pada data. Hal ini cukup aneh. Missing values akan diperiksa lebih lanjut.\n",
    "\n",
    "Daftar Atribut Kategorikal:\n",
    "1. job\n",
    "2. marital\n",
    "3. education\n",
    "4. default\n",
    "5. housing\n",
    "6. loan\n",
    "7. contact\n",
    "8. month\n",
    "9. day_of_week\n",
    "10. poutcome\n",
    "11. y (target)\n",
    "\n",
    "Daftar Atribut Numerikal:\n",
    "1. Age\n",
    "2. duration (in seconds)\n",
    "3. campaign\n",
    "4. pdays\n",
    "5. previous\n",
    "6. emp.var.rate\n",
    "7. cons.price.idx\n",
    "8. cons.conf.idx\n",
    "9. euribor3m\n",
    "10. nr.employed"
   ]
  },
  {
   "cell_type": "markdown",
   "metadata": {
    "id": "2-qVlbrL0buS"
   },
   "source": [
    "### Mengelompokkan atribut berdasarkan tipe datanya"
   ]
  },
  {
   "cell_type": "code",
   "execution_count": 158,
   "metadata": {
    "id": "Bi8SZOXEzt_4"
   },
   "outputs": [],
   "source": [
    "categorical_columns = list(df_bank.select_dtypes(include = ['object']))\n",
    "numerical_columns = list(df_bank.select_dtypes(include = ['int64']).columns.values) + list(df_bank.select_dtypes(include = ['float64']).columns.values)"
   ]
  },
  {
   "cell_type": "code",
   "execution_count": 159,
   "metadata": {
    "colab": {
     "base_uri": "https://localhost:8080/"
    },
    "id": "KJKxr-8n03ju",
    "outputId": "e28aebd5-bc3d-4f43-da8d-7f98142ae829"
   },
   "outputs": [
    {
     "data": {
      "text/plain": [
       "['job',\n",
       " 'marital',\n",
       " 'education',\n",
       " 'default',\n",
       " 'housing',\n",
       " 'loan',\n",
       " 'contact',\n",
       " 'month',\n",
       " 'day_of_week',\n",
       " 'poutcome',\n",
       " 'y']"
      ]
     },
     "execution_count": 159,
     "metadata": {},
     "output_type": "execute_result"
    }
   ],
   "source": [
    "# Menampilkan variabel yang kategorikal\n",
    "categorical_columns"
   ]
  },
  {
   "cell_type": "code",
   "execution_count": 160,
   "metadata": {
    "colab": {
     "base_uri": "https://localhost:8080/"
    },
    "id": "Op17boy80tTp",
    "outputId": "13ac4cdc-e601-4fd0-840a-5ad5a4309dd3"
   },
   "outputs": [
    {
     "data": {
      "text/plain": [
       "['age',\n",
       " 'duration',\n",
       " 'campaign',\n",
       " 'pdays',\n",
       " 'previous',\n",
       " 'emp.var.rate',\n",
       " 'cons.price.idx',\n",
       " 'cons.conf.idx',\n",
       " 'euribor3m',\n",
       " 'nr.employed']"
      ]
     },
     "execution_count": 160,
     "metadata": {},
     "output_type": "execute_result"
    }
   ],
   "source": [
    "# Menampilkan variabel yang numerik\n",
    "numerical_columns"
   ]
  },
  {
   "cell_type": "markdown",
   "metadata": {
    "id": "V1wxVtvE2zqs"
   },
   "source": [
    "Terlihat bahwa tipe data pada dataset sudah sesuai dengan apa yang seharusnya"
   ]
  },
  {
   "cell_type": "markdown",
   "metadata": {
    "id": "2fsSePr723Bz"
   },
   "source": [
    "### Deskriptif statistik untuk atribut numerikal"
   ]
  },
  {
   "cell_type": "code",
   "execution_count": 161,
   "metadata": {
    "colab": {
     "base_uri": "https://localhost:8080/",
     "height": 300
    },
    "id": "mRAXZzZX27Uw",
    "outputId": "bfd1e97f-cbff-4db6-ba6e-6a937f2f3869"
   },
   "outputs": [
    {
     "data": {
      "text/html": [
       "\n",
       "  <div id=\"df-41e7ca92-e1c2-4ea5-ad0a-e39185c89b21\">\n",
       "    <div class=\"colab-df-container\">\n",
       "      <div>\n",
       "<style scoped>\n",
       "    .dataframe tbody tr th:only-of-type {\n",
       "        vertical-align: middle;\n",
       "    }\n",
       "\n",
       "    .dataframe tbody tr th {\n",
       "        vertical-align: top;\n",
       "    }\n",
       "\n",
       "    .dataframe thead th {\n",
       "        text-align: right;\n",
       "    }\n",
       "</style>\n",
       "<table border=\"1\" class=\"dataframe\">\n",
       "  <thead>\n",
       "    <tr style=\"text-align: right;\">\n",
       "      <th></th>\n",
       "      <th>age</th>\n",
       "      <th>duration</th>\n",
       "      <th>campaign</th>\n",
       "      <th>pdays</th>\n",
       "      <th>previous</th>\n",
       "      <th>emp.var.rate</th>\n",
       "      <th>cons.price.idx</th>\n",
       "      <th>cons.conf.idx</th>\n",
       "      <th>euribor3m</th>\n",
       "      <th>nr.employed</th>\n",
       "    </tr>\n",
       "  </thead>\n",
       "  <tbody>\n",
       "    <tr>\n",
       "      <th>count</th>\n",
       "      <td>41188.00000</td>\n",
       "      <td>41188.000000</td>\n",
       "      <td>41188.000000</td>\n",
       "      <td>41188.000000</td>\n",
       "      <td>41188.000000</td>\n",
       "      <td>41188.000000</td>\n",
       "      <td>41188.000000</td>\n",
       "      <td>41188.000000</td>\n",
       "      <td>41188.000000</td>\n",
       "      <td>41188.000000</td>\n",
       "    </tr>\n",
       "    <tr>\n",
       "      <th>mean</th>\n",
       "      <td>40.02406</td>\n",
       "      <td>258.285010</td>\n",
       "      <td>2.567593</td>\n",
       "      <td>962.475454</td>\n",
       "      <td>0.172963</td>\n",
       "      <td>0.081886</td>\n",
       "      <td>93.575664</td>\n",
       "      <td>-40.502600</td>\n",
       "      <td>3.621291</td>\n",
       "      <td>5167.035911</td>\n",
       "    </tr>\n",
       "    <tr>\n",
       "      <th>std</th>\n",
       "      <td>10.42125</td>\n",
       "      <td>259.279249</td>\n",
       "      <td>2.770014</td>\n",
       "      <td>186.910907</td>\n",
       "      <td>0.494901</td>\n",
       "      <td>1.570960</td>\n",
       "      <td>0.578840</td>\n",
       "      <td>4.628198</td>\n",
       "      <td>1.734447</td>\n",
       "      <td>72.251528</td>\n",
       "    </tr>\n",
       "    <tr>\n",
       "      <th>min</th>\n",
       "      <td>17.00000</td>\n",
       "      <td>0.000000</td>\n",
       "      <td>1.000000</td>\n",
       "      <td>0.000000</td>\n",
       "      <td>0.000000</td>\n",
       "      <td>-3.400000</td>\n",
       "      <td>92.201000</td>\n",
       "      <td>-50.800000</td>\n",
       "      <td>0.634000</td>\n",
       "      <td>4963.600000</td>\n",
       "    </tr>\n",
       "    <tr>\n",
       "      <th>25%</th>\n",
       "      <td>32.00000</td>\n",
       "      <td>102.000000</td>\n",
       "      <td>1.000000</td>\n",
       "      <td>999.000000</td>\n",
       "      <td>0.000000</td>\n",
       "      <td>-1.800000</td>\n",
       "      <td>93.075000</td>\n",
       "      <td>-42.700000</td>\n",
       "      <td>1.344000</td>\n",
       "      <td>5099.100000</td>\n",
       "    </tr>\n",
       "    <tr>\n",
       "      <th>50%</th>\n",
       "      <td>38.00000</td>\n",
       "      <td>180.000000</td>\n",
       "      <td>2.000000</td>\n",
       "      <td>999.000000</td>\n",
       "      <td>0.000000</td>\n",
       "      <td>1.100000</td>\n",
       "      <td>93.749000</td>\n",
       "      <td>-41.800000</td>\n",
       "      <td>4.857000</td>\n",
       "      <td>5191.000000</td>\n",
       "    </tr>\n",
       "    <tr>\n",
       "      <th>75%</th>\n",
       "      <td>47.00000</td>\n",
       "      <td>319.000000</td>\n",
       "      <td>3.000000</td>\n",
       "      <td>999.000000</td>\n",
       "      <td>0.000000</td>\n",
       "      <td>1.400000</td>\n",
       "      <td>93.994000</td>\n",
       "      <td>-36.400000</td>\n",
       "      <td>4.961000</td>\n",
       "      <td>5228.100000</td>\n",
       "    </tr>\n",
       "    <tr>\n",
       "      <th>max</th>\n",
       "      <td>98.00000</td>\n",
       "      <td>4918.000000</td>\n",
       "      <td>56.000000</td>\n",
       "      <td>999.000000</td>\n",
       "      <td>7.000000</td>\n",
       "      <td>1.400000</td>\n",
       "      <td>94.767000</td>\n",
       "      <td>-26.900000</td>\n",
       "      <td>5.045000</td>\n",
       "      <td>5228.100000</td>\n",
       "    </tr>\n",
       "  </tbody>\n",
       "</table>\n",
       "</div>\n",
       "      <button class=\"colab-df-convert\" onclick=\"convertToInteractive('df-41e7ca92-e1c2-4ea5-ad0a-e39185c89b21')\"\n",
       "              title=\"Convert this dataframe to an interactive table.\"\n",
       "              style=\"display:none;\">\n",
       "        \n",
       "  <svg xmlns=\"http://www.w3.org/2000/svg\" height=\"24px\"viewBox=\"0 0 24 24\"\n",
       "       width=\"24px\">\n",
       "    <path d=\"M0 0h24v24H0V0z\" fill=\"none\"/>\n",
       "    <path d=\"M18.56 5.44l.94 2.06.94-2.06 2.06-.94-2.06-.94-.94-2.06-.94 2.06-2.06.94zm-11 1L8.5 8.5l.94-2.06 2.06-.94-2.06-.94L8.5 2.5l-.94 2.06-2.06.94zm10 10l.94 2.06.94-2.06 2.06-.94-2.06-.94-.94-2.06-.94 2.06-2.06.94z\"/><path d=\"M17.41 7.96l-1.37-1.37c-.4-.4-.92-.59-1.43-.59-.52 0-1.04.2-1.43.59L10.3 9.45l-7.72 7.72c-.78.78-.78 2.05 0 2.83L4 21.41c.39.39.9.59 1.41.59.51 0 1.02-.2 1.41-.59l7.78-7.78 2.81-2.81c.8-.78.8-2.07 0-2.86zM5.41 20L4 18.59l7.72-7.72 1.47 1.35L5.41 20z\"/>\n",
       "  </svg>\n",
       "      </button>\n",
       "      \n",
       "  <style>\n",
       "    .colab-df-container {\n",
       "      display:flex;\n",
       "      flex-wrap:wrap;\n",
       "      gap: 12px;\n",
       "    }\n",
       "\n",
       "    .colab-df-convert {\n",
       "      background-color: #E8F0FE;\n",
       "      border: none;\n",
       "      border-radius: 50%;\n",
       "      cursor: pointer;\n",
       "      display: none;\n",
       "      fill: #1967D2;\n",
       "      height: 32px;\n",
       "      padding: 0 0 0 0;\n",
       "      width: 32px;\n",
       "    }\n",
       "\n",
       "    .colab-df-convert:hover {\n",
       "      background-color: #E2EBFA;\n",
       "      box-shadow: 0px 1px 2px rgba(60, 64, 67, 0.3), 0px 1px 3px 1px rgba(60, 64, 67, 0.15);\n",
       "      fill: #174EA6;\n",
       "    }\n",
       "\n",
       "    [theme=dark] .colab-df-convert {\n",
       "      background-color: #3B4455;\n",
       "      fill: #D2E3FC;\n",
       "    }\n",
       "\n",
       "    [theme=dark] .colab-df-convert:hover {\n",
       "      background-color: #434B5C;\n",
       "      box-shadow: 0px 1px 3px 1px rgba(0, 0, 0, 0.15);\n",
       "      filter: drop-shadow(0px 1px 2px rgba(0, 0, 0, 0.3));\n",
       "      fill: #FFFFFF;\n",
       "    }\n",
       "  </style>\n",
       "\n",
       "      <script>\n",
       "        const buttonEl =\n",
       "          document.querySelector('#df-41e7ca92-e1c2-4ea5-ad0a-e39185c89b21 button.colab-df-convert');\n",
       "        buttonEl.style.display =\n",
       "          google.colab.kernel.accessAllowed ? 'block' : 'none';\n",
       "\n",
       "        async function convertToInteractive(key) {\n",
       "          const element = document.querySelector('#df-41e7ca92-e1c2-4ea5-ad0a-e39185c89b21');\n",
       "          const dataTable =\n",
       "            await google.colab.kernel.invokeFunction('convertToInteractive',\n",
       "                                                     [key], {});\n",
       "          if (!dataTable) return;\n",
       "\n",
       "          const docLinkHtml = 'Like what you see? Visit the ' +\n",
       "            '<a target=\"_blank\" href=https://colab.research.google.com/notebooks/data_table.ipynb>data table notebook</a>'\n",
       "            + ' to learn more about interactive tables.';\n",
       "          element.innerHTML = '';\n",
       "          dataTable['output_type'] = 'display_data';\n",
       "          await google.colab.output.renderOutput(dataTable, element);\n",
       "          const docLink = document.createElement('div');\n",
       "          docLink.innerHTML = docLinkHtml;\n",
       "          element.appendChild(docLink);\n",
       "        }\n",
       "      </script>\n",
       "    </div>\n",
       "  </div>\n",
       "  "
      ],
      "text/plain": [
       "               age      duration      campaign         pdays      previous  \\\n",
       "count  41188.00000  41188.000000  41188.000000  41188.000000  41188.000000   \n",
       "mean      40.02406    258.285010      2.567593    962.475454      0.172963   \n",
       "std       10.42125    259.279249      2.770014    186.910907      0.494901   \n",
       "min       17.00000      0.000000      1.000000      0.000000      0.000000   \n",
       "25%       32.00000    102.000000      1.000000    999.000000      0.000000   \n",
       "50%       38.00000    180.000000      2.000000    999.000000      0.000000   \n",
       "75%       47.00000    319.000000      3.000000    999.000000      0.000000   \n",
       "max       98.00000   4918.000000     56.000000    999.000000      7.000000   \n",
       "\n",
       "       emp.var.rate  cons.price.idx  cons.conf.idx     euribor3m   nr.employed  \n",
       "count  41188.000000    41188.000000   41188.000000  41188.000000  41188.000000  \n",
       "mean       0.081886       93.575664     -40.502600      3.621291   5167.035911  \n",
       "std        1.570960        0.578840       4.628198      1.734447     72.251528  \n",
       "min       -3.400000       92.201000     -50.800000      0.634000   4963.600000  \n",
       "25%       -1.800000       93.075000     -42.700000      1.344000   5099.100000  \n",
       "50%        1.100000       93.749000     -41.800000      4.857000   5191.000000  \n",
       "75%        1.400000       93.994000     -36.400000      4.961000   5228.100000  \n",
       "max        1.400000       94.767000     -26.900000      5.045000   5228.100000  "
      ]
     },
     "execution_count": 161,
     "metadata": {},
     "output_type": "execute_result"
    }
   ],
   "source": [
    "# Deskriptif statistik untuk data latih\n",
    "df_bank[numerical_columns].describe()"
   ]
  },
  {
   "cell_type": "markdown",
   "metadata": {
    "id": "pAP1IphU3OY5"
   },
   "source": [
    "### Mengetahui jumlah data untuk masing-masing kelas"
   ]
  },
  {
   "cell_type": "code",
   "execution_count": 162,
   "metadata": {
    "colab": {
     "base_uri": "https://localhost:8080/",
     "height": 207
    },
    "id": "kDu39bkJ3RXO",
    "outputId": "a09f38ac-c3ed-43e4-bb54-f229468996c7"
   },
   "outputs": [
    {
     "data": {
      "text/html": [
       "\n",
       "  <div id=\"df-a0d1d21c-0dba-4f4d-848f-cbe1ab4c631a\">\n",
       "    <div class=\"colab-df-container\">\n",
       "      <div>\n",
       "<style scoped>\n",
       "    .dataframe tbody tr th:only-of-type {\n",
       "        vertical-align: middle;\n",
       "    }\n",
       "\n",
       "    .dataframe tbody tr th {\n",
       "        vertical-align: top;\n",
       "    }\n",
       "\n",
       "    .dataframe thead th {\n",
       "        text-align: right;\n",
       "    }\n",
       "</style>\n",
       "<table border=\"1\" class=\"dataframe\">\n",
       "  <thead>\n",
       "    <tr style=\"text-align: right;\">\n",
       "      <th></th>\n",
       "      <th>age</th>\n",
       "      <th>job</th>\n",
       "      <th>marital</th>\n",
       "      <th>education</th>\n",
       "      <th>default</th>\n",
       "      <th>housing</th>\n",
       "      <th>loan</th>\n",
       "      <th>contact</th>\n",
       "      <th>month</th>\n",
       "      <th>day_of_week</th>\n",
       "      <th>duration</th>\n",
       "      <th>campaign</th>\n",
       "      <th>pdays</th>\n",
       "      <th>previous</th>\n",
       "      <th>poutcome</th>\n",
       "      <th>emp.var.rate</th>\n",
       "      <th>cons.price.idx</th>\n",
       "      <th>cons.conf.idx</th>\n",
       "      <th>euribor3m</th>\n",
       "      <th>nr.employed</th>\n",
       "    </tr>\n",
       "    <tr>\n",
       "      <th>y</th>\n",
       "      <th></th>\n",
       "      <th></th>\n",
       "      <th></th>\n",
       "      <th></th>\n",
       "      <th></th>\n",
       "      <th></th>\n",
       "      <th></th>\n",
       "      <th></th>\n",
       "      <th></th>\n",
       "      <th></th>\n",
       "      <th></th>\n",
       "      <th></th>\n",
       "      <th></th>\n",
       "      <th></th>\n",
       "      <th></th>\n",
       "      <th></th>\n",
       "      <th></th>\n",
       "      <th></th>\n",
       "      <th></th>\n",
       "      <th></th>\n",
       "    </tr>\n",
       "  </thead>\n",
       "  <tbody>\n",
       "    <tr>\n",
       "      <th>no</th>\n",
       "      <td>36548</td>\n",
       "      <td>36548</td>\n",
       "      <td>36548</td>\n",
       "      <td>36548</td>\n",
       "      <td>36548</td>\n",
       "      <td>36548</td>\n",
       "      <td>36548</td>\n",
       "      <td>36548</td>\n",
       "      <td>36548</td>\n",
       "      <td>36548</td>\n",
       "      <td>36548</td>\n",
       "      <td>36548</td>\n",
       "      <td>36548</td>\n",
       "      <td>36548</td>\n",
       "      <td>36548</td>\n",
       "      <td>36548</td>\n",
       "      <td>36548</td>\n",
       "      <td>36548</td>\n",
       "      <td>36548</td>\n",
       "      <td>36548</td>\n",
       "    </tr>\n",
       "    <tr>\n",
       "      <th>yes</th>\n",
       "      <td>4640</td>\n",
       "      <td>4640</td>\n",
       "      <td>4640</td>\n",
       "      <td>4640</td>\n",
       "      <td>4640</td>\n",
       "      <td>4640</td>\n",
       "      <td>4640</td>\n",
       "      <td>4640</td>\n",
       "      <td>4640</td>\n",
       "      <td>4640</td>\n",
       "      <td>4640</td>\n",
       "      <td>4640</td>\n",
       "      <td>4640</td>\n",
       "      <td>4640</td>\n",
       "      <td>4640</td>\n",
       "      <td>4640</td>\n",
       "      <td>4640</td>\n",
       "      <td>4640</td>\n",
       "      <td>4640</td>\n",
       "      <td>4640</td>\n",
       "    </tr>\n",
       "  </tbody>\n",
       "</table>\n",
       "</div>\n",
       "      <button class=\"colab-df-convert\" onclick=\"convertToInteractive('df-a0d1d21c-0dba-4f4d-848f-cbe1ab4c631a')\"\n",
       "              title=\"Convert this dataframe to an interactive table.\"\n",
       "              style=\"display:none;\">\n",
       "        \n",
       "  <svg xmlns=\"http://www.w3.org/2000/svg\" height=\"24px\"viewBox=\"0 0 24 24\"\n",
       "       width=\"24px\">\n",
       "    <path d=\"M0 0h24v24H0V0z\" fill=\"none\"/>\n",
       "    <path d=\"M18.56 5.44l.94 2.06.94-2.06 2.06-.94-2.06-.94-.94-2.06-.94 2.06-2.06.94zm-11 1L8.5 8.5l.94-2.06 2.06-.94-2.06-.94L8.5 2.5l-.94 2.06-2.06.94zm10 10l.94 2.06.94-2.06 2.06-.94-2.06-.94-.94-2.06-.94 2.06-2.06.94z\"/><path d=\"M17.41 7.96l-1.37-1.37c-.4-.4-.92-.59-1.43-.59-.52 0-1.04.2-1.43.59L10.3 9.45l-7.72 7.72c-.78.78-.78 2.05 0 2.83L4 21.41c.39.39.9.59 1.41.59.51 0 1.02-.2 1.41-.59l7.78-7.78 2.81-2.81c.8-.78.8-2.07 0-2.86zM5.41 20L4 18.59l7.72-7.72 1.47 1.35L5.41 20z\"/>\n",
       "  </svg>\n",
       "      </button>\n",
       "      \n",
       "  <style>\n",
       "    .colab-df-container {\n",
       "      display:flex;\n",
       "      flex-wrap:wrap;\n",
       "      gap: 12px;\n",
       "    }\n",
       "\n",
       "    .colab-df-convert {\n",
       "      background-color: #E8F0FE;\n",
       "      border: none;\n",
       "      border-radius: 50%;\n",
       "      cursor: pointer;\n",
       "      display: none;\n",
       "      fill: #1967D2;\n",
       "      height: 32px;\n",
       "      padding: 0 0 0 0;\n",
       "      width: 32px;\n",
       "    }\n",
       "\n",
       "    .colab-df-convert:hover {\n",
       "      background-color: #E2EBFA;\n",
       "      box-shadow: 0px 1px 2px rgba(60, 64, 67, 0.3), 0px 1px 3px 1px rgba(60, 64, 67, 0.15);\n",
       "      fill: #174EA6;\n",
       "    }\n",
       "\n",
       "    [theme=dark] .colab-df-convert {\n",
       "      background-color: #3B4455;\n",
       "      fill: #D2E3FC;\n",
       "    }\n",
       "\n",
       "    [theme=dark] .colab-df-convert:hover {\n",
       "      background-color: #434B5C;\n",
       "      box-shadow: 0px 1px 3px 1px rgba(0, 0, 0, 0.15);\n",
       "      filter: drop-shadow(0px 1px 2px rgba(0, 0, 0, 0.3));\n",
       "      fill: #FFFFFF;\n",
       "    }\n",
       "  </style>\n",
       "\n",
       "      <script>\n",
       "        const buttonEl =\n",
       "          document.querySelector('#df-a0d1d21c-0dba-4f4d-848f-cbe1ab4c631a button.colab-df-convert');\n",
       "        buttonEl.style.display =\n",
       "          google.colab.kernel.accessAllowed ? 'block' : 'none';\n",
       "\n",
       "        async function convertToInteractive(key) {\n",
       "          const element = document.querySelector('#df-a0d1d21c-0dba-4f4d-848f-cbe1ab4c631a');\n",
       "          const dataTable =\n",
       "            await google.colab.kernel.invokeFunction('convertToInteractive',\n",
       "                                                     [key], {});\n",
       "          if (!dataTable) return;\n",
       "\n",
       "          const docLinkHtml = 'Like what you see? Visit the ' +\n",
       "            '<a target=\"_blank\" href=https://colab.research.google.com/notebooks/data_table.ipynb>data table notebook</a>'\n",
       "            + ' to learn more about interactive tables.';\n",
       "          element.innerHTML = '';\n",
       "          dataTable['output_type'] = 'display_data';\n",
       "          await google.colab.output.renderOutput(dataTable, element);\n",
       "          const docLink = document.createElement('div');\n",
       "          docLink.innerHTML = docLinkHtml;\n",
       "          element.appendChild(docLink);\n",
       "        }\n",
       "      </script>\n",
       "    </div>\n",
       "  </div>\n",
       "  "
      ],
      "text/plain": [
       "       age    job  marital  education  default  housing   loan  contact  \\\n",
       "y                                                                         \n",
       "no   36548  36548    36548      36548    36548    36548  36548    36548   \n",
       "yes   4640   4640     4640       4640     4640     4640   4640     4640   \n",
       "\n",
       "     month  day_of_week  duration  campaign  pdays  previous  poutcome  \\\n",
       "y                                                                        \n",
       "no   36548        36548     36548     36548  36548     36548     36548   \n",
       "yes   4640         4640      4640      4640   4640      4640      4640   \n",
       "\n",
       "     emp.var.rate  cons.price.idx  cons.conf.idx  euribor3m  nr.employed  \n",
       "y                                                                         \n",
       "no          36548           36548          36548      36548        36548  \n",
       "yes          4640            4640           4640       4640         4640  "
      ]
     },
     "execution_count": 162,
     "metadata": {},
     "output_type": "execute_result"
    }
   ],
   "source": [
    "df_bank.groupby('y').count()"
   ]
  },
  {
   "cell_type": "markdown",
   "metadata": {
    "id": "4gxkNRLn3Zzy"
   },
   "source": [
    "Data latih memiliki:\n",
    "1. 36548 label 'no'\n",
    "2. 4640 label 'yes'"
   ]
  },
  {
   "cell_type": "markdown",
   "metadata": {
    "id": "d-zjmZ6Q3lW-"
   },
   "source": [
    "# *Data Cleaning*"
   ]
  },
  {
   "cell_type": "markdown",
   "metadata": {
    "id": "tm9TCeH63re3"
   },
   "source": [
    "### Memastikan tidak ada *missing values* pada Kolom Kategorikal\n",
    "***\n",
    "Pada keterangan dataset yang dilampirkan, missing values pada data ditandai dengan label \"unknown\" pada beberapa kolom dengan tipe kategorikal. Oleh karena, kolom kategorikal yang memuat label \"unknown\" akan diganti menjadi **nan** untuk menandai adanya missing values (unstandard missing values)"
   ]
  },
  {
   "cell_type": "code",
   "execution_count": 163,
   "metadata": {
    "colab": {
     "base_uri": "https://localhost:8080/"
    },
    "id": "-uzdBP0u3Y5d",
    "outputId": "7c6dcb7a-08f9-4aa8-8061-876e135083f5"
   },
   "outputs": [
    {
     "data": {
      "text/plain": [
       "default           8597\n",
       "education         1731\n",
       "housing            990\n",
       "loan               990\n",
       "job                330\n",
       "marital             80\n",
       "age                  0\n",
       "poutcome             0\n",
       "nr.employed          0\n",
       "euribor3m            0\n",
       "cons.conf.idx        0\n",
       "cons.price.idx       0\n",
       "emp.var.rate         0\n",
       "duration             0\n",
       "previous             0\n",
       "pdays                0\n",
       "campaign             0\n",
       "day_of_week          0\n",
       "month                0\n",
       "contact              0\n",
       "y                    0\n",
       "dtype: int64"
      ]
     },
     "execution_count": 163,
     "metadata": {},
     "output_type": "execute_result"
    }
   ],
   "source": [
    "# Mengetahui jumlah \"unknown\" di setiap atribut\n",
    "df_bank[df_bank[categorical_columns] == 'unknown'].count().sort_values(ascending = False)"
   ]
  },
  {
   "cell_type": "markdown",
   "metadata": {
    "id": "Ag4opecIAc84"
   },
   "source": [
    "**default, education, housing, loan, job, marital** menjadi kolom kategorikal yang banyak mengandung missing values"
   ]
  },
  {
   "cell_type": "markdown",
   "metadata": {
    "id": "h7eHmFZIAhYb"
   },
   "source": [
    "### Mengganti \"unknwon\" dengan *Numpy nan*"
   ]
  },
  {
   "cell_type": "code",
   "execution_count": 164,
   "metadata": {
    "id": "dOkadhQzAokh"
   },
   "outputs": [],
   "source": [
    "# Mengganti \"unknown\" pada data latih\n",
    "df_bank[df_bank[categorical_columns] == \"unknown\"] = np.nan"
   ]
  },
  {
   "cell_type": "markdown",
   "metadata": {
    "id": "x7KUowjSAxMS"
   },
   "source": [
    "#### Cek apakah \"unknown\" sudah terganti dengan *Numpy nan* dengan benar"
   ]
  },
  {
   "cell_type": "code",
   "execution_count": 165,
   "metadata": {
    "colab": {
     "base_uri": "https://localhost:8080/"
    },
    "id": "jn_3MSVuBBaZ",
    "outputId": "880311d9-80a6-4c03-f04b-d003ca78bc34"
   },
   "outputs": [
    {
     "data": {
      "text/plain": [
       "age               0\n",
       "campaign          0\n",
       "nr.employed       0\n",
       "euribor3m         0\n",
       "cons.conf.idx     0\n",
       "cons.price.idx    0\n",
       "emp.var.rate      0\n",
       "poutcome          0\n",
       "previous          0\n",
       "pdays             0\n",
       "duration          0\n",
       "job               0\n",
       "day_of_week       0\n",
       "month             0\n",
       "contact           0\n",
       "loan              0\n",
       "housing           0\n",
       "default           0\n",
       "education         0\n",
       "marital           0\n",
       "y                 0\n",
       "dtype: int64"
      ]
     },
     "execution_count": 165,
     "metadata": {},
     "output_type": "execute_result"
    }
   ],
   "source": [
    "# Mengetahui jumlah \"unknown\" di setiap atribut\n",
    "df_bank[df_bank[categorical_columns] == 'unknown'].count().sort_values(ascending = False)"
   ]
  },
  {
   "cell_type": "markdown",
   "metadata": {
    "id": "op2XKQNTBLlu"
   },
   "source": [
    "Label \"unknown\" sudah tergantikan dengan *Numpy nan* semuanya"
   ]
  },
  {
   "cell_type": "markdown",
   "metadata": {
    "id": "YISc4dN6BRIP"
   },
   "source": [
    "### Melihat *unstandard missing values* pada kolom kategorikal"
   ]
  },
  {
   "cell_type": "code",
   "execution_count": 166,
   "metadata": {
    "colab": {
     "base_uri": "https://localhost:8080/",
     "height": 206
    },
    "id": "m9Er-gUbBVmK",
    "outputId": "adbea6a9-699a-480e-d6c5-5c76fe8e1423"
   },
   "outputs": [
    {
     "data": {
      "text/html": [
       "\n",
       "  <div id=\"df-60f8f05d-3215-4040-a83e-a21f1714c378\">\n",
       "    <div class=\"colab-df-container\">\n",
       "      <div>\n",
       "<style scoped>\n",
       "    .dataframe tbody tr th:only-of-type {\n",
       "        vertical-align: middle;\n",
       "    }\n",
       "\n",
       "    .dataframe tbody tr th {\n",
       "        vertical-align: top;\n",
       "    }\n",
       "\n",
       "    .dataframe thead th {\n",
       "        text-align: right;\n",
       "    }\n",
       "</style>\n",
       "<table border=\"1\" class=\"dataframe\">\n",
       "  <thead>\n",
       "    <tr style=\"text-align: right;\">\n",
       "      <th></th>\n",
       "      <th>job</th>\n",
       "      <th>marital</th>\n",
       "      <th>education</th>\n",
       "      <th>default</th>\n",
       "      <th>housing</th>\n",
       "      <th>loan</th>\n",
       "      <th>contact</th>\n",
       "      <th>month</th>\n",
       "      <th>day_of_week</th>\n",
       "      <th>poutcome</th>\n",
       "      <th>y</th>\n",
       "    </tr>\n",
       "  </thead>\n",
       "  <tbody>\n",
       "    <tr>\n",
       "      <th>0</th>\n",
       "      <td>housemaid</td>\n",
       "      <td>married</td>\n",
       "      <td>basic.4y</td>\n",
       "      <td>no</td>\n",
       "      <td>no</td>\n",
       "      <td>no</td>\n",
       "      <td>telephone</td>\n",
       "      <td>may</td>\n",
       "      <td>mon</td>\n",
       "      <td>nonexistent</td>\n",
       "      <td>no</td>\n",
       "    </tr>\n",
       "    <tr>\n",
       "      <th>1</th>\n",
       "      <td>services</td>\n",
       "      <td>married</td>\n",
       "      <td>high.school</td>\n",
       "      <td>NaN</td>\n",
       "      <td>no</td>\n",
       "      <td>no</td>\n",
       "      <td>telephone</td>\n",
       "      <td>may</td>\n",
       "      <td>mon</td>\n",
       "      <td>nonexistent</td>\n",
       "      <td>no</td>\n",
       "    </tr>\n",
       "    <tr>\n",
       "      <th>2</th>\n",
       "      <td>services</td>\n",
       "      <td>married</td>\n",
       "      <td>high.school</td>\n",
       "      <td>no</td>\n",
       "      <td>yes</td>\n",
       "      <td>no</td>\n",
       "      <td>telephone</td>\n",
       "      <td>may</td>\n",
       "      <td>mon</td>\n",
       "      <td>nonexistent</td>\n",
       "      <td>no</td>\n",
       "    </tr>\n",
       "    <tr>\n",
       "      <th>3</th>\n",
       "      <td>admin.</td>\n",
       "      <td>married</td>\n",
       "      <td>basic.6y</td>\n",
       "      <td>no</td>\n",
       "      <td>no</td>\n",
       "      <td>no</td>\n",
       "      <td>telephone</td>\n",
       "      <td>may</td>\n",
       "      <td>mon</td>\n",
       "      <td>nonexistent</td>\n",
       "      <td>no</td>\n",
       "    </tr>\n",
       "    <tr>\n",
       "      <th>4</th>\n",
       "      <td>services</td>\n",
       "      <td>married</td>\n",
       "      <td>high.school</td>\n",
       "      <td>no</td>\n",
       "      <td>no</td>\n",
       "      <td>yes</td>\n",
       "      <td>telephone</td>\n",
       "      <td>may</td>\n",
       "      <td>mon</td>\n",
       "      <td>nonexistent</td>\n",
       "      <td>no</td>\n",
       "    </tr>\n",
       "  </tbody>\n",
       "</table>\n",
       "</div>\n",
       "      <button class=\"colab-df-convert\" onclick=\"convertToInteractive('df-60f8f05d-3215-4040-a83e-a21f1714c378')\"\n",
       "              title=\"Convert this dataframe to an interactive table.\"\n",
       "              style=\"display:none;\">\n",
       "        \n",
       "  <svg xmlns=\"http://www.w3.org/2000/svg\" height=\"24px\"viewBox=\"0 0 24 24\"\n",
       "       width=\"24px\">\n",
       "    <path d=\"M0 0h24v24H0V0z\" fill=\"none\"/>\n",
       "    <path d=\"M18.56 5.44l.94 2.06.94-2.06 2.06-.94-2.06-.94-.94-2.06-.94 2.06-2.06.94zm-11 1L8.5 8.5l.94-2.06 2.06-.94-2.06-.94L8.5 2.5l-.94 2.06-2.06.94zm10 10l.94 2.06.94-2.06 2.06-.94-2.06-.94-.94-2.06-.94 2.06-2.06.94z\"/><path d=\"M17.41 7.96l-1.37-1.37c-.4-.4-.92-.59-1.43-.59-.52 0-1.04.2-1.43.59L10.3 9.45l-7.72 7.72c-.78.78-.78 2.05 0 2.83L4 21.41c.39.39.9.59 1.41.59.51 0 1.02-.2 1.41-.59l7.78-7.78 2.81-2.81c.8-.78.8-2.07 0-2.86zM5.41 20L4 18.59l7.72-7.72 1.47 1.35L5.41 20z\"/>\n",
       "  </svg>\n",
       "      </button>\n",
       "      \n",
       "  <style>\n",
       "    .colab-df-container {\n",
       "      display:flex;\n",
       "      flex-wrap:wrap;\n",
       "      gap: 12px;\n",
       "    }\n",
       "\n",
       "    .colab-df-convert {\n",
       "      background-color: #E8F0FE;\n",
       "      border: none;\n",
       "      border-radius: 50%;\n",
       "      cursor: pointer;\n",
       "      display: none;\n",
       "      fill: #1967D2;\n",
       "      height: 32px;\n",
       "      padding: 0 0 0 0;\n",
       "      width: 32px;\n",
       "    }\n",
       "\n",
       "    .colab-df-convert:hover {\n",
       "      background-color: #E2EBFA;\n",
       "      box-shadow: 0px 1px 2px rgba(60, 64, 67, 0.3), 0px 1px 3px 1px rgba(60, 64, 67, 0.15);\n",
       "      fill: #174EA6;\n",
       "    }\n",
       "\n",
       "    [theme=dark] .colab-df-convert {\n",
       "      background-color: #3B4455;\n",
       "      fill: #D2E3FC;\n",
       "    }\n",
       "\n",
       "    [theme=dark] .colab-df-convert:hover {\n",
       "      background-color: #434B5C;\n",
       "      box-shadow: 0px 1px 3px 1px rgba(0, 0, 0, 0.15);\n",
       "      filter: drop-shadow(0px 1px 2px rgba(0, 0, 0, 0.3));\n",
       "      fill: #FFFFFF;\n",
       "    }\n",
       "  </style>\n",
       "\n",
       "      <script>\n",
       "        const buttonEl =\n",
       "          document.querySelector('#df-60f8f05d-3215-4040-a83e-a21f1714c378 button.colab-df-convert');\n",
       "        buttonEl.style.display =\n",
       "          google.colab.kernel.accessAllowed ? 'block' : 'none';\n",
       "\n",
       "        async function convertToInteractive(key) {\n",
       "          const element = document.querySelector('#df-60f8f05d-3215-4040-a83e-a21f1714c378');\n",
       "          const dataTable =\n",
       "            await google.colab.kernel.invokeFunction('convertToInteractive',\n",
       "                                                     [key], {});\n",
       "          if (!dataTable) return;\n",
       "\n",
       "          const docLinkHtml = 'Like what you see? Visit the ' +\n",
       "            '<a target=\"_blank\" href=https://colab.research.google.com/notebooks/data_table.ipynb>data table notebook</a>'\n",
       "            + ' to learn more about interactive tables.';\n",
       "          element.innerHTML = '';\n",
       "          dataTable['output_type'] = 'display_data';\n",
       "          await google.colab.output.renderOutput(dataTable, element);\n",
       "          const docLink = document.createElement('div');\n",
       "          docLink.innerHTML = docLinkHtml;\n",
       "          element.appendChild(docLink);\n",
       "        }\n",
       "      </script>\n",
       "    </div>\n",
       "  </div>\n",
       "  "
      ],
      "text/plain": [
       "         job  marital    education default housing loan    contact month  \\\n",
       "0  housemaid  married     basic.4y      no      no   no  telephone   may   \n",
       "1   services  married  high.school     NaN      no   no  telephone   may   \n",
       "2   services  married  high.school      no     yes   no  telephone   may   \n",
       "3     admin.  married     basic.6y      no      no   no  telephone   may   \n",
       "4   services  married  high.school      no      no  yes  telephone   may   \n",
       "\n",
       "  day_of_week     poutcome   y  \n",
       "0         mon  nonexistent  no  \n",
       "1         mon  nonexistent  no  \n",
       "2         mon  nonexistent  no  \n",
       "3         mon  nonexistent  no  \n",
       "4         mon  nonexistent  no  "
      ]
     },
     "execution_count": 166,
     "metadata": {},
     "output_type": "execute_result"
    }
   ],
   "source": [
    "df_bank[categorical_columns].head()"
   ]
  },
  {
   "cell_type": "code",
   "execution_count": 167,
   "metadata": {
    "colab": {
     "base_uri": "https://localhost:8080/"
    },
    "id": "Vdp7yYN8Bcvq",
    "outputId": "38339867-7967-459d-8ff2-8109d3c4d56c"
   },
   "outputs": [
    {
     "name": "stdout",
     "output_type": "stream",
     "text": [
      "Nilai unik untuk kolom JOB\n",
      "['housemaid' 'services' 'admin.' 'blue-collar' 'technician' 'retired'\n",
      " 'management' 'unemployed' 'self-employed' nan 'entrepreneur' 'student']\n",
      "======================================================================\n",
      "Nilai unik untuk kolom MARITAL\n",
      "['married' 'single' 'divorced' nan]\n",
      "======================================================================\n",
      "Nilai unik untuk kolom EDUCATION\n",
      "['basic.4y' 'high.school' 'basic.6y' 'basic.9y' 'professional.course' nan\n",
      " 'university.degree' 'illiterate']\n",
      "======================================================================\n",
      "Nilai unik untuk kolom DEFAULT\n",
      "['no' nan 'yes']\n",
      "======================================================================\n",
      "Nilai unik untuk kolom HOUSING\n",
      "['no' 'yes' nan]\n",
      "======================================================================\n",
      "Nilai unik untuk kolom LOAN\n",
      "['no' 'yes' nan]\n",
      "======================================================================\n",
      "Nilai unik untuk kolom CONTACT\n",
      "['telephone' 'cellular']\n",
      "======================================================================\n",
      "Nilai unik untuk kolom MONTH\n",
      "['may' 'jun' 'jul' 'aug' 'oct' 'nov' 'dec' 'mar' 'apr' 'sep']\n",
      "======================================================================\n",
      "Nilai unik untuk kolom DAY_OF_WEEK\n",
      "['mon' 'tue' 'wed' 'thu' 'fri']\n",
      "======================================================================\n",
      "Nilai unik untuk kolom POUTCOME\n",
      "['nonexistent' 'failure' 'success']\n",
      "======================================================================\n",
      "Nilai unik untuk kolom Y\n",
      "['no' 'yes']\n",
      "======================================================================\n"
     ]
    }
   ],
   "source": [
    "# Mencetak semua nilai unik pada masing-masing kolom kategori\n",
    "for cat_col in categorical_columns:\n",
    "    print(\"Nilai unik untuk kolom\", cat_col.upper())\n",
    "    print(df_bank[cat_col].unique())\n",
    "    print('='*70)"
   ]
  },
  {
   "cell_type": "markdown",
   "metadata": {
    "id": "In6pmRqYBu-o"
   },
   "source": [
    "Semua nilai di masing-masing atribut sudah sesuai dengan apa yang tertera dari deskripsi dataset yang diterima. Sehingga tidak ada **invalid values** pada kolom kategorikal.\n",
    "\n",
    "Pada kelas target **y** juga hanya terdapat dua nilai unik yaitu **no** dan **yes** dan tidak terdapat **missing values**, sehingga **tidak diperlukan 'dropping data'** karena ada kelas target yang *missing values*"
   ]
  },
  {
   "cell_type": "markdown",
   "metadata": {
    "id": "a7as4ZSCCA3_"
   },
   "source": [
    "### Melihat *unstandard missing values* pada kolom numerikal"
   ]
  },
  {
   "cell_type": "code",
   "execution_count": 168,
   "metadata": {
    "colab": {
     "base_uri": "https://localhost:8080/",
     "height": 206
    },
    "id": "X_a3V-srClx2",
    "outputId": "9c50faf6-6b64-4845-960e-e72ab20bf592"
   },
   "outputs": [
    {
     "data": {
      "text/html": [
       "\n",
       "  <div id=\"df-f01b448f-fe39-4bbe-a54b-74acb60b0e4b\">\n",
       "    <div class=\"colab-df-container\">\n",
       "      <div>\n",
       "<style scoped>\n",
       "    .dataframe tbody tr th:only-of-type {\n",
       "        vertical-align: middle;\n",
       "    }\n",
       "\n",
       "    .dataframe tbody tr th {\n",
       "        vertical-align: top;\n",
       "    }\n",
       "\n",
       "    .dataframe thead th {\n",
       "        text-align: right;\n",
       "    }\n",
       "</style>\n",
       "<table border=\"1\" class=\"dataframe\">\n",
       "  <thead>\n",
       "    <tr style=\"text-align: right;\">\n",
       "      <th></th>\n",
       "      <th>age</th>\n",
       "      <th>duration</th>\n",
       "      <th>campaign</th>\n",
       "      <th>pdays</th>\n",
       "      <th>previous</th>\n",
       "      <th>emp.var.rate</th>\n",
       "      <th>cons.price.idx</th>\n",
       "      <th>cons.conf.idx</th>\n",
       "      <th>euribor3m</th>\n",
       "      <th>nr.employed</th>\n",
       "    </tr>\n",
       "  </thead>\n",
       "  <tbody>\n",
       "    <tr>\n",
       "      <th>0</th>\n",
       "      <td>56</td>\n",
       "      <td>261</td>\n",
       "      <td>1</td>\n",
       "      <td>999</td>\n",
       "      <td>0</td>\n",
       "      <td>1.1</td>\n",
       "      <td>93.994</td>\n",
       "      <td>-36.4</td>\n",
       "      <td>4.857</td>\n",
       "      <td>5191.0</td>\n",
       "    </tr>\n",
       "    <tr>\n",
       "      <th>1</th>\n",
       "      <td>57</td>\n",
       "      <td>149</td>\n",
       "      <td>1</td>\n",
       "      <td>999</td>\n",
       "      <td>0</td>\n",
       "      <td>1.1</td>\n",
       "      <td>93.994</td>\n",
       "      <td>-36.4</td>\n",
       "      <td>4.857</td>\n",
       "      <td>5191.0</td>\n",
       "    </tr>\n",
       "    <tr>\n",
       "      <th>2</th>\n",
       "      <td>37</td>\n",
       "      <td>226</td>\n",
       "      <td>1</td>\n",
       "      <td>999</td>\n",
       "      <td>0</td>\n",
       "      <td>1.1</td>\n",
       "      <td>93.994</td>\n",
       "      <td>-36.4</td>\n",
       "      <td>4.857</td>\n",
       "      <td>5191.0</td>\n",
       "    </tr>\n",
       "    <tr>\n",
       "      <th>3</th>\n",
       "      <td>40</td>\n",
       "      <td>151</td>\n",
       "      <td>1</td>\n",
       "      <td>999</td>\n",
       "      <td>0</td>\n",
       "      <td>1.1</td>\n",
       "      <td>93.994</td>\n",
       "      <td>-36.4</td>\n",
       "      <td>4.857</td>\n",
       "      <td>5191.0</td>\n",
       "    </tr>\n",
       "    <tr>\n",
       "      <th>4</th>\n",
       "      <td>56</td>\n",
       "      <td>307</td>\n",
       "      <td>1</td>\n",
       "      <td>999</td>\n",
       "      <td>0</td>\n",
       "      <td>1.1</td>\n",
       "      <td>93.994</td>\n",
       "      <td>-36.4</td>\n",
       "      <td>4.857</td>\n",
       "      <td>5191.0</td>\n",
       "    </tr>\n",
       "  </tbody>\n",
       "</table>\n",
       "</div>\n",
       "      <button class=\"colab-df-convert\" onclick=\"convertToInteractive('df-f01b448f-fe39-4bbe-a54b-74acb60b0e4b')\"\n",
       "              title=\"Convert this dataframe to an interactive table.\"\n",
       "              style=\"display:none;\">\n",
       "        \n",
       "  <svg xmlns=\"http://www.w3.org/2000/svg\" height=\"24px\"viewBox=\"0 0 24 24\"\n",
       "       width=\"24px\">\n",
       "    <path d=\"M0 0h24v24H0V0z\" fill=\"none\"/>\n",
       "    <path d=\"M18.56 5.44l.94 2.06.94-2.06 2.06-.94-2.06-.94-.94-2.06-.94 2.06-2.06.94zm-11 1L8.5 8.5l.94-2.06 2.06-.94-2.06-.94L8.5 2.5l-.94 2.06-2.06.94zm10 10l.94 2.06.94-2.06 2.06-.94-2.06-.94-.94-2.06-.94 2.06-2.06.94z\"/><path d=\"M17.41 7.96l-1.37-1.37c-.4-.4-.92-.59-1.43-.59-.52 0-1.04.2-1.43.59L10.3 9.45l-7.72 7.72c-.78.78-.78 2.05 0 2.83L4 21.41c.39.39.9.59 1.41.59.51 0 1.02-.2 1.41-.59l7.78-7.78 2.81-2.81c.8-.78.8-2.07 0-2.86zM5.41 20L4 18.59l7.72-7.72 1.47 1.35L5.41 20z\"/>\n",
       "  </svg>\n",
       "      </button>\n",
       "      \n",
       "  <style>\n",
       "    .colab-df-container {\n",
       "      display:flex;\n",
       "      flex-wrap:wrap;\n",
       "      gap: 12px;\n",
       "    }\n",
       "\n",
       "    .colab-df-convert {\n",
       "      background-color: #E8F0FE;\n",
       "      border: none;\n",
       "      border-radius: 50%;\n",
       "      cursor: pointer;\n",
       "      display: none;\n",
       "      fill: #1967D2;\n",
       "      height: 32px;\n",
       "      padding: 0 0 0 0;\n",
       "      width: 32px;\n",
       "    }\n",
       "\n",
       "    .colab-df-convert:hover {\n",
       "      background-color: #E2EBFA;\n",
       "      box-shadow: 0px 1px 2px rgba(60, 64, 67, 0.3), 0px 1px 3px 1px rgba(60, 64, 67, 0.15);\n",
       "      fill: #174EA6;\n",
       "    }\n",
       "\n",
       "    [theme=dark] .colab-df-convert {\n",
       "      background-color: #3B4455;\n",
       "      fill: #D2E3FC;\n",
       "    }\n",
       "\n",
       "    [theme=dark] .colab-df-convert:hover {\n",
       "      background-color: #434B5C;\n",
       "      box-shadow: 0px 1px 3px 1px rgba(0, 0, 0, 0.15);\n",
       "      filter: drop-shadow(0px 1px 2px rgba(0, 0, 0, 0.3));\n",
       "      fill: #FFFFFF;\n",
       "    }\n",
       "  </style>\n",
       "\n",
       "      <script>\n",
       "        const buttonEl =\n",
       "          document.querySelector('#df-f01b448f-fe39-4bbe-a54b-74acb60b0e4b button.colab-df-convert');\n",
       "        buttonEl.style.display =\n",
       "          google.colab.kernel.accessAllowed ? 'block' : 'none';\n",
       "\n",
       "        async function convertToInteractive(key) {\n",
       "          const element = document.querySelector('#df-f01b448f-fe39-4bbe-a54b-74acb60b0e4b');\n",
       "          const dataTable =\n",
       "            await google.colab.kernel.invokeFunction('convertToInteractive',\n",
       "                                                     [key], {});\n",
       "          if (!dataTable) return;\n",
       "\n",
       "          const docLinkHtml = 'Like what you see? Visit the ' +\n",
       "            '<a target=\"_blank\" href=https://colab.research.google.com/notebooks/data_table.ipynb>data table notebook</a>'\n",
       "            + ' to learn more about interactive tables.';\n",
       "          element.innerHTML = '';\n",
       "          dataTable['output_type'] = 'display_data';\n",
       "          await google.colab.output.renderOutput(dataTable, element);\n",
       "          const docLink = document.createElement('div');\n",
       "          docLink.innerHTML = docLinkHtml;\n",
       "          element.appendChild(docLink);\n",
       "        }\n",
       "      </script>\n",
       "    </div>\n",
       "  </div>\n",
       "  "
      ],
      "text/plain": [
       "   age  duration  campaign  pdays  previous  emp.var.rate  cons.price.idx  \\\n",
       "0   56       261         1    999         0           1.1          93.994   \n",
       "1   57       149         1    999         0           1.1          93.994   \n",
       "2   37       226         1    999         0           1.1          93.994   \n",
       "3   40       151         1    999         0           1.1          93.994   \n",
       "4   56       307         1    999         0           1.1          93.994   \n",
       "\n",
       "   cons.conf.idx  euribor3m  nr.employed  \n",
       "0          -36.4      4.857       5191.0  \n",
       "1          -36.4      4.857       5191.0  \n",
       "2          -36.4      4.857       5191.0  \n",
       "3          -36.4      4.857       5191.0  \n",
       "4          -36.4      4.857       5191.0  "
      ]
     },
     "execution_count": 168,
     "metadata": {},
     "output_type": "execute_result"
    }
   ],
   "source": [
    "df_bank[numerical_columns].head()"
   ]
  },
  {
   "cell_type": "markdown",
   "metadata": {
    "id": "6lRJ2x0hCvpm"
   },
   "source": [
    "Terlihat bahwa atribut **pdays** ada nilai **999** yang menandakan klien sebelumnya tidak dihubungi. Ini bisa diganti dengan nilai **0**. Akan diperiksa juga nilai-nilai yang \"aneh\" untuk atribut numerikal lainnya"
   ]
  },
  {
   "cell_type": "code",
   "execution_count": 169,
   "metadata": {
    "colab": {
     "base_uri": "https://localhost:8080/"
    },
    "id": "PGbdSwKiCvEI",
    "outputId": "f45f0c5b-3b63-48bc-8c2b-c3d2a72d3b92"
   },
   "outputs": [
    {
     "name": "stdout",
     "output_type": "stream",
     "text": [
      "Nilai unik untuk kolom AGE\n",
      "[56 57 37 40 45 59 41 24 25 29 35 54 46 50 39 30 55 49 34 52 58 32 38 44\n",
      " 42 60 53 47 51 48 33 31 43 36 28 27 26 22 23 20 21 61 19 18 70 66 76 67\n",
      " 73 88 95 77 68 75 63 80 62 65 72 82 64 71 69 78 85 79 83 81 74 17 87 91\n",
      " 86 98 94 84 92 89]\n",
      "======================================================================\n",
      "Nilai unik untuk kolom DURATION\n",
      "[ 261  149  226 ... 1246 1556 1868]\n",
      "======================================================================\n",
      "Nilai unik untuk kolom CAMPAIGN\n",
      "[ 1  2  3  4  5  6  7  8  9 10 11 12 13 19 18 23 14 22 25 16 17 15 20 56\n",
      " 39 35 42 28 26 27 32 21 24 29 31 30 41 37 40 33 34 43]\n",
      "======================================================================\n",
      "Nilai unik untuk kolom PDAYS\n",
      "[999   6   4   3   5   1   0  10   7   8   9  11   2  12  13  14  15  16\n",
      "  21  17  18  22  25  26  19  27  20]\n",
      "======================================================================\n",
      "Nilai unik untuk kolom PREVIOUS\n",
      "[0 1 2 3 4 5 6 7]\n",
      "======================================================================\n",
      "Nilai unik untuk kolom EMP.VAR.RATE\n",
      "[ 1.1  1.4 -0.1 -0.2 -1.8 -2.9 -3.4 -3.  -1.7 -1.1]\n",
      "======================================================================\n",
      "Nilai unik untuk kolom CONS.PRICE.IDX\n",
      "[93.994 94.465 93.918 93.444 93.798 93.2   92.756 92.843 93.075 92.893\n",
      " 92.963 92.469 92.201 92.379 92.431 92.649 92.713 93.369 93.749 93.876\n",
      " 94.055 94.215 94.027 94.199 94.601 94.767]\n",
      "======================================================================\n",
      "Nilai unik untuk kolom CONS.CONF.IDX\n",
      "[-36.4 -41.8 -42.7 -36.1 -40.4 -42.  -45.9 -50.  -47.1 -46.2 -40.8 -33.6\n",
      " -31.4 -29.8 -26.9 -30.1 -33.  -34.8 -34.6 -40.  -39.8 -40.3 -38.3 -37.5\n",
      " -49.5 -50.8]\n",
      "======================================================================\n",
      "Nilai unik untuk kolom EURIBOR3M\n",
      "[4.857 4.856 4.855 4.859 4.86  4.858 4.864 4.865 4.866 4.967 4.961 4.959\n",
      " 4.958 4.96  4.962 4.955 4.947 4.956 4.966 4.963 4.957 4.968 4.97  4.965\n",
      " 4.964 5.045 5.    4.936 4.921 4.918 4.912 4.827 4.794 4.76  4.733 4.7\n",
      " 4.663 4.592 4.474 4.406 4.343 4.286 4.245 4.223 4.191 4.153 4.12  4.076\n",
      " 4.021 3.901 3.879 3.853 3.816 3.743 3.669 3.563 3.488 3.428 3.329 3.282\n",
      " 3.053 1.811 1.799 1.778 1.757 1.726 1.703 1.687 1.663 1.65  1.64  1.629\n",
      " 1.614 1.602 1.584 1.574 1.56  1.556 1.548 1.538 1.531 1.52  1.51  1.498\n",
      " 1.483 1.479 1.466 1.453 1.445 1.435 1.423 1.415 1.41  1.405 1.406 1.4\n",
      " 1.392 1.384 1.372 1.365 1.354 1.344 1.334 1.327 1.313 1.299 1.291 1.281\n",
      " 1.266 1.25  1.244 1.259 1.264 1.27  1.262 1.26  1.268 1.286 1.252 1.235\n",
      " 1.224 1.215 1.206 1.099 1.085 1.072 1.059 1.048 1.044 1.029 1.018 1.007\n",
      " 0.996 0.979 0.969 0.944 0.937 0.933 0.927 0.921 0.914 0.908 0.903 0.899\n",
      " 0.884 0.883 0.881 0.879 0.873 0.869 0.861 0.859 0.854 0.851 0.849 0.843\n",
      " 0.838 0.834 0.829 0.825 0.821 0.819 0.813 0.809 0.803 0.797 0.788 0.781\n",
      " 0.778 0.773 0.771 0.77  0.768 0.766 0.762 0.755 0.749 0.743 0.741 0.739\n",
      " 0.75  0.753 0.754 0.752 0.744 0.74  0.742 0.737 0.735 0.733 0.73  0.731\n",
      " 0.728 0.724 0.722 0.72  0.719 0.716 0.715 0.714 0.718 0.721 0.717 0.712\n",
      " 0.71  0.709 0.708 0.706 0.707 0.7   0.655 0.654 0.653 0.652 0.651 0.65\n",
      " 0.649 0.646 0.644 0.643 0.639 0.637 0.635 0.636 0.634 0.638 0.64  0.642\n",
      " 0.645 0.659 0.663 0.668 0.672 0.677 0.682 0.683 0.684 0.685 0.688 0.69\n",
      " 0.692 0.695 0.697 0.699 0.701 0.702 0.704 0.711 0.713 0.723 0.727 0.729\n",
      " 0.732 0.748 0.761 0.767 0.782 0.79  0.793 0.802 0.81  0.822 0.827 0.835\n",
      " 0.84  0.846 0.87  0.876 0.885 0.889 0.893 0.896 0.898 0.9   0.904 0.905\n",
      " 0.895 0.894 0.891 0.89  0.888 0.886 0.882 0.88  0.878 0.877 0.942 0.953\n",
      " 0.956 0.959 0.965 0.972 0.977 0.982 0.985 0.987 0.993 1.    1.008 1.016\n",
      " 1.025 1.032 1.037 1.043 1.045 1.047 1.05  1.049 1.046 1.041 1.04  1.039\n",
      " 1.035 1.03  1.031 1.028]\n",
      "======================================================================\n",
      "Nilai unik untuk kolom NR.EMPLOYED\n",
      "[5191.  5228.1 5195.8 5176.3 5099.1 5076.2 5017.5 5023.5 5008.7 4991.6\n",
      " 4963.6]\n",
      "======================================================================\n"
     ]
    }
   ],
   "source": [
    "# Mencetak semua nilai unik pada setiap atribut numerikal\n",
    "for num_col in numerical_columns:\n",
    "    print(\"Nilai unik untuk kolom\", num_col.upper())\n",
    "    print(df_bank[num_col].unique())\n",
    "    print('='*70)"
   ]
  },
  {
   "cell_type": "markdown",
   "metadata": {
    "id": "HbTaJH8pC836"
   },
   "source": [
    "Semua nilai yang ada untuk setiap kolom numerik tidak ada keanehan dengan nilai-nilai yang lainnya. Hanya **pdays** yang memiliki nilai yang aneh yaitu **999**, sehingga nilai ini akan diganti menjadi **0** (sesuai deskripsi dataset yang diterima)"
   ]
  },
  {
   "cell_type": "code",
   "execution_count": 170,
   "metadata": {
    "id": "vIljmSIfDDly"
   },
   "outputs": [],
   "source": [
    "# Mengganti nilai 999 pada pdays \n",
    "df_bank['pdays'].replace(999, 0, inplace = True)"
   ]
  },
  {
   "cell_type": "markdown",
   "metadata": {
    "id": "rWNYHQQlDMOl"
   },
   "source": [
    "### Merangkum total *missing values (nan) values*"
   ]
  },
  {
   "cell_type": "code",
   "execution_count": 171,
   "metadata": {
    "colab": {
     "base_uri": "https://localhost:8080/"
    },
    "id": "M0EPcNwBDP0g",
    "outputId": "35ee6465-95cd-43ea-80f0-f3693df5b440"
   },
   "outputs": [
    {
     "name": "stdout",
     "output_type": "stream",
     "text": [
      "Jumlah nan missing values atribut kategori = 12718\n",
      "Jumlah nan missing values atribut numerikal = 0\n"
     ]
    }
   ],
   "source": [
    "# Missing values pada data train\n",
    "print(\"Jumlah nan missing values atribut kategori =\", df_bank[categorical_columns].isnull().sum().sum())\n",
    "print(\"Jumlah nan missing values atribut numerikal =\", df_bank[numerical_columns].isnull().sum().sum())"
   ]
  },
  {
   "cell_type": "markdown",
   "metadata": {
    "id": "oxXAPXt8DZvC"
   },
   "source": [
    "Hanya data kategorikal yang mengandung missing values dan data numerikal tidak mengandung missing values. Akan dilakukan strageti penanganan missing values untuk data kategorikal"
   ]
  },
  {
   "cell_type": "markdown",
   "metadata": {
    "id": "VzSFOqylDcYj"
   },
   "source": [
    "### Penanganan *Missing Values*\n",
    "***\n",
    "Untuk data kategorikal, *missing values* akan diisi dengan modus dari atribut X, sedangkan untuk data numerikal *missing values* akan diisi dengan median dari atribut Z."
   ]
  },
  {
   "cell_type": "markdown",
   "metadata": {
    "id": "N2MNDKmnD-qY"
   },
   "source": [
    "#### Pisahkan data yang bertipe kategorik dan numerik"
   ]
  },
  {
   "cell_type": "code",
   "execution_count": 172,
   "metadata": {
    "id": "Yp5HNmDfEGlM"
   },
   "outputs": [],
   "source": [
    "# Categorical data\n",
    "df_bank_categorical = df_bank[categorical_columns]\n",
    "\n",
    "# Numerical data\n",
    "df_bank_numerical = df_bank[numerical_columns]"
   ]
  },
  {
   "cell_type": "markdown",
   "metadata": {
    "id": "_dXQEr_JEbcs"
   },
   "source": [
    "#### Instansiasi kelas *Imputer* untuk *filling nan* pada atribut kategorikal"
   ]
  },
  {
   "cell_type": "code",
   "execution_count": 173,
   "metadata": {
    "id": "cjSj-CQJEkfS"
   },
   "outputs": [],
   "source": [
    "# Instansiasi kelas SimpleImputer untuk imputer atribut kategorikal\n",
    "imputer_categorical = SimpleImputer(missing_values = np.nan, strategy = 'most_frequent')"
   ]
  },
  {
   "cell_type": "markdown",
   "metadata": {
    "id": "fdHiWpOHEtff"
   },
   "source": [
    "#### *Fit data training categorical into imputer, transform into training and testing categorical*"
   ]
  },
  {
   "cell_type": "code",
   "execution_count": 174,
   "metadata": {
    "colab": {
     "base_uri": "https://localhost:8080/",
     "height": 74
    },
    "id": "gIo_WBE8E9Ac",
    "outputId": "ecb8c7a8-c4b7-4261-fa5b-0aa0f0e35895"
   },
   "outputs": [
    {
     "data": {
      "text/html": [
       "<style>#sk-container-id-3 {color: black;background-color: white;}#sk-container-id-3 pre{padding: 0;}#sk-container-id-3 div.sk-toggleable {background-color: white;}#sk-container-id-3 label.sk-toggleable__label {cursor: pointer;display: block;width: 100%;margin-bottom: 0;padding: 0.3em;box-sizing: border-box;text-align: center;}#sk-container-id-3 label.sk-toggleable__label-arrow:before {content: \"▸\";float: left;margin-right: 0.25em;color: #696969;}#sk-container-id-3 label.sk-toggleable__label-arrow:hover:before {color: black;}#sk-container-id-3 div.sk-estimator:hover label.sk-toggleable__label-arrow:before {color: black;}#sk-container-id-3 div.sk-toggleable__content {max-height: 0;max-width: 0;overflow: hidden;text-align: left;background-color: #f0f8ff;}#sk-container-id-3 div.sk-toggleable__content pre {margin: 0.2em;color: black;border-radius: 0.25em;background-color: #f0f8ff;}#sk-container-id-3 input.sk-toggleable__control:checked~div.sk-toggleable__content {max-height: 200px;max-width: 100%;overflow: auto;}#sk-container-id-3 input.sk-toggleable__control:checked~label.sk-toggleable__label-arrow:before {content: \"▾\";}#sk-container-id-3 div.sk-estimator input.sk-toggleable__control:checked~label.sk-toggleable__label {background-color: #d4ebff;}#sk-container-id-3 div.sk-label input.sk-toggleable__control:checked~label.sk-toggleable__label {background-color: #d4ebff;}#sk-container-id-3 input.sk-hidden--visually {border: 0;clip: rect(1px 1px 1px 1px);clip: rect(1px, 1px, 1px, 1px);height: 1px;margin: -1px;overflow: hidden;padding: 0;position: absolute;width: 1px;}#sk-container-id-3 div.sk-estimator {font-family: monospace;background-color: #f0f8ff;border: 1px dotted black;border-radius: 0.25em;box-sizing: border-box;margin-bottom: 0.5em;}#sk-container-id-3 div.sk-estimator:hover {background-color: #d4ebff;}#sk-container-id-3 div.sk-parallel-item::after {content: \"\";width: 100%;border-bottom: 1px solid gray;flex-grow: 1;}#sk-container-id-3 div.sk-label:hover label.sk-toggleable__label {background-color: #d4ebff;}#sk-container-id-3 div.sk-serial::before {content: \"\";position: absolute;border-left: 1px solid gray;box-sizing: border-box;top: 0;bottom: 0;left: 50%;z-index: 0;}#sk-container-id-3 div.sk-serial {display: flex;flex-direction: column;align-items: center;background-color: white;padding-right: 0.2em;padding-left: 0.2em;position: relative;}#sk-container-id-3 div.sk-item {position: relative;z-index: 1;}#sk-container-id-3 div.sk-parallel {display: flex;align-items: stretch;justify-content: center;background-color: white;position: relative;}#sk-container-id-3 div.sk-item::before, #sk-container-id-3 div.sk-parallel-item::before {content: \"\";position: absolute;border-left: 1px solid gray;box-sizing: border-box;top: 0;bottom: 0;left: 50%;z-index: -1;}#sk-container-id-3 div.sk-parallel-item {display: flex;flex-direction: column;z-index: 1;position: relative;background-color: white;}#sk-container-id-3 div.sk-parallel-item:first-child::after {align-self: flex-end;width: 50%;}#sk-container-id-3 div.sk-parallel-item:last-child::after {align-self: flex-start;width: 50%;}#sk-container-id-3 div.sk-parallel-item:only-child::after {width: 0;}#sk-container-id-3 div.sk-dashed-wrapped {border: 1px dashed gray;margin: 0 0.4em 0.5em 0.4em;box-sizing: border-box;padding-bottom: 0.4em;background-color: white;}#sk-container-id-3 div.sk-label label {font-family: monospace;font-weight: bold;display: inline-block;line-height: 1.2em;}#sk-container-id-3 div.sk-label-container {text-align: center;}#sk-container-id-3 div.sk-container {/* jupyter's `normalize.less` sets `[hidden] { display: none; }` but bootstrap.min.css set `[hidden] { display: none !important; }` so we also need the `!important` here to be able to override the default hidden behavior on the sphinx rendered scikit-learn.org. See: https://github.com/scikit-learn/scikit-learn/issues/21755 */display: inline-block !important;position: relative;}#sk-container-id-3 div.sk-text-repr-fallback {display: none;}</style><div id=\"sk-container-id-3\" class=\"sk-top-container\"><div class=\"sk-text-repr-fallback\"><pre>SimpleImputer(strategy=&#x27;most_frequent&#x27;)</pre><b>In a Jupyter environment, please rerun this cell to show the HTML representation or trust the notebook. <br />On GitHub, the HTML representation is unable to render, please try loading this page with nbviewer.org.</b></div><div class=\"sk-container\" hidden><div class=\"sk-item\"><div class=\"sk-estimator sk-toggleable\"><input class=\"sk-toggleable__control sk-hidden--visually\" id=\"sk-estimator-id-3\" type=\"checkbox\" checked><label for=\"sk-estimator-id-3\" class=\"sk-toggleable__label sk-toggleable__label-arrow\">SimpleImputer</label><div class=\"sk-toggleable__content\"><pre>SimpleImputer(strategy=&#x27;most_frequent&#x27;)</pre></div></div></div></div></div>"
      ],
      "text/plain": [
       "SimpleImputer(strategy='most_frequent')"
      ]
     },
     "execution_count": 174,
     "metadata": {},
     "output_type": "execute_result"
    }
   ],
   "source": [
    "# Fit dengan data training\n",
    "imputer_categorical.fit(df_bank_categorical)"
   ]
  },
  {
   "cell_type": "code",
   "execution_count": 175,
   "metadata": {
    "id": "MbrNGSoiFC3g"
   },
   "outputs": [],
   "source": [
    "# Transform ke data latih\n",
    "df_bank_categorical = imputer_categorical.transform(df_bank_categorical)"
   ]
  },
  {
   "cell_type": "markdown",
   "metadata": {
    "id": "jIvyQDJUFLOG"
   },
   "source": [
    "#### Buat *numpy array* hasil imputer transform ke dalam dataframe"
   ]
  },
  {
   "cell_type": "code",
   "execution_count": 176,
   "metadata": {
    "id": "GUfWIjNSFbe1"
   },
   "outputs": [],
   "source": [
    "# Buat hasil array ke dalam dataframe\n",
    "df_bank_categorical = pd.DataFrame(df_bank_categorical, columns = categorical_columns)"
   ]
  },
  {
   "cell_type": "markdown",
   "metadata": {
    "id": "KiCgwm4IFlwz"
   },
   "source": [
    "#### *Concate categorical columns with numerical columns*"
   ]
  },
  {
   "cell_type": "code",
   "execution_count": 177,
   "metadata": {
    "id": "FV2R156jFrxa"
   },
   "outputs": [],
   "source": [
    "df_bank = pd.concat([df_bank_numerical, df_bank_categorical], axis = 1)"
   ]
  },
  {
   "cell_type": "markdown",
   "metadata": {
    "id": "M0ZiZmkLF3ju"
   },
   "source": [
    "#### Cek kalau masih ada *missing values* terlewat"
   ]
  },
  {
   "cell_type": "code",
   "execution_count": 178,
   "metadata": {
    "colab": {
     "base_uri": "https://localhost:8080/"
    },
    "id": "RNB4BN55F9RN",
    "outputId": "c54d867c-ba0d-44c0-ba65-a0d2c3bb1980"
   },
   "outputs": [
    {
     "name": "stdout",
     "output_type": "stream",
     "text": [
      "Jumlah nan missing values atribut kategori = 0\n",
      "Jumlah nan missing values atribut numerikal = 0\n"
     ]
    }
   ],
   "source": [
    "# Missing values pada data train\n",
    "print(\"Jumlah nan missing values atribut kategori =\", df_bank[categorical_columns].isnull().sum().sum())\n",
    "print(\"Jumlah nan missing values atribut numerikal =\", df_bank[numerical_columns].isnull().sum().sum())"
   ]
  },
  {
   "cell_type": "markdown",
   "metadata": {
    "id": "1v74ff7qGKEM"
   },
   "source": [
    "Setelah dilakukan imputasi, tidak ada **missing values** yang tersisa"
   ]
  },
  {
   "cell_type": "markdown",
   "metadata": {
    "id": "HFk9dFBoGOIl"
   },
   "source": [
    "#### *Rename* nama atribut pada data"
   ]
  },
  {
   "cell_type": "code",
   "execution_count": 179,
   "metadata": {
    "id": "OcsATwR8GSxI"
   },
   "outputs": [],
   "source": [
    "df_bank.rename(columns = {\n",
    "    'job':'pekerjaan',\n",
    "    'marital':'pernikahan',\n",
    "    'education':'pendidikan',\n",
    "    'default':'kredit_default',\n",
    "    'housing':'pinjaman_rumah',\n",
    "    'loan':'pinjaman_pribadi',\n",
    "    'contact':'alat_komunikasi',\n",
    "    'month':'kontak_terakhir_bulan',\n",
    "    'day_of_week':'kontak_terakhir_hari',\n",
    "    'poutcome':'luaran_marketing_sebelumnya',\n",
    "    'y':'berlangganan_deposito',\n",
    "    'age':'umur',\n",
    "    'duration':'kontak_terakhir_berdurasi',\n",
    "    'campaign':'jumlah_kontak_selama_pemasaran',\n",
    "    'pdays':'jumlah_hari_berlalu',\n",
    "    'previous':'jumlah_kontak_sebelum_pemasaran',\n",
    "    'emp.var.rate':'tingkat_variasi_pekerjaan',\n",
    "    'cons.price.idx':'indeks_harga_konsumen',\n",
    "    'cons.conf.idx':'indeks_kepercayaan_konsumen',\n",
    "    'euribor3m':'tarif_euribor_3bulan',\n",
    "    'nr.employed':'jumlah_karyawan',\n",
    "}, inplace = True)"
   ]
  },
  {
   "cell_type": "markdown",
   "metadata": {
    "id": "rpOrq_cUGcdW"
   },
   "source": [
    "#### Menampilkan 5 data teratas setelah imputasi *missing values* pada *categorical columns*"
   ]
  },
  {
   "cell_type": "code",
   "execution_count": 180,
   "metadata": {
    "colab": {
     "base_uri": "https://localhost:8080/",
     "height": 299
    },
    "id": "sDygKmNLGh3J",
    "outputId": "7325a941-3916-4fa9-a869-df8d8de692f4"
   },
   "outputs": [
    {
     "data": {
      "text/html": [
       "\n",
       "  <div id=\"df-e92d19c9-de70-4db4-a64c-9d4403c0077a\">\n",
       "    <div class=\"colab-df-container\">\n",
       "      <div>\n",
       "<style scoped>\n",
       "    .dataframe tbody tr th:only-of-type {\n",
       "        vertical-align: middle;\n",
       "    }\n",
       "\n",
       "    .dataframe tbody tr th {\n",
       "        vertical-align: top;\n",
       "    }\n",
       "\n",
       "    .dataframe thead th {\n",
       "        text-align: right;\n",
       "    }\n",
       "</style>\n",
       "<table border=\"1\" class=\"dataframe\">\n",
       "  <thead>\n",
       "    <tr style=\"text-align: right;\">\n",
       "      <th></th>\n",
       "      <th>umur</th>\n",
       "      <th>kontak_terakhir_berdurasi</th>\n",
       "      <th>jumlah_kontak_selama_pemasaran</th>\n",
       "      <th>jumlah_hari_berlalu</th>\n",
       "      <th>jumlah_kontak_sebelum_pemasaran</th>\n",
       "      <th>tingkat_variasi_pekerjaan</th>\n",
       "      <th>indeks_harga_konsumen</th>\n",
       "      <th>indeks_kepercayaan_konsumen</th>\n",
       "      <th>tarif_euribor_3bulan</th>\n",
       "      <th>jumlah_karyawan</th>\n",
       "      <th>...</th>\n",
       "      <th>pernikahan</th>\n",
       "      <th>pendidikan</th>\n",
       "      <th>kredit_default</th>\n",
       "      <th>pinjaman_rumah</th>\n",
       "      <th>pinjaman_pribadi</th>\n",
       "      <th>alat_komunikasi</th>\n",
       "      <th>kontak_terakhir_bulan</th>\n",
       "      <th>kontak_terakhir_hari</th>\n",
       "      <th>luaran_marketing_sebelumnya</th>\n",
       "      <th>berlangganan_deposito</th>\n",
       "    </tr>\n",
       "  </thead>\n",
       "  <tbody>\n",
       "    <tr>\n",
       "      <th>0</th>\n",
       "      <td>56</td>\n",
       "      <td>261</td>\n",
       "      <td>1</td>\n",
       "      <td>0</td>\n",
       "      <td>0</td>\n",
       "      <td>1.1</td>\n",
       "      <td>93.994</td>\n",
       "      <td>-36.4</td>\n",
       "      <td>4.857</td>\n",
       "      <td>5191.0</td>\n",
       "      <td>...</td>\n",
       "      <td>married</td>\n",
       "      <td>basic.4y</td>\n",
       "      <td>no</td>\n",
       "      <td>no</td>\n",
       "      <td>no</td>\n",
       "      <td>telephone</td>\n",
       "      <td>may</td>\n",
       "      <td>mon</td>\n",
       "      <td>nonexistent</td>\n",
       "      <td>no</td>\n",
       "    </tr>\n",
       "    <tr>\n",
       "      <th>1</th>\n",
       "      <td>57</td>\n",
       "      <td>149</td>\n",
       "      <td>1</td>\n",
       "      <td>0</td>\n",
       "      <td>0</td>\n",
       "      <td>1.1</td>\n",
       "      <td>93.994</td>\n",
       "      <td>-36.4</td>\n",
       "      <td>4.857</td>\n",
       "      <td>5191.0</td>\n",
       "      <td>...</td>\n",
       "      <td>married</td>\n",
       "      <td>high.school</td>\n",
       "      <td>no</td>\n",
       "      <td>no</td>\n",
       "      <td>no</td>\n",
       "      <td>telephone</td>\n",
       "      <td>may</td>\n",
       "      <td>mon</td>\n",
       "      <td>nonexistent</td>\n",
       "      <td>no</td>\n",
       "    </tr>\n",
       "    <tr>\n",
       "      <th>2</th>\n",
       "      <td>37</td>\n",
       "      <td>226</td>\n",
       "      <td>1</td>\n",
       "      <td>0</td>\n",
       "      <td>0</td>\n",
       "      <td>1.1</td>\n",
       "      <td>93.994</td>\n",
       "      <td>-36.4</td>\n",
       "      <td>4.857</td>\n",
       "      <td>5191.0</td>\n",
       "      <td>...</td>\n",
       "      <td>married</td>\n",
       "      <td>high.school</td>\n",
       "      <td>no</td>\n",
       "      <td>yes</td>\n",
       "      <td>no</td>\n",
       "      <td>telephone</td>\n",
       "      <td>may</td>\n",
       "      <td>mon</td>\n",
       "      <td>nonexistent</td>\n",
       "      <td>no</td>\n",
       "    </tr>\n",
       "    <tr>\n",
       "      <th>3</th>\n",
       "      <td>40</td>\n",
       "      <td>151</td>\n",
       "      <td>1</td>\n",
       "      <td>0</td>\n",
       "      <td>0</td>\n",
       "      <td>1.1</td>\n",
       "      <td>93.994</td>\n",
       "      <td>-36.4</td>\n",
       "      <td>4.857</td>\n",
       "      <td>5191.0</td>\n",
       "      <td>...</td>\n",
       "      <td>married</td>\n",
       "      <td>basic.6y</td>\n",
       "      <td>no</td>\n",
       "      <td>no</td>\n",
       "      <td>no</td>\n",
       "      <td>telephone</td>\n",
       "      <td>may</td>\n",
       "      <td>mon</td>\n",
       "      <td>nonexistent</td>\n",
       "      <td>no</td>\n",
       "    </tr>\n",
       "    <tr>\n",
       "      <th>4</th>\n",
       "      <td>56</td>\n",
       "      <td>307</td>\n",
       "      <td>1</td>\n",
       "      <td>0</td>\n",
       "      <td>0</td>\n",
       "      <td>1.1</td>\n",
       "      <td>93.994</td>\n",
       "      <td>-36.4</td>\n",
       "      <td>4.857</td>\n",
       "      <td>5191.0</td>\n",
       "      <td>...</td>\n",
       "      <td>married</td>\n",
       "      <td>high.school</td>\n",
       "      <td>no</td>\n",
       "      <td>no</td>\n",
       "      <td>yes</td>\n",
       "      <td>telephone</td>\n",
       "      <td>may</td>\n",
       "      <td>mon</td>\n",
       "      <td>nonexistent</td>\n",
       "      <td>no</td>\n",
       "    </tr>\n",
       "  </tbody>\n",
       "</table>\n",
       "<p>5 rows × 21 columns</p>\n",
       "</div>\n",
       "      <button class=\"colab-df-convert\" onclick=\"convertToInteractive('df-e92d19c9-de70-4db4-a64c-9d4403c0077a')\"\n",
       "              title=\"Convert this dataframe to an interactive table.\"\n",
       "              style=\"display:none;\">\n",
       "        \n",
       "  <svg xmlns=\"http://www.w3.org/2000/svg\" height=\"24px\"viewBox=\"0 0 24 24\"\n",
       "       width=\"24px\">\n",
       "    <path d=\"M0 0h24v24H0V0z\" fill=\"none\"/>\n",
       "    <path d=\"M18.56 5.44l.94 2.06.94-2.06 2.06-.94-2.06-.94-.94-2.06-.94 2.06-2.06.94zm-11 1L8.5 8.5l.94-2.06 2.06-.94-2.06-.94L8.5 2.5l-.94 2.06-2.06.94zm10 10l.94 2.06.94-2.06 2.06-.94-2.06-.94-.94-2.06-.94 2.06-2.06.94z\"/><path d=\"M17.41 7.96l-1.37-1.37c-.4-.4-.92-.59-1.43-.59-.52 0-1.04.2-1.43.59L10.3 9.45l-7.72 7.72c-.78.78-.78 2.05 0 2.83L4 21.41c.39.39.9.59 1.41.59.51 0 1.02-.2 1.41-.59l7.78-7.78 2.81-2.81c.8-.78.8-2.07 0-2.86zM5.41 20L4 18.59l7.72-7.72 1.47 1.35L5.41 20z\"/>\n",
       "  </svg>\n",
       "      </button>\n",
       "      \n",
       "  <style>\n",
       "    .colab-df-container {\n",
       "      display:flex;\n",
       "      flex-wrap:wrap;\n",
       "      gap: 12px;\n",
       "    }\n",
       "\n",
       "    .colab-df-convert {\n",
       "      background-color: #E8F0FE;\n",
       "      border: none;\n",
       "      border-radius: 50%;\n",
       "      cursor: pointer;\n",
       "      display: none;\n",
       "      fill: #1967D2;\n",
       "      height: 32px;\n",
       "      padding: 0 0 0 0;\n",
       "      width: 32px;\n",
       "    }\n",
       "\n",
       "    .colab-df-convert:hover {\n",
       "      background-color: #E2EBFA;\n",
       "      box-shadow: 0px 1px 2px rgba(60, 64, 67, 0.3), 0px 1px 3px 1px rgba(60, 64, 67, 0.15);\n",
       "      fill: #174EA6;\n",
       "    }\n",
       "\n",
       "    [theme=dark] .colab-df-convert {\n",
       "      background-color: #3B4455;\n",
       "      fill: #D2E3FC;\n",
       "    }\n",
       "\n",
       "    [theme=dark] .colab-df-convert:hover {\n",
       "      background-color: #434B5C;\n",
       "      box-shadow: 0px 1px 3px 1px rgba(0, 0, 0, 0.15);\n",
       "      filter: drop-shadow(0px 1px 2px rgba(0, 0, 0, 0.3));\n",
       "      fill: #FFFFFF;\n",
       "    }\n",
       "  </style>\n",
       "\n",
       "      <script>\n",
       "        const buttonEl =\n",
       "          document.querySelector('#df-e92d19c9-de70-4db4-a64c-9d4403c0077a button.colab-df-convert');\n",
       "        buttonEl.style.display =\n",
       "          google.colab.kernel.accessAllowed ? 'block' : 'none';\n",
       "\n",
       "        async function convertToInteractive(key) {\n",
       "          const element = document.querySelector('#df-e92d19c9-de70-4db4-a64c-9d4403c0077a');\n",
       "          const dataTable =\n",
       "            await google.colab.kernel.invokeFunction('convertToInteractive',\n",
       "                                                     [key], {});\n",
       "          if (!dataTable) return;\n",
       "\n",
       "          const docLinkHtml = 'Like what you see? Visit the ' +\n",
       "            '<a target=\"_blank\" href=https://colab.research.google.com/notebooks/data_table.ipynb>data table notebook</a>'\n",
       "            + ' to learn more about interactive tables.';\n",
       "          element.innerHTML = '';\n",
       "          dataTable['output_type'] = 'display_data';\n",
       "          await google.colab.output.renderOutput(dataTable, element);\n",
       "          const docLink = document.createElement('div');\n",
       "          docLink.innerHTML = docLinkHtml;\n",
       "          element.appendChild(docLink);\n",
       "        }\n",
       "      </script>\n",
       "    </div>\n",
       "  </div>\n",
       "  "
      ],
      "text/plain": [
       "   umur  kontak_terakhir_berdurasi  jumlah_kontak_selama_pemasaran  \\\n",
       "0    56                        261                               1   \n",
       "1    57                        149                               1   \n",
       "2    37                        226                               1   \n",
       "3    40                        151                               1   \n",
       "4    56                        307                               1   \n",
       "\n",
       "   jumlah_hari_berlalu  jumlah_kontak_sebelum_pemasaran  \\\n",
       "0                    0                                0   \n",
       "1                    0                                0   \n",
       "2                    0                                0   \n",
       "3                    0                                0   \n",
       "4                    0                                0   \n",
       "\n",
       "   tingkat_variasi_pekerjaan  indeks_harga_konsumen  \\\n",
       "0                        1.1                 93.994   \n",
       "1                        1.1                 93.994   \n",
       "2                        1.1                 93.994   \n",
       "3                        1.1                 93.994   \n",
       "4                        1.1                 93.994   \n",
       "\n",
       "   indeks_kepercayaan_konsumen  tarif_euribor_3bulan  jumlah_karyawan  ...  \\\n",
       "0                        -36.4                 4.857           5191.0  ...   \n",
       "1                        -36.4                 4.857           5191.0  ...   \n",
       "2                        -36.4                 4.857           5191.0  ...   \n",
       "3                        -36.4                 4.857           5191.0  ...   \n",
       "4                        -36.4                 4.857           5191.0  ...   \n",
       "\n",
       "  pernikahan   pendidikan kredit_default pinjaman_rumah pinjaman_pribadi  \\\n",
       "0    married     basic.4y             no             no               no   \n",
       "1    married  high.school             no             no               no   \n",
       "2    married  high.school             no            yes               no   \n",
       "3    married     basic.6y             no             no               no   \n",
       "4    married  high.school             no             no              yes   \n",
       "\n",
       "  alat_komunikasi kontak_terakhir_bulan kontak_terakhir_hari  \\\n",
       "0       telephone                   may                  mon   \n",
       "1       telephone                   may                  mon   \n",
       "2       telephone                   may                  mon   \n",
       "3       telephone                   may                  mon   \n",
       "4       telephone                   may                  mon   \n",
       "\n",
       "  luaran_marketing_sebelumnya berlangganan_deposito  \n",
       "0                 nonexistent                    no  \n",
       "1                 nonexistent                    no  \n",
       "2                 nonexistent                    no  \n",
       "3                 nonexistent                    no  \n",
       "4                 nonexistent                    no  \n",
       "\n",
       "[5 rows x 21 columns]"
      ]
     },
     "execution_count": 180,
     "metadata": {},
     "output_type": "execute_result"
    }
   ],
   "source": [
    "df_bank.head()"
   ]
  },
  {
   "cell_type": "markdown",
   "metadata": {
    "id": "e91aFByNGm6i"
   },
   "source": [
    "# Visualisasi Data"
   ]
  },
  {
   "cell_type": "code",
   "execution_count": 181,
   "metadata": {
    "id": "LKw1yYpcH_OW"
   },
   "outputs": [],
   "source": [
    "# Menyiapkan List Warna untuk kebutuhan visualisasi grafik\n",
    "colors_list = ['hotpink', 'lightslategray', 'cornflowerblue', 'darkseagreen', 'salmon', 'burlywood', 'lightskyblue', 'khaki']"
   ]
  },
  {
   "cell_type": "markdown",
   "metadata": {
    "id": "P8YawSVVGru0"
   },
   "source": [
    "### Berapa persentase setiap nilai pada kelas target?"
   ]
  },
  {
   "cell_type": "code",
   "execution_count": 182,
   "metadata": {
    "colab": {
     "base_uri": "https://localhost:8080/"
    },
    "id": "mhdEP_1_G38v",
    "outputId": "2833af70-358b-4b39-a13a-1953b58dc60f"
   },
   "outputs": [
    {
     "data": {
      "text/plain": [
       "no     36548\n",
       "yes     4640\n",
       "Name: berlangganan_deposito, dtype: int64"
      ]
     },
     "execution_count": 182,
     "metadata": {},
     "output_type": "execute_result"
    }
   ],
   "source": [
    "df_bank['berlangganan_deposito'].value_counts()"
   ]
  },
  {
   "cell_type": "code",
   "execution_count": 183,
   "metadata": {
    "colab": {
     "base_uri": "https://localhost:8080/",
     "height": 591
    },
    "id": "A9sqBm2zG9XV",
    "outputId": "16b753cd-ad39-47e1-9b07-08ea25a4a57e"
   },
   "outputs": [
    {
     "data": {
      "text/plain": [
       "<matplotlib.legend.Legend at 0x7f74892236a0>"
      ]
     },
     "execution_count": 183,
     "metadata": {},
     "output_type": "execute_result"
    },
    {
     "data": {
      "image/png": "[encoded data removed]",
      "text/plain": [
       "<Figure size 1600x600 with 2 Axes>"
      ]
     },
     "metadata": {},
     "output_type": "display_data"
    }
   ],
   "source": [
    "fig, ax = plt.subplots(1, 2, figsize = (16,6))\n",
    "\n",
    "# Persentase \"berlangganan deposito\"\n",
    "df_bank['berlangganan_deposito'].value_counts().plot(\n",
    "    kind = 'pie',\n",
    "    autopct = '%.1f%%',\n",
    "    explode = [0, 0.05], \n",
    "    shadow = True,\n",
    "    ax = ax[0],\n",
    "    colors = colors_list\n",
    ")\n",
    "ax[0].set_title('Persentase Berlangganan Deposito')\n",
    "ax[0].set_ylabel('')\n",
    "\n",
    "# Barchart besaran setiap nilai pada kelas target\n",
    "df_bank.groupby('berlangganan_deposito').agg({'berlangganan_deposito' : 'count'}).plot(\n",
    "    kind = 'bar',\n",
    "    ax = ax[1],\n",
    "    color = 'lightslategray'\n",
    ")\n",
    "ax[1].set_title('Jumlah masing-masing kelas pada label')\n",
    "ax[1].set_ylabel('Jumlah')\n",
    "ax[1].set_xlabel('Berlangganan Deposito')\n",
    "ax[1].legend(title = 'Deposit')"
   ]
  },
  {
   "cell_type": "markdown",
   "metadata": {
    "id": "ZQHFwtKNIqqd"
   },
   "source": [
    "Terlihat bahwa dari data yang diperoleh, ada ketidakseimbangan proporsi dari setiap nilai pada label kelas. Hal ini mungkin akan berpengaruh kepada hasil recall klasifikasi yang rendah. Undersampling bisa jadi opsi ketika performa model klasifikasi tidak cukup bagus untuk mengenali kelas **'yes'**\n",
    "Nilai yes bahkan **7x lebih sedikit** dibandingkan nilai **no**."
   ]
  },
  {
   "cell_type": "markdown",
   "metadata": {
    "id": "80I5k9SnIxMV"
   },
   "source": [
    "### Bagaimana kecenderungan berlangganan deposit dilihat dari status pernikahan?"
   ]
  },
  {
   "cell_type": "code",
   "execution_count": 184,
   "metadata": {
    "colab": {
     "base_uri": "https://localhost:8080/",
     "height": 581
    },
    "id": "D37_AaY3I6Uf",
    "outputId": "12b37aa7-c69d-4f75-dce1-e097f8efd4a0"
   },
   "outputs": [
    {
     "data": {
      "text/plain": [
       "<matplotlib.legend.Legend at 0x7f74893ad370>"
      ]
     },
     "execution_count": 184,
     "metadata": {},
     "output_type": "execute_result"
    },
    {
     "data": {
      "image/png": "[encoded data removed]",
      "text/plain": [
       "<Figure size 1600x600 with 2 Axes>"
      ]
     },
     "metadata": {},
     "output_type": "display_data"
    }
   ],
   "source": [
    "fig, ax = plt.subplots(1, 2, figsize = (16,6))\n",
    "\n",
    "# Persentase \"marital\"\n",
    "df_bank['pernikahan'].value_counts().plot(\n",
    "    kind = 'pie',\n",
    "    autopct = '%.1f%%',\n",
    "    explode = [0, 0.05, 0.05], \n",
    "    shadow = True,\n",
    "    ax = ax[0],\n",
    "    colors = colors_list\n",
    ")\n",
    "ax[0].set_title('Persentase Customer berdasarkan status pernikahan')\n",
    "ax[0].set_ylabel('')\n",
    "\n",
    "# Barchart besaran setiap status pernikahan terhadap setiap kelas target\n",
    "sns.countplot(\n",
    "    x = 'pernikahan',\n",
    "    hue = 'berlangganan_deposito',\n",
    "    data = df_bank,\n",
    "    color = 'cornflowerblue'\n",
    ")\n",
    "ax[1].set_title('Jumlah status pernikahan terhadap berlangganan deposito')\n",
    "ax[1].set_ylabel('Jumlah')\n",
    "ax[1].set_xlabel('Status Pernikahan')\n",
    "ax[1].legend(title = 'Deposit')"
   ]
  },
  {
   "cell_type": "markdown",
   "metadata": {
    "id": "mQjAmMGrOCfL"
   },
   "source": [
    "Data didominasi oleh status pernikahan \"married\". Status pernikahan ini memberikan jumlah berlangganan deposit untuk kelas 'No' dan 'Yes' tertinggi dibanding 2 status pernikahan lainnya."
   ]
  },
  {
   "cell_type": "markdown",
   "metadata": {
    "id": "BAvu4hVmOF3C"
   },
   "source": [
    "# *Preprocessing Datasets before Modelling*"
   ]
  },
  {
   "cell_type": "markdown",
   "metadata": {
    "id": "RHsWbQf3OUit"
   },
   "source": [
    "### *Encoding* Variabel Kategorik\n",
    "***\n",
    "Atribut yang bertipe kategorikan akan dipisahkan menjadi tipe ordinal dan nominal. Tipe ordinal adalah ada tingkatan diantara nilainya, sedangkan pada tipe nominal tidak terdapat tingkatan diantara nilainya dan semua nilai dianggap setara.\n",
    "Berikut ini adalah 12 atribut dengan tipe kategorikal:\n",
    "\n",
    "1. job\n",
    "(\"admin.\",\"blue-collar\",\"entrepreneur\",\"housemaid\",\"management\",\"retired\",\"self-employed\",\"services\",\"student\",\"technician\",\"unemployed\",\"unknown\") \n",
    "2. marital\n",
    "(\"divorced\",\"married\",\"single\",\"unknown\")\n",
    "note: \"divorced\" means divorced or widowed \n",
    "3. education\n",
    "(\"basic.4y\",\"basic.6y\",\"basic.9y\",\"high.school\",\"illiterate\",\"professional.course\",\"university.degree\",\"unknown\") \n",
    "4. default\n",
    "(\"no\",\"yes\",\"unknown\") \n",
    "5. housing\n",
    "(\"no\",\"yes\",\"unknown\") \n",
    "6. loan\n",
    "(\"no\",\"yes\",\"unknown\") \n",
    "7. contact\n",
    "(\"cellular\",\"telephone\") \n",
    "8. month\n",
    "(\"jan\", \"feb\", \"mar\", ..., \"nov\", \"dec\") \n",
    "9. day_of_week\n",
    "(\"mon\",\"tue\",\"wed\",\"thu\",\"fri\") \n",
    "10. poutcome\n",
    "(\"failure\",\"nonexistent\",\"success\") \n",
    "11. y (target)\n",
    "(\"yes\",\"no\")\n",
    "\n",
    "Dari sini akan dibagi menjadi:\n",
    "* **Nominal Atribut** : (job, education, contact, month, day_of_week, poutcome)\n",
    "* **Ordinal Atribut** : (marital, default, housing, loan, y)\n",
    "\n",
    "Atribut bertipe **nominal** akan dilakukan *one-hot encoding*, sedangkan atribut bertipe **ordinal** akan dilakukan label encoding"
   ]
  },
  {
   "cell_type": "markdown",
   "metadata": {
    "id": "KdXsiIZsPXw-"
   },
   "source": [
    "#### Mengelompokkan atribut berdasarkan tipe datanya"
   ]
  },
  {
   "cell_type": "code",
   "execution_count": 185,
   "metadata": {
    "id": "KcMzYlTAPf8m"
   },
   "outputs": [],
   "source": [
    "numerical_columns = list(df_bank.select_dtypes(include = ['int64']).columns.values) + list(df_bank.select_dtypes(include = ['float64']).columns.values)\n",
    "categorical_columns = list(df_bank.select_dtypes(include = ['object']))"
   ]
  },
  {
   "cell_type": "code",
   "execution_count": 186,
   "metadata": {
    "id": "QeGzmOThQOjR"
   },
   "outputs": [],
   "source": [
    "# Memilih atribut nominal dari atribut kategori\n",
    "nominal_columns = ['pekerjaan', 'pendidikan', 'alat_komunikasi', 'kontak_terakhir_bulan', 'kontak_terakhir_hari', 'luaran_marketing_sebelumnya']\n",
    "ordinal_columns = [col for col in categorical_columns if col not in nominal_columns]"
   ]
  },
  {
   "cell_type": "markdown",
   "metadata": {
    "id": "LWy2tlO1QUFY"
   },
   "source": [
    "#### *One Hot Encoding* untuk Nominal Atribut"
   ]
  },
  {
   "cell_type": "code",
   "execution_count": 187,
   "metadata": {
    "id": "nL3PfBO1QYqU"
   },
   "outputs": [],
   "source": [
    "# One hot encoding pada data untuk nominal columns\n",
    "ohe_df_bank = pd.get_dummies(df_bank[nominal_columns], columns = nominal_columns, prefix = nominal_columns)"
   ]
  },
  {
   "cell_type": "markdown",
   "metadata": {
    "id": "1pPNumb3Qsy6"
   },
   "source": [
    "#### Label Encoding untuk ordinal atribut"
   ]
  },
  {
   "cell_type": "code",
   "execution_count": 188,
   "metadata": {
    "id": "j8w8vsBbQr0s"
   },
   "outputs": [],
   "source": [
    "le_df_bank = df_bank.loc[:, ordinal_columns]\n",
    "\n",
    "# Instansiasi kelas LabelEncoder\n",
    "encoder = LabelEncoder()"
   ]
  },
  {
   "cell_type": "code",
   "execution_count": 189,
   "metadata": {
    "id": "WV_DMWcLQ4fj"
   },
   "outputs": [],
   "source": [
    "# label encoding\n",
    "for ord_col in ordinal_columns:\n",
    "    le_df_bank[ord_col] = encoder.fit_transform(le_df_bank[ord_col])"
   ]
  },
  {
   "cell_type": "markdown",
   "metadata": {
    "id": "TQ01QlHZQ_Dx"
   },
   "source": [
    "#### *Concatination* data hasil *one hot encoding* dan label encoding menjadi 1 dataframe"
   ]
  },
  {
   "cell_type": "code",
   "execution_count": 190,
   "metadata": {
    "id": "U0E9Ob1ZRSNY"
   },
   "outputs": [],
   "source": [
    "df_bank_categorical_encoded = pd.concat([ohe_df_bank, le_df_bank], axis = 1)"
   ]
  },
  {
   "cell_type": "markdown",
   "metadata": {
    "id": "7sMO_DPjRc8M"
   },
   "source": [
    "#### Menampilkan 5 data teratas hasil encoding"
   ]
  },
  {
   "cell_type": "code",
   "execution_count": 191,
   "metadata": {
    "colab": {
     "base_uri": "https://localhost:8080/",
     "height": 317
    },
    "id": "1NZ24lp0Rg30",
    "outputId": "7265dedc-122b-4706-8d41-b2ae45085348"
   },
   "outputs": [
    {
     "data": {
      "text/html": [
       "\n",
       "  <div id=\"df-d478e1c4-cbdd-4d65-ad51-95906ea9fc1f\">\n",
       "    <div class=\"colab-df-container\">\n",
       "      <div>\n",
       "<style scoped>\n",
       "    .dataframe tbody tr th:only-of-type {\n",
       "        vertical-align: middle;\n",
       "    }\n",
       "\n",
       "    .dataframe tbody tr th {\n",
       "        vertical-align: top;\n",
       "    }\n",
       "\n",
       "    .dataframe thead th {\n",
       "        text-align: right;\n",
       "    }\n",
       "</style>\n",
       "<table border=\"1\" class=\"dataframe\">\n",
       "  <thead>\n",
       "    <tr style=\"text-align: right;\">\n",
       "      <th></th>\n",
       "      <th>pekerjaan_admin.</th>\n",
       "      <th>pekerjaan_blue-collar</th>\n",
       "      <th>pekerjaan_entrepreneur</th>\n",
       "      <th>pekerjaan_housemaid</th>\n",
       "      <th>pekerjaan_management</th>\n",
       "      <th>pekerjaan_retired</th>\n",
       "      <th>pekerjaan_self-employed</th>\n",
       "      <th>pekerjaan_services</th>\n",
       "      <th>pekerjaan_student</th>\n",
       "      <th>pekerjaan_technician</th>\n",
       "      <th>...</th>\n",
       "      <th>kontak_terakhir_hari_tue</th>\n",
       "      <th>kontak_terakhir_hari_wed</th>\n",
       "      <th>luaran_marketing_sebelumnya_failure</th>\n",
       "      <th>luaran_marketing_sebelumnya_nonexistent</th>\n",
       "      <th>luaran_marketing_sebelumnya_success</th>\n",
       "      <th>pernikahan</th>\n",
       "      <th>kredit_default</th>\n",
       "      <th>pinjaman_rumah</th>\n",
       "      <th>pinjaman_pribadi</th>\n",
       "      <th>berlangganan_deposito</th>\n",
       "    </tr>\n",
       "  </thead>\n",
       "  <tbody>\n",
       "    <tr>\n",
       "      <th>0</th>\n",
       "      <td>0</td>\n",
       "      <td>0</td>\n",
       "      <td>0</td>\n",
       "      <td>1</td>\n",
       "      <td>0</td>\n",
       "      <td>0</td>\n",
       "      <td>0</td>\n",
       "      <td>0</td>\n",
       "      <td>0</td>\n",
       "      <td>0</td>\n",
       "      <td>...</td>\n",
       "      <td>0</td>\n",
       "      <td>0</td>\n",
       "      <td>0</td>\n",
       "      <td>1</td>\n",
       "      <td>0</td>\n",
       "      <td>1</td>\n",
       "      <td>0</td>\n",
       "      <td>0</td>\n",
       "      <td>0</td>\n",
       "      <td>0</td>\n",
       "    </tr>\n",
       "    <tr>\n",
       "      <th>1</th>\n",
       "      <td>0</td>\n",
       "      <td>0</td>\n",
       "      <td>0</td>\n",
       "      <td>0</td>\n",
       "      <td>0</td>\n",
       "      <td>0</td>\n",
       "      <td>0</td>\n",
       "      <td>1</td>\n",
       "      <td>0</td>\n",
       "      <td>0</td>\n",
       "      <td>...</td>\n",
       "      <td>0</td>\n",
       "      <td>0</td>\n",
       "      <td>0</td>\n",
       "      <td>1</td>\n",
       "      <td>0</td>\n",
       "      <td>1</td>\n",
       "      <td>0</td>\n",
       "      <td>0</td>\n",
       "      <td>0</td>\n",
       "      <td>0</td>\n",
       "    </tr>\n",
       "    <tr>\n",
       "      <th>2</th>\n",
       "      <td>0</td>\n",
       "      <td>0</td>\n",
       "      <td>0</td>\n",
       "      <td>0</td>\n",
       "      <td>0</td>\n",
       "      <td>0</td>\n",
       "      <td>0</td>\n",
       "      <td>1</td>\n",
       "      <td>0</td>\n",
       "      <td>0</td>\n",
       "      <td>...</td>\n",
       "      <td>0</td>\n",
       "      <td>0</td>\n",
       "      <td>0</td>\n",
       "      <td>1</td>\n",
       "      <td>0</td>\n",
       "      <td>1</td>\n",
       "      <td>0</td>\n",
       "      <td>1</td>\n",
       "      <td>0</td>\n",
       "      <td>0</td>\n",
       "    </tr>\n",
       "    <tr>\n",
       "      <th>3</th>\n",
       "      <td>1</td>\n",
       "      <td>0</td>\n",
       "      <td>0</td>\n",
       "      <td>0</td>\n",
       "      <td>0</td>\n",
       "      <td>0</td>\n",
       "      <td>0</td>\n",
       "      <td>0</td>\n",
       "      <td>0</td>\n",
       "      <td>0</td>\n",
       "      <td>...</td>\n",
       "      <td>0</td>\n",
       "      <td>0</td>\n",
       "      <td>0</td>\n",
       "      <td>1</td>\n",
       "      <td>0</td>\n",
       "      <td>1</td>\n",
       "      <td>0</td>\n",
       "      <td>0</td>\n",
       "      <td>0</td>\n",
       "      <td>0</td>\n",
       "    </tr>\n",
       "    <tr>\n",
       "      <th>4</th>\n",
       "      <td>0</td>\n",
       "      <td>0</td>\n",
       "      <td>0</td>\n",
       "      <td>0</td>\n",
       "      <td>0</td>\n",
       "      <td>0</td>\n",
       "      <td>0</td>\n",
       "      <td>1</td>\n",
       "      <td>0</td>\n",
       "      <td>0</td>\n",
       "      <td>...</td>\n",
       "      <td>0</td>\n",
       "      <td>0</td>\n",
       "      <td>0</td>\n",
       "      <td>1</td>\n",
       "      <td>0</td>\n",
       "      <td>1</td>\n",
       "      <td>0</td>\n",
       "      <td>0</td>\n",
       "      <td>1</td>\n",
       "      <td>0</td>\n",
       "    </tr>\n",
       "  </tbody>\n",
       "</table>\n",
       "<p>5 rows × 43 columns</p>\n",
       "</div>\n",
       "      <button class=\"colab-df-convert\" onclick=\"convertToInteractive('df-d478e1c4-cbdd-4d65-ad51-95906ea9fc1f')\"\n",
       "              title=\"Convert this dataframe to an interactive table.\"\n",
       "              style=\"display:none;\">\n",
       "        \n",
       "  <svg xmlns=\"http://www.w3.org/2000/svg\" height=\"24px\"viewBox=\"0 0 24 24\"\n",
       "       width=\"24px\">\n",
       "    <path d=\"M0 0h24v24H0V0z\" fill=\"none\"/>\n",
       "    <path d=\"M18.56 5.44l.94 2.06.94-2.06 2.06-.94-2.06-.94-.94-2.06-.94 2.06-2.06.94zm-11 1L8.5 8.5l.94-2.06 2.06-.94-2.06-.94L8.5 2.5l-.94 2.06-2.06.94zm10 10l.94 2.06.94-2.06 2.06-.94-2.06-.94-.94-2.06-.94 2.06-2.06.94z\"/><path d=\"M17.41 7.96l-1.37-1.37c-.4-.4-.92-.59-1.43-.59-.52 0-1.04.2-1.43.59L10.3 9.45l-7.72 7.72c-.78.78-.78 2.05 0 2.83L4 21.41c.39.39.9.59 1.41.59.51 0 1.02-.2 1.41-.59l7.78-7.78 2.81-2.81c.8-.78.8-2.07 0-2.86zM5.41 20L4 18.59l7.72-7.72 1.47 1.35L5.41 20z\"/>\n",
       "  </svg>\n",
       "      </button>\n",
       "      \n",
       "  <style>\n",
       "    .colab-df-container {\n",
       "      display:flex;\n",
       "      flex-wrap:wrap;\n",
       "      gap: 12px;\n",
       "    }\n",
       "\n",
       "    .colab-df-convert {\n",
       "      background-color: #E8F0FE;\n",
       "      border: none;\n",
       "      border-radius: 50%;\n",
       "      cursor: pointer;\n",
       "      display: none;\n",
       "      fill: #1967D2;\n",
       "      height: 32px;\n",
       "      padding: 0 0 0 0;\n",
       "      width: 32px;\n",
       "    }\n",
       "\n",
       "    .colab-df-convert:hover {\n",
       "      background-color: #E2EBFA;\n",
       "      box-shadow: 0px 1px 2px rgba(60, 64, 67, 0.3), 0px 1px 3px 1px rgba(60, 64, 67, 0.15);\n",
       "      fill: #174EA6;\n",
       "    }\n",
       "\n",
       "    [theme=dark] .colab-df-convert {\n",
       "      background-color: #3B4455;\n",
       "      fill: #D2E3FC;\n",
       "    }\n",
       "\n",
       "    [theme=dark] .colab-df-convert:hover {\n",
       "      background-color: #434B5C;\n",
       "      box-shadow: 0px 1px 3px 1px rgba(0, 0, 0, 0.15);\n",
       "      filter: drop-shadow(0px 1px 2px rgba(0, 0, 0, 0.3));\n",
       "      fill: #FFFFFF;\n",
       "    }\n",
       "  </style>\n",
       "\n",
       "      <script>\n",
       "        const buttonEl =\n",
       "          document.querySelector('#df-d478e1c4-cbdd-4d65-ad51-95906ea9fc1f button.colab-df-convert');\n",
       "        buttonEl.style.display =\n",
       "          google.colab.kernel.accessAllowed ? 'block' : 'none';\n",
       "\n",
       "        async function convertToInteractive(key) {\n",
       "          const element = document.querySelector('#df-d478e1c4-cbdd-4d65-ad51-95906ea9fc1f');\n",
       "          const dataTable =\n",
       "            await google.colab.kernel.invokeFunction('convertToInteractive',\n",
       "                                                     [key], {});\n",
       "          if (!dataTable) return;\n",
       "\n",
       "          const docLinkHtml = 'Like what you see? Visit the ' +\n",
       "            '<a target=\"_blank\" href=https://colab.research.google.com/notebooks/data_table.ipynb>data table notebook</a>'\n",
       "            + ' to learn more about interactive tables.';\n",
       "          element.innerHTML = '';\n",
       "          dataTable['output_type'] = 'display_data';\n",
       "          await google.colab.output.renderOutput(dataTable, element);\n",
       "          const docLink = document.createElement('div');\n",
       "          docLink.innerHTML = docLinkHtml;\n",
       "          element.appendChild(docLink);\n",
       "        }\n",
       "      </script>\n",
       "    </div>\n",
       "  </div>\n",
       "  "
      ],
      "text/plain": [
       "   pekerjaan_admin.  pekerjaan_blue-collar  pekerjaan_entrepreneur  \\\n",
       "0                 0                      0                       0   \n",
       "1                 0                      0                       0   \n",
       "2                 0                      0                       0   \n",
       "3                 1                      0                       0   \n",
       "4                 0                      0                       0   \n",
       "\n",
       "   pekerjaan_housemaid  pekerjaan_management  pekerjaan_retired  \\\n",
       "0                    1                     0                  0   \n",
       "1                    0                     0                  0   \n",
       "2                    0                     0                  0   \n",
       "3                    0                     0                  0   \n",
       "4                    0                     0                  0   \n",
       "\n",
       "   pekerjaan_self-employed  pekerjaan_services  pekerjaan_student  \\\n",
       "0                        0                   0                  0   \n",
       "1                        0                   1                  0   \n",
       "2                        0                   1                  0   \n",
       "3                        0                   0                  0   \n",
       "4                        0                   1                  0   \n",
       "\n",
       "   pekerjaan_technician  ...  kontak_terakhir_hari_tue  \\\n",
       "0                     0  ...                         0   \n",
       "1                     0  ...                         0   \n",
       "2                     0  ...                         0   \n",
       "3                     0  ...                         0   \n",
       "4                     0  ...                         0   \n",
       "\n",
       "   kontak_terakhir_hari_wed  luaran_marketing_sebelumnya_failure  \\\n",
       "0                         0                                    0   \n",
       "1                         0                                    0   \n",
       "2                         0                                    0   \n",
       "3                         0                                    0   \n",
       "4                         0                                    0   \n",
       "\n",
       "   luaran_marketing_sebelumnya_nonexistent  \\\n",
       "0                                        1   \n",
       "1                                        1   \n",
       "2                                        1   \n",
       "3                                        1   \n",
       "4                                        1   \n",
       "\n",
       "   luaran_marketing_sebelumnya_success  pernikahan  kredit_default  \\\n",
       "0                                    0           1               0   \n",
       "1                                    0           1               0   \n",
       "2                                    0           1               0   \n",
       "3                                    0           1               0   \n",
       "4                                    0           1               0   \n",
       "\n",
       "   pinjaman_rumah  pinjaman_pribadi  berlangganan_deposito  \n",
       "0               0                 0                      0  \n",
       "1               0                 0                      0  \n",
       "2               1                 0                      0  \n",
       "3               0                 0                      0  \n",
       "4               0                 1                      0  \n",
       "\n",
       "[5 rows x 43 columns]"
      ]
     },
     "execution_count": 191,
     "metadata": {},
     "output_type": "execute_result"
    }
   ],
   "source": [
    "# 5 data teratas \n",
    "df_bank_categorical_encoded.head()"
   ]
  },
  {
   "cell_type": "markdown",
   "metadata": {
    "id": "sDS8zmZYRwW7"
   },
   "source": [
    "### Mengukur pengaruh atribut pada kelas target"
   ]
  },
  {
   "cell_type": "markdown",
   "metadata": {
    "id": "yYbeccN9SV9q"
   },
   "source": [
    "#### Pengaruh atribut kategorikal pada kelas target\n",
    "***\n",
    "Pengaruh atribut/fitur bertipe **kategorikal** dapat diukur dengan **Chi-Squared**"
   ]
  },
  {
   "cell_type": "code",
   "execution_count": 192,
   "metadata": {
    "id": "chyBEfn3Sgoz"
   },
   "outputs": [],
   "source": [
    "# Mendapatkan daftar kolom baru hasil encoding\n",
    "ec_categorical_columns = list(df_bank_categorical_encoded.columns)\n",
    "ec_categorical_columns.remove('berlangganan_deposito')\n",
    "\n",
    "# Menyiapkan atribute dan target\n",
    "X_categorical = df_bank_categorical_encoded.drop('berlangganan_deposito', axis = 1)\n",
    "y_categorical = df_bank_categorical_encoded['berlangganan_deposito']"
   ]
  },
  {
   "cell_type": "code",
   "execution_count": 193,
   "metadata": {
    "id": "VZe26h82SuCr"
   },
   "outputs": [],
   "source": [
    "# Instansiasi kelas untuk Chi-Squared\n",
    "chi_square_fs = SelectKBest(score_func = chi2, k = 'all')\n",
    "\n",
    "# Fit chi-square into data\n",
    "X_categorical_selected = chi_square_fs.fit_transform(X_categorical, y_categorical)"
   ]
  },
  {
   "cell_type": "code",
   "execution_count": 194,
   "metadata": {
    "colab": {
     "base_uri": "https://localhost:8080/",
     "height": 878
    },
    "id": "MkpKQBsmS18T",
    "outputId": "200b846f-3235-4a86-eecd-2ac52df0b2bb"
   },
   "outputs": [
    {
     "data": {
      "image/png": "[encoded data removed]",
      "text/plain": [
       "<Figure size 1200x1000 with 1 Axes>"
      ]
     },
     "metadata": {},
     "output_type": "display_data"
    }
   ],
   "source": [
    "# Plotting score setiap atribut kategorikal\n",
    "plt.figure(figsize = (12,10))\n",
    "plt.barh([cat_col for cat_col in ec_categorical_columns], chi_square_fs.scores_, color = 'hotpink')\n",
    "plt.ylabel('Daftar Atribut Kategorikal', size = 12)\n",
    "plt.xlabel('Nilai Chi-Squared Feature Importance', size = 12)\n",
    "plt.title('Grafik batang atribut (x) vs The Chi-Squared Feature Importance (y)', size = 15)\n",
    "plt.show()"
   ]
  },
  {
   "cell_type": "markdown",
   "metadata": {
    "id": "GVxmU8ZvTQp8"
   },
   "source": [
    "Atribut **luaran_marketing_sebelumnya_success** menjadi atribut kategorikal yang memberikan kepentingan atribut tertinggi dibandingkan dengan yang lainnya. Bahkan rentang nilainya cukup jauh dibandingkan dengan atribut yang lainnya."
   ]
  },
  {
   "cell_type": "markdown",
   "metadata": {
    "id": "FnqVyMHRTVAL"
   },
   "source": [
    "#### Pengaruh atribut numerikal pada kelas target\n",
    "***\n",
    "Kepentingan atribut numerik terhadap label kelas kategorikal bisa diukur dengan ANOVA F-score"
   ]
  },
  {
   "cell_type": "code",
   "execution_count": 195,
   "metadata": {
    "id": "otwBnRKyTcrT"
   },
   "outputs": [],
   "source": [
    "# Menyiapkan atribut dan target\n",
    "X_numerical = df_bank[numerical_columns].copy(deep = True)\n",
    "y_numerical = y_categorical.copy(deep = True)"
   ]
  },
  {
   "cell_type": "code",
   "execution_count": 196,
   "metadata": {
    "id": "nBy2KRUYTyTE"
   },
   "outputs": [],
   "source": [
    "# Instansiasi kelas anova\n",
    "anova_fs = SelectKBest(score_func = f_classif, k = 'all')\n",
    "\n",
    "# Fit into data\n",
    "X_numerical_selected = anova_fs.fit_transform(X_numerical, y_numerical)"
   ]
  },
  {
   "cell_type": "code",
   "execution_count": 197,
   "metadata": {
    "colab": {
     "base_uri": "https://localhost:8080/",
     "height": 878
    },
    "id": "liS2ML2wT4d_",
    "outputId": "303b3fa5-0fa7-4223-8c7d-0a234911b9f7"
   },
   "outputs": [
    {
     "data": {
      "image/png": "[encoded data removed]",
      "text/plain": [
       "<Figure size 1200x1000 with 1 Axes>"
      ]
     },
     "metadata": {},
     "output_type": "display_data"
    }
   ],
   "source": [
    "# Plotting score setiap atribut kategorikal\n",
    "plt.figure(figsize = (12,10))\n",
    "plt.barh([num_col for num_col in list(X_numerical.columns)], anova_fs.scores_, color = 'hotpink')\n",
    "plt.ylabel('Daftar Atribut Numerikal', size = 12)\n",
    "plt.xlabel('Nilai ANOVA F-measure Feature Importance', size = 12)\n",
    "plt.title('Grafik batang atribut (x) vs The ANOVA F-measure Feature Importance (y)', size = 15)\n",
    "plt.show()\n"
   ]
  },
  {
   "cell_type": "markdown",
   "metadata": {
    "id": "sF36oC6tUEn0"
   },
   "source": [
    "Atribut **kontak_terakhir_berdurasi** memiliki kepentingan atribut yang paling tinggi dibandingkan atribut numerikal lainnya. Hal ini masuk akal karena keberhasilan *customer* berlangganan deposito ditentukan berapa lama durasi pemasaran/kampanye yang dilakukan pihak bank melalui telepon"
   ]
  },
  {
   "cell_type": "markdown",
   "metadata": {
    "id": "ySw36_lFUMtH"
   },
   "source": [
    "### Menyatukan data bertipe numerikal dan data bertipe kategorikal hasil encoding"
   ]
  },
  {
   "cell_type": "code",
   "execution_count": 198,
   "metadata": {
    "id": "3MboLCS-USTw"
   },
   "outputs": [],
   "source": [
    "df_bank = pd.concat([df_bank[numerical_columns], df_bank_categorical_encoded], axis = 1)"
   ]
  },
  {
   "cell_type": "markdown",
   "metadata": {
    "id": "PpW6tx1SUb6B"
   },
   "source": [
    "### Pembagian dataset ke dalam data latih dan data uji\n",
    "***\n",
    "Dataset akan dibagi ke dalam **80% data latih** dan **20% data uji**.\n",
    "\n",
    "1. Data latih akan digunakan untuk proses tuning parameter dan hyperparameter serta melakukan feature selection\n",
    "2. Data latih akan digunakan untuk melatih model setelah mendapatkan hyperparameter terbaik dengan fitur terbaik hasil seleksi\n",
    "3. Data uji digunakan untuk menguji performa model klasifikasi yang sudah dilatih"
   ]
  },
  {
   "cell_type": "markdown",
   "metadata": {
    "id": "NgRoQMQ_Uqoz"
   },
   "source": [
    "#### Pisahkan *attributes* sebagai X dan target sebagai y"
   ]
  },
  {
   "cell_type": "code",
   "execution_count": 199,
   "metadata": {
    "id": "wMIa4UAGUvdZ"
   },
   "outputs": [],
   "source": [
    "X = df_bank.drop('berlangganan_deposito', axis = 1)\n",
    "y = df_bank['berlangganan_deposito']"
   ]
  },
  {
   "cell_type": "markdown",
   "metadata": {
    "id": "UGTYUcxYi-jm"
   },
   "source": [
    "#### *Train test split (80 train : 20 test)*"
   ]
  },
  {
   "cell_type": "code",
   "execution_count": 200,
   "metadata": {
    "id": "KgEb99rJjJbM"
   },
   "outputs": [],
   "source": [
    "X_train, X_test, y_train, y_test = train_test_split(X, y, test_size = 0.2, random_state = 42)"
   ]
  },
  {
   "cell_type": "markdown",
   "metadata": {
    "id": "bHj-XTcNjUT0"
   },
   "source": [
    "#### Mengetahui dimensi data train dan data test"
   ]
  },
  {
   "cell_type": "code",
   "execution_count": 201,
   "metadata": {
    "colab": {
     "base_uri": "https://localhost:8080/"
    },
    "id": "_RW0Xy4cjX78",
    "outputId": "96d9a660-24f3-4796-8115-3ac16ea2f996"
   },
   "outputs": [
    {
     "name": "stdout",
     "output_type": "stream",
     "text": [
      "Dimensi atribut data latih = (32950, 52)\n",
      "Dimensi target data latih = (32950,)\n",
      "Dimensi atribut data uji = (8238, 52)\n",
      "Dimensi target data uji = (8238,)\n"
     ]
    }
   ],
   "source": [
    "print(\"Dimensi atribut data latih =\", X_train.shape)\n",
    "print(\"Dimensi target data latih =\", y_train.shape)\n",
    "print(\"Dimensi atribut data uji =\", X_test.shape)\n",
    "print(\"Dimensi target data uji =\", y_test.shape)"
   ]
  },
  {
   "cell_type": "markdown",
   "metadata": {
    "id": "CjXXsDVnjkpp"
   },
   "source": [
    "### Normalisasi Data\n",
    "***\n",
    "Metode Normalisasi *z-score* digunakan untuk menyamakan skala dari setiap atribut pada data ke standard normal distribution (mean=0, std=1)"
   ]
  },
  {
   "cell_type": "code",
   "execution_count": 202,
   "metadata": {
    "id": "8fSGHiqRkSjj"
   },
   "outputs": [],
   "source": [
    "# Instansiasi kelas StandardScaler\n",
    "standard_scaler = StandardScaler()\n",
    "\n",
    "# Fit scaler into train data\n",
    "standard_scaler.fit(X_train)\n",
    "\n",
    "# Transform data with scaler\n",
    "X_train = standard_scaler.transform(X_train)\n",
    "X_test = standard_scaler.transform(X_test)"
   ]
  },
  {
   "cell_type": "markdown",
   "metadata": {
    "id": "GzmMYuQkka8D"
   },
   "source": [
    "### *Dimensionality Reduction*\n",
    "***\n",
    "Jumlah dimensi akan dikurangi dengan PCA"
   ]
  },
  {
   "cell_type": "markdown",
   "metadata": {
    "id": "mehU3l9NpVt0"
   },
   "source": [
    "#### Menerapkan PCA pada data latih"
   ]
  },
  {
   "cell_type": "code",
   "execution_count": 203,
   "metadata": {
    "colab": {
     "base_uri": "https://localhost:8080/"
    },
    "id": "3MaqvtbYpaOI",
    "outputId": "f924ede2-01eb-4c46-d9b1-5f8e792b8d4e"
   },
   "outputs": [
    {
     "name": "stdout",
     "output_type": "stream",
     "text": [
      "Nilai Eigen setiap Principal Component\n",
      "[5.74701231e+00 2.71512564e+00 2.32583653e+00 2.09433778e+00\n",
      " 1.89675996e+00 1.78991149e+00 1.66079940e+00 1.58935610e+00\n",
      " 1.54481157e+00 1.28677371e+00 1.27050970e+00 1.25381281e+00\n",
      " 1.22917215e+00 1.20799959e+00 1.19301275e+00 1.14804398e+00\n",
      " 1.10930860e+00 1.09731135e+00 1.06246717e+00 1.05710484e+00\n",
      " 1.04154046e+00 1.03330854e+00 1.02690037e+00 1.02328728e+00\n",
      " 1.00738458e+00 1.00161921e+00 9.89602848e-01 9.86621099e-01\n",
      " 9.71839713e-01 9.53014337e-01 9.36041674e-01 8.82722654e-01\n",
      " 8.54224232e-01 7.91167234e-01 7.33439954e-01 7.13300933e-01\n",
      " 6.11026662e-01 4.47316288e-01 4.29101035e-01 4.13263959e-01\n",
      " 2.84698159e-01 2.39626000e-01 2.22765162e-01 1.22280361e-01\n",
      " 3.93430633e-03 2.08367670e-03 1.13339833e-30 1.72437947e-31\n",
      " 7.30737469e-32 5.80580196e-32 5.04293974e-32 1.32296216e-32]\n",
      "======================================================================\n",
      "Rasio Nilai Eigen setiap Principal Component\n",
      "[1.10516113e-01 5.22123700e-02 4.47262681e-02 4.02745043e-02\n",
      " 3.64750461e-02 3.44203302e-02 3.19374807e-02 3.05636128e-02\n",
      " 2.97070133e-02 2.47448973e-02 2.44321374e-02 2.41110531e-02\n",
      " 2.36372086e-02 2.32300564e-02 2.29418566e-02 2.20770988e-02\n",
      " 2.13322103e-02 2.11015010e-02 2.04314409e-02 2.03283224e-02\n",
      " 2.00290163e-02 1.98707149e-02 1.97474848e-02 1.96780044e-02\n",
      " 1.93721925e-02 1.92613233e-02 1.90302464e-02 1.89729069e-02\n",
      " 1.86886580e-02 1.83266426e-02 1.80002551e-02 1.69749205e-02\n",
      " 1.64268905e-02 1.52142928e-02 1.41041864e-02 1.37169093e-02\n",
      " 1.17501561e-02 8.60197525e-03 8.25169253e-03 7.94714263e-03\n",
      " 5.47479844e-03 4.60805245e-03 4.28381542e-03 2.35147403e-03\n",
      " 7.56574408e-05 4.00694896e-05 2.17954603e-32 3.31601373e-33\n",
      " 1.40522172e-33 1.11646649e-33 9.69766672e-34 2.54408078e-34]\n",
      "======================================================================\n"
     ]
    }
   ],
   "source": [
    "# Instansiasi objek PCA\n",
    "pca_ = PCA()\n",
    "\n",
    "# Fit into training data\n",
    "pca_.fit(X_train)\n",
    "\n",
    "# Mencetak nilai eigen setiap principal component\n",
    "print('Nilai Eigen setiap Principal Component')\n",
    "print(pca_.explained_variance_)\n",
    "print(\"=\"*70)\n",
    "\n",
    "# Mencetak ratio masing-masing nilai eigen terhadap keseluruhan\n",
    "print('Rasio Nilai Eigen setiap Principal Component')\n",
    "print(pca_.explained_variance_ratio_)\n",
    "print(\"=\"*70)"
   ]
  },
  {
   "cell_type": "markdown",
   "metadata": {
    "id": "ss-rKk7Kpi3X"
   },
   "source": [
    "#### *Plotting Ratio* Nilai Eigen yang dihasilkan PCA terhadap data latih"
   ]
  },
  {
   "cell_type": "code",
   "execution_count": 204,
   "metadata": {
    "id": "KZIc12EDpndJ"
   },
   "outputs": [],
   "source": [
    "# Membuat dataframe untuk memplotting variance ratio yang dihasilkan PCA\n",
    "pca_variance = pd.DataFrame(data = pca_.explained_variance_ratio_, columns = ['PC Variance'])\n",
    "pca_variance['pc_name'] = pd.Series(data = ['PC-' +str(i + 1) for i in range(0, X_train.shape[1])])\n",
    "pca_variance = pca_variance.sort_values(by = 'PC Variance')"
   ]
  },
  {
   "cell_type": "code",
   "execution_count": 205,
   "metadata": {
    "colab": {
     "base_uri": "https://localhost:8080/",
     "height": 1000
    },
    "id": "C4Uxs4mEp2k_",
    "outputId": "31c87d5e-ee25-47f1-b0ce-dfdba9615f69"
   },
   "outputs": [
    {
     "data": {
      "image/png": "[encoded data removed]",
      "text/plain": [
       "<Figure size 1200x1400 with 1 Axes>"
      ]
     },
     "metadata": {},
     "output_type": "display_data"
    }
   ],
   "source": [
    "# Plotting variance ratio yang dijelaskan setiap component\n",
    "plt.figure(figsize = (12,14))\n",
    "pca_variance['PC Variance'].plot(kind = 'barh', color = 'hotpink')\n",
    "plt.yticks(ticks = range(0, X_train.shape[1]), labels = pca_variance['pc_name'])\n",
    "plt.title('Rasio Variance yang dihasilkan setiap Principal Component', size = 15)\n",
    "plt.xlabel('Rasio Variance')\n",
    "plt.ylabel('Principal Component')\n",
    "plt.show()"
   ]
  },
  {
   "cell_type": "markdown",
   "metadata": {
    "id": "djLCwSTWqWvE"
   },
   "source": [
    "### Mencari jumlah *principal component* terbaik\n",
    "***\n",
    "Ada beberapa metode untuk menentukan jumlah *principal component* terbaik yang harus digunakan. Salah satu sumber menyebutkan:\n",
    "\n",
    "1. Jumlah PC terbaik yang terpilih adalah PC yang menghasilkan nilai eigen lebih besar atau sama dengan 1"
   ]
  },
  {
   "cell_type": "code",
   "execution_count": 206,
   "metadata": {
    "id": "NoEaN5GKqgpU"
   },
   "outputs": [],
   "source": [
    "# Mencari jumlah n_component yang menghasilkan nilai eigen value >= 1\n",
    "def find_best_n_components(pca):\n",
    "    \"\"\"\n",
    "        Deskripsi Fungsi:\n",
    "        - Fungsi untuk mencari jumlah principal component terbaik dari hasil PCA pada data latih \n",
    "        dengan syarat nilai eigen PC >= 1\n",
    "        \n",
    "        Parameter Fungsi:\n",
    "        - pca : model pca yang sudah difitting pada data latih\n",
    "        \n",
    "        Return Fungsi:\n",
    "        - n_best_component: jumlah principal component terbaik yang memenuhi syarat\n",
    "    \"\"\"\n",
    "\n",
    "    n_best_component = 0\n",
    "    for i in range(0,len(pca.explained_variance_)):\n",
    "        if pca.explained_variance_[i] >= 1:\n",
    "            n_best_component += 1\n",
    "    \n",
    "    return n_best_component"
   ]
  },
  {
   "cell_type": "code",
   "execution_count": 207,
   "metadata": {
    "colab": {
     "base_uri": "https://localhost:8080/"
    },
    "id": "XosmRDs9qrs5",
    "outputId": "6eeb44c3-de13-47f7-aa04-8e5edde7ec0b"
   },
   "outputs": [
    {
     "name": "stdout",
     "output_type": "stream",
     "text": [
      "Jumlah n Principal Component terbaik = 26 komponen\n",
      "Informasi yang dijelaskan oleh 26 komponen = 77.715925765146 %\n",
      "Kehilangan Informasi = 22.284074234854003 %\n"
     ]
    }
   ],
   "source": [
    "# Mencari jumlah principal component terbaik\n",
    "n_components = find_best_n_components(pca_)\n",
    "print('Jumlah n Principal Component terbaik = {} komponen'.format(n_components))\n",
    "print('Informasi yang dijelaskan oleh {} komponen = {} %'.format(n_components, (np.sum(pca_.explained_variance_ratio_[:n_components])) * 100))\n",
    "print('Kehilangan Informasi = {} %'.format(100-(np.sum(pca_.explained_variance_ratio_[:n_components])) * 100))"
   ]
  },
  {
   "cell_type": "markdown",
   "metadata": {
    "id": "FB_Yw_AnrA3_"
   },
   "source": [
    "###Instansiasi PCA dengan *n component* terbaik\n",
    "***\n",
    "1. Buat PCA dengan *n component* terbaik\n",
    "2. *Fitting* ke data latih\n",
    "3. *Transform* ke atribut data latih dan data uji"
   ]
  },
  {
   "cell_type": "code",
   "execution_count": 208,
   "metadata": {
    "id": "0RnDbfj3rGs2"
   },
   "outputs": [],
   "source": [
    "# Instansiasi objek PCA\n",
    "pca_ = PCA(n_components = n_components)\n",
    "\n",
    "# Fit into training data\n",
    "pca_.fit(X_train)\n",
    "\n",
    "# Transform into train and test data\n",
    "X_train_pca = pca_.transform(X_train)\n",
    "X_test_pca = pca_.transform(X_test)"
   ]
  },
  {
   "cell_type": "markdown",
   "metadata": {
    "id": "fJpXynOFrTye"
   },
   "source": [
    "#### Buat DataFrame hasil perhitungan PCA"
   ]
  },
  {
   "cell_type": "code",
   "execution_count": 209,
   "metadata": {
    "id": "tR9xH8Jbrd_A"
   },
   "outputs": [],
   "source": [
    "# buat dataframe untuk mempermudah melihat data hasil PCA\n",
    "df_train_pca = pd.DataFrame(data = X_train_pca, columns = ['PC-'+str(i) for i in range(0, n_components)])\n",
    "df_train_pca['target'] = y_train.to_numpy()\n",
    "\n",
    "df_test_pca = pd.DataFrame(data = X_test_pca, columns = ['PC-'+str(i) for i in range(0, n_components)])\n",
    "df_test_pca['target'] = y_test.to_numpy()"
   ]
  },
  {
   "cell_type": "markdown",
   "metadata": {
    "id": "XayECMBFr3J0"
   },
   "source": [
    "# Data yang siap dimodelkan"
   ]
  },
  {
   "cell_type": "markdown",
   "metadata": {
    "id": "Oc0mltk0r6Ap"
   },
   "source": [
    "### Data Latih"
   ]
  },
  {
   "cell_type": "markdown",
   "metadata": {
    "id": "j7THw8GMr8UJ"
   },
   "source": [
    "#### Atribut"
   ]
  },
  {
   "cell_type": "code",
   "execution_count": 210,
   "metadata": {
    "colab": {
     "base_uri": "https://localhost:8080/",
     "height": 299
    },
    "id": "MQ13BSLFr-3c",
    "outputId": "e04ad310-d40f-41bf-c8d6-f6d531215a1b"
   },
   "outputs": [
    {
     "data": {
      "text/html": [
       "\n",
       "  <div id=\"df-bb1c6cf5-c26d-406a-ae99-9d21897f587f\">\n",
       "    <div class=\"colab-df-container\">\n",
       "      <div>\n",
       "<style scoped>\n",
       "    .dataframe tbody tr th:only-of-type {\n",
       "        vertical-align: middle;\n",
       "    }\n",
       "\n",
       "    .dataframe tbody tr th {\n",
       "        vertical-align: top;\n",
       "    }\n",
       "\n",
       "    .dataframe thead th {\n",
       "        text-align: right;\n",
       "    }\n",
       "</style>\n",
       "<table border=\"1\" class=\"dataframe\">\n",
       "  <thead>\n",
       "    <tr style=\"text-align: right;\">\n",
       "      <th></th>\n",
       "      <th>PC-0</th>\n",
       "      <th>PC-1</th>\n",
       "      <th>PC-2</th>\n",
       "      <th>PC-3</th>\n",
       "      <th>PC-4</th>\n",
       "      <th>PC-5</th>\n",
       "      <th>PC-6</th>\n",
       "      <th>PC-7</th>\n",
       "      <th>PC-8</th>\n",
       "      <th>PC-9</th>\n",
       "      <th>...</th>\n",
       "      <th>PC-17</th>\n",
       "      <th>PC-18</th>\n",
       "      <th>PC-19</th>\n",
       "      <th>PC-20</th>\n",
       "      <th>PC-21</th>\n",
       "      <th>PC-22</th>\n",
       "      <th>PC-23</th>\n",
       "      <th>PC-24</th>\n",
       "      <th>PC-25</th>\n",
       "      <th>target</th>\n",
       "    </tr>\n",
       "  </thead>\n",
       "  <tbody>\n",
       "    <tr>\n",
       "      <th>0</th>\n",
       "      <td>-2.429907</td>\n",
       "      <td>1.091341</td>\n",
       "      <td>-1.419637</td>\n",
       "      <td>0.860753</td>\n",
       "      <td>1.648077</td>\n",
       "      <td>-0.306317</td>\n",
       "      <td>-1.351692</td>\n",
       "      <td>0.771859</td>\n",
       "      <td>-0.262183</td>\n",
       "      <td>0.770370</td>\n",
       "      <td>...</td>\n",
       "      <td>0.343154</td>\n",
       "      <td>-0.499618</td>\n",
       "      <td>-0.149912</td>\n",
       "      <td>-0.346782</td>\n",
       "      <td>-0.091945</td>\n",
       "      <td>-0.130758</td>\n",
       "      <td>-0.153765</td>\n",
       "      <td>-0.436299</td>\n",
       "      <td>0.047707</td>\n",
       "      <td>0</td>\n",
       "    </tr>\n",
       "    <tr>\n",
       "      <th>1</th>\n",
       "      <td>1.789166</td>\n",
       "      <td>-0.721789</td>\n",
       "      <td>-0.933240</td>\n",
       "      <td>-1.523668</td>\n",
       "      <td>-1.751939</td>\n",
       "      <td>-1.114178</td>\n",
       "      <td>-0.520379</td>\n",
       "      <td>0.060393</td>\n",
       "      <td>-0.670977</td>\n",
       "      <td>0.757894</td>\n",
       "      <td>...</td>\n",
       "      <td>0.611445</td>\n",
       "      <td>-0.012662</td>\n",
       "      <td>0.526234</td>\n",
       "      <td>0.089857</td>\n",
       "      <td>-0.773480</td>\n",
       "      <td>0.346983</td>\n",
       "      <td>-0.690925</td>\n",
       "      <td>0.501121</td>\n",
       "      <td>-0.058281</td>\n",
       "      <td>0</td>\n",
       "    </tr>\n",
       "    <tr>\n",
       "      <th>2</th>\n",
       "      <td>4.002423</td>\n",
       "      <td>1.844642</td>\n",
       "      <td>-0.366280</td>\n",
       "      <td>3.643700</td>\n",
       "      <td>-0.149421</td>\n",
       "      <td>-1.148147</td>\n",
       "      <td>1.520222</td>\n",
       "      <td>-2.370297</td>\n",
       "      <td>0.156939</td>\n",
       "      <td>1.690052</td>\n",
       "      <td>...</td>\n",
       "      <td>-0.129377</td>\n",
       "      <td>-0.421498</td>\n",
       "      <td>0.846445</td>\n",
       "      <td>0.173248</td>\n",
       "      <td>-0.462737</td>\n",
       "      <td>-0.494911</td>\n",
       "      <td>-0.786337</td>\n",
       "      <td>0.380565</td>\n",
       "      <td>-0.278255</td>\n",
       "      <td>0</td>\n",
       "    </tr>\n",
       "    <tr>\n",
       "      <th>3</th>\n",
       "      <td>-1.589407</td>\n",
       "      <td>-0.941855</td>\n",
       "      <td>-0.950014</td>\n",
       "      <td>2.349023</td>\n",
       "      <td>2.015795</td>\n",
       "      <td>-0.907990</td>\n",
       "      <td>0.397300</td>\n",
       "      <td>0.490133</td>\n",
       "      <td>0.342429</td>\n",
       "      <td>-0.680169</td>\n",
       "      <td>...</td>\n",
       "      <td>2.015410</td>\n",
       "      <td>0.413644</td>\n",
       "      <td>1.322697</td>\n",
       "      <td>-0.539367</td>\n",
       "      <td>0.591845</td>\n",
       "      <td>1.228611</td>\n",
       "      <td>-0.042433</td>\n",
       "      <td>-0.476474</td>\n",
       "      <td>0.478365</td>\n",
       "      <td>0</td>\n",
       "    </tr>\n",
       "    <tr>\n",
       "      <th>4</th>\n",
       "      <td>-1.776363</td>\n",
       "      <td>1.183519</td>\n",
       "      <td>0.622925</td>\n",
       "      <td>-2.094525</td>\n",
       "      <td>-0.709848</td>\n",
       "      <td>-0.191685</td>\n",
       "      <td>1.105842</td>\n",
       "      <td>0.717930</td>\n",
       "      <td>0.572607</td>\n",
       "      <td>-0.122140</td>\n",
       "      <td>...</td>\n",
       "      <td>0.850987</td>\n",
       "      <td>0.189650</td>\n",
       "      <td>-0.019337</td>\n",
       "      <td>-0.415123</td>\n",
       "      <td>-0.767165</td>\n",
       "      <td>-0.228220</td>\n",
       "      <td>-0.373337</td>\n",
       "      <td>0.374275</td>\n",
       "      <td>-0.609711</td>\n",
       "      <td>0</td>\n",
       "    </tr>\n",
       "  </tbody>\n",
       "</table>\n",
       "<p>5 rows × 27 columns</p>\n",
       "</div>\n",
       "      <button class=\"colab-df-convert\" onclick=\"convertToInteractive('df-bb1c6cf5-c26d-406a-ae99-9d21897f587f')\"\n",
       "              title=\"Convert this dataframe to an interactive table.\"\n",
       "              style=\"display:none;\">\n",
       "        \n",
       "  <svg xmlns=\"http://www.w3.org/2000/svg\" height=\"24px\"viewBox=\"0 0 24 24\"\n",
       "       width=\"24px\">\n",
       "    <path d=\"M0 0h24v24H0V0z\" fill=\"none\"/>\n",
       "    <path d=\"M18.56 5.44l.94 2.06.94-2.06 2.06-.94-2.06-.94-.94-2.06-.94 2.06-2.06.94zm-11 1L8.5 8.5l.94-2.06 2.06-.94-2.06-.94L8.5 2.5l-.94 2.06-2.06.94zm10 10l.94 2.06.94-2.06 2.06-.94-2.06-.94-.94-2.06-.94 2.06-2.06.94z\"/><path d=\"M17.41 7.96l-1.37-1.37c-.4-.4-.92-.59-1.43-.59-.52 0-1.04.2-1.43.59L10.3 9.45l-7.72 7.72c-.78.78-.78 2.05 0 2.83L4 21.41c.39.39.9.59 1.41.59.51 0 1.02-.2 1.41-.59l7.78-7.78 2.81-2.81c.8-.78.8-2.07 0-2.86zM5.41 20L4 18.59l7.72-7.72 1.47 1.35L5.41 20z\"/>\n",
       "  </svg>\n",
       "      </button>\n",
       "      \n",
       "  <style>\n",
       "    .colab-df-container {\n",
       "      display:flex;\n",
       "      flex-wrap:wrap;\n",
       "      gap: 12px;\n",
       "    }\n",
       "\n",
       "    .colab-df-convert {\n",
       "      background-color: #E8F0FE;\n",
       "      border: none;\n",
       "      border-radius: 50%;\n",
       "      cursor: pointer;\n",
       "      display: none;\n",
       "      fill: #1967D2;\n",
       "      height: 32px;\n",
       "      padding: 0 0 0 0;\n",
       "      width: 32px;\n",
       "    }\n",
       "\n",
       "    .colab-df-convert:hover {\n",
       "      background-color: #E2EBFA;\n",
       "      box-shadow: 0px 1px 2px rgba(60, 64, 67, 0.3), 0px 1px 3px 1px rgba(60, 64, 67, 0.15);\n",
       "      fill: #174EA6;\n",
       "    }\n",
       "\n",
       "    [theme=dark] .colab-df-convert {\n",
       "      background-color: #3B4455;\n",
       "      fill: #D2E3FC;\n",
       "    }\n",
       "\n",
       "    [theme=dark] .colab-df-convert:hover {\n",
       "      background-color: #434B5C;\n",
       "      box-shadow: 0px 1px 3px 1px rgba(0, 0, 0, 0.15);\n",
       "      filter: drop-shadow(0px 1px 2px rgba(0, 0, 0, 0.3));\n",
       "      fill: #FFFFFF;\n",
       "    }\n",
       "  </style>\n",
       "\n",
       "      <script>\n",
       "        const buttonEl =\n",
       "          document.querySelector('#df-bb1c6cf5-c26d-406a-ae99-9d21897f587f button.colab-df-convert');\n",
       "        buttonEl.style.display =\n",
       "          google.colab.kernel.accessAllowed ? 'block' : 'none';\n",
       "\n",
       "        async function convertToInteractive(key) {\n",
       "          const element = document.querySelector('#df-bb1c6cf5-c26d-406a-ae99-9d21897f587f');\n",
       "          const dataTable =\n",
       "            await google.colab.kernel.invokeFunction('convertToInteractive',\n",
       "                                                     [key], {});\n",
       "          if (!dataTable) return;\n",
       "\n",
       "          const docLinkHtml = 'Like what you see? Visit the ' +\n",
       "            '<a target=\"_blank\" href=https://colab.research.google.com/notebooks/data_table.ipynb>data table notebook</a>'\n",
       "            + ' to learn more about interactive tables.';\n",
       "          element.innerHTML = '';\n",
       "          dataTable['output_type'] = 'display_data';\n",
       "          await google.colab.output.renderOutput(dataTable, element);\n",
       "          const docLink = document.createElement('div');\n",
       "          docLink.innerHTML = docLinkHtml;\n",
       "          element.appendChild(docLink);\n",
       "        }\n",
       "      </script>\n",
       "    </div>\n",
       "  </div>\n",
       "  "
      ],
      "text/plain": [
       "       PC-0      PC-1      PC-2      PC-3      PC-4      PC-5      PC-6  \\\n",
       "0 -2.429907  1.091341 -1.419637  0.860753  1.648077 -0.306317 -1.351692   \n",
       "1  1.789166 -0.721789 -0.933240 -1.523668 -1.751939 -1.114178 -0.520379   \n",
       "2  4.002423  1.844642 -0.366280  3.643700 -0.149421 -1.148147  1.520222   \n",
       "3 -1.589407 -0.941855 -0.950014  2.349023  2.015795 -0.907990  0.397300   \n",
       "4 -1.776363  1.183519  0.622925 -2.094525 -0.709848 -0.191685  1.105842   \n",
       "\n",
       "       PC-7      PC-8      PC-9  ...     PC-17     PC-18     PC-19     PC-20  \\\n",
       "0  0.771859 -0.262183  0.770370  ...  0.343154 -0.499618 -0.149912 -0.346782   \n",
       "1  0.060393 -0.670977  0.757894  ...  0.611445 -0.012662  0.526234  0.089857   \n",
       "2 -2.370297  0.156939  1.690052  ... -0.129377 -0.421498  0.846445  0.173248   \n",
       "3  0.490133  0.342429 -0.680169  ...  2.015410  0.413644  1.322697 -0.539367   \n",
       "4  0.717930  0.572607 -0.122140  ...  0.850987  0.189650 -0.019337 -0.415123   \n",
       "\n",
       "      PC-21     PC-22     PC-23     PC-24     PC-25  target  \n",
       "0 -0.091945 -0.130758 -0.153765 -0.436299  0.047707       0  \n",
       "1 -0.773480  0.346983 -0.690925  0.501121 -0.058281       0  \n",
       "2 -0.462737 -0.494911 -0.786337  0.380565 -0.278255       0  \n",
       "3  0.591845  1.228611 -0.042433 -0.476474  0.478365       0  \n",
       "4 -0.767165 -0.228220 -0.373337  0.374275 -0.609711       0  \n",
       "\n",
       "[5 rows x 27 columns]"
      ]
     },
     "execution_count": 210,
     "metadata": {},
     "output_type": "execute_result"
    }
   ],
   "source": [
    "df_train_pca.head()"
   ]
  },
  {
   "cell_type": "markdown",
   "metadata": {
    "id": "TzH7YAHrsIAd"
   },
   "source": [
    "#### Target"
   ]
  },
  {
   "cell_type": "code",
   "execution_count": 211,
   "metadata": {
    "colab": {
     "base_uri": "https://localhost:8080/"
    },
    "id": "3GdpGQgBsGyL",
    "outputId": "964b3763-6a8a-4467-c865-2f8a3b94c245"
   },
   "outputs": [
    {
     "data": {
      "text/plain": [
       "12556    0\n",
       "35451    0\n",
       "30592    0\n",
       "17914    0\n",
       "3315     0\n",
       "Name: berlangganan_deposito, dtype: int64"
      ]
     },
     "execution_count": 211,
     "metadata": {},
     "output_type": "execute_result"
    }
   ],
   "source": [
    "y_train.head()"
   ]
  },
  {
   "cell_type": "markdown",
   "metadata": {
    "id": "8GDwmqXusMU0"
   },
   "source": [
    "### Data Uji"
   ]
  },
  {
   "cell_type": "markdown",
   "metadata": {
    "id": "ROQbHBd3sORc"
   },
   "source": [
    "#### Atribut"
   ]
  },
  {
   "cell_type": "code",
   "execution_count": 212,
   "metadata": {
    "colab": {
     "base_uri": "https://localhost:8080/",
     "height": 299
    },
    "id": "auaPvLrjsP7-",
    "outputId": "805df7f7-cccc-4ade-ade2-6465c66a8d76"
   },
   "outputs": [
    {
     "data": {
      "text/html": [
       "\n",
       "  <div id=\"df-cd378901-b427-4ca7-b58d-b4c587c4e929\">\n",
       "    <div class=\"colab-df-container\">\n",
       "      <div>\n",
       "<style scoped>\n",
       "    .dataframe tbody tr th:only-of-type {\n",
       "        vertical-align: middle;\n",
       "    }\n",
       "\n",
       "    .dataframe tbody tr th {\n",
       "        vertical-align: top;\n",
       "    }\n",
       "\n",
       "    .dataframe thead th {\n",
       "        text-align: right;\n",
       "    }\n",
       "</style>\n",
       "<table border=\"1\" class=\"dataframe\">\n",
       "  <thead>\n",
       "    <tr style=\"text-align: right;\">\n",
       "      <th></th>\n",
       "      <th>PC-0</th>\n",
       "      <th>PC-1</th>\n",
       "      <th>PC-2</th>\n",
       "      <th>PC-3</th>\n",
       "      <th>PC-4</th>\n",
       "      <th>PC-5</th>\n",
       "      <th>PC-6</th>\n",
       "      <th>PC-7</th>\n",
       "      <th>PC-8</th>\n",
       "      <th>PC-9</th>\n",
       "      <th>...</th>\n",
       "      <th>PC-17</th>\n",
       "      <th>PC-18</th>\n",
       "      <th>PC-19</th>\n",
       "      <th>PC-20</th>\n",
       "      <th>PC-21</th>\n",
       "      <th>PC-22</th>\n",
       "      <th>PC-23</th>\n",
       "      <th>PC-24</th>\n",
       "      <th>PC-25</th>\n",
       "      <th>target</th>\n",
       "    </tr>\n",
       "  </thead>\n",
       "  <tbody>\n",
       "    <tr>\n",
       "      <th>0</th>\n",
       "      <td>4.000400</td>\n",
       "      <td>1.010508</td>\n",
       "      <td>-0.729236</td>\n",
       "      <td>0.100169</td>\n",
       "      <td>0.585556</td>\n",
       "      <td>1.299357</td>\n",
       "      <td>1.459378</td>\n",
       "      <td>-2.629993</td>\n",
       "      <td>0.847723</td>\n",
       "      <td>0.925941</td>\n",
       "      <td>...</td>\n",
       "      <td>0.530128</td>\n",
       "      <td>0.030908</td>\n",
       "      <td>-0.732868</td>\n",
       "      <td>-0.697103</td>\n",
       "      <td>0.377801</td>\n",
       "      <td>-0.364712</td>\n",
       "      <td>1.005155</td>\n",
       "      <td>-0.409090</td>\n",
       "      <td>-0.065217</td>\n",
       "      <td>0</td>\n",
       "    </tr>\n",
       "    <tr>\n",
       "      <th>1</th>\n",
       "      <td>-1.712455</td>\n",
       "      <td>0.628109</td>\n",
       "      <td>1.459381</td>\n",
       "      <td>-0.625896</td>\n",
       "      <td>-1.627049</td>\n",
       "      <td>-1.183726</td>\n",
       "      <td>-0.407261</td>\n",
       "      <td>-0.305187</td>\n",
       "      <td>0.187274</td>\n",
       "      <td>-0.482246</td>\n",
       "      <td>...</td>\n",
       "      <td>0.655080</td>\n",
       "      <td>-0.303028</td>\n",
       "      <td>0.105995</td>\n",
       "      <td>-0.211862</td>\n",
       "      <td>-0.086160</td>\n",
       "      <td>-0.080704</td>\n",
       "      <td>0.158726</td>\n",
       "      <td>-0.102196</td>\n",
       "      <td>-0.274318</td>\n",
       "      <td>0</td>\n",
       "    </tr>\n",
       "    <tr>\n",
       "      <th>2</th>\n",
       "      <td>3.775678</td>\n",
       "      <td>2.293172</td>\n",
       "      <td>-2.392035</td>\n",
       "      <td>0.383724</td>\n",
       "      <td>0.733632</td>\n",
       "      <td>0.496360</td>\n",
       "      <td>-1.629232</td>\n",
       "      <td>-1.148998</td>\n",
       "      <td>2.445741</td>\n",
       "      <td>1.984541</td>\n",
       "      <td>...</td>\n",
       "      <td>0.245686</td>\n",
       "      <td>0.512251</td>\n",
       "      <td>0.455591</td>\n",
       "      <td>-0.553615</td>\n",
       "      <td>-0.201958</td>\n",
       "      <td>0.078189</td>\n",
       "      <td>-0.655728</td>\n",
       "      <td>0.258611</td>\n",
       "      <td>-0.225005</td>\n",
       "      <td>0</td>\n",
       "    </tr>\n",
       "    <tr>\n",
       "      <th>3</th>\n",
       "      <td>-2.708657</td>\n",
       "      <td>1.489605</td>\n",
       "      <td>0.999896</td>\n",
       "      <td>-1.954074</td>\n",
       "      <td>0.549464</td>\n",
       "      <td>-0.920717</td>\n",
       "      <td>1.157322</td>\n",
       "      <td>-0.886820</td>\n",
       "      <td>-0.949770</td>\n",
       "      <td>1.923201</td>\n",
       "      <td>...</td>\n",
       "      <td>0.263792</td>\n",
       "      <td>0.473824</td>\n",
       "      <td>-0.120125</td>\n",
       "      <td>-0.361496</td>\n",
       "      <td>-0.310367</td>\n",
       "      <td>-0.100308</td>\n",
       "      <td>-0.044502</td>\n",
       "      <td>0.519355</td>\n",
       "      <td>-0.683177</td>\n",
       "      <td>0</td>\n",
       "    </tr>\n",
       "    <tr>\n",
       "      <th>4</th>\n",
       "      <td>-1.330178</td>\n",
       "      <td>-1.205706</td>\n",
       "      <td>-0.823158</td>\n",
       "      <td>0.040067</td>\n",
       "      <td>2.072196</td>\n",
       "      <td>-0.597392</td>\n",
       "      <td>1.834911</td>\n",
       "      <td>0.499543</td>\n",
       "      <td>-0.050994</td>\n",
       "      <td>1.130475</td>\n",
       "      <td>...</td>\n",
       "      <td>2.297259</td>\n",
       "      <td>0.108022</td>\n",
       "      <td>0.491314</td>\n",
       "      <td>-0.524489</td>\n",
       "      <td>-0.581580</td>\n",
       "      <td>0.781388</td>\n",
       "      <td>0.430238</td>\n",
       "      <td>-0.545927</td>\n",
       "      <td>0.113651</td>\n",
       "      <td>0</td>\n",
       "    </tr>\n",
       "  </tbody>\n",
       "</table>\n",
       "<p>5 rows × 27 columns</p>\n",
       "</div>\n",
       "      <button class=\"colab-df-convert\" onclick=\"convertToInteractive('df-cd378901-b427-4ca7-b58d-b4c587c4e929')\"\n",
       "              title=\"Convert this dataframe to an interactive table.\"\n",
       "              style=\"display:none;\">\n",
       "        \n",
       "  <svg xmlns=\"http://www.w3.org/2000/svg\" height=\"24px\"viewBox=\"0 0 24 24\"\n",
       "       width=\"24px\">\n",
       "    <path d=\"M0 0h24v24H0V0z\" fill=\"none\"/>\n",
       "    <path d=\"M18.56 5.44l.94 2.06.94-2.06 2.06-.94-2.06-.94-.94-2.06-.94 2.06-2.06.94zm-11 1L8.5 8.5l.94-2.06 2.06-.94-2.06-.94L8.5 2.5l-.94 2.06-2.06.94zm10 10l.94 2.06.94-2.06 2.06-.94-2.06-.94-.94-2.06-.94 2.06-2.06.94z\"/><path d=\"M17.41 7.96l-1.37-1.37c-.4-.4-.92-.59-1.43-.59-.52 0-1.04.2-1.43.59L10.3 9.45l-7.72 7.72c-.78.78-.78 2.05 0 2.83L4 21.41c.39.39.9.59 1.41.59.51 0 1.02-.2 1.41-.59l7.78-7.78 2.81-2.81c.8-.78.8-2.07 0-2.86zM5.41 20L4 18.59l7.72-7.72 1.47 1.35L5.41 20z\"/>\n",
       "  </svg>\n",
       "      </button>\n",
       "      \n",
       "  <style>\n",
       "    .colab-df-container {\n",
       "      display:flex;\n",
       "      flex-wrap:wrap;\n",
       "      gap: 12px;\n",
       "    }\n",
       "\n",
       "    .colab-df-convert {\n",
       "      background-color: #E8F0FE;\n",
       "      border: none;\n",
       "      border-radius: 50%;\n",
       "      cursor: pointer;\n",
       "      display: none;\n",
       "      fill: #1967D2;\n",
       "      height: 32px;\n",
       "      padding: 0 0 0 0;\n",
       "      width: 32px;\n",
       "    }\n",
       "\n",
       "    .colab-df-convert:hover {\n",
       "      background-color: #E2EBFA;\n",
       "      box-shadow: 0px 1px 2px rgba(60, 64, 67, 0.3), 0px 1px 3px 1px rgba(60, 64, 67, 0.15);\n",
       "      fill: #174EA6;\n",
       "    }\n",
       "\n",
       "    [theme=dark] .colab-df-convert {\n",
       "      background-color: #3B4455;\n",
       "      fill: #D2E3FC;\n",
       "    }\n",
       "\n",
       "    [theme=dark] .colab-df-convert:hover {\n",
       "      background-color: #434B5C;\n",
       "      box-shadow: 0px 1px 3px 1px rgba(0, 0, 0, 0.15);\n",
       "      filter: drop-shadow(0px 1px 2px rgba(0, 0, 0, 0.3));\n",
       "      fill: #FFFFFF;\n",
       "    }\n",
       "  </style>\n",
       "\n",
       "      <script>\n",
       "        const buttonEl =\n",
       "          document.querySelector('#df-cd378901-b427-4ca7-b58d-b4c587c4e929 button.colab-df-convert');\n",
       "        buttonEl.style.display =\n",
       "          google.colab.kernel.accessAllowed ? 'block' : 'none';\n",
       "\n",
       "        async function convertToInteractive(key) {\n",
       "          const element = document.querySelector('#df-cd378901-b427-4ca7-b58d-b4c587c4e929');\n",
       "          const dataTable =\n",
       "            await google.colab.kernel.invokeFunction('convertToInteractive',\n",
       "                                                     [key], {});\n",
       "          if (!dataTable) return;\n",
       "\n",
       "          const docLinkHtml = 'Like what you see? Visit the ' +\n",
       "            '<a target=\"_blank\" href=https://colab.research.google.com/notebooks/data_table.ipynb>data table notebook</a>'\n",
       "            + ' to learn more about interactive tables.';\n",
       "          element.innerHTML = '';\n",
       "          dataTable['output_type'] = 'display_data';\n",
       "          await google.colab.output.renderOutput(dataTable, element);\n",
       "          const docLink = document.createElement('div');\n",
       "          docLink.innerHTML = docLinkHtml;\n",
       "          element.appendChild(docLink);\n",
       "        }\n",
       "      </script>\n",
       "    </div>\n",
       "  </div>\n",
       "  "
      ],
      "text/plain": [
       "       PC-0      PC-1      PC-2      PC-3      PC-4      PC-5      PC-6  \\\n",
       "0  4.000400  1.010508 -0.729236  0.100169  0.585556  1.299357  1.459378   \n",
       "1 -1.712455  0.628109  1.459381 -0.625896 -1.627049 -1.183726 -0.407261   \n",
       "2  3.775678  2.293172 -2.392035  0.383724  0.733632  0.496360 -1.629232   \n",
       "3 -2.708657  1.489605  0.999896 -1.954074  0.549464 -0.920717  1.157322   \n",
       "4 -1.330178 -1.205706 -0.823158  0.040067  2.072196 -0.597392  1.834911   \n",
       "\n",
       "       PC-7      PC-8      PC-9  ...     PC-17     PC-18     PC-19     PC-20  \\\n",
       "0 -2.629993  0.847723  0.925941  ...  0.530128  0.030908 -0.732868 -0.697103   \n",
       "1 -0.305187  0.187274 -0.482246  ...  0.655080 -0.303028  0.105995 -0.211862   \n",
       "2 -1.148998  2.445741  1.984541  ...  0.245686  0.512251  0.455591 -0.553615   \n",
       "3 -0.886820 -0.949770  1.923201  ...  0.263792  0.473824 -0.120125 -0.361496   \n",
       "4  0.499543 -0.050994  1.130475  ...  2.297259  0.108022  0.491314 -0.524489   \n",
       "\n",
       "      PC-21     PC-22     PC-23     PC-24     PC-25  target  \n",
       "0  0.377801 -0.364712  1.005155 -0.409090 -0.065217       0  \n",
       "1 -0.086160 -0.080704  0.158726 -0.102196 -0.274318       0  \n",
       "2 -0.201958  0.078189 -0.655728  0.258611 -0.225005       0  \n",
       "3 -0.310367 -0.100308 -0.044502  0.519355 -0.683177       0  \n",
       "4 -0.581580  0.781388  0.430238 -0.545927  0.113651       0  \n",
       "\n",
       "[5 rows x 27 columns]"
      ]
     },
     "execution_count": 212,
     "metadata": {},
     "output_type": "execute_result"
    }
   ],
   "source": [
    "df_test_pca.head()"
   ]
  },
  {
   "cell_type": "markdown",
   "metadata": {
    "id": "sCka6xIbscv8"
   },
   "source": [
    "#### Target"
   ]
  },
  {
   "cell_type": "code",
   "execution_count": 213,
   "metadata": {
    "colab": {
     "base_uri": "https://localhost:8080/"
    },
    "id": "TeQ13V0OseYs",
    "outputId": "89aa86b5-96b8-47f7-b8ef-2e87274eabcf"
   },
   "outputs": [
    {
     "data": {
      "text/plain": [
       "32884    0\n",
       "3169     0\n",
       "32206    0\n",
       "9403     0\n",
       "14020    0\n",
       "Name: berlangganan_deposito, dtype: int64"
      ]
     },
     "execution_count": 213,
     "metadata": {},
     "output_type": "execute_result"
    }
   ],
   "source": [
    "y_test.head()"
   ]
  },
  {
   "cell_type": "markdown",
   "metadata": {
    "id": "o3JAxrWtsnZ0"
   },
   "source": [
    "### Modeling\n",
    "***\n",
    "Model klasifikasi *machine learning* yang digunakan pada tugas ini yaitu:\n",
    "\n",
    "1. Logistic Regression\n",
    "2. KNN\n",
    "3. SVM\n",
    "4. Decision Tree\n",
    "5. Random Forest\n",
    "6. Naive Bayes\n",
    "***\n",
    "**Recall** akan digunakan sebagai penilaian model karena pada permasalahan ini bertujuan untuk **meminimumkan *False Negative***\n",
    "\n",
    "Confusion matrix:\n",
    ">Predicted\n",
    ">>0(No)1(yes)\n",
    "\n",
    "0(No)\n",
    "\n",
    "1(yes)\n",
    "\n",
    "**Alur**\n",
    "\n",
    "1. Setiap model akan dilihat performanya dengan akurasi untuk pertama kali. Semua model yang digunakan akan menggunakan default parameter pada masing-masing model.\n",
    "2. Hasil akurasi setiap model akan dibandingkan dengan boxplot\n",
    "3. Setiap model akan dituning dengan memilih metric recall\n",
    "4. Model dengan rata-rata recall terbaik akan dipilih sebagai model terbaik.\n",
    "5. Model terbaik tersebut akan dituning kembali dengan menerapkan undersampling pada dataset karena dataset memiliki kelas yang *unbalanced*"
   ]
  },
  {
   "cell_type": "code",
   "execution_count": 214,
   "metadata": {
    "id": "-cM2xmuYtkVO"
   },
   "outputs": [],
   "source": [
    "# Inisialisasi fold dan scoring yang digunakan\n",
    "num_fold = 10\n",
    "scoring_accuracy = 'accuracy'\n",
    "scoring_recall = 'recall'"
   ]
  },
  {
   "cell_type": "code",
   "execution_count": 215,
   "metadata": {
    "id": "JCVVBixfuNgr"
   },
   "outputs": [],
   "source": [
    "# Membuat list dari seluruh model yang digunakan\n",
    "models = []\n",
    "\n",
    "# Append model\n",
    "models.append(('Logistic Regression', LogisticRegression()))\n",
    "models.append(('K-Nearest Neighbor', KNeighborsClassifier()))\n",
    "models.append(('Support Vector Machine', SVC()))\n",
    "models.append(('Decision Tree', DecisionTreeClassifier()))\n",
    "models.append(('Random Forest', RandomForestClassifier()))\n",
    "models.append(('Naive Bayes', GaussianNB()))\n",
    "\n",
    "# K-fold cross validation initialization object\n",
    "kfold = KFold(n_splits = num_fold, random_state = 42, shuffle = True)"
   ]
  },
  {
   "cell_type": "code",
   "execution_count": 216,
   "metadata": {
    "id": "VywkCPMz2kYP"
   },
   "outputs": [],
   "source": [
    "# Membuat list dari seluruh model yang digunakan\n",
    "models = []\n",
    "\n",
    "# Append model\n",
    "models.append(('Logistic Regression', LogisticRegression()))\n",
    "models.append(('K-Nearest Neighbor', KNeighborsClassifier()))\n",
    "models.append(('Support Vector Machine', SVC()))\n",
    "models.append(('Decision Tree', DecisionTreeClassifier()))\n",
    "models.append(('Random Forest', RandomForestClassifier()))\n",
    "models.append(('Naive Bayes', GaussianNB()))\n",
    "\n",
    "# K-fold cross validation initialization object\n",
    "kfold = KFold(n_splits = num_fold, random_state = 42, shuffle = True)"
   ]
  },
  {
   "cell_type": "code",
   "execution_count": 217,
   "metadata": {
    "id": "vxth-KHvuX7S"
   },
   "outputs": [],
   "source": [
    "def perform_model(models,X_train,y_train,kfold, scoring = 'accuracy'):\n",
    "\n",
    "    \"\"\"\n",
    "        Deskripsi Function:\n",
    "        - Fungsi ini digunakan untuk melakukan model cross-validation dengan data latih yang ada. Setiap model\n",
    "        akan divalidasi dengan ukuran skor (scoring) yang telah ditetapkan, semisal (akurasi, recall, etc).\n",
    "        \n",
    "        Function parameters:\n",
    "        - models: list of tuples dari model yang ingin dituning (LogisticRegression, SVM, etc)\n",
    "        - X_train: dataframe atau np.array dari atribut data latih yang sudah dipreprocessing\n",
    "        - y_train: dataframe atau np.array dari target data latih yang sudah dipreprocessing\n",
    "        - kfold: objek hasil instansiasi kelas KFold \n",
    "        - scoring: metode untuk memngukur performa model (accuracy, recall, precision, etc)\n",
    "        \n",
    "        Function returns:\n",
    "        - cv_results: List dari hasil cross validation setiap model yang sudah dituning\n",
    "        - model_names: List dari nama setiap model (string)\n",
    "        - print_msg: List berupa pesan untuk menampilkan model dengan hasil performanya pada data validasi\n",
    "    \"\"\"\n",
    "\n",
    "    cv_results = [] # Menampung hasil crossvalidation setiap model\n",
    "    model_names = [] # Menampung nama model\n",
    "    print_msg = [] # Menampung pesan yang akan ditampilkan\n",
    "    \n",
    "    \n",
    "    for model_name, model in models:\n",
    "        # Cross validation result\n",
    "        cv_result = cross_val_score(model, X_train, y_train, cv = kfold, scoring = scoring)\n",
    "\n",
    "        # Append into list\n",
    "        cv_results.append(cv_result)\n",
    "        model_names.append(model_name)\n",
    "\n",
    "        #print result\n",
    "        msg_result = \"{}: mean {} = {}  std {} = {}\".format(model_name, scoring, cv_result.mean(), scoring, cv_result.std())\n",
    "        print_msg.append(msg_result)\n",
    "    \n",
    "    return cv_results, model_names, print_msg"
   ]
  },
  {
   "cell_type": "markdown",
   "metadata": {
    "id": "Ak6Lsp8Yu4-2"
   },
   "source": [
    "### Hitung *mean* dan *std* dari akurasi dari setiap model yang digunakan\n",
    "***\n",
    "Validasi yang digunakan adalah *10-fold cross-validation*"
   ]
  },
  {
   "cell_type": "code",
   "execution_count": 218,
   "metadata": {
    "id": "ZHSdXiw5yAEk"
   },
   "outputs": [],
   "source": [
    "cv_results_accuracy, model_names, print_msg_accuracy = perform_model(models = models, \n",
    "                                                                     X_train = X_train_pca, \n",
    "                                                                     y_train = y_train, \n",
    "                                                                     kfold = kfold, \n",
    "                                                                     scoring = scoring_accuracy\n",
    ")"
   ]
  },
  {
   "cell_type": "code",
   "execution_count": 219,
   "metadata": {
    "colab": {
     "base_uri": "https://localhost:8080/"
    },
    "id": "febxBx6EvJhB",
    "outputId": "82b74c03-01d4-42a8-e692-fa4f9fc4b124"
   },
   "outputs": [
    {
     "name": "stdout",
     "output_type": "stream",
     "text": [
      "Logistic Regression: mean accuracy = 0.9026100151745069  std accuracy = 0.004549214902868991\n",
      "K-Nearest Neighbor: mean accuracy = 0.8962367223065252  std accuracy = 0.004179908734367176\n",
      "Support Vector Machine: mean accuracy = 0.9063732928679817  std accuracy = 0.003815415425148033\n",
      "Decision Tree: mean accuracy = 0.8743550834597876  std accuracy = 0.00464647264558533\n",
      "Random Forest: mean accuracy = 0.9037329286798179  std accuracy = 0.004870614858223902\n",
      "Naive Bayes: mean accuracy = 0.881001517450683  std accuracy = 0.0047123135449175435\n"
     ]
    }
   ],
   "source": [
    "# Cetak hasil rata-rata akurasi setiap model\n",
    "for msg in print_msg_accuracy:\n",
    "    print(msg)"
   ]
  },
  {
   "cell_type": "markdown",
   "metadata": {
    "id": "b5DkSuGxvqTq"
   },
   "source": [
    "#### Bandingkan hasil akurasi setiap model"
   ]
  },
  {
   "cell_type": "code",
   "execution_count": 226,
   "metadata": {
    "colab": {
     "base_uri": "https://localhost:8080/",
     "height": 560
    },
    "id": "SLR-aT5IvxCj",
    "outputId": "a6c8d2fb-015d-483b-e4bc-c944bdeab555"
   },
   "outputs": [
    {
     "data": {
      "image/png": "[encoded data removed]",
      "text/plain": [
       "<Figure size 800x400 with 1 Axes>"
      ]
     },
     "metadata": {},
     "output_type": "display_data"
    }
   ],
   "source": [
    "fig = plt.figure(figsize = (10,8))\n",
    "fig.suptitle('Hasil perbandingan akurasi setiap model klasifikasi', size = 15)\n",
    "ax = fig.add_subplot(111)\n",
    "\n",
    "plt.boxplot(cv_results_accuracy)\n",
    "ax.set_xticklabels(model_names, rotation = 90)\n",
    "fig.set_size_inches(8,4)\n",
    "plt.show()"
   ]
  },
  {
   "cell_type": "markdown",
   "metadata": {
    "id": "Rhrj9I60wH4T"
   },
   "source": [
    "**ANALISIS**\n",
    "\n",
    "1. Dari segi akurasi Logistic Regression, SVM, dan Random Forest tampil menjadi model terbaik dengan rata-rata akurasi ketiga model ini yang hampir sama.\n",
    "2. Decision Tree dan Naive Bayes memberikan performa akurasi paling rendah"
   ]
  },
  {
   "cell_type": "markdown",
   "metadata": {
    "id": "G3wNpTD4wP2z"
   },
   "source": [
    "### Melihat *confusion matrix* dari SVM\n",
    "***\n",
    "Ukuran performa yang digunakan pada permasalahan ini adalah **memaksimalkan recall**"
   ]
  },
  {
   "cell_type": "code",
   "execution_count": 221,
   "metadata": {
    "id": "wlKNKNsQwZqM"
   },
   "outputs": [],
   "source": [
    "# Inisialisasi model SVM dengan default parameter\n",
    "svm = SVC()\n",
    "\n",
    "# Fit model into training data\n",
    "svm.fit(X_train_pca, y_train)\n",
    "\n",
    "# Get y prediction\n",
    "y_pred = svm.predict(X_test_pca)"
   ]
  },
  {
   "cell_type": "code",
   "execution_count": 222,
   "metadata": {
    "colab": {
     "base_uri": "https://localhost:8080/"
    },
    "id": "zEM8Cf_E3ZUK",
    "outputId": "a74f83bf-f58b-4208-a4bb-f52a3322177d"
   },
   "outputs": [
    {
     "metadata": {
      "tags": null
     },
     "name": "stdout",
     "output_type": "stream",
     "text": [
      "SVM Recall score = 0.3358288770053476\n",
      "              precision    recall  f1-score   support\n",
      "\n",
      "           0       0.92      0.98      0.95      7303\n",
      "           1       0.65      0.34      0.44       935\n",
      "\n",
      "    accuracy                           0.90      8238\n",
      "   macro avg       0.79      0.66      0.70      8238\n",
      "weighted avg       0.89      0.90      0.89      8238\n",
      "\n",
      "[[7135  168]\n",
      " [ 621  314]]\n"
     ]
    }
   ],
   "source": [
    "# Print results\n",
    "print(\"SVM Recall score =\", metrics.recall_score(y_test, y_pred))\n",
    "print(metrics.classification_report(y_test, y_pred))\n",
    "\n",
    "# Confusion matrix\n",
    "print(metrics.confusion_matrix(y_test, y_pred))"
   ]
  },
  {
   "cell_type": "markdown",
   "metadata": {
    "id": "gfUd2_kR9-cP"
   },
   "source": [
    "**ANALISIS HASIL *CONFUSION MATRIX SVM***\n",
    "\n",
    "Model SVM walaupun memberikan nilai rata-rata akurasi tertinggi, namun nyatanya masih belum maksimal dalam memberikan **recall** terbaik. Hal ini dibuktikan dengan nilai FN yang besar yaitu **621** dibandingkan TP yaitu **314**.\n",
    "\n",
    "\n",
    "**Penting!**\n",
    "\n",
    "Nilai FN dan TP mungkin bervariasi seiring kode program dijalankan dan komputer yang digunakan. Namun, saat dijalankan SVM muncul memberikan hasil seperti di atas"
   ]
  },
  {
   "cell_type": "markdown",
   "metadata": {
    "id": "cCZ_ifbt-cI9"
   },
   "source": [
    "### Model *Tuning* dengan memilih metriks evaluasi yang benar\n",
    "***\n",
    "**Recall** akan digunakan untuk men-*tuning* model yang digunakan"
   ]
  },
  {
   "cell_type": "code",
   "execution_count": 227,
   "metadata": {
    "id": "gON6cJ_j_UIB"
   },
   "outputs": [],
   "source": [
    "cv_results_recall, model_names, print_msg_recall = perform_model(models = models,\n",
    "                                                                 X_train = X_train_pca,\n",
    "                                                                 y_train = y_train,\n",
    "                                                                 kfold = kfold,\n",
    "                                                                 scoring = scoring_recall\n",
    ")"
   ]
  },
  {
   "cell_type": "code",
   "execution_count": 231,
   "metadata": {
    "colab": {
     "base_uri": "https://localhost:8080/"
    },
    "id": "hUC31I1W_nxs",
    "outputId": "35be410d-2d40-44ff-d50d-807f104238d9"
   },
   "outputs": [
    {
     "name": "stdout",
     "output_type": "stream",
     "text": [
      "Logistic Regression: mean recall = 0.3067762762989739  std recall = 0.0267637924480549\n",
      "K-Nearest Neighbor: mean recall = 0.31299404814713927  std recall = 0.0239921625480348\n",
      "Support Vector Machine: mean recall = 0.33735798902215414  std recall = 0.021944121587584815\n",
      "Decision Tree: mean recall = 0.45392098272692827  std recall = 0.02587326563842901\n",
      "Random Forest: mean recall = 0.3808719588035852  std recall = 0.02479530679133014\n",
      "Naive Bayes: mean recall = 0.4042604356592328  std recall = 0.03265786819756964\n"
     ]
    }
   ],
   "source": [
    "# Cetak hasil rata-rata recall setiap model\n",
    "for msg in print_msg_recall:\n",
    "    print(msg)"
   ]
  },
  {
   "cell_type": "markdown",
   "metadata": {
    "id": "G7fWM4pNBwmm"
   },
   "source": [
    "#### Bandingkan hasil recall setiap model"
   ]
  },
  {
   "cell_type": "code",
   "execution_count": 230,
   "metadata": {
    "colab": {
     "base_uri": "https://localhost:8080/",
     "height": 560
    },
    "id": "F6H3umiEB044",
    "outputId": "891094a3-7e61-4a3d-e15f-75c56127ce82"
   },
   "outputs": [
    {
     "data": {
      "image/png": "[encoded data removed]",
      "text/plain": [
       "<Figure size 800x400 with 1 Axes>"
      ]
     },
     "metadata": {},
     "output_type": "display_data"
    }
   ],
   "source": [
    "fig = plt.figure(figsize = (10,8))\n",
    "fig.suptitle('Hasil perbandingan recall setiap model klasifikasi', size = 15)\n",
    "ax = fig.add_subplot(111)\n",
    "\n",
    "plt.boxplot(cv_results_recall)\n",
    "ax.set_xticklabels(model_names, rotation = 90)\n",
    "fig.set_size_inches(8,4)\n",
    "plt.show()"
   ]
  },
  {
   "cell_type": "markdown",
   "metadata": {
    "id": "pFs2dtNaCC8D"
   },
   "source": [
    "**ANALISIS**\n",
    "\n",
    "1. *Decision Tree* dan *Naive Bayes* tampil dengan rata-rata **recall terbaik** dibandingkan model-model lainnya.\n",
    "2. Akurasi pada dataset yang imbalanced tidak bisa menjadi penentu untuk memilih model. Bisa dilihat bahwa SVM tidak mampu memberikan performa **recall yang terbaik**, padahal sebelumnya model ini memberikan akurasi tertinggi."
   ]
  },
  {
   "cell_type": "markdown",
   "metadata": {
    "id": "dGZe5prgCV6z"
   },
   "source": [
    "#### Evaluasi model dengan recall terbaik menggunakan data testing"
   ]
  },
  {
   "cell_type": "code",
   "execution_count": 232,
   "metadata": {
    "id": "hf_h06OkCa56"
   },
   "outputs": [],
   "source": [
    "# Inisialisasi model Decision Tree\n",
    "dt = DecisionTreeClassifier()\n",
    "\n",
    "# Fit model into training data\n",
    "dt.fit(X_train_pca,y_train)\n",
    "\n",
    "# Get y prediction\n",
    "y_pred_dt = dt.predict(X_test_pca)"
   ]
  },
  {
   "cell_type": "code",
   "execution_count": 233,
   "metadata": {
    "colab": {
     "base_uri": "https://localhost:8080/"
    },
    "id": "j2QUUALtCmJ_",
    "outputId": "871bea90-0801-496a-bb89-86d234e80107"
   },
   "outputs": [
    {
     "name": "stdout",
     "output_type": "stream",
     "text": [
      "Accuracy score Decision Tree = 0.8765477057538238\n",
      "              precision    recall  f1-score   support\n",
      "\n",
      "           0       0.93      0.93      0.93      7303\n",
      "           1       0.46      0.49      0.47       935\n",
      "\n",
      "    accuracy                           0.88      8238\n",
      "   macro avg       0.70      0.71      0.70      8238\n",
      "weighted avg       0.88      0.88      0.88      8238\n",
      "\n",
      "[[6766  537]\n",
      " [ 480  455]]\n"
     ]
    }
   ],
   "source": [
    "# Print score\n",
    "print(\"Accuracy score Decision Tree =\", metrics.accuracy_score(y_test, y_pred_dt))\n",
    "print(metrics.classification_report(y_test, y_pred_dt))\n",
    "\n",
    "# Confusion matrix\n",
    "print(metrics.confusion_matrix(y_test, y_pred_dt))"
   ]
  },
  {
   "cell_type": "markdown",
   "metadata": {
    "id": "6Q-2E-oyCzV3"
   },
   "source": [
    "*Decision Tree* masih memberikan **FN (511)** dan **FP (521)** yang terbilang masih tinggi.\n",
    "\n",
    "**Penting!**\n",
    "\n",
    "Nilai FN dan FP mungkin bervariasi seiring kode program dijalankan dan komputer yang digunakan. Namun, saat dijalankan Decision Tree (DT) muncul memberikan hasil seperti di atas"
   ]
  },
  {
   "cell_type": "markdown",
   "metadata": {
    "id": "Wqp1MXG-DERd"
   },
   "source": [
    "### Model *Tuning* dengan *balancing data sampel - undersampling*\n",
    "***\n",
    "Sampel dataset memiliki ketidakseimbangan pada label kelas yang cukup besar. Hal ini bisa menyebabkan bias pada kelas mayoritas; menyebabkan performa model klasifikasi menjadi menurun; dan **meningkatkan terjadinya FN**\n",
    "\n",
    "Model yang ingin dikembangkan adalah sebisa mungkin meminimumkan adanya FN, sehingga perlu dilakukan penyeimbangan pada label kelas. Salah satu caranya dengan *undersampling*"
   ]
  },
  {
   "cell_type": "markdown",
   "metadata": {
    "id": "DczScy07DanN"
   },
   "source": [
    "#### *Undersampling* dataset pada kelas yang dominan menjadi sama dengan kelas minoritas"
   ]
  },
  {
   "cell_type": "code",
   "execution_count": 235,
   "metadata": {
    "colab": {
     "base_uri": "https://localhost:8080/",
     "height": 487
    },
    "id": "sDVAtNbCDfsK",
    "outputId": "66010e8a-7676-4ab1-edb1-d20a874993f9"
   },
   "outputs": [
    {
     "data": {
      "text/html": [
       "\n",
       "  <div id=\"df-8808fd5c-a790-4d10-a63a-0af0f2b3bd69\">\n",
       "    <div class=\"colab-df-container\">\n",
       "      <div>\n",
       "<style scoped>\n",
       "    .dataframe tbody tr th:only-of-type {\n",
       "        vertical-align: middle;\n",
       "    }\n",
       "\n",
       "    .dataframe tbody tr th {\n",
       "        vertical-align: top;\n",
       "    }\n",
       "\n",
       "    .dataframe thead th {\n",
       "        text-align: right;\n",
       "    }\n",
       "</style>\n",
       "<table border=\"1\" class=\"dataframe\">\n",
       "  <thead>\n",
       "    <tr style=\"text-align: right;\">\n",
       "      <th></th>\n",
       "      <th>0</th>\n",
       "      <th>1</th>\n",
       "      <th>2</th>\n",
       "      <th>3</th>\n",
       "      <th>4</th>\n",
       "      <th>5</th>\n",
       "      <th>6</th>\n",
       "      <th>7</th>\n",
       "      <th>8</th>\n",
       "      <th>9</th>\n",
       "      <th>...</th>\n",
       "      <th>17</th>\n",
       "      <th>18</th>\n",
       "      <th>19</th>\n",
       "      <th>20</th>\n",
       "      <th>21</th>\n",
       "      <th>22</th>\n",
       "      <th>23</th>\n",
       "      <th>24</th>\n",
       "      <th>25</th>\n",
       "      <th>berlangganan_deposito</th>\n",
       "    </tr>\n",
       "  </thead>\n",
       "  <tbody>\n",
       "    <tr>\n",
       "      <th>0</th>\n",
       "      <td>-2.429907</td>\n",
       "      <td>1.091341</td>\n",
       "      <td>-1.419637</td>\n",
       "      <td>0.860753</td>\n",
       "      <td>1.648077</td>\n",
       "      <td>-0.306317</td>\n",
       "      <td>-1.351692</td>\n",
       "      <td>0.771859</td>\n",
       "      <td>-0.262183</td>\n",
       "      <td>0.770370</td>\n",
       "      <td>...</td>\n",
       "      <td>0.343154</td>\n",
       "      <td>-0.499618</td>\n",
       "      <td>-0.149912</td>\n",
       "      <td>-0.346782</td>\n",
       "      <td>-0.091945</td>\n",
       "      <td>-0.130758</td>\n",
       "      <td>-0.153765</td>\n",
       "      <td>-0.436299</td>\n",
       "      <td>0.047707</td>\n",
       "      <td>0</td>\n",
       "    </tr>\n",
       "    <tr>\n",
       "      <th>1</th>\n",
       "      <td>1.789166</td>\n",
       "      <td>-0.721789</td>\n",
       "      <td>-0.933240</td>\n",
       "      <td>-1.523668</td>\n",
       "      <td>-1.751939</td>\n",
       "      <td>-1.114178</td>\n",
       "      <td>-0.520379</td>\n",
       "      <td>0.060393</td>\n",
       "      <td>-0.670977</td>\n",
       "      <td>0.757894</td>\n",
       "      <td>...</td>\n",
       "      <td>0.611445</td>\n",
       "      <td>-0.012662</td>\n",
       "      <td>0.526234</td>\n",
       "      <td>0.089857</td>\n",
       "      <td>-0.773480</td>\n",
       "      <td>0.346983</td>\n",
       "      <td>-0.690925</td>\n",
       "      <td>0.501121</td>\n",
       "      <td>-0.058281</td>\n",
       "      <td>0</td>\n",
       "    </tr>\n",
       "    <tr>\n",
       "      <th>2</th>\n",
       "      <td>4.002423</td>\n",
       "      <td>1.844642</td>\n",
       "      <td>-0.366280</td>\n",
       "      <td>3.643700</td>\n",
       "      <td>-0.149421</td>\n",
       "      <td>-1.148147</td>\n",
       "      <td>1.520222</td>\n",
       "      <td>-2.370297</td>\n",
       "      <td>0.156939</td>\n",
       "      <td>1.690052</td>\n",
       "      <td>...</td>\n",
       "      <td>-0.129377</td>\n",
       "      <td>-0.421498</td>\n",
       "      <td>0.846445</td>\n",
       "      <td>0.173248</td>\n",
       "      <td>-0.462737</td>\n",
       "      <td>-0.494911</td>\n",
       "      <td>-0.786337</td>\n",
       "      <td>0.380565</td>\n",
       "      <td>-0.278255</td>\n",
       "      <td>0</td>\n",
       "    </tr>\n",
       "    <tr>\n",
       "      <th>3</th>\n",
       "      <td>-1.589407</td>\n",
       "      <td>-0.941855</td>\n",
       "      <td>-0.950014</td>\n",
       "      <td>2.349023</td>\n",
       "      <td>2.015795</td>\n",
       "      <td>-0.907990</td>\n",
       "      <td>0.397300</td>\n",
       "      <td>0.490133</td>\n",
       "      <td>0.342429</td>\n",
       "      <td>-0.680169</td>\n",
       "      <td>...</td>\n",
       "      <td>2.015410</td>\n",
       "      <td>0.413644</td>\n",
       "      <td>1.322697</td>\n",
       "      <td>-0.539367</td>\n",
       "      <td>0.591845</td>\n",
       "      <td>1.228611</td>\n",
       "      <td>-0.042433</td>\n",
       "      <td>-0.476474</td>\n",
       "      <td>0.478365</td>\n",
       "      <td>0</td>\n",
       "    </tr>\n",
       "    <tr>\n",
       "      <th>4</th>\n",
       "      <td>-1.776363</td>\n",
       "      <td>1.183519</td>\n",
       "      <td>0.622925</td>\n",
       "      <td>-2.094525</td>\n",
       "      <td>-0.709848</td>\n",
       "      <td>-0.191685</td>\n",
       "      <td>1.105842</td>\n",
       "      <td>0.717930</td>\n",
       "      <td>0.572607</td>\n",
       "      <td>-0.122140</td>\n",
       "      <td>...</td>\n",
       "      <td>0.850987</td>\n",
       "      <td>0.189650</td>\n",
       "      <td>-0.019337</td>\n",
       "      <td>-0.415123</td>\n",
       "      <td>-0.767165</td>\n",
       "      <td>-0.228220</td>\n",
       "      <td>-0.373337</td>\n",
       "      <td>0.374275</td>\n",
       "      <td>-0.609711</td>\n",
       "      <td>0</td>\n",
       "    </tr>\n",
       "    <tr>\n",
       "      <th>...</th>\n",
       "      <td>...</td>\n",
       "      <td>...</td>\n",
       "      <td>...</td>\n",
       "      <td>...</td>\n",
       "      <td>...</td>\n",
       "      <td>...</td>\n",
       "      <td>...</td>\n",
       "      <td>...</td>\n",
       "      <td>...</td>\n",
       "      <td>...</td>\n",
       "      <td>...</td>\n",
       "      <td>...</td>\n",
       "      <td>...</td>\n",
       "      <td>...</td>\n",
       "      <td>...</td>\n",
       "      <td>...</td>\n",
       "      <td>...</td>\n",
       "      <td>...</td>\n",
       "      <td>...</td>\n",
       "      <td>...</td>\n",
       "      <td>...</td>\n",
       "    </tr>\n",
       "    <tr>\n",
       "      <th>32945</th>\n",
       "      <td>-1.711659</td>\n",
       "      <td>1.538420</td>\n",
       "      <td>1.625222</td>\n",
       "      <td>2.611829</td>\n",
       "      <td>-1.687285</td>\n",
       "      <td>1.208940</td>\n",
       "      <td>1.675669</td>\n",
       "      <td>-0.649023</td>\n",
       "      <td>-0.527870</td>\n",
       "      <td>-1.556902</td>\n",
       "      <td>...</td>\n",
       "      <td>-0.116856</td>\n",
       "      <td>0.306198</td>\n",
       "      <td>-0.532010</td>\n",
       "      <td>-0.073199</td>\n",
       "      <td>-0.223625</td>\n",
       "      <td>-0.595393</td>\n",
       "      <td>-0.176043</td>\n",
       "      <td>0.638400</td>\n",
       "      <td>-0.557509</td>\n",
       "      <td>0</td>\n",
       "    </tr>\n",
       "    <tr>\n",
       "      <th>32946</th>\n",
       "      <td>-2.557372</td>\n",
       "      <td>0.823979</td>\n",
       "      <td>1.508896</td>\n",
       "      <td>-0.991588</td>\n",
       "      <td>-0.128413</td>\n",
       "      <td>-1.464079</td>\n",
       "      <td>-1.650537</td>\n",
       "      <td>-1.819487</td>\n",
       "      <td>-1.622025</td>\n",
       "      <td>-1.627030</td>\n",
       "      <td>...</td>\n",
       "      <td>-1.819979</td>\n",
       "      <td>0.768261</td>\n",
       "      <td>0.121077</td>\n",
       "      <td>-1.597948</td>\n",
       "      <td>0.088955</td>\n",
       "      <td>-0.166326</td>\n",
       "      <td>-0.452858</td>\n",
       "      <td>-0.070125</td>\n",
       "      <td>0.000818</td>\n",
       "      <td>0</td>\n",
       "    </tr>\n",
       "    <tr>\n",
       "      <th>32947</th>\n",
       "      <td>6.351820</td>\n",
       "      <td>1.233884</td>\n",
       "      <td>4.565804</td>\n",
       "      <td>-0.244950</td>\n",
       "      <td>0.632553</td>\n",
       "      <td>-0.196812</td>\n",
       "      <td>1.594849</td>\n",
       "      <td>3.784247</td>\n",
       "      <td>-0.236556</td>\n",
       "      <td>-0.278024</td>\n",
       "      <td>...</td>\n",
       "      <td>0.860218</td>\n",
       "      <td>-1.272622</td>\n",
       "      <td>-0.009012</td>\n",
       "      <td>0.089153</td>\n",
       "      <td>-2.814698</td>\n",
       "      <td>-3.149188</td>\n",
       "      <td>-0.492246</td>\n",
       "      <td>-0.704806</td>\n",
       "      <td>3.577281</td>\n",
       "      <td>1</td>\n",
       "    </tr>\n",
       "    <tr>\n",
       "      <th>32948</th>\n",
       "      <td>-1.784930</td>\n",
       "      <td>0.855057</td>\n",
       "      <td>1.307246</td>\n",
       "      <td>-0.678510</td>\n",
       "      <td>-1.742507</td>\n",
       "      <td>-0.917961</td>\n",
       "      <td>-1.173236</td>\n",
       "      <td>-0.756697</td>\n",
       "      <td>0.890527</td>\n",
       "      <td>-2.206912</td>\n",
       "      <td>...</td>\n",
       "      <td>-1.356281</td>\n",
       "      <td>0.327684</td>\n",
       "      <td>0.368981</td>\n",
       "      <td>-1.342770</td>\n",
       "      <td>0.585971</td>\n",
       "      <td>-0.030141</td>\n",
       "      <td>-0.068823</td>\n",
       "      <td>-0.425670</td>\n",
       "      <td>0.641461</td>\n",
       "      <td>0</td>\n",
       "    </tr>\n",
       "    <tr>\n",
       "      <th>32949</th>\n",
       "      <td>-1.006572</td>\n",
       "      <td>-2.367460</td>\n",
       "      <td>-0.028307</td>\n",
       "      <td>-1.614182</td>\n",
       "      <td>1.446695</td>\n",
       "      <td>-1.420931</td>\n",
       "      <td>-0.895815</td>\n",
       "      <td>0.519974</td>\n",
       "      <td>-0.712860</td>\n",
       "      <td>0.664532</td>\n",
       "      <td>...</td>\n",
       "      <td>0.728674</td>\n",
       "      <td>-0.602005</td>\n",
       "      <td>-0.853489</td>\n",
       "      <td>-0.124089</td>\n",
       "      <td>-0.887510</td>\n",
       "      <td>-0.091193</td>\n",
       "      <td>0.249403</td>\n",
       "      <td>-0.110962</td>\n",
       "      <td>-0.058623</td>\n",
       "      <td>0</td>\n",
       "    </tr>\n",
       "  </tbody>\n",
       "</table>\n",
       "<p>32950 rows × 27 columns</p>\n",
       "</div>\n",
       "      <button class=\"colab-df-convert\" onclick=\"convertToInteractive('df-8808fd5c-a790-4d10-a63a-0af0f2b3bd69')\"\n",
       "              title=\"Convert this dataframe to an interactive table.\"\n",
       "              style=\"display:none;\">\n",
       "        \n",
       "  <svg xmlns=\"http://www.w3.org/2000/svg\" height=\"24px\"viewBox=\"0 0 24 24\"\n",
       "       width=\"24px\">\n",
       "    <path d=\"M0 0h24v24H0V0z\" fill=\"none\"/>\n",
       "    <path d=\"M18.56 5.44l.94 2.06.94-2.06 2.06-.94-2.06-.94-.94-2.06-.94 2.06-2.06.94zm-11 1L8.5 8.5l.94-2.06 2.06-.94-2.06-.94L8.5 2.5l-.94 2.06-2.06.94zm10 10l.94 2.06.94-2.06 2.06-.94-2.06-.94-.94-2.06-.94 2.06-2.06.94z\"/><path d=\"M17.41 7.96l-1.37-1.37c-.4-.4-.92-.59-1.43-.59-.52 0-1.04.2-1.43.59L10.3 9.45l-7.72 7.72c-.78.78-.78 2.05 0 2.83L4 21.41c.39.39.9.59 1.41.59.51 0 1.02-.2 1.41-.59l7.78-7.78 2.81-2.81c.8-.78.8-2.07 0-2.86zM5.41 20L4 18.59l7.72-7.72 1.47 1.35L5.41 20z\"/>\n",
       "  </svg>\n",
       "      </button>\n",
       "      \n",
       "  <style>\n",
       "    .colab-df-container {\n",
       "      display:flex;\n",
       "      flex-wrap:wrap;\n",
       "      gap: 12px;\n",
       "    }\n",
       "\n",
       "    .colab-df-convert {\n",
       "      background-color: #E8F0FE;\n",
       "      border: none;\n",
       "      border-radius: 50%;\n",
       "      cursor: pointer;\n",
       "      display: none;\n",
       "      fill: #1967D2;\n",
       "      height: 32px;\n",
       "      padding: 0 0 0 0;\n",
       "      width: 32px;\n",
       "    }\n",
       "\n",
       "    .colab-df-convert:hover {\n",
       "      background-color: #E2EBFA;\n",
       "      box-shadow: 0px 1px 2px rgba(60, 64, 67, 0.3), 0px 1px 3px 1px rgba(60, 64, 67, 0.15);\n",
       "      fill: #174EA6;\n",
       "    }\n",
       "\n",
       "    [theme=dark] .colab-df-convert {\n",
       "      background-color: #3B4455;\n",
       "      fill: #D2E3FC;\n",
       "    }\n",
       "\n",
       "    [theme=dark] .colab-df-convert:hover {\n",
       "      background-color: #434B5C;\n",
       "      box-shadow: 0px 1px 3px 1px rgba(0, 0, 0, 0.15);\n",
       "      filter: drop-shadow(0px 1px 2px rgba(0, 0, 0, 0.3));\n",
       "      fill: #FFFFFF;\n",
       "    }\n",
       "  </style>\n",
       "\n",
       "      <script>\n",
       "        const buttonEl =\n",
       "          document.querySelector('#df-8808fd5c-a790-4d10-a63a-0af0f2b3bd69 button.colab-df-convert');\n",
       "        buttonEl.style.display =\n",
       "          google.colab.kernel.accessAllowed ? 'block' : 'none';\n",
       "\n",
       "        async function convertToInteractive(key) {\n",
       "          const element = document.querySelector('#df-8808fd5c-a790-4d10-a63a-0af0f2b3bd69');\n",
       "          const dataTable =\n",
       "            await google.colab.kernel.invokeFunction('convertToInteractive',\n",
       "                                                     [key], {});\n",
       "          if (!dataTable) return;\n",
       "\n",
       "          const docLinkHtml = 'Like what you see? Visit the ' +\n",
       "            '<a target=\"_blank\" href=https://colab.research.google.com/notebooks/data_table.ipynb>data table notebook</a>'\n",
       "            + ' to learn more about interactive tables.';\n",
       "          element.innerHTML = '';\n",
       "          dataTable['output_type'] = 'display_data';\n",
       "          await google.colab.output.renderOutput(dataTable, element);\n",
       "          const docLink = document.createElement('div');\n",
       "          docLink.innerHTML = docLinkHtml;\n",
       "          element.appendChild(docLink);\n",
       "        }\n",
       "      </script>\n",
       "    </div>\n",
       "  </div>\n",
       "  "
      ],
      "text/plain": [
       "              0         1         2         3         4         5         6  \\\n",
       "0     -2.429907  1.091341 -1.419637  0.860753  1.648077 -0.306317 -1.351692   \n",
       "1      1.789166 -0.721789 -0.933240 -1.523668 -1.751939 -1.114178 -0.520379   \n",
       "2      4.002423  1.844642 -0.366280  3.643700 -0.149421 -1.148147  1.520222   \n",
       "3     -1.589407 -0.941855 -0.950014  2.349023  2.015795 -0.907990  0.397300   \n",
       "4     -1.776363  1.183519  0.622925 -2.094525 -0.709848 -0.191685  1.105842   \n",
       "...         ...       ...       ...       ...       ...       ...       ...   \n",
       "32945 -1.711659  1.538420  1.625222  2.611829 -1.687285  1.208940  1.675669   \n",
       "32946 -2.557372  0.823979  1.508896 -0.991588 -0.128413 -1.464079 -1.650537   \n",
       "32947  6.351820  1.233884  4.565804 -0.244950  0.632553 -0.196812  1.594849   \n",
       "32948 -1.784930  0.855057  1.307246 -0.678510 -1.742507 -0.917961 -1.173236   \n",
       "32949 -1.006572 -2.367460 -0.028307 -1.614182  1.446695 -1.420931 -0.895815   \n",
       "\n",
       "              7         8         9  ...        17        18        19  \\\n",
       "0      0.771859 -0.262183  0.770370  ...  0.343154 -0.499618 -0.149912   \n",
       "1      0.060393 -0.670977  0.757894  ...  0.611445 -0.012662  0.526234   \n",
       "2     -2.370297  0.156939  1.690052  ... -0.129377 -0.421498  0.846445   \n",
       "3      0.490133  0.342429 -0.680169  ...  2.015410  0.413644  1.322697   \n",
       "4      0.717930  0.572607 -0.122140  ...  0.850987  0.189650 -0.019337   \n",
       "...         ...       ...       ...  ...       ...       ...       ...   \n",
       "32945 -0.649023 -0.527870 -1.556902  ... -0.116856  0.306198 -0.532010   \n",
       "32946 -1.819487 -1.622025 -1.627030  ... -1.819979  0.768261  0.121077   \n",
       "32947  3.784247 -0.236556 -0.278024  ...  0.860218 -1.272622 -0.009012   \n",
       "32948 -0.756697  0.890527 -2.206912  ... -1.356281  0.327684  0.368981   \n",
       "32949  0.519974 -0.712860  0.664532  ...  0.728674 -0.602005 -0.853489   \n",
       "\n",
       "             20        21        22        23        24        25  \\\n",
       "0     -0.346782 -0.091945 -0.130758 -0.153765 -0.436299  0.047707   \n",
       "1      0.089857 -0.773480  0.346983 -0.690925  0.501121 -0.058281   \n",
       "2      0.173248 -0.462737 -0.494911 -0.786337  0.380565 -0.278255   \n",
       "3     -0.539367  0.591845  1.228611 -0.042433 -0.476474  0.478365   \n",
       "4     -0.415123 -0.767165 -0.228220 -0.373337  0.374275 -0.609711   \n",
       "...         ...       ...       ...       ...       ...       ...   \n",
       "32945 -0.073199 -0.223625 -0.595393 -0.176043  0.638400 -0.557509   \n",
       "32946 -1.597948  0.088955 -0.166326 -0.452858 -0.070125  0.000818   \n",
       "32947  0.089153 -2.814698 -3.149188 -0.492246 -0.704806  3.577281   \n",
       "32948 -1.342770  0.585971 -0.030141 -0.068823 -0.425670  0.641461   \n",
       "32949 -0.124089 -0.887510 -0.091193  0.249403 -0.110962 -0.058623   \n",
       "\n",
       "       berlangganan_deposito  \n",
       "0                          0  \n",
       "1                          0  \n",
       "2                          0  \n",
       "3                          0  \n",
       "4                          0  \n",
       "...                      ...  \n",
       "32945                      0  \n",
       "32946                      0  \n",
       "32947                      1  \n",
       "32948                      0  \n",
       "32949                      0  \n",
       "\n",
       "[32950 rows x 27 columns]"
      ]
     },
     "execution_count": 235,
     "metadata": {},
     "output_type": "execute_result"
    }
   ],
   "source": [
    "# Menyatukan atribut dan target pada data latih\n",
    "df = pd.concat([pd.DataFrame(data = X_train_pca), y_train.reset_index()['berlangganan_deposito']], axis = 1)\n",
    "df"
   ]
  },
  {
   "cell_type": "code",
   "execution_count": 236,
   "metadata": {
    "colab": {
     "base_uri": "https://localhost:8080/"
    },
    "id": "-ZBTQazcD9Z4",
    "outputId": "dada05b3-e661-4031-817c-4d65afa78ad3"
   },
   "outputs": [
    {
     "data": {
      "text/plain": [
       "0    29245\n",
       "1     3705\n",
       "Name: berlangganan_deposito, dtype: int64"
      ]
     },
     "execution_count": 236,
     "metadata": {},
     "output_type": "execute_result"
    }
   ],
   "source": [
    "# Melihat banyak setiap nilai pada label kelas\n",
    "df['berlangganan_deposito'].value_counts()"
   ]
  },
  {
   "cell_type": "code",
   "execution_count": 237,
   "metadata": {
    "id": "OjdUtHhgEBGV"
   },
   "outputs": [],
   "source": [
    "# Undersampling kelas 'No' menjadi 3705\n",
    "no_df = df[df['berlangganan_deposito'] == 0][:df['berlangganan_deposito'].value_counts()[1]]\n",
    "yes_df = df[df['berlangganan_deposito'] == 1]"
   ]
  },
  {
   "cell_type": "markdown",
   "metadata": {
    "id": "gH2D9VEhEJZT"
   },
   "source": [
    "#### Menggabungkan dataset yang setiap kelasnya sudah *balanced* menjadi 1"
   ]
  },
  {
   "cell_type": "code",
   "execution_count": 238,
   "metadata": {
    "id": "8rvBbUZiEONK"
   },
   "outputs": [],
   "source": [
    "normal_distributed_df = pd.concat([yes_df, no_df])\n",
    "\n",
    "# Shuffle row pada data yang sudah digabung agar acak\n",
    "df_bank_normal_distributed = normal_distributed_df.sample(frac = 1, random_state = 42)"
   ]
  },
  {
   "cell_type": "code",
   "execution_count": 239,
   "metadata": {
    "colab": {
     "base_uri": "https://localhost:8080/",
     "height": 299
    },
    "id": "fXrVzwfzEZ1u",
    "outputId": "e5763fe8-3223-42cf-94da-23ae43a18435"
   },
   "outputs": [
    {
     "data": {
      "text/html": [
       "\n",
       "  <div id=\"df-1d1d8072-1794-46c7-b59a-eb2118e7680c\">\n",
       "    <div class=\"colab-df-container\">\n",
       "      <div>\n",
       "<style scoped>\n",
       "    .dataframe tbody tr th:only-of-type {\n",
       "        vertical-align: middle;\n",
       "    }\n",
       "\n",
       "    .dataframe tbody tr th {\n",
       "        vertical-align: top;\n",
       "    }\n",
       "\n",
       "    .dataframe thead th {\n",
       "        text-align: right;\n",
       "    }\n",
       "</style>\n",
       "<table border=\"1\" class=\"dataframe\">\n",
       "  <thead>\n",
       "    <tr style=\"text-align: right;\">\n",
       "      <th></th>\n",
       "      <th>0</th>\n",
       "      <th>1</th>\n",
       "      <th>2</th>\n",
       "      <th>3</th>\n",
       "      <th>4</th>\n",
       "      <th>5</th>\n",
       "      <th>6</th>\n",
       "      <th>7</th>\n",
       "      <th>8</th>\n",
       "      <th>9</th>\n",
       "      <th>...</th>\n",
       "      <th>17</th>\n",
       "      <th>18</th>\n",
       "      <th>19</th>\n",
       "      <th>20</th>\n",
       "      <th>21</th>\n",
       "      <th>22</th>\n",
       "      <th>23</th>\n",
       "      <th>24</th>\n",
       "      <th>25</th>\n",
       "      <th>berlangganan_deposito</th>\n",
       "    </tr>\n",
       "  </thead>\n",
       "  <tbody>\n",
       "    <tr>\n",
       "      <th>1481</th>\n",
       "      <td>-0.737432</td>\n",
       "      <td>-3.154279</td>\n",
       "      <td>1.293689</td>\n",
       "      <td>-0.213849</td>\n",
       "      <td>-0.429082</td>\n",
       "      <td>1.567004</td>\n",
       "      <td>-1.040667</td>\n",
       "      <td>0.406182</td>\n",
       "      <td>0.418016</td>\n",
       "      <td>0.381156</td>\n",
       "      <td>...</td>\n",
       "      <td>-0.654851</td>\n",
       "      <td>0.186663</td>\n",
       "      <td>0.083260</td>\n",
       "      <td>0.071872</td>\n",
       "      <td>0.244467</td>\n",
       "      <td>-0.142240</td>\n",
       "      <td>-0.420998</td>\n",
       "      <td>-0.303113</td>\n",
       "      <td>0.191732</td>\n",
       "      <td>0</td>\n",
       "    </tr>\n",
       "    <tr>\n",
       "      <th>13735</th>\n",
       "      <td>-1.227988</td>\n",
       "      <td>-1.354531</td>\n",
       "      <td>-0.470221</td>\n",
       "      <td>-0.431885</td>\n",
       "      <td>2.142811</td>\n",
       "      <td>-1.299493</td>\n",
       "      <td>1.751428</td>\n",
       "      <td>1.039317</td>\n",
       "      <td>0.154263</td>\n",
       "      <td>-1.435996</td>\n",
       "      <td>...</td>\n",
       "      <td>1.329722</td>\n",
       "      <td>2.270162</td>\n",
       "      <td>-2.474172</td>\n",
       "      <td>-1.487651</td>\n",
       "      <td>-0.892100</td>\n",
       "      <td>0.593870</td>\n",
       "      <td>1.559515</td>\n",
       "      <td>1.204267</td>\n",
       "      <td>-1.393517</td>\n",
       "      <td>1</td>\n",
       "    </tr>\n",
       "    <tr>\n",
       "      <th>21627</th>\n",
       "      <td>1.941261</td>\n",
       "      <td>-0.781269</td>\n",
       "      <td>-1.080259</td>\n",
       "      <td>-1.066263</td>\n",
       "      <td>-1.666949</td>\n",
       "      <td>-1.081771</td>\n",
       "      <td>-0.497119</td>\n",
       "      <td>0.430851</td>\n",
       "      <td>-0.623432</td>\n",
       "      <td>-1.297322</td>\n",
       "      <td>...</td>\n",
       "      <td>1.289407</td>\n",
       "      <td>0.918581</td>\n",
       "      <td>-0.829607</td>\n",
       "      <td>-0.787771</td>\n",
       "      <td>-0.185559</td>\n",
       "      <td>0.416164</td>\n",
       "      <td>1.080255</td>\n",
       "      <td>0.169606</td>\n",
       "      <td>-0.805878</td>\n",
       "      <td>1</td>\n",
       "    </tr>\n",
       "    <tr>\n",
       "      <th>2286</th>\n",
       "      <td>1.567419</td>\n",
       "      <td>0.698518</td>\n",
       "      <td>-2.586328</td>\n",
       "      <td>0.342837</td>\n",
       "      <td>-0.807649</td>\n",
       "      <td>-0.032573</td>\n",
       "      <td>1.022281</td>\n",
       "      <td>0.767590</td>\n",
       "      <td>-0.006669</td>\n",
       "      <td>-0.677218</td>\n",
       "      <td>...</td>\n",
       "      <td>0.138760</td>\n",
       "      <td>0.531275</td>\n",
       "      <td>0.651579</td>\n",
       "      <td>-0.351245</td>\n",
       "      <td>-0.355505</td>\n",
       "      <td>0.265695</td>\n",
       "      <td>-0.484731</td>\n",
       "      <td>0.313231</td>\n",
       "      <td>-0.523857</td>\n",
       "      <td>0</td>\n",
       "    </tr>\n",
       "    <tr>\n",
       "      <th>22685</th>\n",
       "      <td>5.712384</td>\n",
       "      <td>0.030487</td>\n",
       "      <td>3.904478</td>\n",
       "      <td>-0.383526</td>\n",
       "      <td>0.751463</td>\n",
       "      <td>-1.012303</td>\n",
       "      <td>-0.790353</td>\n",
       "      <td>1.393573</td>\n",
       "      <td>0.853628</td>\n",
       "      <td>-1.737540</td>\n",
       "      <td>...</td>\n",
       "      <td>1.122389</td>\n",
       "      <td>0.085140</td>\n",
       "      <td>0.147189</td>\n",
       "      <td>0.346689</td>\n",
       "      <td>0.007926</td>\n",
       "      <td>-0.545201</td>\n",
       "      <td>-0.158474</td>\n",
       "      <td>0.139550</td>\n",
       "      <td>-0.231774</td>\n",
       "      <td>1</td>\n",
       "    </tr>\n",
       "  </tbody>\n",
       "</table>\n",
       "<p>5 rows × 27 columns</p>\n",
       "</div>\n",
       "      <button class=\"colab-df-convert\" onclick=\"convertToInteractive('df-1d1d8072-1794-46c7-b59a-eb2118e7680c')\"\n",
       "              title=\"Convert this dataframe to an interactive table.\"\n",
       "              style=\"display:none;\">\n",
       "        \n",
       "  <svg xmlns=\"http://www.w3.org/2000/svg\" height=\"24px\"viewBox=\"0 0 24 24\"\n",
       "       width=\"24px\">\n",
       "    <path d=\"M0 0h24v24H0V0z\" fill=\"none\"/>\n",
       "    <path d=\"M18.56 5.44l.94 2.06.94-2.06 2.06-.94-2.06-.94-.94-2.06-.94 2.06-2.06.94zm-11 1L8.5 8.5l.94-2.06 2.06-.94-2.06-.94L8.5 2.5l-.94 2.06-2.06.94zm10 10l.94 2.06.94-2.06 2.06-.94-2.06-.94-.94-2.06-.94 2.06-2.06.94z\"/><path d=\"M17.41 7.96l-1.37-1.37c-.4-.4-.92-.59-1.43-.59-.52 0-1.04.2-1.43.59L10.3 9.45l-7.72 7.72c-.78.78-.78 2.05 0 2.83L4 21.41c.39.39.9.59 1.41.59.51 0 1.02-.2 1.41-.59l7.78-7.78 2.81-2.81c.8-.78.8-2.07 0-2.86zM5.41 20L4 18.59l7.72-7.72 1.47 1.35L5.41 20z\"/>\n",
       "  </svg>\n",
       "      </button>\n",
       "      \n",
       "  <style>\n",
       "    .colab-df-container {\n",
       "      display:flex;\n",
       "      flex-wrap:wrap;\n",
       "      gap: 12px;\n",
       "    }\n",
       "\n",
       "    .colab-df-convert {\n",
       "      background-color: #E8F0FE;\n",
       "      border: none;\n",
       "      border-radius: 50%;\n",
       "      cursor: pointer;\n",
       "      display: none;\n",
       "      fill: #1967D2;\n",
       "      height: 32px;\n",
       "      padding: 0 0 0 0;\n",
       "      width: 32px;\n",
       "    }\n",
       "\n",
       "    .colab-df-convert:hover {\n",
       "      background-color: #E2EBFA;\n",
       "      box-shadow: 0px 1px 2px rgba(60, 64, 67, 0.3), 0px 1px 3px 1px rgba(60, 64, 67, 0.15);\n",
       "      fill: #174EA6;\n",
       "    }\n",
       "\n",
       "    [theme=dark] .colab-df-convert {\n",
       "      background-color: #3B4455;\n",
       "      fill: #D2E3FC;\n",
       "    }\n",
       "\n",
       "    [theme=dark] .colab-df-convert:hover {\n",
       "      background-color: #434B5C;\n",
       "      box-shadow: 0px 1px 3px 1px rgba(0, 0, 0, 0.15);\n",
       "      filter: drop-shadow(0px 1px 2px rgba(0, 0, 0, 0.3));\n",
       "      fill: #FFFFFF;\n",
       "    }\n",
       "  </style>\n",
       "\n",
       "      <script>\n",
       "        const buttonEl =\n",
       "          document.querySelector('#df-1d1d8072-1794-46c7-b59a-eb2118e7680c button.colab-df-convert');\n",
       "        buttonEl.style.display =\n",
       "          google.colab.kernel.accessAllowed ? 'block' : 'none';\n",
       "\n",
       "        async function convertToInteractive(key) {\n",
       "          const element = document.querySelector('#df-1d1d8072-1794-46c7-b59a-eb2118e7680c');\n",
       "          const dataTable =\n",
       "            await google.colab.kernel.invokeFunction('convertToInteractive',\n",
       "                                                     [key], {});\n",
       "          if (!dataTable) return;\n",
       "\n",
       "          const docLinkHtml = 'Like what you see? Visit the ' +\n",
       "            '<a target=\"_blank\" href=https://colab.research.google.com/notebooks/data_table.ipynb>data table notebook</a>'\n",
       "            + ' to learn more about interactive tables.';\n",
       "          element.innerHTML = '';\n",
       "          dataTable['output_type'] = 'display_data';\n",
       "          await google.colab.output.renderOutput(dataTable, element);\n",
       "          const docLink = document.createElement('div');\n",
       "          docLink.innerHTML = docLinkHtml;\n",
       "          element.appendChild(docLink);\n",
       "        }\n",
       "      </script>\n",
       "    </div>\n",
       "  </div>\n",
       "  "
      ],
      "text/plain": [
       "              0         1         2         3         4         5         6  \\\n",
       "1481  -0.737432 -3.154279  1.293689 -0.213849 -0.429082  1.567004 -1.040667   \n",
       "13735 -1.227988 -1.354531 -0.470221 -0.431885  2.142811 -1.299493  1.751428   \n",
       "21627  1.941261 -0.781269 -1.080259 -1.066263 -1.666949 -1.081771 -0.497119   \n",
       "2286   1.567419  0.698518 -2.586328  0.342837 -0.807649 -0.032573  1.022281   \n",
       "22685  5.712384  0.030487  3.904478 -0.383526  0.751463 -1.012303 -0.790353   \n",
       "\n",
       "              7         8         9  ...        17        18        19  \\\n",
       "1481   0.406182  0.418016  0.381156  ... -0.654851  0.186663  0.083260   \n",
       "13735  1.039317  0.154263 -1.435996  ...  1.329722  2.270162 -2.474172   \n",
       "21627  0.430851 -0.623432 -1.297322  ...  1.289407  0.918581 -0.829607   \n",
       "2286   0.767590 -0.006669 -0.677218  ...  0.138760  0.531275  0.651579   \n",
       "22685  1.393573  0.853628 -1.737540  ...  1.122389  0.085140  0.147189   \n",
       "\n",
       "             20        21        22        23        24        25  \\\n",
       "1481   0.071872  0.244467 -0.142240 -0.420998 -0.303113  0.191732   \n",
       "13735 -1.487651 -0.892100  0.593870  1.559515  1.204267 -1.393517   \n",
       "21627 -0.787771 -0.185559  0.416164  1.080255  0.169606 -0.805878   \n",
       "2286  -0.351245 -0.355505  0.265695 -0.484731  0.313231 -0.523857   \n",
       "22685  0.346689  0.007926 -0.545201 -0.158474  0.139550 -0.231774   \n",
       "\n",
       "       berlangganan_deposito  \n",
       "1481                       0  \n",
       "13735                      1  \n",
       "21627                      1  \n",
       "2286                       0  \n",
       "22685                      1  \n",
       "\n",
       "[5 rows x 27 columns]"
      ]
     },
     "execution_count": 239,
     "metadata": {},
     "output_type": "execute_result"
    }
   ],
   "source": [
    "df_bank_normal_distributed.head()"
   ]
  },
  {
   "cell_type": "markdown",
   "metadata": {
    "id": "KYXnXCxuEqVh"
   },
   "source": [
    "#### *Split attributes* dan target"
   ]
  },
  {
   "cell_type": "code",
   "execution_count": 240,
   "metadata": {
    "id": "b-Oz6t9LEwDi"
   },
   "outputs": [],
   "source": [
    "X_train_balanced = df_bank_normal_distributed.drop('berlangganan_deposito', axis = 1)\n",
    "y_train_balanced = df_bank_normal_distributed['berlangganan_deposito']"
   ]
  },
  {
   "cell_type": "markdown",
   "metadata": {
    "id": "zsaG5Y6PE46I"
   },
   "source": [
    "#### Lihat distribusi dari data train yang sudah disampling"
   ]
  },
  {
   "cell_type": "code",
   "execution_count": 241,
   "metadata": {
    "colab": {
     "base_uri": "https://localhost:8080/"
    },
    "id": "qAPiwAJ2E-SB",
    "outputId": "98c88a12-65c7-4e85-f2e7-a87c3455f8d3"
   },
   "outputs": [
    {
     "name": "stdout",
     "output_type": "stream",
     "text": [
      "Distribusi setiap kelas dari subsampel dataset\n",
      "0    0.5\n",
      "1    0.5\n",
      "Name: berlangganan_deposito, dtype: float64\n"
     ]
    }
   ],
   "source": [
    "print('Distribusi setiap kelas dari subsampel dataset')\n",
    "print(df_bank_normal_distributed['berlangganan_deposito'].value_counts() / len(df_bank_normal_distributed))"
   ]
  },
  {
   "cell_type": "code",
   "execution_count": 261,
   "metadata": {
    "colab": {
     "base_uri": "https://localhost:8080/",
     "height": 647
    },
    "id": "2TNtRaX_FdJO",
    "outputId": "3f88614d-eaec-4d13-f1b6-890b2b777a96"
   },
   "outputs": [
    {
     "data": {
      "image/png": "[encoded data removed]",
      "text/plain": [
       "<Figure size 1400x700 with 1 Axes>"
      ]
     },
     "metadata": {},
     "output_type": "display_data"
    }
   ],
   "source": [
    "plt.figure(figsize = (14,7))\n",
    "sns.countplot(x = 'berlangganan_deposito', data = df_bank_normal_distributed)\n",
    "plt.title('Distribusi kelas yang seimbang', size = 15)\n",
    "plt.xlabel('Berlangganan Deposito (Kelas)', size = 12)\n",
    "plt.ylabel('Jumlah', size = 12)\n",
    "plt.show()"
   ]
  },
  {
   "cell_type": "markdown",
   "metadata": {
    "id": "C7xfR66FGKm7"
   },
   "source": [
    "Data latih kita sudah memiliki proporsi kelas yang seimbang. Kini akan dilakukan training ulang pada model dan melihat evaluasinya dengan scoring **accuracy** karena subsample sudah disampling dengan seimbang"
   ]
  },
  {
   "cell_type": "markdown",
   "metadata": {
    "id": "EhDEVxW9GP52"
   },
   "source": [
    "### Training model dengan kelas data latih yang sudah seimbang"
   ]
  },
  {
   "cell_type": "markdown",
   "metadata": {
    "id": "-gJDkNVwGaG5"
   },
   "source": [
    "#### *Model Training*"
   ]
  },
  {
   "cell_type": "code",
   "execution_count": 249,
   "metadata": {
    "id": "KaFi4LaoGZWj"
   },
   "outputs": [],
   "source": [
    "cv_results_accuracy, model_names, print_msg_accuracy = perform_model(models = models,\n",
    "                                                                     X_train = X_train_balanced,\n",
    "                                                                     y_train = y_train_balanced,\n",
    "                                                                     kfold = kfold,\n",
    "                                                                     scoring = scoring_accuracy\n",
    ")"
   ]
  },
  {
   "cell_type": "markdown",
   "metadata": {
    "id": "kPPAjCZsG0xW"
   },
   "source": [
    "### Lihat performa (akurasi) dari model yang sudah dilatih\n",
    "***\n",
    "Performa ini dilihat dari hasil *k-fold cross-validation* yang sudah dilakukan"
   ]
  },
  {
   "cell_type": "code",
   "execution_count": 250,
   "metadata": {
    "colab": {
     "base_uri": "https://localhost:8080/"
    },
    "id": "PuUVA_BjHARk",
    "outputId": "68297367-e296-415c-fd12-873a560eb091"
   },
   "outputs": [
    {
     "name": "stdout",
     "output_type": "stream",
     "text": [
      "Logistic Regression: mean accuracy = 0.8291497975708502  std accuracy = 0.011098993357598964\n",
      "K-Nearest Neighbor: mean accuracy = 0.7773279352226721  std accuracy = 0.01214574898785426\n",
      "Support Vector Machine: mean accuracy = 0.869770580296896  std accuracy = 0.012763564120000672\n",
      "Decision Tree: mean accuracy = 0.7823211875843455  std accuracy = 0.011436002862283596\n",
      "Random Forest: mean accuracy = 0.8588394062078273  std accuracy = 0.011612213098137064\n",
      "Naive Bayes: mean accuracy = 0.7043184885290149  std accuracy = 0.017724082101960106\n"
     ]
    }
   ],
   "source": [
    "# Cetak hasil rata-rata akurasi setiap model\n",
    "for msg in print_msg_accuracy:\n",
    "    print(msg)"
   ]
  },
  {
   "cell_type": "code",
   "execution_count": 251,
   "metadata": {
    "colab": {
     "base_uri": "https://localhost:8080/",
     "height": 560
    },
    "id": "PqCby-EhHE7O",
    "outputId": "767d68a1-9d87-4acf-a47e-01dd8025bfbc"
   },
   "outputs": [
    {
     "data": {
      "image/png": "[encoded data removed]",
      "text/plain": [
       "<Figure size 800x400 with 1 Axes>"
      ]
     },
     "metadata": {},
     "output_type": "display_data"
    }
   ],
   "source": [
    "fig = plt.figure(figsize = (10,8))\n",
    "fig.suptitle('Hasil perbandingan akurasi setiap model klasifikasi dengan subsampel seimbang', size = 15)\n",
    "ax = fig.add_subplot(111)\n",
    "\n",
    "plt.boxplot(cv_results_accuracy)\n",
    "ax.set_xticklabels(model_names, rotation = 90)\n",
    "fig.set_size_inches(8,4)\n",
    "plt.show()"
   ]
  },
  {
   "cell_type": "markdown",
   "metadata": {
    "id": "hRFdtGhxHPOK"
   },
   "source": [
    "**ANALISIS**\n",
    "\n",
    "Model SVM tampil memberikan rata-rata akurasi tertinggi ketika model dilatih dengan data latih yang seimbang."
   ]
  },
  {
   "cell_type": "markdown",
   "metadata": {
    "id": "xol7u6kmHTx-"
   },
   "source": [
    "#### Melihat hasil klasifikasi SVM yang sudah dilatih dengan data uji"
   ]
  },
  {
   "cell_type": "code",
   "execution_count": 252,
   "metadata": {
    "id": "XAK4ch3oHbiV"
   },
   "outputs": [],
   "source": [
    "# Inisialisasi model\n",
    "svm_balanced = SVC()\n",
    "\n",
    "# Fit model into training data\n",
    "svm_balanced.fit(X_train_balanced, y_train_balanced)\n",
    "\n",
    "# Get y prediction\n",
    "y_pred_balanced = svm_balanced.predict(X_test_pca)"
   ]
  },
  {
   "cell_type": "code",
   "execution_count": 258,
   "metadata": {
    "colab": {
     "base_uri": "https://localhost:8080/"
    },
    "id": "_UFpE2RHHiin",
    "outputId": "9d2a058f-2e5d-458f-b355-9b9d8c2d1e40"
   },
   "outputs": [
    {
     "name": "stdout",
     "output_type": "stream",
     "text": [
      "Accuracy score SVM with balanced subsample = 0.8423160961398398 %\n",
      "[[6078 1225]\n",
      " [  74  861]]\n",
      "              precision    recall  f1-score   support\n",
      "\n",
      "           0       0.99      0.83      0.90      7303\n",
      "           1       0.41      0.92      0.57       935\n",
      "\n",
      "    accuracy                           0.84      8238\n",
      "   macro avg       0.70      0.88      0.74      8238\n",
      "weighted avg       0.92      0.84      0.87      8238\n",
      "\n"
     ]
    }
   ],
   "source": [
    "# Print score\n",
    "print(\"Accuracy score SVM with balanced subsample =\", metrics.accuracy_score(y_test, y_pred_balanced),\"%\")\n",
    "\n",
    "# Confusion matrix\n",
    "print(metrics.confusion_matrix(y_test, y_pred_balanced))\n",
    "\n",
    "# Hasil klasifikasi\n",
    "print(metrics.classification_report(y_test, y_pred_balanced))"
   ]
  },
  {
   "cell_type": "markdown",
   "metadata": {
    "id": "-fDV9zlFHvtA"
   },
   "source": [
    "**ANALISIS**\n",
    "\n",
    "Hasil *confusion matrix* pada model SVM yang dilatih dengan sample yang balanced menunjukkan adanya peningkatan nilai **recall** kelas '1'.\n",
    "\n",
    "1. Sebelum dilakukan under-sampling nilai recall untuk kelas '1' yaitu 0.44, sedangkan setelah di-undersampling menjadi 0.92 (**peningkatannya drastis**)\n",
    "2. Terjadi penurunan **recall** untuk kelas '0' setelah undersampling dari 0.93 menjadi 0.83. Penurunannya tidak sebesar pada kenaikan recall untuk kelas '1'\n",
    "3. Model SVM ini juga memberikan nilai akurasi yang terbilang cukup baik sebesar 84,17%\n",
    "\n",
    "**Penting!**\n",
    "\n",
    "Nilai-nilai yang dihasilkan mungkin bervariasi seiring kode program dijalankan dan komputer yang digunakan. Namun, saat dijalankan SVM muncul memberikan hasil seperti di atas"
   ]
  },
  {
   "cell_type": "markdown",
   "metadata": {
    "id": "GsK9H093IEYW"
   },
   "source": [
    "### *Tuning hyperparameter* dari model terbaik\n",
    "***\n",
    "SVM tampil dengan nilai rata-rata akurasi tertinggi serta memberikan hasil recall yang bagus. Selanjutnya *hyperparameter* dari SVM akan dilakukan *tuning* untuk bisa mendapatkan performa yang lebih optimal"
   ]
  },
  {
   "cell_type": "code",
   "execution_count": 254,
   "metadata": {
    "id": "JgpsRyU0IQhW"
   },
   "outputs": [],
   "source": [
    "# Inisialisasi SVM model\n",
    "svm_params_tuned = SVC()\n",
    "\n",
    "# Inisialisasi objek KFold dengan k=10\n",
    "kfold = kfold\n",
    "\n",
    "# Inisialisasi daftar hyperparameter yang akan dituning\n",
    "params_grid = {\n",
    "    'kernel' : ['linear', 'poly', 'rbf'],\n",
    "    'gamma': ['scale','auto'],\n",
    "}\n",
    "\n",
    "# Instansiasi grid seach objek\n",
    "grid_svm = GridSearchCV(\n",
    "    estimator = svm_params_tuned,\n",
    "    param_grid = params_grid,\n",
    "    scoring = scoring_accuracy,\n",
    "    cv = kfold\n",
    ")\n",
    "\n",
    "# Fit grid objek ke data train\n",
    "grid_results_ = grid_svm.fit(X_train_balanced, y_train_balanced)"
   ]
  },
  {
   "cell_type": "code",
   "execution_count": 255,
   "metadata": {
    "colab": {
     "base_uri": "https://localhost:8080/"
    },
    "id": "TKikmccsIl_i",
    "outputId": "d552c8d7-477f-424a-9625-a8fa646fde35"
   },
   "outputs": [
    {
     "name": "stdout",
     "output_type": "stream",
     "text": [
      "Best SVM Hyperparameter : {'gamma': 'scale', 'kernel': 'rbf'}\n",
      "Best SVM Accuracy Score : 0.869770580296896\n"
     ]
    }
   ],
   "source": [
    "# Cetak hyperparameter yang memberikan hasil terbaik\n",
    "print('Best SVM Hyperparameter: {}'.format(grid_results_.best_params_))\n",
    "print('Best SVM Accuracy Score: {}'.format(grid_results_.best_score_))"
   ]
  },
  {
   "cell_type": "markdown",
   "metadata": {
    "id": "0CPmqKt_IySh"
   },
   "source": [
    "# Finalisasi Model"
   ]
  },
  {
   "cell_type": "markdown",
   "metadata": {
    "id": "CZ_0CTuNJfI-"
   },
   "source": [
    "#### *Training model* dengan *hyperparameter* optimal"
   ]
  },
  {
   "cell_type": "code",
   "execution_count": 256,
   "metadata": {
    "id": "oQDM_qBNJYuh"
   },
   "outputs": [],
   "source": [
    "# Instansiasi objek SVM dengan hyperparameter optimal\n",
    "svm_final = SVC(gamma = grid_results_.best_params_['gamma'], kernel = grid_results_.best_params_['kernel'])\n",
    "\n",
    "# Training\n",
    "svm_final.fit(X_train_balanced, y_train_balanced)\n",
    "\n",
    "# Model evaluation using data testing\n",
    "y_pred_final = svm_final.predict(X_test_pca)"
   ]
  },
  {
   "cell_type": "markdown",
   "metadata": {
    "id": "7U4Y7f5GJ3Sb"
   },
   "source": [
    "#### Cetak hasil model yang sudah dievaluasi"
   ]
  },
  {
   "cell_type": "code",
   "execution_count": 260,
   "metadata": {
    "colab": {
     "base_uri": "https://localhost:8080/"
    },
    "id": "5Xaria9wJ94N",
    "outputId": "ca03b3c6-7430-4f10-9ab9-cfa2bfc529f3"
   },
   "outputs": [
    {
     "name": "stdout",
     "output_type": "stream",
     "text": [
      "Accuracy score Final Model SVM = 0.8423160961398398 %\n",
      "[[6078 1225]\n",
      " [  74  861]]\n",
      "              precision    recall  f1-score   support\n",
      "\n",
      "           0       0.99      0.83      0.90      7303\n",
      "           1       0.41      0.92      0.57       935\n",
      "\n",
      "    accuracy                           0.84      8238\n",
      "   macro avg       0.70      0.88      0.74      8238\n",
      "weighted avg       0.92      0.84      0.87      8238\n",
      "\n"
     ]
    }
   ],
   "source": [
    "# Print score\n",
    "print(\"Accuracy score Final Model SVM =\", metrics.accuracy_score(y_test, y_pred_final),\"%\")\n",
    "\n",
    "# Confusion matrix\n",
    "print(metrics.confusion_matrix(y_test, y_pred_final))\n",
    "\n",
    "# Hasil klasifikasi\n",
    "print(metrics.classification_report(y_test, y_pred_final))"
   ]
  },
  {
   "cell_type": "markdown",
   "metadata": {
    "id": "hOmRXL_eKUNE"
   },
   "source": [
    "Model SVM Final memberikan **recall** untuk kedua kelas yang sangat baik. Pengaturan hyperparameter untuk SVM final adalah kernel **rbf** dan **gamma scale**. Selanjutnya model ini siap untuk masuk ke tahap *deployment*"
   ]
  }
 ],
 "metadata": {
  "colab": {
   "provenance": []
  },
  "gpuClass": "standard",
  "kernelspec": {
   "display_name": "Python 3 (ipykernel)",
   "language": "python",
   "name": "python3"
  },
  "language_info": {
   "codemirror_mode": {
    "name": "ipython",
    "version": 3
   },
   "file_extension": ".py",
   "mimetype": "text/x-python",
   "name": "python",
   "nbconvert_exporter": "python",
   "pygments_lexer": "ipython3",
   "version": "3.11.2"
  }
 },
 "nbformat": 4,
 "nbformat_minor": 1
}
